{
 "cells": [
  {
   "cell_type": "code",
   "execution_count": null,
   "id": "3f679303",
   "metadata": {},
   "outputs": [],
   "source": [
    "from pydantic import BaseModel, Field\n",
    "from gen_ai_hub.proxy.langchain.init_models import init_llm\n",
    "from gen_ai_hub.proxy.langchain.openai import ChatOpenAI\n",
    "\n",
    "#llm = ChatOpenAI(proxy_model_name='gpt-4o', temperature=0)\n",
    "#llm = init_llm('gpt-4o', max_tokens=1024)\n",
    "llm = init_llm('gemini-1.5-pro', max_tokens=100)\n",
    "print(llm.invoke(\"Are you there?\").content)\n",
    "\n",
    "class SearchQuery(BaseModel):\n",
    "    search_query: str = Field(..., description=\"Query that is optimized web search.\")\n",
    "    justification: str = Field(\n",
    "        ..., description=\"Why this query is relevant to the user's request.\"\n",
    "    )\n",
    "\n",
    "# Augment the LLM with schema for structured output\n",
    "structured_llm = llm.with_structured_output(SearchQuery)\n",
    "\n",
    "# Invoke the augmented LLM\n",
    "print(structured_llm.invoke(\"How does Calcium CT score relate to high cholesterol?\").content)"
   ]
  }
 ],
 "metadata": {
  "kernelspec": {
   "display_name": "react-agent-CUxtcVGL-py3.13",
   "language": "python",
   "name": "python3"
  },
  "language_info": {
   "name": "python",
   "version": "3.13.2"
  }
 },
 "nbformat": 4,
 "nbformat_minor": 5
}
