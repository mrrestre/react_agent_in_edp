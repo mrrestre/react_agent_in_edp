{
 "cells": [
  {
   "cell_type": "code",
   "execution_count": null,
   "metadata": {},
   "outputs": [
    {
     "name": "stdout",
     "output_type": "stream",
     "text": [
      "Memory: These errors can be displayed for three different causes. The same VAT ID is used for more than one Company Code. You must have one tax ID per Company Code otherwise the system can't recognize the appropriate Company Code to process acknowledgements. There is no workaround, you must avoid this configuration. You configure the tax ID in transaction OBY6. See Maintaining VAT Registration Number for Company Code. The second cause is due to missing authorizations. The user maintained in cloud service must have the following authorizations to push messages: EDO_BUK, EDO_PROC, S_PROGNAM (Program Name EDOC_MESSAGE_HANDLING), along with role SAP_BC_WEBSERVICE_SERVICE_USER. See Connecting Service to System. The third cause is the entry Response from table EDODCSDOCTYPEV does not have checked the option 'BySender'. If this option is not checked, it is because the program NOTE_2839436_POST_IMPL was not executed in the system during the manual steps of the SAP Note 2839436 (eDoc EU Corrections). (similarity: 0.8116877374788326)\n",
      "Memory: These error messages are related to incorrect customizing of the Organization Number. To solve this issue, review all instructions in the attachment of the country/region specific overview SAP Note. The Organization Number must be correctly set in VAT Registration (T001-STCEG) for the Company Code. In addition, all table views mentioned in that attachment must be correctly set and the Company Code needs to be from the respective country. Also, review the master data configuration for the Company Code. The VAT Number usually starts with the country code prefix. Alternatively, you can remove the country code from the beginning of the string and remove the tax identification from the end of the string as well. See Master Data. (similarity: 0.8041242842482612)\n",
      "Memory: To solve this situation, implement the SAP Note 2857555 (Company VAT Reg Number and VAT ID self-employed person validations). Note that for Company VAT Number, you must enter the information in the field VAT Reg Number (STCEG), and Self-Employed Person VAT ID must be entered in Tax Number 5 field (STCD5). If the issue persists, open an case for the CRM-BF-TAX component. (similarity: 0.8013235350073022)\n",
      "Memory: To solve this issue, review the mapping of the tax category ID. The CategoryCode 'O' is used for services which are exempt of taxes and it implies that the whole invoice is exempt of taxes. It means that no other tax categories can be used at all in the same invoice, and that the VAT registration numbers can't be entered in the invoice for the involved parties. For similar scenarios, it is necessary to use the Category Code 'E', which means for example that the invoice is exempt from tax, for example. The errors related to this case are 'In a VAT breakdown (BG-23) where the VAT category code (BT-118) is \"Not subject to VAT\" the VAT category taxable amount (BT-116) (...)', 'An Invoice that contains an Invoice line (BG-25) where the Invoiced item VAT category code (BT-151) is “Not subject to VAT” shall not contain the Seller VAT identifier (BT-31) (...)' and 'An Invoice line (BG-25) where the VAT category code (BT-151) is \"Not subject to VAT\" shall not contain an Invoiced item VAT rate (BT-152)'. (similarity: 0.7847824422740068)\n",
      "Memory: This is a generic error that can be displayed due to missing customizing. Review the implementation and manual steps of all SAP Notes listed in the topic 'Solution' from the SAP Note 2783795 (eDoc Peppol Installation Overview), and also from the overview installation SAP Note of the country/region-specific part. For example, it is suggested to review the price condition customizing in the AIF fix value /EDUBL PRICE to ensure that the price condition for billing documents is correctly set. See Configuring Price Conditions (PRICE). Ensure you have a condition for the item net price in the pricing procedures of your billing documents. (similarity: 0.7808464767267552)\n"
     ]
    }
   ],
   "source": [
    "from react_agent.src.scripts.load_troubleshooting import load_memories\n",
    "\n",
    "mem_manager = load_memories()\n",
    "\n",
    "mem_manager.search_memory(\"What could I do if I am facing an error with VAT Provider\")"
   ]
  }
 ],
 "metadata": {
  "kernelspec": {
   "display_name": "react-agent-CUxtcVGL-py3.13",
   "language": "python",
   "name": "python3"
  },
  "language_info": {
   "codemirror_mode": {
    "name": "ipython",
    "version": 3
   },
   "file_extension": ".py",
   "mimetype": "text/x-python",
   "name": "python",
   "nbconvert_exporter": "python",
   "pygments_lexer": "ipython3",
   "version": "3.13.2"
  }
 },
 "nbformat": 4,
 "nbformat_minor": 2
}
