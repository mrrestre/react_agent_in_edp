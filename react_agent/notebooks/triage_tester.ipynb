{
 "cells": [
  {
   "cell_type": "code",
   "execution_count": 2,
   "metadata": {},
   "outputs": [
    {
     "name": "stdout",
     "output_type": "stream",
     "text": [
      "{'user_query': {'type': 'string', 'description': 'The original unmodified user question'}, 'category': {'type': 'string', 'description': 'The category choosen by the triage'}}\n",
      "{'user_query': \"Explain what is the issue with eDocument 'DECI15000039742024'\", 'category': 'Config-RCA'}\n"
     ]
    }
   ],
   "source": [
    "from react_agent.src.util.triage import Triage\n",
    "\n",
    "triage = Triage()\n",
    "\n",
    "print(triage.triage_user_message(\"How can I attach additional files to standard XML in Public Cloud?\"))\n",
    "\n",
    "print(triage.triage_user_message(\"Explain what is the issue with eDocument 'DECI15000039742024'\"))"
   ]
  }
 ],
 "metadata": {
  "kernelspec": {
   "display_name": "react-agent-CUxtcVGL-py3.13",
   "language": "python",
   "name": "python3"
  },
  "language_info": {
   "codemirror_mode": {
    "name": "ipython",
    "version": 3
   },
   "file_extension": ".py",
   "mimetype": "text/x-python",
   "name": "python",
   "nbconvert_exporter": "python",
   "pygments_lexer": "ipython3",
   "version": "3.13.2"
  }
 },
 "nbformat": 4,
 "nbformat_minor": 2
}
