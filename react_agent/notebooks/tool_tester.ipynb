{
 "cells": [
  {
   "cell_type": "code",
   "execution_count": null,
   "metadata": {},
   "outputs": [
    {
     "name": "stdout",
     "output_type": "stream",
     "text": [
      "The articles provide insights into XML handling within public cloud environments, specifically through SAP Cloud Integration for electronic document processing. Key points include:\n",
      "\n",
      "- **SAP Cloud Integration**: Essential for communication with external systems, handling XML format requirements, and ensuring compliance with tax authorities.\n",
      "- **Application Interface Framework (AIF)**: Used to map transactional data to XML format, crucial for creating eDocuments from source documents like invoices.\n",
      "- **eDocument Cockpit**: Facilitates the submission and processing of eDocuments, integrating with SAP systems to manage XML data flow.\n",
      "- **Business-to-Government (B2G) and Business-to-Business (B2B) Scenarios**: The solution supports these scenarios by enabling electronic invoicing and compliance with governmental regulations.\n",
      "- **Technical Customization**: Involves setting up communication channels, defining XML generation interfaces, and mapping fields for XML files.\n",
      "- **Business Add-Ins (BAdIs)**: Allow customization of XML handling to meet specific business needs not covered by standard solutions.\n",
      "- **Testing and Compliance**: Emphasizes the importance of testing the end-to-end process and ensuring system compliance with legal requirements through SAP Notes.\n",
      "\n",
      "These articles highlight the integration of XML handling in public cloud solutions, focusing on SAP's tools and frameworks to ensure seamless electronic document processing and compliance.\n"
     ]
    }
   ],
   "source": [
    "from react_agent.src.agent_tools.sap_help_searcher import SapHelpSearcher\n",
    "from react_agent.src.util.llm_proxy import LLMProxy\n",
    "\n",
    "sap_help_searcher = SapHelpSearcher() \n",
    "output = sap_help_searcher._run(\"XML handling Public Cloud\")\n",
    "\n",
    "print(output)"
   ]
  },
  {
   "cell_type": "code",
   "execution_count": 2,
   "metadata": {},
   "outputs": [
    {
     "name": "stdout",
     "output_type": "stream",
     "text": [
      "Call Count: 1\n",
      "Token Usage: {'input_tokens': 7339, 'output_tokens': 267, 'total_tokens': 7606}\n"
     ]
    }
   ],
   "source": [
    "llm_proxy = LLMProxy()\n",
    "llm_proxy.print_usage()"
   ]
  }
 ],
 "metadata": {
  "kernelspec": {
   "display_name": "react-agent-CUxtcVGL-py3.13",
   "language": "python",
   "name": "python3"
  },
  "language_info": {
   "codemirror_mode": {
    "name": "ipython",
    "version": 3
   },
   "file_extension": ".py",
   "mimetype": "text/x-python",
   "name": "python",
   "nbconvert_exporter": "python",
   "pygments_lexer": "ipython3",
   "version": "3.13.2"
  }
 },
 "nbformat": 4,
 "nbformat_minor": 2
}
