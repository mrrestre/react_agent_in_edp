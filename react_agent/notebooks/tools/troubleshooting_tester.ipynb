{
 "cells": [
  {
   "cell_type": "code",
   "execution_count": 1,
   "metadata": {},
   "outputs": [
    {
     "name": "stdout",
     "output_type": "stream",
     "text": [
      "This issue is seen in validation tools when the SAP customers decide to send an XML file outside Peppol network. The validation tools accept the XML files without the header StandardBusinessDocument, which is an envelope to send documents via Peppol network. The document itself is inside this envelope. When sending the XML file via e-mail, you need to extract the document and validate it against XSD and Schematron rules. To pass this validation, edit the XML file correctly by placing namespace to the correct tag. The complete error message is: Error message: [SAX] cvc-elt.1.a: Cannot find the declaration of element 'n0:StandardBusinessDocument'. / Technical details: cvc-elt.1.a: Cannot find the declaration of element 'n0:StandardBusinessDocument'.\n",
      "Ensure that you have assigned the role to the S-User using the button 'Manage Subaccount User', inside the 'Connection Management' of the Peppol Exchange service. When you add the user to the list under Manage Subaccount User > Add User, the user is assigned to the 'Cloud Connector Access' role. A 'Cloud Connector Admin' role is not required to connect using the Cloud Connector. See Creating Subaccount in Cloud Connector and Connecting Service to System.\n"
     ]
    }
   ],
   "source": [
    "from react_agent.src.agent_tools.troubleshooting_searcher import TroubleshootingSearcher\n",
    "\n",
    "tool = TroubleshootingSearcher() \n",
    "output = tool._run(\"XML handling Public Cloud\")\n",
    "\n",
    "print(output)"
   ]
  }
 ],
 "metadata": {
  "kernelspec": {
   "display_name": "react-agent-CUxtcVGL-py3.13",
   "language": "python",
   "name": "python3"
  },
  "language_info": {
   "codemirror_mode": {
    "name": "ipython",
    "version": 3
   },
   "file_extension": ".py",
   "mimetype": "text/x-python",
   "name": "python",
   "nbconvert_exporter": "python",
   "pygments_lexer": "ipython3",
   "version": "3.13.2"
  }
 },
 "nbformat": 4,
 "nbformat_minor": 2
}
