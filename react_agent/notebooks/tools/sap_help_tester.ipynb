{
 "cells": [
  {
   "cell_type": "code",
   "execution_count": 3,
   "metadata": {},
   "outputs": [
    {
     "name": "stdout",
     "output_type": "stream",
     "text": [
      "To effectively address the user's query regarding the \"SAP S/4HANA Cloud Peppol Exchange client certificate upload format,\" the articles provide essential insights into the technical aspects and procedures involved in uploading client certificates for Peppol Exchange within SAP S/4HANA Cloud. Key points include:\n",
      "\n",
      "- **Peppol Exchange Overview**: Peppol (Pan-European Public Procurement Online) is a network that facilitates electronic document exchange, particularly for procurement processes. SAP S/4HANA Cloud integrates with Peppol to streamline business communications.\n",
      "\n",
      "- **Client Certificate Requirements**: For secure communication over the Peppol network, SAP S/4HANA Cloud requires client certificates. These certificates authenticate the identity of the sender and ensure data integrity.\n",
      "\n",
      "- **Certificate Format**: The articles specify that the client certificates must be in a specific format, typically X.509, which is a standard for public key infrastructure (PKI). This format ensures compatibility and security in digital communications.\n",
      "\n",
      "- **Upload Process**: Detailed steps are provided for uploading the client certificate into the SAP S/4HANA Cloud system. This involves accessing the relevant configuration settings and ensuring the certificate is correctly formatted and validated.\n",
      "\n",
      "- **Technical Objects**: Key technical objects involved in this process include the SAP Communication Arrangement and the Certificate Management tool, which facilitate the integration and management of certificates within the cloud environment.\n",
      "\n",
      "These points collectively offer a comprehensive understanding of the technical requirements and procedures for client certificate upload in SAP S/4HANA Cloud's Peppol Exchange.\n"
     ]
    }
   ],
   "source": [
    "from react_agent.src.agent_tools.sap_help_searcher import SapHelpSearcher\n",
    "from react_agent.src.util.llm_proxy import LLMProxy\n",
    "\n",
    "sap_help_searcher = SapHelpSearcher() \n",
    "output = sap_help_searcher._run(\"SAP S/4HANA Cloud Peppol Exchange client certificate upload format\")\n",
    "\n",
    "print(output)"
   ]
  },
  {
   "cell_type": "code",
   "execution_count": 2,
   "metadata": {},
   "outputs": [
    {
     "name": "stdout",
     "output_type": "stream",
     "text": [
      "Call Count: 1\n",
      "Token Usage: {'input_tokens': 98, 'output_tokens': 320, 'total_tokens': 418}\n"
     ]
    }
   ],
   "source": [
    "llm_proxy = LLMProxy()\n",
    "llm_proxy.print_usage()"
   ]
  }
 ],
 "metadata": {
  "kernelspec": {
   "display_name": "Python 3",
   "language": "python",
   "name": "python3"
  },
  "language_info": {
   "codemirror_mode": {
    "name": "ipython",
    "version": 3
   },
   "file_extension": ".py",
   "mimetype": "text/x-python",
   "name": "python",
   "nbconvert_exporter": "python",
   "pygments_lexer": "ipython3",
   "version": "3.13.2"
  }
 },
 "nbformat": 4,
 "nbformat_minor": 2
}
