{
 "cells": [
  {
   "cell_type": "code",
   "execution_count": 1,
   "metadata": {},
   "outputs": [
    {
     "name": "stdout",
     "output_type": "stream",
     "text": [
      "The user's query about \"client certificate upload format in EDP\" is not directly addressed in the provided articles. However, the articles offer insights into various upload formats and processes within SAP systems, which might provide contextual understanding for handling certificates or similar data uploads.\n",
      "\n",
      "Key Information:\n",
      "\n",
      "- **Quality Certificates (QM-CA):**\n",
      "  - Certificates can be automatically or semi-automatically created for delivery items.\n",
      "  - Formats and layouts are defined through certificate profiles and SAPscript forms.\n",
      "  - Certificates can be stored using SAP ArchiveLink.\n",
      "\n",
      "- **Upload Travel Distance Network:**\n",
      "  - CSV file format is used for uploading travel distance networks.\n",
      "  - Specific fields and formats are required for edges and excluded resource types.\n",
      "\n",
      "- **Upload and Processing of ELDA File:**\n",
      "  - ELDA files for sick leave certificates can be uploaded from local directories or logical file names.\n",
      "  - The system checks the format and processes the data into TemSe files.\n",
      "\n",
      "- **AI-Assisted Journal Upload:**\n",
      "  - Utilizes AI to automate journal entry proposals based on transaction data.\n",
      "  - Requires uploading posting policies and transaction data in spreadsheet format.\n",
      "\n",
      "- **XML Upload:**\n",
      "  - XML files can be uploaded to replace EDI, processed into IDocs.\n",
      "  - The XML format is specific to SAP and mirrors IDoc structure.\n",
      "\n",
      "These articles highlight various upload formats (CSV, XML, spreadsheets) and processes within SAP systems, which could be analogous to client certificate uploads in EDP, emphasizing the importance of adhering to specific formats and system requirements.\n"
     ]
    }
   ],
   "source": [
    "from react_agent.src.agent_tools.sap_help_searcher import SapHelpSearcher\n",
    "from react_agent.src.util.llm_proxy import LLMProxy\n",
    "\n",
    "sap_help_searcher = SapHelpSearcher() \n",
    "output = sap_help_searcher._run(\"client certificate upload format in EDP\")\n",
    "\n",
    "print(output)"
   ]
  },
  {
   "cell_type": "code",
   "execution_count": 2,
   "metadata": {},
   "outputs": [
    {
     "name": "stdout",
     "output_type": "stream",
     "text": [
      "Call Count: 1\n",
      "Token Usage: {'input_tokens': 4663, 'output_tokens': 308, 'total_tokens': 4971}\n"
     ]
    }
   ],
   "source": [
    "llm_proxy = LLMProxy()\n",
    "llm_proxy.print_usage()"
   ]
  }
 ],
 "metadata": {
  "kernelspec": {
   "display_name": "react-agent-CUxtcVGL-py3.13",
   "language": "python",
   "name": "python3"
  },
  "language_info": {
   "codemirror_mode": {
    "name": "ipython",
    "version": 3
   },
   "file_extension": ".py",
   "mimetype": "text/x-python",
   "name": "python",
   "nbconvert_exporter": "python",
   "pygments_lexer": "ipython3",
   "version": "3.13.2"
  }
 },
 "nbformat": 4,
 "nbformat_minor": 2
}
