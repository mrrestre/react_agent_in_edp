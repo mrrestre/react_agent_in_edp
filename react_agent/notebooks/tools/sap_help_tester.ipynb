{
 "cells": [
  {
   "cell_type": "code",
   "execution_count": 1,
   "metadata": {},
   "outputs": [
    {
     "name": "stdout",
     "output_type": "stream",
     "text": [
      "The user's query about \"client certificate upload format in EDP\" is not directly addressed in the provided markdown articles. However, the articles offer insights into various upload formats and processes within SAP systems, which might provide context for understanding certificate uploads in EDP.\n",
      "\n",
      "Key Information:\n",
      "\n",
      "- **Quality Certificates (QM-CA):**\n",
      "  - Certificates can be automatically or semi-automatically created for delivery items.\n",
      "  - Formats and layouts are defined through certificate profiles and SAPscript forms.\n",
      "  - Certificates can be stored using SAP ArchiveLink.\n",
      "\n",
      "- **Upload Travel Distance Network:**\n",
      "  - CSV file format for uploading edges includes fields like Storage Type, Edge ID, Coordinates, Direction, Length, and Aisle.\n",
      "  - CSV file format for excluded resource types includes Storage Type, Edge ID, and Resource Type.\n",
      "\n",
      "- **Upload and Processing of ELDA File:**\n",
      "  - ELDA files can be uploaded from local directories or logical file names.\n",
      "  - The report checks the format and consolidates data into infotype records.\n",
      "\n",
      "- **AI-Assisted Journal Upload:**\n",
      "  - Utilizes generative AI for journal entry proposals based on transaction data.\n",
      "  - Requires uploading posting policies and transaction data in spreadsheet format.\n",
      "\n",
      "- **XML Upload:**\n",
      "  - XML files can replace EDI, processed via inbound EDI into IDocs.\n",
      "  - XML format is specific to SAP and mirrors IDoc structure.\n",
      "\n",
      "These articles highlight various upload formats and processes, which may indirectly inform the user's query about client certificate uploads in EDP by illustrating how SAP handles different types of data uploads.\n"
     ]
    }
   ],
   "source": [
    "from react_agent.src.agent_tools.sap_help_searcher import SapHelpSearcher\n",
    "from react_agent.src.util.llm_proxy import LLMProxy\n",
    "\n",
    "sap_help_searcher = SapHelpSearcher() \n",
    "output = sap_help_searcher._run(\"client certificate upload format in EDP\")\n",
    "\n",
    "print(output)"
   ]
  },
  {
   "cell_type": "code",
   "execution_count": 2,
   "metadata": {},
   "outputs": [
    {
     "name": "stdout",
     "output_type": "stream",
     "text": [
      "Call Count: 1\n",
      "Token Usage: {'input_tokens': 4656, 'output_tokens': 316, 'total_tokens': 4972}\n"
     ]
    }
   ],
   "source": [
    "llm_proxy = LLMProxy()\n",
    "llm_proxy.print_usage()"
   ]
  }
 ],
 "metadata": {
  "kernelspec": {
   "display_name": "Python 3",
   "language": "python",
   "name": "python3"
  },
  "language_info": {
   "codemirror_mode": {
    "name": "ipython",
    "version": 3
   },
   "file_extension": ".py",
   "mimetype": "text/x-python",
   "name": "python",
   "nbconvert_exporter": "python",
   "pygments_lexer": "ipython3",
   "version": "3.13.2"
  }
 },
 "nbformat": 4,
 "nbformat_minor": 2
}
