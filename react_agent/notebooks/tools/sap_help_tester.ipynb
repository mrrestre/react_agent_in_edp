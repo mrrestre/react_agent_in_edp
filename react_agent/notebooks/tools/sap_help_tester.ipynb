{
 "cells": [
  {
   "cell_type": "code",
   "execution_count": 1,
   "metadata": {},
   "outputs": [
    {
     "name": "stdout",
     "output_type": "stream",
     "text": [
      "The articles provide insights into XML handling within public cloud environments, specifically focusing on SAP solutions for electronic document processing and compliance. Key points include:\n",
      "\n",
      "- **Electronic Correction Documents**: SAP S/4HANA and SAP S/4HANA Cloud Private Edition support electronic correction documents (credit memo, debit memo, refund note) linked to consolidated invoices. Specific XML fields require special handling, such as BillingReference and AccountingCustomerParty fields, which are automatically populated by the system.\n",
      "\n",
      "- **eDocument Processing with SAP Cloud Integration**: This solution facilitates business-to-government (B2G) and business-to-business (B2B) scenarios by integrating SAP Cloud Integration for XML format mapping and communication with tax authorities. It requires SAP Document Compliance and SAP Cloud Integration subscriptions.\n",
      "\n",
      "- **Configuration and Integration**: Setting up electronic document processing involves configuring SAP systems to generate XML files and integrating them with SAP Document and Reporting Compliance, cloud edition. This includes customizing technical settings, communication interfaces, and value mappings.\n",
      "\n",
      "- **Business Add-Ins (BAdIs)**: These allow customization of XML creation to meet specific business needs not covered by standard solutions.\n",
      "\n",
      "- **Testing and Compliance**: Best practices for testing the end-to-end process ensure seamless integration and compliance with tax authorities.\n",
      "\n",
      "These articles highlight the technical and procedural aspects of XML handling in public cloud environments, emphasizing SAP's role in facilitating electronic document compliance and integration.\n"
     ]
    }
   ],
   "source": [
    "from react_agent.src.agent_tools.sap_help_searcher import SapHelpSearcher\n",
    "from react_agent.src.util.llm_proxy import LLMProxy\n",
    "\n",
    "sap_help_searcher = SapHelpSearcher() \n",
    "output = sap_help_searcher._run(\"XML handling Public Cloud\")\n",
    "\n",
    "print(output)"
   ]
  },
  {
   "cell_type": "code",
   "execution_count": 2,
   "metadata": {},
   "outputs": [
    {
     "name": "stdout",
     "output_type": "stream",
     "text": [
      "Call Count: 1\n",
      "Token Usage: {'input_tokens': 7339, 'output_tokens': 282, 'total_tokens': 7621}\n"
     ]
    }
   ],
   "source": [
    "llm_proxy = LLMProxy()\n",
    "llm_proxy.print_usage()"
   ]
  }
 ],
 "metadata": {
  "kernelspec": {
   "display_name": "react-agent-CUxtcVGL-py3.13",
   "language": "python",
   "name": "python3"
  },
  "language_info": {
   "codemirror_mode": {
    "name": "ipython",
    "version": 3
   },
   "file_extension": ".py",
   "mimetype": "text/x-python",
   "name": "python",
   "nbconvert_exporter": "python",
   "pygments_lexer": "ipython3",
   "version": "3.13.2"
  }
 },
 "nbformat": 4,
 "nbformat_minor": 2
}
