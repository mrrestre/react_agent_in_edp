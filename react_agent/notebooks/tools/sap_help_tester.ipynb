{
 "cells": [
  {
   "cell_type": "code",
   "execution_count": 1,
   "metadata": {},
   "outputs": [
    {
     "name": "stdout",
     "output_type": "stream",
     "text": [
      "The markdown content provides insights into various upload formats and processes within SAP S/4HANA, relevant to electronic document processing (EDP). While it does not directly address client certificate upload formats, it offers related technical details that could be useful in understanding SAP's handling of document uploads.\n",
      "\n",
      "- **Quality Certificates (QM-CA):** This section discusses the automatic or semi-automatic creation of quality certificates for delivery items, inspection lots, or batches. Certificates can be stored using SAP ArchiveLink, and their format and layout are defined through certificate profiles and SAPscript forms.\n",
      "\n",
      "- **Upload Travel Distance Network:** Describes the procedure for uploading travel distance networks using CSV files, specifying formats for edges and excluded resource types. This involves selecting warehouse numbers and upload settings.\n",
      "\n",
      "- **Upload and Processing of ELDA File (RPCKSBA0_B2A):** Details the process of uploading sick leave certificates via ELDA files, including format checks and consolidation into infotype 3248. Errors are logged, and the B2A Manager is used for processing.\n",
      "\n",
      "- **AI-Assisted Journal Upload:** Explains the use of AI to automate journal entry proposals, requiring setup on SAP Business Technology Platform (SAP BTP) and Intelligent Scenario Lifecycle Management (ISLM). It involves uploading posting policies and transaction data.\n",
      "\n",
      "- **XML Upload:** Describes loading JIT calls via XML files, processed as IDocs, replacing EDI converters.\n",
      "\n",
      "These sections highlight SAP's capabilities in handling various document formats and uploads, which could indirectly inform client certificate upload processes in EDP.\n"
     ]
    }
   ],
   "source": [
    "from react_agent.src.agent_tools.sap_help_searcher import SapHelpSearcher\n",
    "from react_agent.src.util.llm_proxy import LLM_PROXY\n",
    "\n",
    "sap_help_searcher = SapHelpSearcher() \n",
    "output = sap_help_searcher._run(\"client certificate upload format in EDP\")\n",
    "\n",
    "print(output)"
   ]
  },
  {
   "cell_type": "code",
   "execution_count": 2,
   "metadata": {},
   "outputs": [
    {
     "name": "stdout",
     "output_type": "stream",
     "text": [
      "Call Count: 1\n",
      "Token Usage: {'input_tokens': 4712, 'output_tokens': 314, 'total_tokens': 5026}\n"
     ]
    }
   ],
   "source": [
    "LLM_PROXY.print_usage()"
   ]
  }
 ],
 "metadata": {
  "kernelspec": {
   "display_name": "react-agent-CUxtcVGL-py3.13",
   "language": "python",
   "name": "python3"
  },
  "language_info": {
   "codemirror_mode": {
    "name": "ipython",
    "version": 3
   },
   "file_extension": ".py",
   "mimetype": "text/x-python",
   "name": "python",
   "nbconvert_exporter": "python",
   "pygments_lexer": "ipython3",
   "version": "3.13.2"
  }
 },
 "nbformat": 4,
 "nbformat_minor": 2
}
