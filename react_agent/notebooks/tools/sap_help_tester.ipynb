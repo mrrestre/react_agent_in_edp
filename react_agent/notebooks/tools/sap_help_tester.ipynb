{
 "cells": [
  {
   "cell_type": "code",
   "execution_count": 1,
   "metadata": {},
   "outputs": [
    {
     "name": "stdout",
     "output_type": "stream",
     "text": [
      "The articles provide various contexts for uploading data in SAP systems, but none directly address client certificate upload formats in EDP (Enterprise Data Processing). However, they offer insights into data upload processes and formats that might be relevant:\n",
      "\n",
      "- **Quality Certificates (QM-CA):**\n",
      "  - Certificates can be automatically created and distributed via EDI, fax, or print.\n",
      "  - Formats and layouts are defined through certificate profiles and SAPscript forms.\n",
      "  - Certificates can be stored using SAP ArchiveLink.\n",
      "\n",
      "- **Upload Travel Distance Network:**\n",
      "  - CSV file format is used for uploading travel distance network data.\n",
      "  - Specific fields and formats are required for CSV files, including storage type, edge ID, coordinates, direction, length, and aisle.\n",
      "\n",
      "- **Upload and Processing of ELDA File (RPCKSBA0_B2A):**\n",
      "  - ELDA files for sick leave certificates can be uploaded from local directories or logical file names.\n",
      "  - The system checks file formats and processes data into TemSe files.\n",
      "\n",
      "- **AI-Assisted Journal Upload:**\n",
      "  - Utilizes generative AI for journal entry proposals based on transaction data.\n",
      "  - Requires uploading posting policies and transaction data in spreadsheet format.\n",
      "\n",
      "- **XML Upload:**\n",
      "  - XML files can replace EDI for JIT calls, processed into IDocs.\n",
      "  - Requires a browser for uploading XML files.\n",
      "\n",
      "These articles highlight the importance of specific file formats (CSV, XML) and system configurations for successful data uploads in SAP environments, which may indirectly inform client certificate upload processes in EDP.\n"
     ]
    }
   ],
   "source": [
    "from react_agent.src.agent_tools.sap_help_searcher import SapHelpSearcher\n",
    "from react_agent.src.util.llm_proxy import LLMProxy\n",
    "\n",
    "sap_help_searcher = SapHelpSearcher() \n",
    "output = sap_help_searcher._run(\"client certificate upload format in EDP\")\n",
    "\n",
    "print(output)"
   ]
  },
  {
   "cell_type": "code",
   "execution_count": 2,
   "metadata": {},
   "outputs": [
    {
     "name": "stdout",
     "output_type": "stream",
     "text": [
      "Call Count: 1\n",
      "Token Usage: {'input_tokens': 4662, 'output_tokens': 313, 'total_tokens': 4975}\n"
     ]
    }
   ],
   "source": [
    "llm_proxy = LLMProxy()\n",
    "llm_proxy.print_usage()"
   ]
  }
 ],
 "metadata": {
  "kernelspec": {
   "display_name": "Python 3",
   "language": "python",
   "name": "python3"
  },
  "language_info": {
   "codemirror_mode": {
    "name": "ipython",
    "version": 3
   },
   "file_extension": ".py",
   "mimetype": "text/x-python",
   "name": "python",
   "nbconvert_exporter": "python",
   "pygments_lexer": "ipython3",
   "version": "3.13.2"
  }
 },
 "nbformat": 4,
 "nbformat_minor": 2
}
