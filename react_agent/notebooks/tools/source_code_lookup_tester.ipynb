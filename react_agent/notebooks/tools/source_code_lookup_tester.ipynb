{
 "cells": [
  {
   "cell_type": "code",
   "execution_count": null,
   "metadata": {},
   "outputs": [
    {
     "name": "stdout",
     "output_type": "stream",
     "text": [
      "Class: cl_edoc_map_aif\n",
      "Method Name: unpack_interface_id\n",
      "Method Implentation:\n",
      "* <SIGNATURE>---------------------------------------------------------------------------------------+\n",
      "* | Static Public Method CL_EDOC_MAP_AIF=>UNPACK_INTERFACE_ID\n",
      "* +-------------------------------------------------------------------------------------------------+\n",
      "* | [--->] IV_INTERFACE_ID                TYPE        EDOC_INTERFACE_ID\n",
      "* | [--->] IV_INT_VERSION                 TYPE        EDOC_INT_VERSION(optional)\n",
      "* | [<---] EV_NS                          TYPE        STRING\n",
      "* | [<---] EV_IFNAME                      TYPE        STRING\n",
      "* | [<---] EV_IFVERSION                   TYPE        STRING\n",
      "* +--------------------------------------------------------------------------------------</SIGNATURE>\n",
      "  METHOD UNPACK_INTERFACE_ID.\n",
      "* Unpack Namespace, Interface Name & Version into Interf.ID\n",
      "\n",
      "    DATA lv_ifname    TYPE c LENGTH 11.\n",
      "    DATA ls_edointaif TYPE edointaif.\n",
      "    DATA ls_interface TYPE ty_interface.                  \"2186689\n",
      "\n",
      "    CLEAR: ls_interface, ev_ns, ev_ifname, ev_ifversion.  \"2186689\n",
      "\n",
      "    SELECT SINGLE * FROM edointaif INTO ls_edointaif\n",
      "      WHERE interface_id = iv_interface_id\n",
      "      AND   int_version  = iv_int_version.\n",
      "\n",
      "    IF sy-subrc = 0.\n",
      "      ls_interface-ns = ls_edointaif-aif_ns.              \"2186689\n",
      "      ls_interface-ifname = ls_edointaif-aif_interface.   \"2186689\n",
      "      ls_interface-ifversion = ls_edointaif-aif_version.  \"2186689\n",
      "    ELSE.\n",
      "      ls_interface-ns = iv_interface_id+0(6).             \"2186689\n",
      "    lv_ifname = iv_interface_id+6.\n",
      "    SHIFT lv_ifname RIGHT DELETING TRAILING space.\n",
      "      ls_interface-ifname = lv_ifname+0(10).              \"2186689\n",
      "      CONDENSE ls_interface-ifname NO-GAPS.               \"2186689\n",
      "      ls_interface-ifversion = lv_ifname+10(1).           \"2186689\n",
      "      CONDENSE ls_interface-ifname NO-GAPS.               \"2186689\n",
      "    ENDIF.\n",
      "\n",
      "    ev_ns = ls_interface-ns.                              \"2186689\n",
      "    ev_ifname = ls_interface-ifname.                      \"2186689\n",
      "    ev_ifversion = ls_interface-ifversion.                \"2186689\n",
      "\n",
      "  \n",
      " ENDMETHOD.\n"
     ]
    }
   ],
   "source": [
    "from react_agent.src.agent_tools.source_code_lookup import MockSourceCodeMethodLookup\n",
    "\n",
    "code_lookup = MockSourceCodeMethodLookup() \n",
    "output = code_lookup._run(class_name=\"cl_edoc_map_aif\", method_name=\"UNPACK_INTERFACE_ID\")\n",
    "\n",
    "print(output)"
   ]
  }
 ],
 "metadata": {
  "kernelspec": {
   "display_name": "react-agent-CUxtcVGL-py3.13",
   "language": "python",
   "name": "python3"
  },
  "language_info": {
   "codemirror_mode": {
    "name": "ipython",
    "version": 3
   },
   "file_extension": ".py",
   "mimetype": "text/x-python",
   "name": "python",
   "nbconvert_exporter": "python",
   "pygments_lexer": "ipython3",
   "version": "3.13.2"
  }
 },
 "nbformat": 4,
 "nbformat_minor": 2
}
