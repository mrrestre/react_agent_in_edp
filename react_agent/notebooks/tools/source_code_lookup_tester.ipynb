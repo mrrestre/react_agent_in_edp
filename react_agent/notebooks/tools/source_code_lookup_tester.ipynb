{
 "cells": [
  {
   "cell_type": "code",
   "execution_count": 4,
   "metadata": {},
   "outputs": [
    {
     "ename": "ToolException",
     "evalue": "'No methods for this class indexed, indexed classes: cl_edoc_map_aif cl_edoc_map_ubl_sd cl_edoc_map_ubl cl_edocument_eu_db'",
     "output_type": "error",
     "traceback": [
      "\u001b[31m---------------------------------------------------------------------------\u001b[39m",
      "\u001b[31mKeyError\u001b[39m                                  Traceback (most recent call last)",
      "\u001b[36mFile \u001b[39m\u001b[32m~/Documents/Repositories/master_thesis/react_agent/src/agent_tools/source_code_lookup.py:70\u001b[39m, in \u001b[36mSourceCodeLookup._run\u001b[39m\u001b[34m(self, class_name, method_name)\u001b[39m\n\u001b[32m     69\u001b[39m \u001b[38;5;28;01mtry\u001b[39;00m:\n\u001b[32m---> \u001b[39m\u001b[32m70\u001b[39m     \u001b[38;5;28;01mreturn\u001b[39;00m \u001b[43mcode_repository\u001b[49m\u001b[43m.\u001b[49m\u001b[43mget_content_by_class\u001b[49m\u001b[43m(\u001b[49m\u001b[43mclass_name\u001b[49m\u001b[43m=\u001b[49m\u001b[43mclass_name\u001b[49m\u001b[43m)\u001b[49m\n\u001b[32m     71\u001b[39m \u001b[38;5;28;01mexcept\u001b[39;00m \u001b[38;5;167;01mKeyError\u001b[39;00m \u001b[38;5;28;01mas\u001b[39;00m error:\n",
      "\u001b[36mFile \u001b[39m\u001b[32m~/Documents/Repositories/master_thesis/react_agent/src/util/abap_repository.py:56\u001b[39m, in \u001b[36mABAPClassRepository.get_content_by_class\u001b[39m\u001b[34m(self, class_name)\u001b[39m\n\u001b[32m     55\u001b[39m \u001b[38;5;28;01mif\u001b[39;00m \u001b[38;5;129;01mnot\u001b[39;00m methods:\n\u001b[32m---> \u001b[39m\u001b[32m56\u001b[39m     \u001b[38;5;28;01mraise\u001b[39;00m \u001b[38;5;167;01mKeyError\u001b[39;00m(\n\u001b[32m     57\u001b[39m         \u001b[33mf\u001b[39m\u001b[33m\"\u001b[39m\u001b[33mNo methods for this class indexed, indexed classes: \u001b[39m\u001b[38;5;132;01m{\u001b[39;00m\u001b[38;5;28mself\u001b[39m.list_indexed_classes()\u001b[38;5;132;01m}\u001b[39;00m\u001b[33m\"\u001b[39m\n\u001b[32m     58\u001b[39m     )\n\u001b[32m     60\u001b[39m \u001b[38;5;28;01mreturn\u001b[39;00m \u001b[33m\"\u001b[39m\u001b[38;5;130;01m\\n\u001b[39;00m\u001b[38;5;130;01m\\n\u001b[39;00m\u001b[33m\"\u001b[39m.join(methods.values())\n",
      "\u001b[31mKeyError\u001b[39m: 'No methods for this class indexed, indexed classes: cl_edoc_map_aif cl_edoc_map_ubl_sd cl_edoc_map_ubl cl_edocument_eu_db'",
      "\nThe above exception was the direct cause of the following exception:\n",
      "\u001b[31mToolException\u001b[39m                             Traceback (most recent call last)",
      "\u001b[36mCell\u001b[39m\u001b[36m \u001b[39m\u001b[32mIn[4]\u001b[39m\u001b[32m, line 10\u001b[39m\n\u001b[32m      6\u001b[39m remote_class_name = \u001b[33m\"\u001b[39m\u001b[33mZPS_CL_EX_MB_MIGO_BADI\u001b[39m\u001b[33m\"\u001b[39m\n\u001b[32m      8\u001b[39m code_lookup = SourceCodeLookup()\n\u001b[32m---> \u001b[39m\u001b[32m10\u001b[39m output = \u001b[43mcode_lookup\u001b[49m\u001b[43m.\u001b[49m\u001b[43m_run\u001b[49m\u001b[43m(\u001b[49m\u001b[43mclass_name\u001b[49m\u001b[43m=\u001b[49m\u001b[43mremote_class_name\u001b[49m\u001b[43m)\u001b[49m\n\u001b[32m     12\u001b[39m \u001b[38;5;28mprint\u001b[39m(output)\n",
      "\u001b[36mFile \u001b[39m\u001b[32m~/Documents/Repositories/master_thesis/react_agent/src/agent_tools/source_code_lookup.py:72\u001b[39m, in \u001b[36mSourceCodeLookup._run\u001b[39m\u001b[34m(self, class_name, method_name)\u001b[39m\n\u001b[32m     70\u001b[39m         \u001b[38;5;28;01mreturn\u001b[39;00m code_repository.get_content_by_class(class_name=class_name)\n\u001b[32m     71\u001b[39m     \u001b[38;5;28;01mexcept\u001b[39;00m \u001b[38;5;167;01mKeyError\u001b[39;00m \u001b[38;5;28;01mas\u001b[39;00m error:\n\u001b[32m---> \u001b[39m\u001b[32m72\u001b[39m         \u001b[38;5;28;01mraise\u001b[39;00m ToolException(error) \u001b[38;5;28;01mfrom\u001b[39;00m\u001b[38;5;250m \u001b[39m\u001b[34;01merror\u001b[39;00m\n\u001b[32m     74\u001b[39m \u001b[38;5;28;01mif\u001b[39;00m method_name:\n\u001b[32m     75\u001b[39m     \u001b[38;5;28;01mtry\u001b[39;00m:\n",
      "\u001b[31mToolException\u001b[39m: 'No methods for this class indexed, indexed classes: cl_edoc_map_aif cl_edoc_map_ubl_sd cl_edoc_map_ubl cl_edocument_eu_db'"
     ]
    }
   ],
   "source": [
    "from react_agent.src.agent_tools.source_code_lookup import SourceCodeLookup\n",
    "\n",
    "local_class_name = \"cl_edoc_map_aif\"\n",
    "local_method_name = \"UNPACK_INTERFACE_ID\"\n",
    "\n",
    "remote_class_name = \"ZPS_CL_EX_MB_MIGO_BADI\"\n",
    "\n",
    "code_lookup = SourceCodeLookup()\n",
    "\n",
    "output = code_lookup._run(class_name=remote_class_name)\n",
    "\n",
    "print(output)"
   ]
  }
 ],
 "metadata": {
  "kernelspec": {
   "display_name": "react-agent-CUxtcVGL-py3.13",
   "language": "python",
   "name": "python3"
  },
  "language_info": {
   "codemirror_mode": {
    "name": "ipython",
    "version": 3
   },
   "file_extension": ".py",
   "mimetype": "text/x-python",
   "name": "python",
   "nbconvert_exporter": "python",
   "pygments_lexer": "ipython3",
   "version": "3.13.2"
  }
 },
 "nbformat": 4,
 "nbformat_minor": 2
}
