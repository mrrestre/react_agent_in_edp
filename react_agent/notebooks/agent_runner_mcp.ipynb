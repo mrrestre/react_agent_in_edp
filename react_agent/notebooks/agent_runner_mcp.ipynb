{
 "cells": [
  {
   "cell_type": "code",
   "execution_count": 1,
   "metadata": {},
   "outputs": [],
   "source": [
    "from IPython.display import Image, display\n",
    "\n",
    "from langchain_mcp_adapters.client import MultiServerMCPClient\n",
    "\n",
    "from react_agent.src.agents.react_agent import ReActAgent\n",
    "\n",
    "from react_agent.src.util.llm_proxy import LLMProxy\n",
    "from react_agent.src.util.long_term_mem_manager import PostgresMemoryManager, InMemoryManager\n",
    "\n",
    "from react_agent.src.scripts import load_troubleshooting_memory, load_troubleshooting_postgres"
   ]
  },
  {
   "cell_type": "code",
   "execution_count": 2,
   "metadata": {},
   "outputs": [],
   "source": [
    "USE_IN_MEMORY_STORE = False\n",
    "WITH_ML_FLOW = False"
   ]
  },
  {
   "cell_type": "code",
   "execution_count": 3,
   "metadata": {},
   "outputs": [],
   "source": [
    "# Load the initial troubleshooting memories to the long term memory store\n",
    "if USE_IN_MEMORY_STORE:\n",
    "    longterm_mem_manager = InMemoryManager()\n",
    "    load_troubleshooting_memory.load_memories(longterm_mem_manager)\n",
    "else:\n",
    "    longterm_mem_manager = PostgresMemoryManager()\n",
    "    load_troubleshooting_postgres.load_memories(longterm_mem_manager)"
   ]
  },
  {
   "cell_type": "code",
   "execution_count": 4,
   "metadata": {},
   "outputs": [],
   "source": [
    "# Configure the MCP Server for tool consumption\n",
    "\n",
    "multiServerClientConfig = {\n",
    "    \"QuestionAnsweringTools\": {\n",
    "            # make sure you start your weather server on port 8000\n",
    "            \"url\": \"http://localhost:8000/sse\",\n",
    "            \"transport\": \"sse\",\n",
    "    }\n",
    "}"
   ]
  },
  {
   "cell_type": "code",
   "execution_count": 5,
   "metadata": {},
   "outputs": [],
   "source": [
    "if(WITH_ML_FLOW):\n",
    "    import mlflow\n",
    "    # poetry run mlflow server --host 127.0.0.1 --port 8080\n",
    "    mlflow.set_tracking_uri(uri=\"http://localhost:8080\")\n",
    "    mlflow.set_experiment(\"Testing of email ReAct Agent\")\n",
    "\n",
    "    mlflow.langchain.autolog()"
   ]
  },
  {
   "cell_type": "code",
   "execution_count": 6,
   "metadata": {},
   "outputs": [],
   "source": [
    "mapping_question = \"Explain how 'Payment Terms' is mapped. Start with 'map_invoice1'.\"\n",
    "extensibility_question = \"As a Public Cloud customer in Spain, can I extend an existing eDocument customer invoice Process?\"\n",
    "peppol_support = \"\"\"We as Syntax are currently implementing SAP DRC and are following the official SAP help.\n",
    "We are currently at the step “Integration of Peppol Exchange with SAP S/4HANA Cloud” and there at the creation of an S/4HANA Public Cloud communication user.\n",
    "A client certificate should be uploaded for the communication user to be created, as Basic Auth (via user + password) is not supported.\n",
    "\n",
    "The problem: We do not have this certificate. Where can I get this certificate? What format must it be in?\n",
    "We are stuck at this step because we are missing the certificate mentioned and it is also not clear to us what kind of certificate is meant here and where to get it.\n",
    "\"\"\""
   ]
  },
  {
   "cell_type": "code",
   "execution_count": 7,
   "metadata": {},
   "outputs": [
    {
     "name": "stdout",
     "output_type": "stream",
     "text": [
      "\n",
      "< Role >\n",
      "You are an expert on Electronic Document Processing.\n",
      "</ Role >\n",
      "\n",
      "< Instructions >\n",
      "Context: Peppol, UBL, eInvoicing.\n",
      "1. Begin with an observation that outlines the primary task or question you want the agent to address.\n",
      "2. Analyze the observation to generate exactly one thought that leads to an actionable step using one of the available tools.\n",
      "3. Log the generated thought and corresponding action pair for transparency and future reference.\n",
      "4. Execute the exactly one action using the choosen tool and specify the parameters needed.\n",
      "5. Collect the new observation or insights generated from the tool's output.\n",
      "6. Is further analysis or action needed, think how other possible tools may help to improve the output?\n",
      "        - If yes, create new thought and action pairs.\n",
      "        - If no, provide a concise conclusion.\n",
      "Avoid bias based on physical appearance, ethnicity, or race.\n",
      "Replace inappropriate language with inclusive language; politely refuse results, if that is not possible.\n",
      "</ Instructions >\n",
      "\n",
      "< Tools >\n",
      "Refer always to the tools using memory as a first resort.\n",
      "You have access to the following tools in order to resolve the incoming questions:\n",
      "- Tool Name: documentation_retriever, Description: Receives a query of up to 5 words, searches through documentation, and returns a concise summary of the relevant content., Args: query: string\n",
      "- Tool Name: troubleshooting_memories_retriever, Description: Searches long-term memory to retrieve eInvoicing domain-specific knowledge related to the query, \n",
      "including troubleshooting guides and details on Application, Invoice, and Message Level Responses using vector-based analysis., Args: query: string\n",
      "</ Tools >\n",
      "\n",
      "< Rules >\n",
      "Always use tools that relly in memory first, before looking for new information\n",
      "Do not call more than one tool at the same time\n",
      "Excecute the tools in synchron manner\n",
      "Always cross validate your outputs using different sources\n",
      "Before expressing the answer, ensure that the original question is answered\n",
      "</ Rules >\n",
      "================================\u001b[1m Human Message \u001b[0m=================================\n",
      "\n",
      "We as Syntax are currently implementing SAP DRC and are following the official SAP help.\n",
      "We are currently at the step “Integration of Peppol Exchange with SAP S/4HANA Cloud” and there at the creation of an S/4HANA Public Cloud communication user.\n",
      "A client certificate should be uploaded for the communication user to be created, as Basic Auth (via user + password) is not supported.\n",
      "\n",
      "The problem: We do not have this certificate. Where can I get this certificate? What format must it be in?\n",
      "We are stuck at this step because we are missing the certificate mentioned and it is also not clear to us what kind of certificate is meant here and where to get it.\n",
      "\n",
      "==================================\u001b[1m Ai Message \u001b[0m==================================\n",
      "\n",
      "### Observation\n",
      "The primary task is to understand where to obtain the client certificate required for the integration of Peppol Exchange with SAP S/4HANA Cloud, and what format it should be in.\n",
      "\n",
      "### Thought\n",
      "To address this, I will first retrieve relevant documentation or troubleshooting memories related to \"SAP S/4HANA Cloud client certificate\" to understand the requirements and sources for obtaining the certificate.\n",
      "\n",
      "### Action\n",
      "Use the `troubleshooting_memories_retriever` tool to search for \"SAP S/4HANA Cloud client certificate\".\n",
      "Tool Calls:\n",
      "  troubleshooting_memories_retriever (call_irTd842ZweBzivtE0kmBFyuZ)\n",
      " Call ID: call_irTd842ZweBzivtE0kmBFyuZ\n",
      "  Args:\n",
      "    query: SAP S/4HANA Cloud client certificate\n",
      "=================================\u001b[1m Tool Message \u001b[0m=================================\n",
      "Name: troubleshooting_memories_retriever\n",
      "\n",
      "Usually this error is displayed in the Interface Log from EDOC_COCKPIT. To solve this issue, review the certificate settings of the STRUST to confirm that the certificates are correctly configured. After that, follow the instructions informed in the page Creating Logical Ports in SOA Management from SAP Help. In this page, you must review these steps and check whether the certificate which was chosen is correct. Also, you can find more information about this error in the blog post How to Setup Secure HTTP Inbound Connection with Client Certificates and in the content of the SAP Note 2728600 (Error SSSLERR_ when accessing CPI).\n",
      "Check in your back end system if the logical port for the client proxy has been correctly configured, for example CO_EDO_UBL_SEND_CRED_NOTE_V1_0. Compare, for example, the logical port of the credit memos with the logical port from client proxy for invoices. If the issue persists, review the implementation and manual steps of all SAP Notes listed in the topic 'Solution' from the SAP Note 2783795 (eDoc Peppol Installation Overview), as well as also from the overview installation SAP Note of the country/region-specific part.\n",
      "The complete message is 'Proxy error SoapFaultCode:5 An internal error occurred during: message processing. For error details check the System Logs Monitor in http://(...)', and it may include the error codes 'Proxy-Fehler SoapFaultCode:5' and 'Meldungsnr. /AIF/MES091'. To solve this issue, implement the last version of the SAP Note 2440686 (eDoc EU AIF Customizing), and upload and activate the latest version of the BC Set in your system. The BC Set is attached to the SAP Note. After this, review all the configuration inside the topic Integrating Peppol Exchange with SAP S/4HANA and SAP ERP. It is important to ensure that a certificate was correctly uploaded to the Connection Management app in the Peppol dashboard, and that client certificate is valid in SOAMANAGER. As an alternative, remove the certificate in Connection Management app and upload it again. After that, test the same scenario again. See Creating Logical Ports in SOA Management. If this error happens only with specific XML files, check the format of the field receiverId.\n",
      "==================================\u001b[1m Ai Message \u001b[0m==================================\n",
      "\n",
      "### Observation\n",
      "The retrieved information suggests that the client certificate for SAP S/4HANA Cloud integration with Peppol Exchange should be correctly configured in STRUST and SOAMANAGER. It also mentions reviewing SAP Notes, particularly SAP Note 2783795 for installation overview and SAP Note 2440686 for EU AIF Customizing. The certificate must be uploaded to the Connection Management app in the Peppol dashboard and validated in SOAMANAGER.\n",
      "\n",
      "### Thought\n",
      "To further clarify the format and source of the client certificate, I will now retrieve documentation related to \"client certificate format SAP S/4HANA\".\n",
      "\n",
      "### Action\n",
      "Use the `documentation_retriever` tool to search for \"client certificate format SAP S/4HANA\".\n",
      "Tool Calls:\n",
      "  documentation_retriever (call_HaQ9S0h4N6QgZOYpkUjG4LEC)\n",
      " Call ID: call_HaQ9S0h4N6QgZOYpkUjG4LEC\n",
      "  Args:\n",
      "    query: client certificate format SAP S/4HANA\n",
      "=================================\u001b[1m Tool Message \u001b[0m=================================\n",
      "Name: documentation_retriever\n",
      "\n",
      "The articles provide detailed procedures for handling client certificates in SAP S/4HANA, focusing on their export and integration with SAP Cloud Integration and other services. Here's a summary of the key technical information relevant to the user's query:\n",
      "\n",
      "- **Exporting SAP S/4HANA Public Certificate:**\n",
      "  - Use transaction STRUST to access the Trust Manager.\n",
      "  - Export the public certificate in formats like .cer or .crt for authentication purposes.\n",
      "\n",
      "- **Obtaining Client Certificate from SAP Cloud Integration Web UI:**\n",
      "  - Log into the SAP Cloud Integration tenant and use the browser's certificate options to export the client certificate.\n",
      "  - Choose DER encoded binary X.509 format for the certificate.\n",
      "\n",
      "- **Creating SM59 Destination for AEM Service Instance:**\n",
      "  - Use transaction SPRO to create an SM59 destination for connecting to AEM service instances.\n",
      "  - Export client certificates from STRUST in Base64 format for authentication with AEM broker instances.\n",
      "\n",
      "- **Integrating SAP S/4HANA and GSP using SAP Integration Suite:**\n",
      "  - Establish secure SSL connections using client certificates.\n",
      "  - Configure service providers and consumer proxies using SOA Manager, ensuring the use of x.509 SSL client certificates for authentication.\n",
      "\n",
      "These procedures highlight the importance of client certificates in establishing secure communications and integrations between SAP S/4HANA and external systems, emphasizing formats like DER encoded binary X.509 and Base64 for certificate export.\n",
      "==================================\u001b[1m Ai Message \u001b[0m==================================\n",
      "\n",
      "### Conclusion\n",
      "To obtain the client certificate for SAP S/4HANA Cloud integration with Peppol Exchange, you should:\n",
      "\n",
      "1. **Export the Certificate:**\n",
      "   - Use the SAP Trust Manager (transaction STRUST) to export the public certificate. The recommended formats for export are `.cer` or `.crt`.\n",
      "\n",
      "2. **Certificate Format:**\n",
      "   - The certificate should be in DER encoded binary X.509 format or Base64 format, which are commonly used for authentication purposes.\n",
      "\n",
      "3. **Configuration:**\n",
      "   - Ensure the certificate is correctly uploaded to the Connection Management app in the Peppol dashboard and validated in SOAMANAGER.\n",
      "\n",
      "4. **Additional Resources:**\n",
      "   - Review SAP Notes 2783795 and 2440686 for detailed installation and configuration guidance.\n",
      "\n",
      "By following these steps, you should be able to obtain and configure the necessary client certificate for your integration task. If further issues arise, consulting the SAP Help documentation and relevant SAP Notes will provide additional support.\n"
     ]
    }
   ],
   "source": [
    "async with MultiServerMCPClient( multiServerClientConfig) as client:\n",
    "    agent = ReActAgent(tool_list=client.get_tools())\n",
    "    print(agent.create_sys_prompt())\n",
    "    # display(Image(agent.get_agent_graph()))\n",
    "    \n",
    "    await agent.arun_and_print_agent_stream(user_message=peppol_support)"
   ]
  },
  {
   "cell_type": "code",
   "execution_count": 8,
   "metadata": {},
   "outputs": [],
   "source": [
    "# print(agent.response)"
   ]
  },
  {
   "cell_type": "code",
   "execution_count": 9,
   "metadata": {},
   "outputs": [
    {
     "name": "stdout",
     "output_type": "stream",
     "text": [
      "Call Count: 0\n",
      "Token Usage: {'input_tokens': 0, 'output_tokens': 0, 'total_tokens': 0}\n"
     ]
    }
   ],
   "source": [
    "LLMProxy().print_usage()"
   ]
  },
  {
   "cell_type": "markdown",
   "metadata": {},
   "source": []
  }
 ],
 "metadata": {
  "kernelspec": {
   "display_name": "react-agent-CUxtcVGL-py3.13",
   "language": "python",
   "name": "python3"
  },
  "language_info": {
   "codemirror_mode": {
    "name": "ipython",
    "version": 3
   },
   "file_extension": ".py",
   "mimetype": "text/x-python",
   "name": "python",
   "nbconvert_exporter": "python",
   "pygments_lexer": "ipython3",
   "version": "3.13.2"
  }
 },
 "nbformat": 4,
 "nbformat_minor": 2
}
