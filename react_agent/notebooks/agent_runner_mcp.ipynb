{
 "cells": [
  {
   "cell_type": "code",
   "execution_count": 1,
   "metadata": {},
   "outputs": [],
   "source": [
    "from IPython.display import Image, display\n",
    "\n",
    "from langchain_mcp_adapters.client import MultiServerMCPClient\n",
    "\n",
    "from react_agent.src.agents.react_agent import ReActAgent\n",
    "\n",
    "from react_agent.src.util.llm_proxy import LLMProxy"
   ]
  },
  {
   "cell_type": "code",
   "execution_count": 2,
   "metadata": {},
   "outputs": [],
   "source": [
    "WITH_ML_FLOW = False"
   ]
  },
  {
   "cell_type": "code",
   "execution_count": 3,
   "metadata": {},
   "outputs": [],
   "source": [
    "# Configure the MCP Server for tool consumption\n",
    "from react_agent.src.config.system_parameters import QAToolsServerSettings\n",
    "QA_SERVER_SETTINGS = QAToolsServerSettings()\n",
    "\n",
    "multiServerClientConfig = {\n",
    "    \"QuestionAnsweringTools\": {\n",
    "        \"url\": f\"http://{QA_SERVER_SETTINGS.host}:{QA_SERVER_SETTINGS.port}/{QA_SERVER_SETTINGS.transport}\",\n",
    "        \"transport\": QA_SERVER_SETTINGS.transport,\n",
    "    }\n",
    "}"
   ]
  },
  {
   "cell_type": "code",
   "execution_count": 4,
   "metadata": {},
   "outputs": [],
   "source": [
    "if(WITH_ML_FLOW):\n",
    "    import mlflow\n",
    "    # poetry run mlflow server --host 127.0.0.1 --port 8080\n",
    "    mlflow.set_tracking_uri(uri=\"http://localhost:8080\")\n",
    "    mlflow.set_experiment(\"Testing of email ReAct Agent\")\n",
    "\n",
    "    mlflow.langchain.autolog()"
   ]
  },
  {
   "cell_type": "code",
   "execution_count": 5,
   "metadata": {},
   "outputs": [],
   "source": [
    "mapping_question = \"Explain how 'Payment Terms' is mapped. Start with 'map_invoice1'.\"\n",
    "extensibility_question = \"As a Public Cloud customer in Spain, can I extend an existing eDocument customer invoice Process?\"\n",
    "peppol_support = \"\"\"We as Syntax are currently implementing SAP DRC and are following the official SAP help.\n",
    "We are currently at the step “Integration of Peppol Exchange with SAP S/4HANA Cloud” and there at the creation of an S/4HANA Public Cloud communication user.\n",
    "A client certificate should be uploaded for the communication user to be created, as Basic Auth (via user + password) is not supported.\n",
    "\n",
    "The problem: We do not have this certificate. Where can I get this certificate? What format must it be in?\n",
    "We are stuck at this step because we are missing the certificate mentioned and it is also not clear to us what kind of certificate is meant here and where to get it.\n",
    "\"\"\""
   ]
  },
  {
   "cell_type": "code",
   "execution_count": 6,
   "metadata": {},
   "outputs": [
    {
     "name": "stdout",
     "output_type": "stream",
     "text": [
      "\n",
      "< Role >\n",
      "You are an expert on Electronic Document Processing.\n",
      "</ Role >\n",
      "\n",
      "< Instructions >\n",
      "Context: Peppol, UBL, eInvoicing.\n",
      "1. Begin with an observation that outlines the primary task or question you want the agent to address.\n",
      "2. Analyze the observation to generate exactly one thought that leads to an actionable step using one of the available tools.\n",
      "3. Log the generated thought and corresponding action pair for transparency and future reference.\n",
      "4. Execute the exactly one action using the choosen tool and specify the parameters needed.\n",
      "5. Collect the new observation or insights generated from the tool's output.\n",
      "6. Is further analysis or action needed, think how other possible tools may help to improve the output?\n",
      "        - If yes, create new thought and action pairs.\n",
      "        - If no, provide a concise conclusion.\n",
      "Avoid bias based on physical appearance, ethnicity, or race.\n",
      "Replace inappropriate language with inclusive language; politely refuse results, if that is not possible.\n",
      "</ Instructions >\n",
      "\n",
      "< Tools >\n",
      "Refer always to the tools using memory as a first resort.\n",
      "You have access to the following tools in order to resolve the incoming questions:\n",
      "- Tool Name: documentation_retriever, Description: Receives a query of up to 5 words, searches through documentation, and returns a concise summary of the relevant content., Args: query: string\n",
      "- Tool Name: troubleshooting_memories_retriever, Description: Searches long-term memory to retrieve eInvoicing domain-specific knowledge related to the query, \n",
      "including troubleshooting guides and details on Application, Invoice, and Message Level Responses using vector-based analysis., Args: query: string\n",
      "</ Tools >\n",
      "\n",
      "< Rules >\n",
      "Always use tools that relly in memory first, before looking for new information\n",
      "Do not call more than one tool at the same time\n",
      "Excecute the tools in synchron manner\n",
      "Always cross validate your outputs using different sources\n",
      "Before expressing the answer, ensure that the original question is answered\n",
      "</ Rules >\n",
      "================================\u001b[1m Human Message \u001b[0m=================================\n",
      "\n",
      "As a Public Cloud customer in Spain, can I extend an existing eDocument customer invoice Process?\n",
      "==================================\u001b[1m Ai Message \u001b[0m==================================\n",
      "\n",
      "To address your question about extending an existing eDocument customer invoice process as a Public Cloud customer in Spain, we need to consider the specific requirements and capabilities of the eInvoicing system, particularly in the context of Peppol and UBL standards.\n",
      "\n",
      "### Observation:\n",
      "The primary task is to determine if a Public Cloud customer in Spain can extend an existing eDocument customer invoice process, considering the standards and regulations involved.\n",
      "\n",
      "### Thought:\n",
      "To provide a comprehensive answer, I will first retrieve relevant information from long-term memory regarding eInvoicing processes and extensions in the context of Public Cloud customers in Spain.\n",
      "\n",
      "### Action:\n",
      "I will use the `troubleshooting_memories_retriever` tool to search for domain-specific knowledge related to \"eDocument invoice extension Spain\".\n",
      "Tool Calls:\n",
      "  troubleshooting_memories_retriever (call_yqHHqWYoD2ThKTZVuHktDEfX)\n",
      " Call ID: call_yqHHqWYoD2ThKTZVuHktDEfX\n",
      "  Args:\n",
      "    query: eDocument invoice extension Spain\n",
      "=================================\u001b[1m Tool Message \u001b[0m=================================\n",
      "Name: troubleshooting_memories_retriever\n",
      "\n",
      "The Invoice List functionality is not in the scope of electronic documents for countries using Peppol. You must generate electronic documents based in separate invoices. Note that you can submit this idea and/or improvement requests via Customer Influence program. This is the channel where customers can influence the development. See the SAP Note 11 (Shape and influence releases of products).\n",
      "You can exchange invoices among with companies in countries/region that use the Peppol network. Additionally, if you want to send an electronic document to a company in another country/region that accepts the XML files in the format BIS 3, you can use the Party ID Type 'GLN'. For example, a company in Sweden sends invoices to a company in Spain. The receiver companies for cross-border invoicing can use VAT ID as Peppol participant ID and the details are in the SAP Note 3013311 (eDoc EU Corrections). For more information, see Party ID Types for Receivers by Country/Region.\n",
      "The proforma invoices can be sent to specific customers, when there is an agreement to temporarily not pay specific bills. For Peppol countries, the electronic invoice process is enabled for SD invoices with FI accounting document only. In this case, you can post Free Of Goods with 100% discount, which will not influence ledger book anyway. Or you can include Free Of Goods in another invoice line, whose amount must be posted to customer GL. The solution supports Free Of Goods with 100% discount and inactive conditions, but the document should be posted to FI. See Assigning eDocument Type to Billing Document Type.\n",
      "==================================\u001b[1m Ai Message \u001b[0m==================================\n",
      "\n",
      "### Insights:\n",
      "Based on the retrieved information, here are the key points regarding extending an eDocument customer invoice process for Public Cloud customers in Spain:\n",
      "\n",
      "1. **Peppol Network Usage**: Spain uses the Peppol network for exchanging invoices. You can generate electronic documents based on separate invoices, but the Invoice List functionality is not within the scope for countries using Peppol.\n",
      "\n",
      "2. **Cross-Border Invoicing**: You can exchange invoices with companies in other countries that use the Peppol network. For cross-border invoicing, the VAT ID can be used as the Peppol participant ID.\n",
      "\n",
      "3. **Influence Development**: Customers can submit ideas or improvement requests through the Customer Influence program to shape and influence product releases.\n",
      "\n",
      "4. **Proforma Invoices**: These can be sent to specific customers under certain agreements, such as temporarily not paying specific bills.\n",
      "\n",
      "5. **SD Invoices with FI Accounting**: The electronic invoice process is enabled for SD invoices with FI accounting documents only. Free Of Goods can be posted with a 100% discount without influencing the ledger book.\n",
      "\n",
      "### Conclusion:\n",
      "As a Public Cloud customer in Spain, you can extend your eDocument customer invoice process by leveraging the Peppol network for cross-border invoicing and submitting improvement requests through the Customer Influence program. Ensure that your invoices comply with the Peppol standards and consider using the VAT ID as the Peppol participant ID for cross-border transactions. Additionally, you can manage proforma invoices and SD invoices with FI accounting documents as part of your process extension.\n"
     ]
    }
   ],
   "source": [
    "async with MultiServerMCPClient( multiServerClientConfig) as client:\n",
    "    agent = ReActAgent(tool_list=client.get_tools())\n",
    "    print(agent.create_sys_prompt())\n",
    "    # display(Image(agent.get_agent_graph()))\n",
    "\n",
    "    await agent.arun_and_print_agent_stream(user_message=extensibility_question)"
   ]
  },
  {
   "cell_type": "code",
   "execution_count": 7,
   "metadata": {},
   "outputs": [],
   "source": [
    "# print(agent.response)"
   ]
  },
  {
   "cell_type": "code",
   "execution_count": 8,
   "metadata": {},
   "outputs": [
    {
     "name": "stdout",
     "output_type": "stream",
     "text": [
      "Call Count: 0\n",
      "Token Usage: {'input_tokens': 0, 'output_tokens': 0, 'total_tokens': 0}\n"
     ]
    }
   ],
   "source": [
    "LLMProxy().print_usage()"
   ]
  },
  {
   "cell_type": "markdown",
   "metadata": {},
   "source": []
  }
 ],
 "metadata": {
  "kernelspec": {
   "display_name": "Python 3",
   "language": "python",
   "name": "python3"
  },
  "language_info": {
   "codemirror_mode": {
    "name": "ipython",
    "version": 3
   },
   "file_extension": ".py",
   "mimetype": "text/x-python",
   "name": "python",
   "nbconvert_exporter": "python",
   "pygments_lexer": "ipython3",
   "version": "3.13.2"
  }
 },
 "nbformat": 4,
 "nbformat_minor": 2
}
