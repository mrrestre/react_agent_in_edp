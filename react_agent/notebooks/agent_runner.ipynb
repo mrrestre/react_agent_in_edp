{
 "cells": [
  {
   "cell_type": "code",
   "execution_count": 1,
   "metadata": {},
   "outputs": [],
   "source": [
    "from IPython.display import Image, display\n",
    "\n",
    "from react_agent.src.agents.react_agent import ReActAgent\n",
    "\n",
    "from react_agent.src.agent_tools.sap_help_searcher import SapHelpSearcher\n",
    "from react_agent.src.agent_tools.troubleshooting_searcher import TroubleshootingSearcher\n",
    "\n",
    "from react_agent.src.util.llm_proxy import LLMProxy\n",
    "from react_agent.src.util.long_term_mem_manager import PostgresMemoryManager, InMemoryManager\n",
    "\n",
    "from react_agent.src.scripts import load_troubleshooting_memory, load_troubleshooting_postgres"
   ]
  },
  {
   "cell_type": "code",
   "execution_count": 2,
   "metadata": {},
   "outputs": [],
   "source": [
    "USE_IN_MEMORY_STORE = False\n",
    "WITH_ML_FLOW = False"
   ]
  },
  {
   "cell_type": "code",
   "execution_count": 3,
   "metadata": {},
   "outputs": [],
   "source": [
    "# Load the initial troubleshooting memories to the long term memory store\n",
    "if USE_IN_MEMORY_STORE:\n",
    "    longterm_mem_manager = InMemoryManager()\n",
    "    load_troubleshooting_memory.load_memories(longterm_mem_manager)\n",
    "else:\n",
    "    longterm_mem_manager = PostgresMemoryManager()\n",
    "    load_troubleshooting_postgres.load_memories(longterm_mem_manager)"
   ]
  },
  {
   "cell_type": "code",
   "execution_count": 4,
   "metadata": {},
   "outputs": [],
   "source": [
    "if(WITH_ML_FLOW):\n",
    "    import mlflow\n",
    "    # poetry run mlflow server --host 127.0.0.1 --port 8080\n",
    "    mlflow.set_tracking_uri(uri=\"http://localhost:8080\")\n",
    "    mlflow.set_experiment(\"Testing of email ReAct Agent\")\n",
    "\n",
    "    mlflow.langchain.autolog()"
   ]
  },
  {
   "cell_type": "code",
   "execution_count": 5,
   "metadata": {},
   "outputs": [],
   "source": [
    "tool_list = []\n",
    "\n",
    "tool_list.append(TroubleshootingSearcher())\n",
    "tool_list.append(SapHelpSearcher())"
   ]
  },
  {
   "cell_type": "code",
   "execution_count": 6,
   "metadata": {},
   "outputs": [
    {
     "name": "stdout",
     "output_type": "stream",
     "text": [
      "\n",
      "< Role >\n",
      "You are an expert on Electronic Document Processing.\n",
      "</ Role >\n",
      "\n",
      "< Instructions >\n",
      "Context: Peppol, UBL, eInvoicing.\n",
      "1. Begin with an observation that outlines the primary task or question you want the agent to address.\n",
      "2. Analyze the observation to generate exactly one thought that leads to an actionable step using one of the available tools.\n",
      "3. Log the generated thought and corresponding action pair for transparency and future reference.\n",
      "4. Execute the exactly one action using the choosen tool and specify the parameters needed.\n",
      "5. Collect the new observation or insights generated from the tool's output.\n",
      "6. Is further analysis or action needed, think how other possible tools may help to improve the output?\n",
      "- If yes, create new thought and action pairs.\n",
      "- If no, provide a concise conclusion.\n",
      "Avoid bias based on physical appearance, ethnicity, or race.\n",
      "Replace inappropriate language with inclusive language; politely refuse results, if that is not possible.\n",
      "</ Instructions >\n",
      "\n",
      "< Tools >\n",
      "You have access to the following tools in order to resolve the incoming questions:\n",
      "- Tool Name: troubleshooting_memories_retriever, Description: Searches long-term memory to retrieve eInvoicing domain-specific knowledge related to the query, \n",
      "        including troubleshooting guides and details on Application, Invoice, and Message Level Responses using vector-based analysis., Args: query: string\n",
      "- Tool Name: documentation_retriever, Description: Receives a query of up to 5 words, searches through documentation, and returns a concise summary of the relevant content., Args: query: string\n",
      "Refer always to the tools using memory as a first resort.\n",
      "</ Tools >\n",
      "\n",
      "< Rules >\n",
      "Always use tools that relly in memory first, before looking for new information\n",
      "Do not call more than one tool at the same time\n",
      "Excecute the tools in synchron manner\n",
      "Cross validate the facts with different sources\n",
      "Before expressing the answer, ensure that the original question is answered\n",
      "</ Rules >\n"
     ]
    }
   ],
   "source": [
    "agent = ReActAgent(tool_list=tool_list)\n",
    "print(agent.create_sys_prompt())\n",
    "#display(Image(agent.get_agent_graph()))"
   ]
  },
  {
   "cell_type": "code",
   "execution_count": 7,
   "metadata": {},
   "outputs": [
    {
     "name": "stdout",
     "output_type": "stream",
     "text": [
      "================================\u001b[1m Human Message \u001b[0m=================================\n",
      "\n",
      "We as Syntax are currently implementing SAP DRC and are following the official SAP help.\n",
      "We are currently at the step “Integration of Peppol Exchange with SAP S/4HANA Cloud” and there at the creation of an S/4HANA Public Cloud communication user.\n",
      "A client certificate should be uploaded for the communication user to be created, as Basic Auth (via user + password) is not supported.\n",
      "\n",
      "The problem: We do not have this certificate. Where can I get this certificate? What format must it be in?\n",
      "We are stuck at this step because we are missing the certificate mentioned and it is also not clear to us what kind of certificate is meant here and where to get it.\n",
      "\n",
      "==================================\u001b[1m Ai Message \u001b[0m==================================\n",
      "\n",
      "### Observation\n",
      "The primary task is to understand where to obtain the client certificate required for the integration of Peppol Exchange with SAP S/4HANA Cloud, and what format it should be in.\n",
      "\n",
      "### Thought\n",
      "To address this, I will first retrieve information from long-term memory related to obtaining client certificates for SAP S/4HANA Cloud integration with Peppol Exchange.\n",
      "\n",
      "### Action\n",
      "Use the `troubleshooting_memories_retriever` tool to search for information on obtaining client certificates for SAP S/4HANA Cloud integration with Peppol Exchange.\n",
      "\n",
      "### Execution\n",
      "```json\n",
      "{\n",
      "  \"query\": \"SAP S/4HANA Cloud Peppol client certificate\"\n",
      "}\n",
      "```\n",
      "Tool Calls:\n",
      "  troubleshooting_memories_retriever (call_5WtfQsjFIocR1bmkq4tdDj5I)\n",
      " Call ID: call_5WtfQsjFIocR1bmkq4tdDj5I\n",
      "  Args:\n",
      "    query: SAP S/4HANA Cloud Peppol client certificate\n",
      "=================================\u001b[1m Tool Message \u001b[0m=================================\n",
      "Name: troubleshooting_memories_retriever\n",
      "\n",
      "This error is displayed when the user is missing the authorization objects. Both the back end system (SAP ERP or SAP S/4HANA) and the Peppol Exchange must have the correct authorization objects to process incoming responses and invoices. See Connecting System to Service, check the Parameter Name 'User' in the connection details table. After that, ensure that all manual implementation steps from the SAP Note 2949379 (eDoc Peppol Configuration and Customizing) are correctly followed in your system.\n",
      "The onboarding steps are described in the Onboarding for Peppol Exchange. The onboarding to start working with the Peppol Exchange service is usually assisted by the Account Executive. If you don't know who your Account Executive is, follow the instructions in the content of the SAP Note 2626344 (Who is the SAP Account Executive for my company). You need to contact this person to see the next steps on how to subscribe the service. After the Account Executive actions, you receive two emails for each account type (test and production) with a request for you to create credentials that you sue to access the service.\n",
      "Ensure that you have assigned the role to the S-User using the button 'Manage Subaccount User', inside the 'Connection Management' of the Peppol Exchange service. When you add the user to the list under Manage Subaccount User > Add User, the user is assigned to the 'Cloud Connector Access' role. A 'Cloud Connector Admin' role is not required to connect using the Cloud Connector. See Creating Subaccount in Cloud Connector and Connecting Service to System.\n",
      "==================================\u001b[1m Ai Message \u001b[0m==================================\n",
      "\n",
      "### Observation\n",
      "The client certificate for SAP S/4HANA Cloud integration with Peppol Exchange is part of the onboarding process, which is typically assisted by the SAP Account Executive. The onboarding involves subscribing to the Peppol Exchange service, and after the Account Executive's actions, you receive emails with requests to create credentials for accessing the service. The certificate is likely part of these credentials.\n",
      "\n",
      "### Thought\n",
      "To further clarify the format of the certificate and ensure all steps are correctly followed, I will retrieve documentation related to the \"Integration of Peppol Exchange with SAP S/4HANA Cloud.\"\n",
      "\n",
      "### Action\n",
      "Use the `documentation_retriever` tool to search for documentation related to \"Peppol Exchange SAP S/4HANA Cloud.\"\n",
      "\n",
      "### Execution\n",
      "```json\n",
      "{\n",
      "  \"query\": \"Peppol Exchange SAP S/4HANA Cloud\"\n",
      "}\n",
      "```\n",
      "Tool Calls:\n",
      "  documentation_retriever (call_EQ4i9kJ2OdIfnjZdMfi9Hxmx)\n",
      " Call ID: call_EQ4i9kJ2OdIfnjZdMfi9Hxmx\n",
      "  Args:\n",
      "    query: Peppol Exchange SAP S/4HANA Cloud\n",
      "=================================\u001b[1m Tool Message \u001b[0m=================================\n",
      "Name: documentation_retriever\n",
      "\n",
      "The articles focus on enhancements in SAP S/4HANA related to the Peppol Exchange for electronic documents, providing context to the user's query about \"Peppol Exchange SAP S/4HANA Cloud.\" These enhancements allow users to manage electronic document exchanges with business partners registered in the Peppol network, a standardized e-invoicing network used across Europe.\n",
      "\n",
      "Key Information:\n",
      "- **Enhancements**: \n",
      "  - Display lists of suppliers registered in the Peppol network.\n",
      "  - Display document types that customers can receive electronically.\n",
      "  \n",
      "- **Technical Details**:\n",
      "  - **Type**: New enhancements.\n",
      "  - **Functional Localization**: Available for Belgium, Germany, Denmark, Ireland, and France.\n",
      "  - **Application Component**: CA-GTF-CSC (Country/Region-Specific Application Interface Objects).\n",
      "  - **Versions Supported**: SAP S/4HANA 2022, 2021 SPS03, 2021 FPS02, 2020 SPS05, 1909 SPS07, 1809 SPS09, 1709 SPS11.\n",
      "  - **SAP Note**: 3136902 for compliance and legal changes.\n",
      "\n",
      "- **Customizing Requirements**:\n",
      "  - Maintain logical port EDO_UBL_LOOKUP of the CO_DCS_DCP_GENERIC_WEBSERVICE proxy.\n",
      "  - Set up communication with the cloud edition service.\n",
      "\n",
      "These enhancements streamline the process of identifying and managing business partners capable of electronic document exchange via Peppol, ensuring compliance and efficiency in document handling within SAP S/4HANA Cloud environments.\n",
      "==================================\u001b[1m Ai Message \u001b[0m==================================\n",
      "\n",
      "### Conclusion\n",
      "To obtain the client certificate for integrating Peppol Exchange with SAP S/4HANA Cloud, you should contact your SAP Account Executive. They will assist you in subscribing to the Peppol Exchange service, and you will receive emails with requests to create credentials, including the client certificate. The certificate is part of the onboarding process, and its format will be specified in the instructions provided by SAP.\n",
      "\n",
      "Ensure that you follow all manual implementation steps from SAP Note 2949379 and check SAP Note 3136902 for compliance and legal changes related to Peppol Exchange. If you need further assistance, your Account Executive will be the best point of contact to guide you through the process.\n"
     ]
    }
   ],
   "source": [
    "mapping_question = \"Explain how 'Payment Terms' is mapped. Start with 'map_invoice1'.\"\n",
    "extensibility_question = \"As a Public Cloud customer in Spain, can I extend an existing eDocument customer invoice Process?\"\n",
    "peppol_support = \"\"\"We as Syntax are currently implementing SAP DRC and are following the official SAP help.\n",
    "We are currently at the step “Integration of Peppol Exchange with SAP S/4HANA Cloud” and there at the creation of an S/4HANA Public Cloud communication user.\n",
    "A client certificate should be uploaded for the communication user to be created, as Basic Auth (via user + password) is not supported.\n",
    "\n",
    "The problem: We do not have this certificate. Where can I get this certificate? What format must it be in?\n",
    "We are stuck at this step because we are missing the certificate mentioned and it is also not clear to us what kind of certificate is meant here and where to get it.\n",
    "\"\"\"\n",
    "agent.run_and_print_agent_stream(user_message=peppol_support)"
   ]
  },
  {
   "cell_type": "code",
   "execution_count": 8,
   "metadata": {},
   "outputs": [
    {
     "name": "stdout",
     "output_type": "stream",
     "text": [
      "Call Count: 1\n",
      "Token Usage: {'input_tokens': 6179, 'output_tokens': 318, 'total_tokens': 6497}\n"
     ]
    }
   ],
   "source": [
    "LLMProxy().print_usage()"
   ]
  },
  {
   "cell_type": "markdown",
   "metadata": {},
   "source": []
  }
 ],
 "metadata": {
  "kernelspec": {
   "display_name": "react-agent-CUxtcVGL-py3.13",
   "language": "python",
   "name": "python3"
  },
  "language_info": {
   "codemirror_mode": {
    "name": "ipython",
    "version": 3
   },
   "file_extension": ".py",
   "mimetype": "text/x-python",
   "name": "python",
   "nbconvert_exporter": "python",
   "pygments_lexer": "ipython3",
   "version": "3.13.2"
  }
 },
 "nbformat": 4,
 "nbformat_minor": 2
}
