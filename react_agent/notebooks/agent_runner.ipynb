{
 "cells": [
  {
   "cell_type": "code",
   "execution_count": 1,
   "metadata": {},
   "outputs": [],
   "source": [
    "from IPython.display import Image, display\n",
    "\n",
    "from react_agent.src.agents.react_agent import ReActAgent\n",
    "\n",
    "from react_agent.src.agent_tools.sap_help_searcher import SapHelpSearcher\n",
    "from react_agent.src.agent_tools.troubleshooting_searcher import TroubleshootingSearcher\n",
    "\n",
    "from react_agent.src.util.llm_proxy import LLMProxy, SupportedLLMs\n",
    "from react_agent.src.util.long_term_mem_manager import PostgresMemoryManager, InMemoryManager\n",
    "\n",
    "from react_agent.src.scripts import load_troubleshooting_memory, load_troubleshooting_postgres"
   ]
  },
  {
   "cell_type": "code",
   "execution_count": null,
   "metadata": {},
   "outputs": [],
   "source": [
    "IN_MEMORY_MEMORIES = False\n",
    "\n",
    "# Load the initial troubleshooting memories to the long term memory store\n",
    "if IN_MEMORY_MEMORIES:\n",
    "    longterm_mem_manager = InMemoryManager()\n",
    "    load_troubleshooting_memory.load_memories(longterm_mem_manager)\n",
    "else:\n",
    "    longterm_mem_manager = PostgresMemoryManager()\n",
    "    load_troubleshooting_postgres.load_memories(longterm_mem_manager)"
   ]
  },
  {
   "cell_type": "code",
   "execution_count": 3,
   "metadata": {},
   "outputs": [],
   "source": [
    "WITH_ML_FLOW = False\n",
    "\n",
    "if(WITH_ML_FLOW):\n",
    "    import mlflow\n",
    "    # poetry run mlflow server --host 127.0.0.1 --port 8080\n",
    "    mlflow.set_tracking_uri(uri=\"http://localhost:8080\")\n",
    "    mlflow.set_experiment(\"Testing of email ReAct Agent\")\n",
    "\n",
    "    mlflow.langchain.autolog()"
   ]
  },
  {
   "cell_type": "code",
   "execution_count": 4,
   "metadata": {},
   "outputs": [],
   "source": [
    "max_tokens = 3000\n",
    "temperature = 0.05\n",
    "max_iter = 10\n",
    "tool_list = []\n",
    "\n",
    "llmProxy = LLMProxy(model=SupportedLLMs.GPT_4o, max_tokens=max_tokens)\n",
    "\n",
    "tool_list.append(TroubleshootingSearcher())\n",
    "tool_list.append(SapHelpSearcher())"
   ]
  },
  {
   "cell_type": "code",
   "execution_count": 5,
   "metadata": {},
   "outputs": [
    {
     "name": "stdout",
     "output_type": "stream",
     "text": [
      "\n",
      "< Role >\n",
      "You are an expert on Electronic Document Processing.\n",
      "</ Role >\n",
      "\n",
      "< Instructions >\n",
      "Context: Peppol, UBL, eInvoicing.\n",
      "1.Begin with an observation that outlines the primary task or question you want the agent to address.\n",
      "2. Analyze the observation to generate exactly one thought that leads to an actionable step using one of the available tools.\n",
      "3. Log the generated thought and corresponding action pair for transparency and future reference.\n",
      "4. Execute the exactly one action using the choosen tool and specify the parameters needed.\n",
      "5. Collect the new observation or insights generated from the tool's output.\n",
      "6. Is further analysis or action needed, think how other possible tools may help to improve the output?\n",
      "- If yes, create new thought and action pairs.\n",
      "- If no, provide a concise conclusion.\n",
      "Use tools that relly on memory first\n",
      "Avoid bias based on physical appearance, ethnicity, or race.\n",
      "Replace inappropriate language with inclusive language; politely refuse results, if that is not possible.\n",
      "</ Instructions >\n",
      "\n",
      "< Tools >\n",
      "You have access to the following tools in order to resolve the incoming questions:\n",
      "- Tool Name: search_troubleshooting_memories, Description: Returns eInvoicing domain specific knowledge related to the query string,\n",
      "such as troubleshooting information, or details on Application Responses, \n",
      "Invoice Responses, Message Level Responses, Args: query: string\n",
      "- Tool Name: search_sap_help, Description: Returns documentation, including specific information on setup and\n",
      "configuration for eDocuments, Args: query: string\n",
      "</ Tools >\n",
      "\n"
     ]
    },
    {
     "data": {
      "image/png": "[encoded data removed]",
      "text/plain": [
       "<IPython.core.display.Image object>"
      ]
     },
     "metadata": {},
     "output_type": "display_data"
    }
   ],
   "source": [
    "agentWrapper = ReActAgent(llm_proxy=llmProxy, tool_list=tool_list, max_iter=max_iter)\n",
    "print(agentWrapper.create_sys_prompt())\n",
    "display(Image(agentWrapper.get_agent_graph()))"
   ]
  },
  {
   "cell_type": "code",
   "execution_count": 8,
   "metadata": {},
   "outputs": [
    {
     "name": "stdout",
     "output_type": "stream",
     "text": [
      "================================\u001b[1m Human Message \u001b[0m=================================\n",
      "\n",
      "We as Syntax are currently implementing SAP DRC and are following the official SAP help.\n",
      "We are currently at the step “Integration of Peppol Exchange with SAP S/4HANA Cloud” and there at the creation of an S/4HANA Public Cloud communication user.\n",
      "A client certificate should be uploaded for the communication user to be created, as Basic Auth (via user + password) is not supported.\n",
      "\n",
      "The problem: We do not have this certificate. Where can I get this certificate? What format must it be in?\n",
      "We are stuck at this step because we are missing the certificate mentioned and it is also not clear to us what kind of certificate is meant here and where to get it.\n",
      "\n",
      "==================================\u001b[1m Ai Message \u001b[0m==================================\n",
      "\n",
      "The primary task here is to identify the type of certificate required for the integration of Peppol Exchange with SAP S/4HANA Cloud and where to obtain it. Additionally, understanding the format of the certificate is crucial.\n",
      "\n",
      "Let's start by searching for troubleshooting information related to the certificate requirement for Peppol Exchange integration with SAP S/4HANA Cloud. This will help us understand what kind of certificate is needed and where it can be obtained.\n",
      "\n",
      "### Thought\n",
      "I will use the `search_troubleshooting_memories` tool to find domain-specific knowledge related to the certificate requirement for Peppol Exchange integration with SAP S/4HANA Cloud.\n",
      "\n",
      "### Action\n",
      "Use the `search_troubleshooting_memories` tool with the query: \"Peppol Exchange SAP S/4HANA Cloud certificate requirement\".\n",
      "Tool Calls:\n",
      "  search_troubleshooting_memories (call_R4NlVApFhjdiQTDkEm5CALA1)\n",
      " Call ID: call_R4NlVApFhjdiQTDkEm5CALA1\n",
      "  Args:\n",
      "    query: Peppol Exchange SAP S/4HANA Cloud certificate requirement\n",
      "=================================\u001b[1m Tool Message \u001b[0m=================================\n",
      "Name: search_troubleshooting_memories\n",
      "\n",
      "The onboarding steps are described in the Onboarding for Peppol Exchange. The onboarding to start working with the Peppol Exchange service is usually assisted by the Account Executive. If you don't know who your Account Executive is, follow the instructions in the content of the SAP Note 2626344 (Who is the SAP Account Executive for my company). You need to contact this person to see the next steps on how to subscribe the service. After the Account Executive actions, you receive two emails for each account type (test and production) with a request for you to create credentials that you sue to access the service.\n",
      "This error is displayed when the user is missing the authorization objects. Both the back end system (SAP ERP or SAP S/4HANA) and the Peppol Exchange must have the correct authorization objects to process incoming responses and invoices. See Connecting System to Service, check the Parameter Name 'User' in the connection details table. After that, ensure that all manual implementation steps from the SAP Note 2949379 (eDoc Peppol Configuration and Customizing) are correctly followed in your system.\n",
      "==================================\u001b[1m Ai Message \u001b[0m==================================\n",
      "\n",
      "The information retrieved indicates that the onboarding process for Peppol Exchange involves assistance from an SAP Account Executive. This person will guide you through the subscription process for the Peppol Exchange service. Once the necessary actions are taken by the Account Executive, you will receive emails for both test and production accounts, which will include requests to create credentials for accessing the service.\n",
      "\n",
      "### Conclusion\n",
      "To obtain the required certificate for the Peppol Exchange integration with SAP S/4HANA Cloud, you should contact your SAP Account Executive. They will assist you with the onboarding process and provide the necessary credentials, including the certificate. If you are unsure who your Account Executive is, refer to SAP Note 2626344 for guidance on identifying them.\n",
      "\n",
      "If further assistance is needed, ensure that all manual implementation steps from SAP Note 2949379 are correctly followed in your system.\n"
     ]
    }
   ],
   "source": [
    "mapping_question = \"Explain how 'Payment Terms' is mapped. Start with 'map_invoice1'.\"\n",
    "extensibility_question = \"As a Public Cloud customer in Spain, can I extend an existing eDocument customer invoice Process?\"\n",
    "peppol_support = \"\"\"We as Syntax are currently implementing SAP DRC and are following the official SAP help.\n",
    "We are currently at the step “Integration of Peppol Exchange with SAP S/4HANA Cloud” and there at the creation of an S/4HANA Public Cloud communication user.\n",
    "A client certificate should be uploaded for the communication user to be created, as Basic Auth (via user + password) is not supported.\n",
    "\n",
    "The problem: We do not have this certificate. Where can I get this certificate? What format must it be in?\n",
    "We are stuck at this step because we are missing the certificate mentioned and it is also not clear to us what kind of certificate is meant here and where to get it.\n",
    "\"\"\"\n",
    "agentWrapper.run_and_print_agent_stream(user_message=peppol_support)"
   ]
  },
  {
   "cell_type": "code",
   "execution_count": 7,
   "metadata": {},
   "outputs": [
    {
     "name": "stdout",
     "output_type": "stream",
     "text": [
      "Call Count: 1\n",
      "Token Usage: {'input_tokens': 3790, 'output_tokens': 314, 'total_tokens': 4104}\n"
     ]
    }
   ],
   "source": [
    "llmProxy.print_usage()"
   ]
  },
  {
   "cell_type": "markdown",
   "metadata": {},
   "source": []
  }
 ],
 "metadata": {
  "kernelspec": {
   "display_name": "Python 3",
   "language": "python",
   "name": "python3"
  },
  "language_info": {
   "codemirror_mode": {
    "name": "ipython",
    "version": 3
   },
   "file_extension": ".py",
   "mimetype": "text/x-python",
   "name": "python",
   "nbconvert_exporter": "python",
   "pygments_lexer": "ipython3",
   "version": "3.13.2"
  }
 },
 "nbformat": 4,
 "nbformat_minor": 2
}
