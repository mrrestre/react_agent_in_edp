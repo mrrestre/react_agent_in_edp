{
 "cells": [
  {
   "cell_type": "code",
   "execution_count": 1,
   "metadata": {},
   "outputs": [],
   "source": [
    "from IPython.display import Image, display\n",
    "\n",
    "from react_agent.src.agents.react_agent import ReActAgent\n",
    "\n",
    "from react_agent.src.agent_tools.sap_help_searcher import SapHelpSearcher\n",
    "from react_agent.src.agent_tools.troubleshooting_searcher import TroubleshootingSearcher\n",
    "\n",
    "from react_agent.src.util.llm_proxy import LLMProxy\n",
    "from react_agent.src.util.long_term_mem_manager import PostgresMemoryManager, InMemoryManager\n",
    "\n",
    "from react_agent.src.scripts import load_troubleshooting_memory, load_troubleshooting_postgres"
   ]
  },
  {
   "cell_type": "code",
   "execution_count": 2,
   "metadata": {},
   "outputs": [],
   "source": [
    "USE_IN_MEMORY_STORE = False\n",
    "WITH_ML_FLOW = False"
   ]
  },
  {
   "cell_type": "code",
   "execution_count": 3,
   "metadata": {},
   "outputs": [],
   "source": [
    "# Load the initial troubleshooting memories to the long term memory store\n",
    "if USE_IN_MEMORY_STORE:\n",
    "    longterm_mem_manager = InMemoryManager()\n",
    "    load_troubleshooting_memory.load_memories(longterm_mem_manager)\n",
    "else:\n",
    "    longterm_mem_manager = PostgresMemoryManager()\n",
    "    load_troubleshooting_postgres.load_memories(longterm_mem_manager)"
   ]
  },
  {
   "cell_type": "code",
   "execution_count": 4,
   "metadata": {},
   "outputs": [],
   "source": [
    "if(WITH_ML_FLOW):\n",
    "    import mlflow\n",
    "    # poetry run mlflow server --host 127.0.0.1 --port 8080\n",
    "    mlflow.set_tracking_uri(uri=\"http://localhost:8080\")\n",
    "    mlflow.set_experiment(\"Testing of email ReAct Agent\")\n",
    "\n",
    "    mlflow.langchain.autolog()"
   ]
  },
  {
   "cell_type": "code",
   "execution_count": 5,
   "metadata": {},
   "outputs": [],
   "source": [
    "tool_list = []\n",
    "\n",
    "tool_list.append(TroubleshootingSearcher())\n",
    "tool_list.append(SapHelpSearcher())"
   ]
  },
  {
   "cell_type": "code",
   "execution_count": 6,
   "metadata": {},
   "outputs": [],
   "source": [
    "agent = ReActAgent(tool_list=tool_list)\n",
    "#print(agent.create_sys_prompt())\n",
    "#display(Image(agent.get_agent_graph()))"
   ]
  },
  {
   "cell_type": "code",
   "execution_count": 7,
   "metadata": {},
   "outputs": [
    {
     "name": "stdout",
     "output_type": "stream",
     "text": [
      "================================\u001b[1m Human Message \u001b[0m=================================\n",
      "\n",
      "We as Syntax are currently implementing SAP DRC and are following the official SAP help.\n",
      "We are currently at the step “Integration of Peppol Exchange with SAP S/4HANA Cloud” and there at the creation of an S/4HANA Public Cloud communication user.\n",
      "A client certificate should be uploaded for the communication user to be created, as Basic Auth (via user + password) is not supported.\n",
      "\n",
      "The problem: We do not have this certificate. Where can I get this certificate? What format must it be in?\n",
      "We are stuck at this step because we are missing the certificate mentioned and it is also not clear to us what kind of certificate is meant here and where to get it.\n",
      "\n",
      "==================================\u001b[1m Ai Message \u001b[0m==================================\n",
      "\n",
      "Observation: The primary task is to identify where to obtain the client certificate required for the integration of Peppol Exchange with SAP S/4HANA Cloud, and to understand the format of the certificate.\n",
      "\n",
      "Thought: To address this issue, I will search for relevant information in the SAP help documentation to find details about obtaining and formatting the client certificate for SAP S/4HANA Cloud communication user.\n",
      "\n",
      "Action: Use the `search_sap_help` tool to find documentation related to obtaining and formatting the client certificate for SAP S/4HANA Cloud communication user.\n",
      "\n",
      "Executing the action:\n",
      "Tool Calls:\n",
      "  search_sap_help (call_IxbekM2uia4WeUW3B4B6QUw0)\n",
      " Call ID: call_IxbekM2uia4WeUW3B4B6QUw0\n",
      "  Args:\n",
      "    query: client certificate SAP S/4HANA Cloud communication user Peppol Exchange\n",
      "=================================\u001b[1m Tool Message \u001b[0m=================================\n",
      "Name: search_sap_help\n",
      "\n",
      "Error: ToolException('Query must contain at most 5 words.')\n",
      " Please fix your mistakes.\n",
      "==================================\u001b[1m Ai Message \u001b[0m==================================\n",
      "\n",
      "Observation: The query was too long for the `search_sap_help` tool.\n",
      "\n",
      "Thought: I need to refine the query to focus on the key terms related to the client certificate for SAP S/4HANA Cloud communication user.\n",
      "\n",
      "Action: Use the `search_sap_help` tool with a refined query focusing on \"client certificate SAP S/4HANA Cloud\".\n",
      "\n",
      "Executing the action:\n",
      "Tool Calls:\n",
      "  search_sap_help (call_1qSEodYVVn2czMfEZq0TXLBn)\n",
      " Call ID: call_1qSEodYVVn2czMfEZq0TXLBn\n",
      "  Args:\n",
      "    query: client certificate SAP S/4HANA Cloud\n",
      "=================================\u001b[1m Tool Message \u001b[0m=================================\n",
      "Name: search_sap_help\n",
      "\n",
      "The articles provide detailed guidance on managing client certificates within SAP S/4HANA Cloud, specifically focusing on secure communications with SAP Cloud Integration and SAP Ariba Cloud Integration Gateway. Key technical information includes:\n",
      "\n",
      "- **Importing Certificates into SAP S/4HANA Utilities:**\n",
      "  - Use transaction `STRUST` to import trusted certificates.\n",
      "  - Navigate to SSL client SSL Client (Anonymous) directory for certificate import.\n",
      "  - Authorization required: S_RZL_ADM with `1` in the Activity field.\n",
      "  - Refresh cache using transaction `SMICM`.\n",
      "\n",
      "- **Preparation for SAP S/4HANA Integration:**\n",
      "  - Create a Personal Security Environment (PSE) for certificate-based authentication.\n",
      "  - Map client certificates to technical users for authentication.\n",
      "  - Export SAP S/4HANA public certificates for sender system authentication.\n",
      "\n",
      "- **Support for Certificate-based Authentication with SAP Ariba:**\n",
      "  - Enables authentication between SAP Ariba Cloud Integration Gateway and SAP S/4HANA using public client certificates.\n",
      "  - Applicable for SAP S/4HANA 2021 FPS01.\n",
      "\n",
      "- **Obtaining Client Certificates from SAP Cloud Integration:**\n",
      "  - Access the Web UI of SAP Cloud Integration to obtain client certificates.\n",
      "  - Use DER encoded binary X.509 format for certificates.\n",
      "\n",
      "These articles collectively emphasize the importance of client certificates in ensuring secure communication and authentication between SAP S/4HANA Cloud and integrated systems, providing procedural steps and necessary authorizations for effective implementation.\n",
      "==================================\u001b[1m Ai Message \u001b[0m==================================\n",
      "\n",
      "Observation: The SAP help documentation provides detailed guidance on managing client certificates within SAP S/4HANA Cloud, including importing certificates, preparing for integration, and obtaining client certificates from SAP Cloud Integration.\n",
      "\n",
      "Conclusion: To obtain the client certificate for SAP S/4HANA Cloud communication user, you should access the Web UI of SAP Cloud Integration. The certificate should be in DER encoded binary X.509 format. Additionally, you may need to create a Personal Security Environment (PSE) for certificate-based authentication and map client certificates to technical users for authentication. If further assistance is needed, consider reaching out to SAP support or consulting with your SAP implementation partner.\n"
     ]
    }
   ],
   "source": [
    "mapping_question = \"Explain how 'Payment Terms' is mapped. Start with 'map_invoice1'.\"\n",
    "extensibility_question = \"As a Public Cloud customer in Spain, can I extend an existing eDocument customer invoice Process?\"\n",
    "peppol_support = \"\"\"We as Syntax are currently implementing SAP DRC and are following the official SAP help.\n",
    "We are currently at the step “Integration of Peppol Exchange with SAP S/4HANA Cloud” and there at the creation of an S/4HANA Public Cloud communication user.\n",
    "A client certificate should be uploaded for the communication user to be created, as Basic Auth (via user + password) is not supported.\n",
    "\n",
    "The problem: We do not have this certificate. Where can I get this certificate? What format must it be in?\n",
    "We are stuck at this step because we are missing the certificate mentioned and it is also not clear to us what kind of certificate is meant here and where to get it.\n",
    "\"\"\"\n",
    "agent.run_and_print_agent_stream(user_message=peppol_support)"
   ]
  },
  {
   "cell_type": "code",
   "execution_count": 8,
   "metadata": {},
   "outputs": [
    {
     "name": "stdout",
     "output_type": "stream",
     "text": [
      "Call Count: 1\n",
      "Token Usage: {'input_tokens': 1881, 'output_tokens': 302, 'total_tokens': 2183}\n"
     ]
    }
   ],
   "source": [
    "LLMProxy().print_usage()"
   ]
  },
  {
   "cell_type": "markdown",
   "metadata": {},
   "source": []
  }
 ],
 "metadata": {
  "kernelspec": {
   "display_name": "react-agent-CUxtcVGL-py3.13",
   "language": "python",
   "name": "python3"
  },
  "language_info": {
   "codemirror_mode": {
    "name": "ipython",
    "version": 3
   },
   "file_extension": ".py",
   "mimetype": "text/x-python",
   "name": "python",
   "nbconvert_exporter": "python",
   "pygments_lexer": "ipython3",
   "version": "3.13.2"
  }
 },
 "nbformat": 4,
 "nbformat_minor": 2
}
