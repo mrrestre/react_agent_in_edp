{
 "cells": [
  {
   "cell_type": "code",
   "execution_count": 1,
   "id": "bb3e5884",
   "metadata": {},
   "outputs": [],
   "source": [
    "# Setup\n",
    "from langchain_mcp_adapters.client import MultiServerMCPClient\n",
    "\n",
    "from langgraph.prebuilt import create_react_agent\n",
    "\n",
    "from react_agent.src.util.llm_proxy import LLMProxy"
   ]
  },
  {
   "cell_type": "code",
   "execution_count": 2,
   "id": "814702db",
   "metadata": {},
   "outputs": [],
   "source": [
    "multiServerClientConfig = {\n",
    "    \"weather\": {\n",
    "            # make sure you start your weather server on port 8000\n",
    "            \"url\": \"http://localhost:8000/sse\",\n",
    "            \"transport\": \"sse\",\n",
    "    }\n",
    "}"
   ]
  },
  {
   "cell_type": "code",
   "execution_count": 3,
   "id": "18917685",
   "metadata": {},
   "outputs": [
    {
     "name": "stdout",
     "output_type": "stream",
     "text": [
      "================================\u001b[1m Human Message \u001b[0m=================================\n",
      "\n",
      "How do I find out the certificate needed for the Peppol network?\n",
      "==================================\u001b[1m Ai Message \u001b[0m==================================\n",
      "Tool Calls:\n",
      "  documentation_retriever (call_F52pMKb0NXPOBNLHSBWXQ3nP)\n",
      " Call ID: call_F52pMKb0NXPOBNLHSBWXQ3nP\n",
      "  Args:\n",
      "    query: Peppol network certificate\n",
      "=================================\u001b[1m Tool Message \u001b[0m=================================\n",
      "Name: documentation_retriever\n",
      "\n",
      "The articles provide detailed guidance on configuring logical ports and related settings for communication between business systems and SAP Document and Reporting Compliance, particularly in the context of electronic document exchange via the Peppol network. Key technical aspects include:\n",
      "\n",
      "- **Logical Ports Configuration**: Essential for enabling HTML display of invoices, requiring the setup of the CO_DCS_DCP_GENERIC_WEBSERVICE proxy to connect business systems to SAP's cloud services.\n",
      "- **Proxy and Logical Port Names**: Specific proxy and logical port names, such as CO_DCS_DCP_GENERIC_WEBSERVICE and EDO_EU_GENERIC_WEBSERV, are crucial for configuration.\n",
      "- **SOA Services**: Service-Oriented Architecture (SOA) services are necessary for communication between business systems and SAP's cloud edition, with logical ports assigned to these services.\n",
      "- **Interface Type Definition**: For each company code and eDocument type, defining the interface type is necessary for generating and sending eDocuments to the access point.\n",
      "- **Peppol Network Identification**: Companies must maintain identification details like Global Location Numbers (GLN) or VAT numbers for Peppol network registration.\n",
      "- **Customizing Activities**: Various customizing activities are required to ensure seamless electronic document processing and communication, including defining process steps, mapping classes, and interface versions.\n",
      "\n",
      "These configurations are integral to ensuring that electronic documents are correctly processed and transmitted within the Peppol network, facilitating compliance and efficient document exchange.\n",
      "==================================\u001b[1m Ai Message \u001b[0m==================================\n",
      "\n",
      "To find out the certificate needed for the Peppol network, you should focus on the following aspects:\n",
      "\n",
      "1. **Logical Ports Configuration**: Set up logical ports for communication between business systems and SAP Document and Reporting Compliance. This includes configuring proxies like CO_DCS_DCP_GENERIC_WEBSERVICE.\n",
      "\n",
      "2. **SOA Services**: Utilize Service-Oriented Architecture (SOA) services for communication with SAP's cloud edition, ensuring logical ports are correctly assigned.\n",
      "\n",
      "3. **Peppol Network Identification**: Maintain identification details such as Global Location Numbers (GLN) or VAT numbers for Peppol network registration.\n",
      "\n",
      "4. **Customizing Activities**: Perform necessary customizing activities to ensure seamless electronic document processing and communication, including defining process steps and mapping classes.\n",
      "\n",
      "These steps are crucial for ensuring compliance and efficient document exchange within the Peppol network.\n"
     ]
    }
   ],
   "source": [
    "async with MultiServerMCPClient( multiServerClientConfig) as client:\n",
    "    # Initialize the Language Model (using your LLMProxy)\n",
    "    llm = LLMProxy().get_llm()\n",
    "\n",
    "    # Create the ReAct agent\n",
    "    agent = create_react_agent(model=llm, tools=client.get_tools())\n",
    "\n",
    "    # Define the input query for the agent\n",
    "    # query = \"How does the class 'cl_edoc_map_aif' unpacks interfaces?\"\n",
    "    query = \"How do I find out the certificate needed for the Peppol network?\"\n",
    "    \n",
    "    input_object = {\"messages\": [(\"user\", query)]}\n",
    "\n",
    "    async for output in agent.astream(input=input_object, stream_mode=\"values\"):\n",
    "        message = output[\"messages\"][-1]\n",
    "        if isinstance(message, tuple):\n",
    "            print(message)\n",
    "        else:\n",
    "            message.pretty_print()"
   ]
  }
 ],
 "metadata": {
  "kernelspec": {
   "display_name": "react-agent-CUxtcVGL-py3.13",
   "language": "python",
   "name": "python3"
  },
  "language_info": {
   "codemirror_mode": {
    "name": "ipython",
    "version": 3
   },
   "file_extension": ".py",
   "mimetype": "text/x-python",
   "name": "python",
   "nbconvert_exporter": "python",
   "pygments_lexer": "ipython3",
   "version": "3.13.2"
  }
 },
 "nbformat": 4,
 "nbformat_minor": 5
}
