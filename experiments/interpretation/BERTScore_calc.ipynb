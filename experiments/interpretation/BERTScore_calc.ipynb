{
    "cells": [
        {
            "cell_type": "code",
            "execution_count": 1,
            "id": "be308693",
            "metadata": {},
            "outputs": [],
            "source": [
                "import os\n",
                "import pandas as pd\n",
                "import json\n",
                "\n",
                "from experiments.interpretation.interpretation_util import (\n",
                "    ExperimentFiles,\n",
                "    ExperimentFolders,\n",
                ")\n",
                "from evaluation_metrics.bert_score import BertScore"
            ]
        },
        {
            "cell_type": "code",
            "execution_count": 2,
            "id": "a86dec22",
            "metadata": {},
            "outputs": [],
            "source": [
                "notebook_dir = os.path.abspath(\"\")\n",
                "\n",
                "file_path = os.path.abspath(\n",
                "    os.path.join(\n",
                "        notebook_dir,\n",
                "        \"..\",\n",
                "        \"results\",\n",
                "        \"experiments\",\n",
                "        ExperimentFolders.O3,\n",
                "        ExperimentFiles.ALL_TOOLS_MCP_SEQ,\n",
                "    )\n",
                ")\n",
                "\n",
                "result_path = os.path.join(\n",
                "    notebook_dir,\n",
                "    \"..\",\n",
                "    \"results\",\n",
                "    \"experiments\",\n",
                "    ExperimentFolders.O3,\n",
                "    \"all_tools_mcp_seq_new_bert.json\",\n",
                ")\n",
                "\n",
                "\n",
                "# Load JSON data (as list of dicts)\n",
                "with open(file_path) as f:\n",
                "    data = json.load(f)\n",
                "\n",
                "df = pd.DataFrame(data)"
            ]
        },
        {
            "cell_type": "code",
            "execution_count": null,
            "id": "dea362d3",
            "metadata": {},
            "outputs": [],
            "source": [
                "# Iteratate through each row in the DataFrame\n",
                "for index, row in df.iterrows():\n",
                "    bert_score = BertScore.compute_score(\n",
                "        expected_response=row.answer, actual_response=row.generated_answer\n",
                "    )\n",
                "\n",
                "    df.at[index, \"bert_score\"] = bert_score.RECALL"
            ]
        },
        {
            "cell_type": "code",
            "execution_count": 4,
            "id": "74ddf025",
            "metadata": {},
            "outputs": [],
            "source": [
                "# Append the new row to json file\n",
                "with open(result_path, \"w\") as f:\n",
                "    json.dump(df.to_dict(orient=\"records\"), f, indent=4)"
            ]
        }
    ],
    "metadata": {
        "kernelspec": {
            "display_name": "react-agent-py3.13",
            "language": "python",
            "name": "python3"
        },
        "language_info": {
            "codemirror_mode": {
                "name": "ipython",
                "version": 3
            },
            "file_extension": ".py",
            "mimetype": "text/x-python",
            "name": "python",
            "nbconvert_exporter": "python",
            "pygments_lexer": "ipython3",
            "version": "3.13.4"
        }
    },
    "nbformat": 4,
    "nbformat_minor": 5
}