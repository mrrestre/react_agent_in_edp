{
 "cells": [
  {
   "cell_type": "code",
   "execution_count": null,
   "id": "0365652c",
   "metadata": {},
   "outputs": [
    {
     "name": "stdout",
     "output_type": "stream",
     "text": [
      "['EA-1', 'EA-2', 'EA-3', 'EA-4', 'EA-5', 'EA-6', 'EA-7', 'EA-9', 'EA-10', 'EA-11', 'EA-12', 'EA-13', 'EA-14', 'EA-15', 'EA-16', 'EA-18', 'EA-19', 'EA-20', 'EA-21', 'EA-22', 'EA-24', 'EA-26', 'EA-27', 'EA-28', 'EA-29', 'EA-30', 'EA-32', 'EA-33', 'EA-34', 'EA-35', 'EA-36', 'EA-39', 'EA-40', 'EA-41', 'EA-42', 'EA-43', 'EA-44', 'EA-45', 'EA-48', 'EA-49', 'EA-50', 'EA-51', 'EA-52', 'EA-53', 'EA-54', 'EA-55', 'EA-56', 'MS-2', 'MS-5', 'PS-1', 'PS-2', 'PS-3', 'PS-4', 'PS-5', 'PS-8', 'STC-1', 'STC-2', 'STC-3', 'STC-4', 'STC-5', 'STC-7', 'STC-9', 'STC-10', 'STC-12', 'STC-13', 'STC-14', 'STC-15', 'STC-16', 'STC-17', 'STC-18', 'STC-19', 'STC-20', 'STC-21']\n"
     ]
    }
   ],
   "source": [
    "import json\n",
    "import os\n",
    "\n",
    "notebook_dir = os.path.abspath(\"\")\n",
    "file_path = os.path.join(notebook_dir, \"16062025\", \"192324_results.json\")\n",
    "\n",
    "with open(file_path, \"r\", encoding=\"utf-8\") as f:\n",
    "    data = json.load(f)\n",
    "\n",
    "ids = [obj.get(\"id\") for obj in data if \"id\" in obj and isinstance(obj[\"id\"], str)]\n",
    "\n",
    "print(ids)"
   ]
  }
 ],
 "metadata": {
  "kernelspec": {
   "display_name": "react-agent-CUxtcVGL-py3.13",
   "language": "python",
   "name": "python3"
  },
  "language_info": {
   "codemirror_mode": {
    "name": "ipython",
    "version": 3
   },
   "file_extension": ".py",
   "mimetype": "text/x-python",
   "name": "python",
   "nbconvert_exporter": "python",
   "pygments_lexer": "ipython3",
   "version": "3.13.4"
  }
 },
 "nbformat": 4,
 "nbformat_minor": 5
}
