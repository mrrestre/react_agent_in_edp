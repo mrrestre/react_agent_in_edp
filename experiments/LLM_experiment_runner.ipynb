{
 "cells": [
  {
   "cell_type": "code",
   "execution_count": null,
   "metadata": {},
   "outputs": [],
   "source": [
    "import os\n",
    "import json\n",
    "import time\n",
    "\n",
    "from datetime import datetime\n",
    "\n",
    "from tqdm.notebook import tqdm\n",
    "\n",
    "from react_agent.src.util.llm_proxy import LLM_PROXY\n",
    "from react_agent.src.util.tools_fabric import ToolsFabric\n",
    "\n",
    "from react_agent.src.config.system_parameters import TriageSettings\n",
    "\n",
    "from experiments.models.experiment_models import LabeledQAPairFacts, ExperimentResult\n",
    "from experiments.metrics.fact_score.fact_scorer import FactScorer\n",
    "from experiments.metrics.bert_score import BertScore\n",
    "from experiments.metrics.agent_judge import AgentJudgeEvaluator"
   ]
  },
  {
   "cell_type": "code",
   "execution_count": null,
   "metadata": {},
   "outputs": [],
   "source": [
    "import warnings\n",
    "\n",
    "warnings.filterwarnings(\"ignore\")"
   ]
  },
  {
   "cell_type": "code",
   "execution_count": null,
   "metadata": {},
   "outputs": [],
   "source": [
    "LLM_TO_USE = \"gpt-4.1\"\n",
    "AGENT_JUDGE_MODEL = \"anthropic--claude-3.5-sonnet\"\n",
    "\n",
    "fact_scorer = FactScorer()\n",
    "path_to_source_data = \"./resources/02_facts/\"\n",
    "\n",
    "date_str = datetime.now().strftime(\"%d%m%Y\")\n",
    "path_to_results = f\"./results/{date_str}\"\n",
    "\n",
    "if not os.path.exists(path_to_results):\n",
    "    os.makedirs(path_to_results)\n",
    "\n",
    "time_str = datetime.now().strftime(\"%H%M%S\")\n",
    "\n",
    "result_file_name = f\"{path_to_results}/{time_str}_results.json\"\n",
    "failed_experiments_file_name = f\"{path_to_results}/{time_str}_failed_experiments.json\""
   ]
  },
  {
   "cell_type": "code",
   "execution_count": null,
   "metadata": {},
   "outputs": [],
   "source": [
    "file_path = os.path.abspath(path_to_source_data + \"data_set_facts.json\")\n",
    "\n",
    "with open(file_path, encoding=\"utf8\") as f:\n",
    "    data = json.load(f)\n",
    "    data_set = [LabeledQAPairFacts(**item) for item in data]"
   ]
  },
  {
   "cell_type": "code",
   "execution_count": null,
   "metadata": {},
   "outputs": [],
   "source": [
    "data_set_for_experiment = data_set"
   ]
  },
  {
   "cell_type": "code",
   "execution_count": null,
   "metadata": {},
   "outputs": [],
   "source": [
    "async def run_experiment(data_row):\n",
    "    result = ExperimentResult(\n",
    "        id=data_row.id,\n",
    "        question=data_row.question,\n",
    "        answer=data_row.answer,\n",
    "        product=data_row.product,\n",
    "        category=data_row.category,\n",
    "        persona=data_row.persona,\n",
    "        activity=data_row.activity,\n",
    "        country=data_row.country,\n",
    "    )\n",
    "    print(f\"Processing question with id: {data_row.id}\")\n",
    "\n",
    "    tools = ToolsFabric.get_tools_for_category(\n",
    "        use_mcp=False,\n",
    "        configuration=TriageSettings.Categories.ALL,\n",
    "    )\n",
    "\n",
    "    print(\"\\tAsking LLM question...\")\n",
    "\n",
    "    LLM_PROXY.set_new_model(LLM_TO_USE)\n",
    "\n",
    "    run_start_time = time.perf_counter()\n",
    "    llm_response = LLM_PROXY.invoke(input=data_row.question)\n",
    "    run_end_time = time.perf_counter()\n",
    "\n",
    "    result.tools_used = None\n",
    "    result.tool_calls_count = 0\n",
    "    result.excecution_time_seconds = run_end_time - run_start_time\n",
    "    result.model_used = LLM_TO_USE\n",
    "    result.tokens_consumed = LLM_PROXY.get_token_usage()\n",
    "    result.llm_call_count = LLM_PROXY.get_call_count()\n",
    "    result.facts = data_row.facts\n",
    "    result.generated_answer = llm_response\n",
    "\n",
    "    print(\"\\tFinished agent execution\")\n",
    "\n",
    "    print(\"\\tCalculating FactScore...\")\n",
    "    result.fact_score = await fact_scorer.get_fact_score(\n",
    "        facts=data_row.facts,\n",
    "        knowledge_source=result.generated_answer,\n",
    "    )\n",
    "\n",
    "    print(\"\\tCalculating BERTScore...\")\n",
    "    result.bert_score = BertScore.compute_score(\n",
    "        expected_response=data_row.answer, actual_response=result.generated_answer\n",
    "    )\n",
    "\n",
    "    print(\"\\tEvaluating agent response with Agent as a Judge...\")\n",
    "    result.agent_judge_model = AGENT_JUDGE_MODEL\n",
    "    agent_evaluator = AgentJudgeEvaluator(model=AGENT_JUDGE_MODEL)\n",
    "\n",
    "    try:\n",
    "        agent_judge_outcome = agent_evaluator.evaluate(\n",
    "            question=data_row.question,\n",
    "            expert_answer=data_row.answer,\n",
    "            generated_answer=result.generated_answer,\n",
    "        )\n",
    "    except Exception as e:\n",
    "        print(f\"\\tAn error occurred during agent evaluation: {e}\")\n",
    "        print(\"\\t Trying to run evaluation again...\")\n",
    "        agent_judge_outcome = agent_evaluator.evaluate(\n",
    "            question=data_row.question,\n",
    "            expert_answer=data_row.answer,\n",
    "            generated_answer=result.generated_answer,\n",
    "        )\n",
    "\n",
    "    result.agent_judge_outcome = agent_judge_outcome.answer\n",
    "    result.agent_judge_reasoning = agent_judge_outcome.reasoning\n",
    "\n",
    "    result.agent_judge_call_count = agent_evaluator.get_llm_call_count()\n",
    "    result.agent_judge_tokens_consumed = agent_evaluator.get_token_consumption()\n",
    "\n",
    "    print(f\"\\tFinished experiment for id: {data_row.id}\\n\")\n",
    "\n",
    "    return result"
   ]
  },
  {
   "cell_type": "code",
   "execution_count": null,
   "metadata": {},
   "outputs": [],
   "source": [
    "experiment_results: list[ExperimentResult] = []"
   ]
  },
  {
   "cell_type": "code",
   "execution_count": null,
   "metadata": {},
   "outputs": [],
   "source": [
    "for data_row in tqdm(data_set_for_experiment, desc=\"Running cases\", unit=\"case\"):\n",
    "    if data_row.id in [result.id for result in experiment_results]:\n",
    "        print(f\"Skipping already processed id: {data_row.id}\")\n",
    "        continue\n",
    "    try:\n",
    "        result = await run_experiment(data_row)\n",
    "\n",
    "        experiment_results.append(result)\n",
    "    except Exception as e:\n",
    "        print(f\"Error processing id {data_row.id}: {e}\")"
   ]
  },
  {
   "cell_type": "code",
   "execution_count": null,
   "metadata": {},
   "outputs": [],
   "source": [
    "# Serialize experiment results to list of dicts\n",
    "import pandas as pd\n",
    "\n",
    "records = [r.model_dump(mode=\"json\") for r in experiment_results]\n",
    "# Make it a dataframe in order to flatten nested structures\n",
    "df = pd.json_normalize(records)\n",
    "\n",
    "df"
   ]
  },
  {
   "cell_type": "code",
   "execution_count": null,
   "metadata": {},
   "outputs": [],
   "source": [
    "# Convert to list of dictionaries (JSON objects)\n",
    "json_list = df.to_dict(orient=\"records\")\n",
    "\n",
    "with open(result_file_name, \"w\") as f:\n",
    "    json.dump(json_list, f, indent=2)"
   ]
  }
 ],
 "metadata": {
  "kernelspec": {
   "display_name": "react-agent-CUxtcVGL-py3.13",
   "language": "python",
   "name": "python3"
  },
  "language_info": {
   "codemirror_mode": {
    "name": "ipython",
    "version": 3
   },
   "file_extension": ".py",
   "mimetype": "text/x-python",
   "name": "python",
   "nbconvert_exporter": "python",
   "pygments_lexer": "ipython3",
   "version": "3.13.3"
  }
 },
 "nbformat": 4,
 "nbformat_minor": 2
}
