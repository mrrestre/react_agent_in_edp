{
 "cells": [
  {
   "cell_type": "code",
   "execution_count": 1,
   "id": "cccf2f50",
   "metadata": {},
   "outputs": [],
   "source": [
    "from experiments.util.fact_score.fact_scorer import FactScorer"
   ]
  },
  {
   "cell_type": "code",
   "execution_count": 2,
   "id": "9ac748f8",
   "metadata": {},
   "outputs": [
    {
     "name": "stdout",
     "output_type": "stream",
     "text": [
      "Fact Score: 0.16666666666666666\n"
     ]
    }
   ],
   "source": [
    "fact_scorer = FactScorer()\n",
    "\n",
    "facts = [\n",
    "    \"the sky is blue\",\n",
    "    \"the earth is flat\",\n",
    "    \"water is wet\",\n",
    "    \"the sun rises in the east\",\n",
    "    \"the moon is made of cheese\",\n",
    "    \"blue is a scientific fact\",\n",
    "]\n",
    "\n",
    "knowledge_source = \"The fact that the sky is blue is a well-known scientific fact.\"\n",
    "\n",
    "# output = await fact_scorer.classify_facts_in_context(facts=facts, knowledge_source=knowledge_source)\n",
    "\n",
    "# for result in output:\n",
    "#     print(f\"Fact: {result.fact}\")\n",
    "#     print(f\"Contained: {result.is_contained}\")\n",
    "#     print(f\"Reason: {result.reason}\")\n",
    "#     print(\"-\" * 40)\n",
    "\n",
    "fact_score = await fact_scorer.get_fact_score(facts=facts, knowledge_source=knowledge_source)\n",
    "print(f\"Fact Score: {fact_score}\")"
   ]
  }
 ],
 "metadata": {
  "kernelspec": {
   "display_name": "react-agent-CUxtcVGL-py3.13",
   "language": "python",
   "name": "python3"
  },
  "language_info": {
   "codemirror_mode": {
    "name": "ipython",
    "version": 3
   },
   "file_extension": ".py",
   "mimetype": "text/x-python",
   "name": "python",
   "nbconvert_exporter": "python",
   "pygments_lexer": "ipython3",
   "version": "3.13.2"
  }
 },
 "nbformat": 4,
 "nbformat_minor": 5
}
