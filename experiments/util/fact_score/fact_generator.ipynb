{
 "cells": [
  {
   "cell_type": "code",
   "execution_count": null,
   "id": "36ec4777",
   "metadata": {},
   "outputs": [],
   "source": [
    "import os\n",
    "import json\n",
    "\n",
    "from experiments.models.experiment_models import LabeledQAPair, LabeledQAPairFacts\n",
    "from experiments.fact_score.fact_generator import AtomicFactGenerator\n",
    "\n",
    "from pydantic_core import to_jsonable_python"
   ]
  },
  {
   "cell_type": "code",
   "execution_count": 2,
   "id": "a3b42b95",
   "metadata": {},
   "outputs": [
    {
     "name": "stdout",
     "output_type": "stream",
     "text": [
      "Loading file /Users/i589287/Documents/Repositories/master_thesis/experiments/resources/00_base/all_cases.json\n"
     ]
    }
   ],
   "source": [
    "filename = \"all_cases\"\n",
    "result_filename = f\"{filename}_facts\"\n",
    "\n",
    "notebook_dir = os.path.abspath(\"\")\n",
    "\n",
    "file_path = os.path.abspath(\n",
    "    os.path.join(notebook_dir, \"..\", \"..\", \"resources\", \"00_base\", f\"{filename}.json\")\n",
    ")\n",
    "\n",
    "file_path_result = os.path.abspath(\n",
    "    os.path.join(\n",
    "        notebook_dir, \"..\", \"..\", \"resources\", \"01_facts\", f\"{result_filename}.json\"\n",
    "    )\n",
    ")\n",
    "\n",
    "print(f\"Loading file {file_path}\")\n",
    "\n",
    "with open(file_path, \"r\") as file:\n",
    "    # Load the JSON data from the file\n",
    "    data = json.load(file)\n",
    "\n",
    "    # Parse the data using Pydantic model\n",
    "    articles = [LabeledQAPair(**item) for item in data]"
   ]
  },
  {
   "cell_type": "code",
   "execution_count": 3,
   "id": "b62d3a3c",
   "metadata": {},
   "outputs": [],
   "source": [
    "fact_generator = AtomicFactGenerator()\n",
    "data_set_facts: list[LabeledQAPairFacts] = []\n",
    "\n",
    "for article in articles:\n",
    "    atoms = await fact_generator.get_atomic_facts(\n",
    "        question=article.question, answer=article.answer, question_id=article.id\n",
    "    )\n",
    "    data_set_facts.append(LabeledQAPairFacts(**article.model_dump(), facts=atoms))"
   ]
  },
  {
   "cell_type": "code",
   "execution_count": 4,
   "id": "f38b703d",
   "metadata": {},
   "outputs": [],
   "source": [
    "with open(file_path_result, \"w\", encoding=\"utf8\") as f:\n",
    "    json.dump(\n",
    "        data_set_facts, f, ensure_ascii=False, indent=4, default=to_jsonable_python\n",
    "    )"
   ]
  }
 ],
 "metadata": {
  "kernelspec": {
   "display_name": "react-agent-CUxtcVGL-py3.13",
   "language": "python",
   "name": "python3"
  },
  "language_info": {
   "codemirror_mode": {
    "name": "ipython",
    "version": 3
   },
   "file_extension": ".py",
   "mimetype": "text/x-python",
   "name": "python",
   "nbconvert_exporter": "python",
   "pygments_lexer": "ipython3",
   "version": "3.13.3"
  }
 },
 "nbformat": 4,
 "nbformat_minor": 5
}
