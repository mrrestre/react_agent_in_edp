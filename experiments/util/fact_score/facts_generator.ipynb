{
 "cells": [
  {
   "cell_type": "code",
   "execution_count": 1,
   "id": "36ec4777",
   "metadata": {},
   "outputs": [],
   "source": [
    "import os\n",
    "import json\n",
    "\n",
    "from experiments.util.fact_score.atomic_facts import AtomicFactGenerator"
   ]
  },
  {
   "cell_type": "code",
   "execution_count": null,
   "id": "a3b42b95",
   "metadata": {},
   "outputs": [
    {
     "name": "stdout",
     "output_type": "stream",
     "text": [
      "Loading file /Users/i589287/Documents/Repositories/master_thesis/experiments/ressources/extensibility_assistance.json\n"
     ]
    }
   ],
   "source": [
    "filename = \"extensibility_assistance\"\n",
    "result_filename = f\"{filename}_facts\"\n",
    "\n",
    "notebook_dir = os.path.abspath(\"\")\n",
    "\n",
    "file_path = os.path.abspath(\n",
    "    os.path.join(notebook_dir, \"..\", \"..\", \"resources\", \"00_base\",  f\"{filename}.json\")\n",
    ")\n",
    "\n",
    "file_path_result = os.path.abspath(\n",
    "    os.path.join(notebook_dir, \"..\", \"..\", \"resources\", \"01_facts\" , f\"{result_filename}.json\")\n",
    ")\n",
    "\n",
    "print (f\"Loading file {file_path}\")\n",
    "\n",
    "with open(file_path, encoding=\"utf8\") as f:\n",
    "    json_file = json.load(f)"
   ]
  },
  {
   "cell_type": "code",
   "execution_count": 3,
   "id": "b62d3a3c",
   "metadata": {},
   "outputs": [],
   "source": [
    "fact_generator = AtomicFactGenerator()\n",
    "\n",
    "for article in json_file.get(\"cases\"):\n",
    "    golden_answer = article.get(\"answer\")\n",
    "\n",
    "    atoms = await fact_generator.get_atomic_facts(text=golden_answer)\n",
    "\n",
    "    article[\"facts\"] = atoms"
   ]
  },
  {
   "cell_type": "code",
   "execution_count": 4,
   "id": "f38b703d",
   "metadata": {},
   "outputs": [],
   "source": [
    "with open(file_path_result, \"w\", encoding=\"utf8\") as f:\n",
    "    json.dump(json_file, f, ensure_ascii=False, indent=4)"
   ]
  }
 ],
 "metadata": {
  "kernelspec": {
   "display_name": "react-agent-CUxtcVGL-py3.13",
   "language": "python",
   "name": "python3"
  },
  "language_info": {
   "codemirror_mode": {
    "name": "ipython",
    "version": 3
   },
   "file_extension": ".py",
   "mimetype": "text/x-python",
   "name": "python",
   "nbconvert_exporter": "python",
   "pygments_lexer": "ipython3",
   "version": "3.13.3"
  }
 },
 "nbformat": 4,
 "nbformat_minor": 5
}
