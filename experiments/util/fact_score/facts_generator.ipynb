{
 "cells": [
  {
   "cell_type": "code",
   "execution_count": 1,
   "id": "36ec4777",
   "metadata": {},
   "outputs": [],
   "source": [
    "from experiments.util.fact_score.atomic_facts import AtomicFactGenerator"
   ]
  },
  {
   "cell_type": "code",
   "execution_count": 2,
   "id": "f38b703d",
   "metadata": {},
   "outputs": [
    {
     "name": "stdout",
     "output_type": "stream",
     "text": [
      "You can enhance the generated XML.\n",
      "You can extend the generated XML.\n",
      "Enhancement or extension occurs before the XML is sent to the authorities.\n",
      "The method used is SET_OUTPUT_DATA.\n",
      "The method is part of BAdI EDOC_ADAPTOR_CLOUD.\n"
     ]
    }
   ],
   "source": [
    "golden_answer = \"Yes, you can enhance or extend the generated XML before it is sent to the authorities by the use of method SET_OUTPUT_DATA of BAdI EDOC_ADAPTOR_CLOUD.\"\n",
    "fact_generator = AtomicFactGenerator()\n",
    "\n",
    "atoms = await fact_generator.run(text=golden_answer)\n",
    "\n",
    "print(\"\\n\".join(atoms))"
   ]
  }
 ],
 "metadata": {
  "kernelspec": {
   "display_name": "react-agent-CUxtcVGL-py3.13",
   "language": "python",
   "name": "python3"
  },
  "language_info": {
   "codemirror_mode": {
    "name": "ipython",
    "version": 3
   },
   "file_extension": ".py",
   "mimetype": "text/x-python",
   "name": "python",
   "nbconvert_exporter": "python",
   "pygments_lexer": "ipython3",
   "version": "3.13.2"
  }
 },
 "nbformat": 4,
 "nbformat_minor": 5
}
