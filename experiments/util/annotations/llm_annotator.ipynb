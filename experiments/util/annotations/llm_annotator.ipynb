{
 "cells": [
  {
   "cell_type": "code",
   "execution_count": 1,
   "id": "6d763d1c",
   "metadata": {},
   "outputs": [],
   "source": [
    "import json\n",
    "import os\n",
    "\n",
    "from react_agent.src.util.llm_proxy import LLM_PROXY\n",
    "\n",
    "dimensions = [\n",
    "    \"product\",\n",
    "    \"category\",\n",
    "    \"source\",\n",
    "    \"persona\",\n",
    "    \"activity\",\n",
    "    \"country\",\n",
    "]\n",
    "\n",
    "notebook_dir = os.path.abspath(\"\")\n",
    "resources_dir = os.path.join(notebook_dir, \"resources\")\n",
    "\n",
    "labeled_set = os.path.join(resources_dir, \"labeled_set.json\")"
   ]
  },
  {
   "cell_type": "code",
   "execution_count": 2,
   "id": "0bf91a13",
   "metadata": {},
   "outputs": [],
   "source": [
    "prompt_template = \"\"\"## Role\n",
    "You are an expert in labeling questions in Electronic Document Processing, with deep domain knowledge in SAP Document and Reporting Compliance, Peppol, UBL, and eInvoicing standards.\n",
    "\n",
    "## Goal\n",
    "Your goal is to assign exactly one label to the question based on the provided dimension. The label should be the most relevant one that accurately describes the question.\n",
    "\n",
    "## Instructions\n",
    "Respond with the label only. Do not include any additional text or explanations.\n",
    "\n",
    "## Question\n",
    "{question}\n",
    "\n",
    "## Dimension\n",
    "{dimension}\n",
    "\"\"\""
   ]
  },
  {
   "cell_type": "code",
   "execution_count": 3,
   "id": "c89ed98d",
   "metadata": {},
   "outputs": [],
   "source": [
    "data_set_path = os.path.abspath(os.path.join(resources_dir, \"data_set.json\"))\n",
    "\n",
    "with open(data_set_path) as f:\n",
    "    data_set = json.load(f)"
   ]
  },
  {
   "cell_type": "code",
   "execution_count": 4,
   "id": "514cfe58",
   "metadata": {},
   "outputs": [],
   "source": [
    "def create_dimension_string(dimension: str) -> str:\n",
    "    response = \"\"\n",
    "    dimension_path = os.path.join(resources_dir, f\"{dimension}.json\")\n",
    "    with open(dimension_path) as f:\n",
    "        dimension = json.load(f)\n",
    "\n",
    "    for row in dimension:\n",
    "        response += f\"VALUE: {row[\"value\"]} \\tDESCRIPTION: {row[\"description\"]}\\n\"\n",
    "    return response"
   ]
  },
  {
   "cell_type": "code",
   "execution_count": null,
   "id": "468bd1ed",
   "metadata": {},
   "outputs": [],
   "source": [
    "for row in data_set:\n",
    "    for dimension in dimensions:\n",
    "        prompt = prompt_template.format(\n",
    "            question=row[\"question\"],\n",
    "            dimension=create_dimension_string(dimension),\n",
    "        )\n",
    "        dimension_label = LLM_PROXY.invoke(prompt)\n",
    "\n",
    "        row[dimension] = dimension_label"
   ]
  },
  {
   "cell_type": "code",
   "execution_count": 6,
   "id": "0c1979ca",
   "metadata": {},
   "outputs": [],
   "source": [
    "with open(labeled_set, \"w\") as f:\n",
    "    json.dump(data_set, f, indent=4)"
   ]
  }
 ],
 "metadata": {
  "kernelspec": {
   "display_name": "react-agent-CUxtcVGL-py3.13",
   "language": "python",
   "name": "python3"
  },
  "language_info": {
   "codemirror_mode": {
    "name": "ipython",
    "version": 3
   },
   "file_extension": ".py",
   "mimetype": "text/x-python",
   "name": "python",
   "nbconvert_exporter": "python",
   "pygments_lexer": "ipython3",
   "version": "3.13.3"
  }
 },
 "nbformat": 4,
 "nbformat_minor": 5
}
