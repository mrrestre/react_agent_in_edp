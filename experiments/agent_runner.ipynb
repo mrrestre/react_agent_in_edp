{
 "cells": [
  {
   "cell_type": "code",
   "execution_count": 1,
   "metadata": {},
   "outputs": [],
   "source": [
    "import os\n",
    "import json\n",
    "import random\n",
    "import pandas as pd\n",
    "\n",
    "from langchain_mcp_adapters.client import MultiServerMCPClient\n",
    "\n",
    "from react_agent.src.agents.react_agent import ReActAgent\n",
    "from react_agent.src.agents.triage import Triage\n",
    "\n",
    "from react_agent.src.util.tools_fabric import ToolsFabric\n",
    "\n",
    "from experiments.models.experiment_models import LabeledQAPairFacts, ExperimentResult\n",
    "from experiments.fact_score.fact_scorer import FactScorer"
   ]
  },
  {
   "cell_type": "code",
   "execution_count": 2,
   "metadata": {},
   "outputs": [],
   "source": [
    "USE_MCP = True\n",
    "DEBUG_MODE = False\n",
    "\n",
    "fact_scorer = FactScorer()\n",
    "path_to_ressources = \"./resources/02_facts/\"\n",
    "\n",
    "files = {\n",
    "    \"extensibility\": \"extensibility_assistance_facts.json\",\n",
    "    \"malaysia\": \"malaysia_support_facts.json\",\n",
    "    \"peppol\": \"peppol_support_facts.json\",\n",
    "    \"all\": \"all_cases_facts.json\",\n",
    "}"
   ]
  },
  {
   "cell_type": "code",
   "execution_count": 3,
   "metadata": {},
   "outputs": [],
   "source": [
    "file_path = os.path.abspath(path_to_ressources + files[\"all\"])\n",
    "\n",
    "\n",
    "with open(file_path, encoding=\"utf8\") as f:\n",
    "    data = json.load(f)\n",
    "    data_set = [LabeledQAPairFacts(**item) for item in data]"
   ]
  },
  {
   "cell_type": "code",
   "execution_count": 4,
   "metadata": {},
   "outputs": [],
   "source": [
    "# Select 3 random elements\n",
    "random_data_set = random.sample(data_set, 2)"
   ]
  },
  {
   "cell_type": "code",
   "execution_count": 5,
   "metadata": {},
   "outputs": [
    {
     "name": "stdout",
     "output_type": "stream",
     "text": [
      "Asking agent question with id: EA-45\n",
      "Finished agent execution\n",
      "Started FactScore calculation\n",
      "Finished experiment for id: EA-45\n",
      "\n",
      "Asking agent question with id: EA-32\n",
      "Finished agent execution\n",
      "Started FactScore calculation\n",
      "Finished experiment for id: EA-32\n",
      "\n"
     ]
    }
   ],
   "source": [
    "triage_agent = Triage()\n",
    "execution_trail = \"\"\n",
    "experiment_results: list[ExperimentResult] = []\n",
    "\n",
    "for data_row in random_data_set:\n",
    "    result = ExperimentResult(\n",
    "        id=data_row.id,\n",
    "        question=data_row.question,\n",
    "        answer=data_row.answer,\n",
    "        product=data_row.product,\n",
    "        category=data_row.category,\n",
    "        persona=data_row.persona,\n",
    "        activity=data_row.activity,\n",
    "        country=data_row.country,\n",
    "    )\n",
    "    print(f\"Asking agent question with id: {data_row.id}\")\n",
    "    query_categorization = triage_agent.triage_user_message(\n",
    "        user_message=data_row.question\n",
    "    )\n",
    "    if DEBUG_MODE:\n",
    "        print(f\"Query categorization: {query_categorization}\")\n",
    "\n",
    "    tools = ToolsFabric.get_tools_for_category(\n",
    "        use_mcp=USE_MCP,\n",
    "        configuration=query_categorization[\"category\"],\n",
    "    )\n",
    "\n",
    "    if USE_MCP:\n",
    "        async with MultiServerMCPClient(tools) as client:\n",
    "            agent = ReActAgent(tool_list=client.get_tools())\n",
    "            execution_trail = await agent.arun_agent_with_input(\n",
    "                user_message=query_categorization[\"user_query\"], debug=DEBUG_MODE\n",
    "            )\n",
    "    else:\n",
    "        agent = ReActAgent(tool_list=tools)\n",
    "        execution_trail = agent.run_agent_with_input(\n",
    "            user_message=query_categorization[\"user_query\"], debug=DEBUG_MODE\n",
    "        )\n",
    "\n",
    "    run_data = agent.get_execution_data()\n",
    "\n",
    "    result.tools_used = run_data.tools_used\n",
    "    result.excecution_time_seconds = run_data.excecution_time_seconds\n",
    "    result.model_used = run_data.model_used\n",
    "    result.tokens_consumed = run_data.tokens_consumed\n",
    "    result.llm_call_count = run_data.llm_call_count\n",
    "    result.facts = data_row.facts\n",
    "\n",
    "    print(\"Finished agent execution\")\n",
    "\n",
    "    print(\"Started FactScore calculation\")\n",
    "    result.fact_score = await fact_scorer.get_fact_score(\n",
    "        facts=data_row.facts,\n",
    "        knowledge_source=run_data.final_output,\n",
    "        debug=DEBUG_MODE,\n",
    "    )\n",
    "\n",
    "    print(f\"Finished experiment for id: {data_row.id}\\n\")\n",
    "\n",
    "    experiment_results.append(result)"
   ]
  },
  {
   "cell_type": "code",
   "execution_count": 6,
   "metadata": {},
   "outputs": [
    {
     "name": "stderr",
     "output_type": "stream",
     "text": [
      "/Users/i589287/Library/Caches/pypoetry/virtualenvs/react-agent-CUxtcVGL-py3.13/lib/python3.13/site-packages/pydantic/main.py:426: UserWarning: Pydantic serializer warnings:\n",
      "  Expected `float` but got `FactScoreResult` with value `FactScoreResult(direct_fa...)], supporting_facts=[])` - serialized value may not be as expected\n",
      "  return self.__pydantic_serializer__.to_python(\n",
      "/Users/i589287/Library/Caches/pypoetry/virtualenvs/react-agent-CUxtcVGL-py3.13/lib/python3.13/site-packages/pydantic/main.py:426: UserWarning: Pydantic serializer warnings:\n",
      "  Expected `float` but got `FactScoreResult` with value `FactScoreResult(direct_fa...nstance information.')])` - serialized value may not be as expected\n",
      "  return self.__pydantic_serializer__.to_python(\n"
     ]
    },
    {
     "data": {
      "application/vnd.microsoft.datawrangler.viewer.v0+json": {
       "columns": [
        {
         "name": "index",
         "rawType": "int64",
         "type": "integer"
        },
        {
         "name": "id",
         "rawType": "object",
         "type": "string"
        },
        {
         "name": "question",
         "rawType": "object",
         "type": "string"
        },
        {
         "name": "answer",
         "rawType": "object",
         "type": "string"
        },
        {
         "name": "product",
         "rawType": "object",
         "type": "unknown"
        },
        {
         "name": "category",
         "rawType": "object",
         "type": "unknown"
        },
        {
         "name": "persona",
         "rawType": "object",
         "type": "unknown"
        },
        {
         "name": "activity",
         "rawType": "object",
         "type": "unknown"
        },
        {
         "name": "country",
         "rawType": "object",
         "type": "unknown"
        },
        {
         "name": "facts",
         "rawType": "object",
         "type": "unknown"
        },
        {
         "name": "bert_score",
         "rawType": "float64",
         "type": "float"
        },
        {
         "name": "rouge_score",
         "rawType": "float64",
         "type": "float"
        },
        {
         "name": "tools_used",
         "rawType": "object",
         "type": "unknown"
        },
        {
         "name": "excecution_time_seconds",
         "rawType": "float64",
         "type": "float"
        },
        {
         "name": "model_used",
         "rawType": "object",
         "type": "string"
        },
        {
         "name": "llm_call_count",
         "rawType": "int64",
         "type": "integer"
        },
        {
         "name": "fact_score.direct_fact_score",
         "rawType": "float64",
         "type": "float"
        },
        {
         "name": "fact_score.supporting_fact_score",
         "rawType": "float64",
         "type": "float"
        },
        {
         "name": "fact_score.combined_fact_score",
         "rawType": "float64",
         "type": "float"
        },
        {
         "name": "fact_score.direct_facts",
         "rawType": "object",
         "type": "unknown"
        },
        {
         "name": "fact_score.supporting_facts",
         "rawType": "object",
         "type": "unknown"
        },
        {
         "name": "tokens_consumed.input_tokens",
         "rawType": "int64",
         "type": "integer"
        },
        {
         "name": "tokens_consumed.output_tokens",
         "rawType": "int64",
         "type": "integer"
        },
        {
         "name": "tokens_consumed.total_tokens",
         "rawType": "int64",
         "type": "integer"
        }
       ],
       "conversionMethod": "pd.DataFrame",
       "ref": "b2f11d6a-6523-48c9-885d-2ca4e2f7e72d",
       "rows": [
        [
         "0",
         "EA-45",
         "Before implementing a new process in DRC using extensibility, what are the prerequisite steps?",
         "Before you implement a new process, there are a number of things you need to have established. Among others, consider the following:\n1. Which new actions must the eDocument Cockpit support?\n2. Which steps, variants, statuses, and flags does the process have?\n3. How exactly are the source and target documents defined, that is, which eDocument types do you require?\n4. How exactly are the message formats defined, if required? Do the messages have to be versioned?\n5. Whether single documents should be issued or should documents be bundled.",
         null,
         null,
         null,
         null,
         null,
         "[{'fact': 'Determine which new actions the eDocument Cockpit must support.', 'classification': 'direct', 'id': 'EA-45-1'}, {'fact': 'Identify the steps, variants, statuses, and flags of the process.', 'classification': 'direct', 'id': 'EA-45-2'}, {'fact': 'Define the source and target documents, including required eDocument types.', 'classification': 'direct', 'id': 'EA-45-3'}, {'fact': 'Define the message formats and determine if they need to be versioned.', 'classification': 'direct', 'id': 'EA-45-4'}, {'fact': 'Decide whether single documents should be issued or documents should be bundled.', 'classification': 'direct', 'id': 'EA-45-5'}]",
         "0.0",
         "0.0",
         "[{'tool_name': 'sap_documentation_summary', 'arguments': {'query': 'prerequisite steps for implementing a new process in SAP DRC using extensibility'}}, {'tool_name': 'sap_help_lookup', 'arguments': {'query': 'SAP DRC extensibility prerequisites'}}]",
         "35.065",
         "gpt-4o",
         "1",
         "0.0",
         "0.0",
         "0.0",
         "[{'fact': 'Determine which new actions the eDocument Cockpit must support.', 'is_contained': False, 'reason': 'The context does not mention determining new actions for the eDocument Cockpit. It focuses on implementing a new process in SAP DRC using extensibility.'}, {'fact': 'Identify the steps, variants, statuses, and flags of the process.', 'is_contained': False, 'reason': 'The context provides steps for implementing a new process but does not mention variants, statuses, or flags.'}, {'fact': 'Define the source and target documents, including required eDocument types.', 'is_contained': False, 'reason': 'The context does not mention defining source and target documents or required eDocument types.'}, {'fact': 'Define the message formats and determine if they need to be versioned.', 'is_contained': False, 'reason': 'The context does not mention defining message formats or determining if they need to be versioned.'}, {'fact': 'Decide whether single documents should be issued or documents should be bundled.', 'is_contained': False, 'reason': 'The context does not mention anything about issuing single documents or bundling documents.'}]",
         "[]",
         "3367",
         "884",
         "4251"
        ],
        [
         "1",
         "EA-32",
         "In Public Cloud, can I create a database table for my DRC extensibility use case for a new country Process implementation?",
         "You can create a database table to store eDocument instance information.",
         null,
         null,
         null,
         null,
         null,
         "[{'fact': 'You can create a database table.', 'classification': 'direct', 'id': 'EA-32-1'}, {'fact': 'The database table is for storing eDocument instance information.', 'classification': 'supporting', 'id': 'EA-32-2'}]",
         "0.0",
         "0.0",
         "[{'tool_name': 'sap_documentation_summary', 'arguments': {'query': 'DRC extensibility create database table Public Cloud'}}, {'tool_name': 'sap_help_lookup', 'arguments': {'query': 'create database table DRC extensibility Public Cloud'}}]",
         "29.394",
         "gpt-4o",
         "6",
         "1.0",
         "0.0",
         "0.5",
         "[{'fact': 'You can create a database table.', 'is_contained': True, 'reason': 'The context explicitly states that SAP S/4HANA Cloud allows you to create database tables for Document and Reporting Compliance (DRC) extensibility.'}]",
         "[{'fact': 'The database table is for storing eDocument instance information.', 'is_contained': False, 'reason': 'The context mentions creating database tables for Document and Reporting Compliance (DRC) extensibility but does not explicitly state that these tables are for storing eDocument instance information.'}]",
         "9178",
         "1138",
         "10316"
        ]
       ],
       "shape": {
        "columns": 23,
        "rows": 2
       }
      },
      "text/html": [
       "<div>\n",
       "<style scoped>\n",
       "    .dataframe tbody tr th:only-of-type {\n",
       "        vertical-align: middle;\n",
       "    }\n",
       "\n",
       "    .dataframe tbody tr th {\n",
       "        vertical-align: top;\n",
       "    }\n",
       "\n",
       "    .dataframe thead th {\n",
       "        text-align: right;\n",
       "    }\n",
       "</style>\n",
       "<table border=\"1\" class=\"dataframe\">\n",
       "  <thead>\n",
       "    <tr style=\"text-align: right;\">\n",
       "      <th></th>\n",
       "      <th>id</th>\n",
       "      <th>question</th>\n",
       "      <th>answer</th>\n",
       "      <th>product</th>\n",
       "      <th>category</th>\n",
       "      <th>persona</th>\n",
       "      <th>activity</th>\n",
       "      <th>country</th>\n",
       "      <th>facts</th>\n",
       "      <th>bert_score</th>\n",
       "      <th>...</th>\n",
       "      <th>model_used</th>\n",
       "      <th>llm_call_count</th>\n",
       "      <th>fact_score.direct_fact_score</th>\n",
       "      <th>fact_score.supporting_fact_score</th>\n",
       "      <th>fact_score.combined_fact_score</th>\n",
       "      <th>fact_score.direct_facts</th>\n",
       "      <th>fact_score.supporting_facts</th>\n",
       "      <th>tokens_consumed.input_tokens</th>\n",
       "      <th>tokens_consumed.output_tokens</th>\n",
       "      <th>tokens_consumed.total_tokens</th>\n",
       "    </tr>\n",
       "  </thead>\n",
       "  <tbody>\n",
       "    <tr>\n",
       "      <th>0</th>\n",
       "      <td>EA-45</td>\n",
       "      <td>Before implementing a new process in DRC using...</td>\n",
       "      <td>Before you implement a new process, there are ...</td>\n",
       "      <td>None</td>\n",
       "      <td>None</td>\n",
       "      <td>None</td>\n",
       "      <td>None</td>\n",
       "      <td>None</td>\n",
       "      <td>[{'fact': 'Determine which new actions the eDo...</td>\n",
       "      <td>0.0</td>\n",
       "      <td>...</td>\n",
       "      <td>gpt-4o</td>\n",
       "      <td>1</td>\n",
       "      <td>0.0</td>\n",
       "      <td>0.0</td>\n",
       "      <td>0.0</td>\n",
       "      <td>[{'fact': 'Determine which new actions the eDo...</td>\n",
       "      <td>[]</td>\n",
       "      <td>3367</td>\n",
       "      <td>884</td>\n",
       "      <td>4251</td>\n",
       "    </tr>\n",
       "    <tr>\n",
       "      <th>1</th>\n",
       "      <td>EA-32</td>\n",
       "      <td>In Public Cloud, can I create a database table...</td>\n",
       "      <td>You can create a database table to store eDocu...</td>\n",
       "      <td>None</td>\n",
       "      <td>None</td>\n",
       "      <td>None</td>\n",
       "      <td>None</td>\n",
       "      <td>None</td>\n",
       "      <td>[{'fact': 'You can create a database table.', ...</td>\n",
       "      <td>0.0</td>\n",
       "      <td>...</td>\n",
       "      <td>gpt-4o</td>\n",
       "      <td>6</td>\n",
       "      <td>1.0</td>\n",
       "      <td>0.0</td>\n",
       "      <td>0.5</td>\n",
       "      <td>[{'fact': 'You can create a database table.', ...</td>\n",
       "      <td>[{'fact': 'The database table is for storing e...</td>\n",
       "      <td>9178</td>\n",
       "      <td>1138</td>\n",
       "      <td>10316</td>\n",
       "    </tr>\n",
       "  </tbody>\n",
       "</table>\n",
       "<p>2 rows × 23 columns</p>\n",
       "</div>"
      ],
      "text/plain": [
       "      id                                           question  \\\n",
       "0  EA-45  Before implementing a new process in DRC using...   \n",
       "1  EA-32  In Public Cloud, can I create a database table...   \n",
       "\n",
       "                                              answer product category persona  \\\n",
       "0  Before you implement a new process, there are ...    None     None    None   \n",
       "1  You can create a database table to store eDocu...    None     None    None   \n",
       "\n",
       "  activity country                                              facts  \\\n",
       "0     None    None  [{'fact': 'Determine which new actions the eDo...   \n",
       "1     None    None  [{'fact': 'You can create a database table.', ...   \n",
       "\n",
       "   bert_score  ...  model_used llm_call_count  fact_score.direct_fact_score  \\\n",
       "0         0.0  ...      gpt-4o              1                           0.0   \n",
       "1         0.0  ...      gpt-4o              6                           1.0   \n",
       "\n",
       "  fact_score.supporting_fact_score  fact_score.combined_fact_score  \\\n",
       "0                              0.0                             0.0   \n",
       "1                              0.0                             0.5   \n",
       "\n",
       "                             fact_score.direct_facts  \\\n",
       "0  [{'fact': 'Determine which new actions the eDo...   \n",
       "1  [{'fact': 'You can create a database table.', ...   \n",
       "\n",
       "                         fact_score.supporting_facts  \\\n",
       "0                                                 []   \n",
       "1  [{'fact': 'The database table is for storing e...   \n",
       "\n",
       "   tokens_consumed.input_tokens tokens_consumed.output_tokens  \\\n",
       "0                          3367                           884   \n",
       "1                          9178                          1138   \n",
       "\n",
       "  tokens_consumed.total_tokens  \n",
       "0                         4251  \n",
       "1                        10316  \n",
       "\n",
       "[2 rows x 23 columns]"
      ]
     },
     "execution_count": 6,
     "metadata": {},
     "output_type": "execute_result"
    }
   ],
   "source": [
    "records = [r.model_dump(mode=\"json\") for r in experiment_results]\n",
    "df = pd.json_normalize(records)\n",
    "\n",
    "df"
   ]
  }
 ],
 "metadata": {
  "kernelspec": {
   "display_name": "react-agent-CUxtcVGL-py3.13",
   "language": "python",
   "name": "python3"
  },
  "language_info": {
   "codemirror_mode": {
    "name": "ipython",
    "version": 3
   },
   "file_extension": ".py",
   "mimetype": "text/x-python",
   "name": "python",
   "nbconvert_exporter": "python",
   "pygments_lexer": "ipython3",
   "version": "3.13.3"
  }
 },
 "nbformat": 4,
 "nbformat_minor": 2
}
