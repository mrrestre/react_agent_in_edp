{
 "cells": [
  {
   "cell_type": "code",
   "execution_count": 1,
   "metadata": {},
   "outputs": [],
   "source": [
    "import os\n",
    "import json\n",
    "\n",
    "from langchain_mcp_adapters.client import MultiServerMCPClient\n",
    "\n",
    "from react_agent.src.agents.react_agent import ReActAgent\n",
    "from react_agent.src.agents.triage import Triage\n",
    "\n",
    "from react_agent.src.util.tools_fabric import ToolsFabric\n",
    "\n",
    "from react_agent.src.util.llm_proxy import LLM_PROXY\n",
    "\n",
    "from experiments.util.fact_score.fact_scorer import FactScorer"
   ]
  },
  {
   "cell_type": "code",
   "execution_count": 2,
   "metadata": {},
   "outputs": [],
   "source": [
    "USE_MCP = True\n",
    "DEBUG_MODE = True\n",
    "INCLUDE_WEBSEARCH_TOOL = True\n",
    "\n",
    "fact_scorer = FactScorer()\n",
    "path_to_ressources = \"./resources/01_facts/\"\n",
    "\n",
    "files = {\n",
    "    \"extensibility\": \"extensibility_assistance_facts.json\",\n",
    "    \"malaysia\": \"malaysia_support_facts.json\",\n",
    "    \"peppol\": \"peppol_support_facts.json\",\n",
    "}"
   ]
  },
  {
   "cell_type": "code",
   "execution_count": 3,
   "metadata": {},
   "outputs": [],
   "source": [
    "file_path = os.path.abspath(path_to_ressources + files[\"extensibility\"])\n",
    "\n",
    "\n",
    "with open(file_path, encoding=\"utf8\") as f:\n",
    "    json_file = json.load(f)"
   ]
  },
  {
   "cell_type": "code",
   "execution_count": 4,
   "metadata": {},
   "outputs": [],
   "source": [
    "case = json_file[\"cases\"][1]"
   ]
  },
  {
   "cell_type": "code",
   "execution_count": 5,
   "metadata": {},
   "outputs": [
    {
     "name": "stdout",
     "output_type": "stream",
     "text": [
      "Query categorization: {'user_query': 'For a Greece customer in Public Cloud, what are the steps to enhance the generated XML before sending it to the Tax Authorities using ADT?', 'category': 'Knowledge-QA'}\n"
     ]
    }
   ],
   "source": [
    "triage_agent = Triage()\n",
    "\n",
    "query_categorization = triage_agent.triage_user_message(\n",
    "    user_message=case[\"question\"]\n",
    ")\n",
    "if DEBUG_MODE:\n",
    "    print(f\"Query categorization: {query_categorization}\")"
   ]
  },
  {
   "cell_type": "code",
   "execution_count": 6,
   "metadata": {},
   "outputs": [],
   "source": [
    "tools = ToolsFabric.get_tools_for_category(\n",
    "    use_mcp=USE_MCP,\n",
    "    configuration=query_categorization[\"category\"],\n",
    "    include_web_search=INCLUDE_WEBSEARCH_TOOL,\n",
    ")"
   ]
  },
  {
   "cell_type": "code",
   "execution_count": 7,
   "metadata": {},
   "outputs": [
    {
     "name": "stdout",
     "output_type": "stream",
     "text": [
      "# Role\n",
      "You are an expert in Electronic Document Processing, with deep domain knowledge in SAP Document and Reporting Compliance, Peppol, UBL, and eInvoicing standards.\n",
      "\n",
      "# Objective\n",
      "Use a reason-and-act (ReAct) approach to answer user questions with clear, well-supported reasoning chains, and tool-validated outputs. Final answers must reflect insights derived from specific tool calls.\n",
      "\n",
      "# Instructions\n",
      "**You will operate in a strict step-by-step loop. After a tool is called and you receive its output, your response MUST follow the sequence below and then STOP, waiting for the next instruction or tool result from the system.**\n",
      "1. Observation: Restate the user's request or define the sub-task being addressed. Clearly establish the current focus.\n",
      "2. Thought: Analyze the problem. Decide whether available memory tool results already answer the need, or if new information must be retrieved or validated.\n",
      "3. Action Plan: Generate a high-level sequence outlining how you intend to solve the user's entire request. Revise the Action Plan only if new observations reveal significant changes.\n",
      "4. Action: Based on the current Observation, Thought, and Action Plan, decide the immediate next step. Name the selected tool and parameters. Take no further action until the result is returned.\n",
      "5. Observation (Result): Record the tool output exactly as received without paraphrasing.\n",
      "6. Thought (Synthesis & Validation):\n",
      "    a. Integrate the new result with prior observations.\n",
      "    b. Evaluate reliability, completeness, and consistency.\n",
      "    c. If necessary, validate using another tool or proceed if sufficient.\n",
      "    d. Decide whether sufficient information has been gathered for the Final Answer. Do NOT include this Thought section in the final message.\n",
      "7. Final Answer (Only content in this section should be shown to the user as the final agent message):\n",
      "    - Summarize key findings based on specific tool outputs.\n",
      "    - Explain how tools and results supported the answer.\n",
      "    - If the answer is technical, provide both a technical explanation and a plain-language summary for a broader audience.\n",
      "    - Whenever applicable, include short examples (such as snippets, samples, or template outputs) to illustrate key points.\n",
      "    - Mention any remaining uncertainties or limitations.\n",
      "    - This section should be the sole content of the final message. Omit previous sections (Observations, Thoughts, Action Plans, etc.).\n",
      "    - After generating this Final Answer, signal that the task is complete.\n",
      "\n",
      "Always follow these behavioral standards:\n",
      "- Avoid assumptions not supported by tool outputs.\n",
      "- Replace biased or inappropriate language with inclusive, respectful phrasing.\n",
      "- If a respectful response cannot be generated, politely decline the request.\n",
      "- Focus only on the specific sub-task at each step. Do not unnecessarily restate all rules each cycle.\n",
      "\n",
      "# Tools\n",
      "You have access to the following tools to gather facts, retrieve relevant data, and answer technical or compliance-related queries:\n",
      "- Tool Name: search, Description: \n",
      "    Search DuckDuckGo and return formatted results.\n",
      "\n",
      "    Args:\n",
      "        query: The search query string\n",
      "        max_results: Maximum number of results to return (default: 10)\n",
      "        ctx: MCP context for logging\n",
      "    , Args: query: string, max_results: integer\n",
      "- Tool Name: fetch_content, Description: \n",
      "    Fetch and parse content from a webpage URL.\n",
      "\n",
      "    Args:\n",
      "        url: The webpage URL to fetch content from\n",
      "        ctx: MCP context for logging\n",
      "    , Args: url: string\n",
      "- Tool Name: edp_troubleshooting_search, Description: Retrieves troubleshooting information related to the Electronic Document Processing (EDP) using semantic similarity.\n",
      "Returns chunks of potentially relevant diagnostic guidance and known issue resolutions., Args: query: string\n",
      "- Tool Name: sap_documentation_summary, Description: Summarizes SAP documentation content from multiple trusted sources, including official guides, internal documentation, and expert references, to provide accurate and reliable answers to SAP-related queries., Args: query: string\n",
      "\n",
      "- Some tools retrieve information from internal memory or prior context. Prefer these Memory Tools first whenever applicable.\n",
      "- Memory tools will be clearly indicated in their tool description.\n",
      "- If Memory tool outputs are incomplete, outdated, or unclear, plan to validate or supplement with external sources.\n",
      "\n",
      "# Rules\n",
      "1. Prioritize Memory Tools: Always first check if memory-based tools provide the necessary information. Prefer using these tools before external search tools or new data-fetching actions. If memory tool outputs appear incomplete, outdated, or unclear, plan to cross-validate using independent tools.\n",
      "2. Strict Sequential Execution: Execute only one tool action per reasoning cycle. Wait for the result before proceeding to the next Thought step.\n",
      "3. Cross-Validation Principle: Whenever feasible and necessary for accuracy, cross-validate information obtained from one source by using a different, independent tool or method in a later reasoning cycle.\n",
      "4. Avoid Redundant Calls: Do not call the same tool with identical parameters repeatedly unless retrying after a known transient error. For related explorations, adjust queries or use different parameters.\n",
      "5. Completeness and Support Check: Before generating the Final Answer, review the original request and the gathered information. Ensure all parts of the request have been addressed and are backed by specific observations or tool outputs.\n",
      "6. Task Focus: Ensure every Thought and Action contributes directly to solving the original request. Avoid irrelevant exploration.\n",
      "7. Error Handling: If a tool call fails, record the exact error message. In the next Thought, decide how to recover (retry, adjust parameters, use another tool). If no tools successfully resolve the request after reasonable attempts, acknowledge the limitation respectfully in the Final Answer and suggest possible next steps if applicable. \n",
      "\n",
      "================================\u001b[1m Human Message \u001b[0m=================================\n",
      "\n",
      "For a Greece customer in Public Cloud, what are the steps to enhance the generated XML before sending it to the Tax Authorities using ADT?\n",
      "==================================\u001b[1m Ai Message \u001b[0m==================================\n",
      "Tool Calls:\n",
      "  sap_documentation_summary (call_0l9ripaQrCGjAADrYAPvruab)\n",
      " Call ID: call_0l9ripaQrCGjAADrYAPvruab\n",
      "  Args:\n",
      "    query: enhance XML for Greece customer in Public Cloud using ADT before sending to Tax Authorities\n",
      "=================================\u001b[1m Tool Message \u001b[0m=================================\n",
      "Name: sap_documentation_summary\n",
      "\n",
      "To enhance the XML for a Greece customer in the Public Cloud using ABAP Development Tools (ADT) before sending it to tax authorities, you can follow the process of customizing the eDocument Cockpit or Manage Electronic Documents app using Business Add-Ins (BAdIs). This customization allows you to define custom logic for filling fields in invoice and credit note XML files, as well as adapt email communications to customers [[1]](https://drcce-architecture-ai.b217766.stage.kyma.ondemand.com/api/v1/forward_to_source?source_url=https%3A%2F%2Fgithub.wdf.sap.corp%2Fslh-dc-platform%2Fpeppol-service-support-documentation%2Fblob%2Fmain%2Fsrc%2Fmd%2Fenhance%2520invoice%2520or%2520credit%2520note%2520fields.md%23read-source-document-data&response_session_id=f9bdf765-1923-4238-9faa-c9ea36397e46&chunk_id=4b2759f9-4c06-474a-8a52-ce1628b99091&is_inline_source=True).\n",
      "\n",
      "Here are the steps you can take to enhance the XML file:\n",
      "\n",
      "1. **Enhancement Spot**: In your ABAP project, navigate to the enhancement spot ES_EDOCUMENT_CLOUD. This is where you can implement enhancements to the XML file [[2]](https://drcce-architecture-ai.b217766.stage.kyma.ondemand.com/api/v1/forward_to_source?source_url=https%3A%2F%2Fcommunity.sap.com%2Ft5%2Ffinancial-management-blogs-by-sap%2Fenhancing-the-standard-xml-file-for-electronic-documents-using-the-badi%2Fba-p%2F13935971%23enhancing-the-standard-xml-file-for-electronic-documents-using-the-badi-edocadaptorcloudt5financial-management-blogs-by-sapenhancing-the-standard-xml-file-for-electronic-documents-using-the-badiba-p13935971&response_session_id=f9bdf765-1923-4238-9faa-c9ea36397e46&chunk_id=8b83cd1d-a415-487b-896c-fc091eb47699&is_inline_source=True).\n",
      "\n",
      "2. **Use of BAdI**: Implement the Business Add-In (BAdI) EDOC_ADAPTOR_CLOUD. This BAdI provides the method SET_OUTPUT_DATA, which is useful for modifying XML tags and filling optional XML tags with values such as customer material number or delivery number [[2]](https://drcce-architecture-ai.b217766.stage.kyma.ondemand.com/api/v1/forward_to_source?source_url=https%3A%2F%2Fcommunity.sap.com%2Ft5%2Ffinancial-management-blogs-by-sap%2Fenhancing-the-standard-xml-file-for-electronic-documents-using-the-badi%2Fba-p%2F13935971%23enhancing-the-standard-xml-file-for-electronic-documents-using-the-badi-edocadaptorcloudt5financial-management-blogs-by-sapenhancing-the-standard-xml-file-for-electronic-documents-using-the-badiba-p13935971&response_session_id=f9bdf765-1923-4238-9faa-c9ea36397e46&chunk_id=8b83cd1d-a415-487b-896c-fc091eb47699&is_inline_source=True).\n",
      "\n",
      "3. **Custom Logic**: Use the Custom Logic app to implement specific BAdIs. This allows you to embed additional documents into the XML file by adding them to the ADDITIONAL_DOCUMENT_REFERENCE table of the XML_FILE_MODIFIED parameter [[1]](https://drcce-architecture-ai.b217766.stage.kyma.ondemand.com/api/v1/forward_to_source?source_url=https%3A%2F%2Fgithub.wdf.sap.corp%2Fslh-dc-platform%2Fpeppol-service-support-documentation%2Fblob%2Fmain%2Fsrc%2Fmd%2Fenhance%2520invoice%2520or%2520credit%2520note%2520fields.md%23read-source-document-data&response_session_id=f9bdf765-1923-4238-9faa-c9ea36397e46&chunk_id=4b2759f9-4c06-474a-8a52-ce1628b99091&is_inline_source=True).\n",
      "\n",
      "4. **CDS Views**: Ensure that the CDS views used in your implementation are released with a C1 contract for developer extensibility. This is necessary for the successful execution of your custom logic [[2]](https://drcce-architecture-ai.b217766.stage.kyma.ondemand.com/api/v1/forward_to_source?source_url=https%3A%2F%2Fcommunity.sap.com%2Ft5%2Ffinancial-management-blogs-by-sap%2Fenhancing-the-standard-xml-file-for-electronic-documents-using-the-badi%2Fba-p%2F13935971%23enhancing-the-standard-xml-file-for-electronic-documents-using-the-badi-edocadaptorcloudt5financial-management-blogs-by-sapenhancing-the-standard-xml-file-for-electronic-documents-using-the-badiba-p13935971&response_session_id=f9bdf765-1923-4238-9faa-c9ea36397e46&chunk_id=9dd8afc2-167d-45f9-b752-b35a4058b831&is_inline_source=True).\n",
      "\n",
      "5. **XML Tag Filling**: You can fill specific XML tags such as <BuyersItemIdentification> under the <Invoiceline>-<Item>-<BuyersItemIdentification> tag. This involves using select statements in your ADT editor, and you may need to use '@' in these statements to avoid errors [[2]](https://drcce-architecture-ai.b217766.stage.kyma.ondemand.com/api/v1/forward_to_source?source_url=https%3A%2F%2Fcommunity.sap.com%2Ft5%2Ffinancial-management-blogs-by-sap%2Fenhancing-the-standard-xml-file-for-electronic-documents-using-the-badi%2Fba-p%2F13935971%23enhancing-the-standard-xml-file-for-electronic-documents-using-the-badi-edocadaptorcloudt5financial-management-blogs-by-sapenhancing-the-standard-xml-file-for-electronic-documents-using-the-badiba-p13935971&response_session_id=f9bdf765-1923-4238-9faa-c9ea36397e46&chunk_id=9dd8afc2-167d-45f9-b752-b35a4058b831&is_inline_source=True).\n",
      "\n",
      "By following these steps, you can enhance the XML file for Greece customers in the Public Cloud, ensuring that it contains all necessary information before submission to the tax authorities.\n",
      "==================================\u001b[1m Ai Message \u001b[0m==================================\n",
      "\n",
      "To enhance the XML for a Greece customer in the Public Cloud using ABAP Development Tools (ADT) before sending it to tax authorities, follow these steps:\n",
      "\n",
      "1. **Enhancement Spot**: Navigate to the enhancement spot `ES_EDOCUMENT_CLOUD` in your ABAP project. This is where you can implement enhancements to the XML file.\n",
      "\n",
      "2. **Implement BAdI**: Use the Business Add-In (BAdI) `EDOC_ADAPTOR_CLOUD`. This BAdI provides the method `SET_OUTPUT_DATA`, which allows you to modify XML tags and fill optional XML tags with values such as customer material number or delivery number.\n",
      "\n",
      "3. **Custom Logic**: Utilize the Custom Logic app to implement specific BAdIs. This enables you to embed additional documents into the XML file by adding them to the `ADDITIONAL_DOCUMENT_REFERENCE` table of the `XML_FILE_MODIFIED` parameter.\n",
      "\n",
      "4. **CDS Views**: Ensure that the CDS views used in your implementation are released with a C1 contract for developer extensibility, which is necessary for executing your custom logic successfully.\n",
      "\n",
      "5. **XML Tag Filling**: Fill specific XML tags such as `<BuyersItemIdentification>` under the `<Invoiceline>-<Item>-<BuyersItemIdentification>` tag. Use select statements in your ADT editor, and include '@' in these statements to avoid errors.\n",
      "\n",
      "By following these steps, you can customize the XML file to meet the requirements of the Greek tax authorities, ensuring it contains all necessary information before submission.\n"
     ]
    }
   ],
   "source": [
    "if USE_MCP:\n",
    "    async with MultiServerMCPClient( tools ) as client:\n",
    "        agent = ReActAgent(tool_list=client.get_tools())\n",
    "        if DEBUG_MODE:\n",
    "            print(agent.create_sys_prompt(), \"\\n\")\n",
    "        agent_answer = await agent.arun_agent_with_input(\n",
    "            user_message=query_categorization[\"user_query\"], debug=DEBUG_MODE\n",
    "        )\n",
    "else:\n",
    "    agent = ReActAgent(tool_list=tools)\n",
    "    if DEBUG_MODE:\n",
    "        print(agent.create_sys_prompt(), \"\\n\")\n",
    "    agent_answer = agent.run_agent_with_input(user_message=query_categorization[\"user_query\"], debug=DEBUG_MODE)\n",
    "\n",
    "if not DEBUG_MODE:\n",
    "    print(agent_answer)"
   ]
  },
  {
   "cell_type": "code",
   "execution_count": 8,
   "metadata": {},
   "outputs": [
    {
     "name": "stdout",
     "output_type": "stream",
     "text": [
      "Fact: The task involves enhancing an XML file for a Greece customer in Public Cloud.\n",
      "Is contained: True\n",
      "Reason: The context explicitly mentions enhancing the XML for a Greece customer in the Public Cloud using ABAP Development Tools.\n",
      "\n",
      "Fact: The enhancement is done using ABAP Development Tools (ADT).\n",
      "Is contained: True\n",
      "Reason: The context explicitly mentions using ABAP Development Tools (ADT) for enhancing the XML for a Greece customer.\n",
      "\n",
      "Fact: The enhancement spot used is ES_EDOCUMENT_CLOUD.\n",
      "Is contained: True\n",
      "Reason: The context explicitly mentions navigating to the enhancement spot `ES_EDOCUMENT_CLOUD` for implementing enhancements to the XML file.\n",
      "\n",
      "Fact: A new BAdI Enhancement Implementation is created by right-clicking ES_EDOCUMENT_CLOUD.\n",
      "Is contained: False\n",
      "Reason: The context does not mention creating a BAdI Enhancement Implementation by right-clicking ES_EDOCUMENT_CLOUD.\n",
      "\n",
      "Fact: The implementation involves selecting EDOC_ADAPTOR_CLOUD.\n",
      "Is contained: True\n",
      "Reason: The context explicitly mentions using the Business Add-In (BAdI) EDOC_ADAPTOR_CLOUD for XML enhancement.\n",
      "\n",
      "Fact: A BAdI filter can be optionally created for Country and/or Generic Filter.\n",
      "Is contained: False\n",
      "Reason: The context does not mention the creation of BAdI filters for Country or Generic Filter.\n",
      "\n",
      "Fact: A new implementation class is created, implementing interfaces if_badi_interfaces and if_edoc_adaptor_cloud.\n",
      "Is contained: False\n",
      "Reason: The context mentions implementing a BAdI `EDOC_ADAPTOR_CLOUD`, but does not specify the creation of a new implementation class or the implementation of interfaces `if_badi_interfaces` and `if_edoc_adaptor_cloud`.\n",
      "\n",
      "Fact: Logic is implemented in the method to modify XML tags and fill optional XML tags with values.\n",
      "Is contained: True\n",
      "Reason: The context explicitly mentions the method 'SET_OUTPUT_DATA' in the BAdI 'EDOC_ADAPTOR_CLOUD' which allows modification of XML tags and filling optional XML tags with values.\n",
      "\n",
      "Fact: The BAdI implementation is activated.\n",
      "Is contained: False\n",
      "Reason: The context describes how to implement and use the BAdI but does not explicitly state that the BAdI implementation is activated.\n",
      "\n",
      "Fact: The XML file of the electronic document can be viewed in the eDocument Cockpit or Manage Electronic Documents app with the desired values filled in the XML tags.\n",
      "Is contained: False\n",
      "Reason: The context does not mention viewing the XML file in the eDocument Cockpit or Manage Electronic Documents app, nor does it specify that the XML tags are filled with desired values in these apps.\n",
      "\n",
      "Fact score:  0.5\n"
     ]
    }
   ],
   "source": [
    "output = await fact_scorer.get_fact_score(facts=case.get(\"facts\"), knowledge_source=agent_answer, debug=DEBUG_MODE)\n",
    "print(\"Fact score: \", output)"
   ]
  },
  {
   "cell_type": "code",
   "execution_count": 9,
   "metadata": {},
   "outputs": [
    {
     "name": "stdout",
     "output_type": "stream",
     "text": [
      "Call Count: 11\n",
      "Token Usage: {'input_tokens': 12690, 'output_tokens': 1012, 'total_tokens': 13702}\n"
     ]
    }
   ],
   "source": [
    "LLM_PROXY.print_usage()"
   ]
  }
 ],
 "metadata": {
  "kernelspec": {
   "display_name": "react-agent-CUxtcVGL-py3.13",
   "language": "python",
   "name": "python3"
  },
  "language_info": {
   "codemirror_mode": {
    "name": "ipython",
    "version": 3
   },
   "file_extension": ".py",
   "mimetype": "text/x-python",
   "name": "python",
   "nbconvert_exporter": "python",
   "pygments_lexer": "ipython3",
   "version": "3.13.3"
  }
 },
 "nbformat": 4,
 "nbformat_minor": 2
}
