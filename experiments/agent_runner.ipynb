{
 "cells": [
  {
   "cell_type": "code",
   "execution_count": 1,
   "metadata": {},
   "outputs": [],
   "source": [
    "import os\n",
    "import json\n",
    "import random\n",
    "import pandas as pd\n",
    "\n",
    "from tqdm.notebook import tqdm\n",
    "\n",
    "from langchain_mcp_adapters.client import MultiServerMCPClient\n",
    "\n",
    "from react_agent.src.agents.react_agent import ReActAgent\n",
    "from react_agent.src.agents.triage import Triage\n",
    "\n",
    "from react_agent.src.util.tools_fabric import ToolsFabric\n",
    "\n",
    "from experiments.models.experiment_models import LabeledQAPairFacts, ExperimentResult\n",
    "from experiments.fact_score.fact_scorer import FactScorer\n",
    "from experiments.metrics.bert_score import BertScore\n",
    "from experiments.metrics.llm_judge import LLMAsJudgeEvaluator"
   ]
  },
  {
   "cell_type": "code",
   "execution_count": 2,
   "metadata": {},
   "outputs": [],
   "source": [
    "USE_MCP = False\n",
    "DEBUG_MODE = False\n",
    "\n",
    "LLM_JUDGE_MODEL = \"gpt-4o-mini\"\n",
    "\n",
    "fact_scorer = FactScorer()\n",
    "path_to_ressources = \"./resources/02_facts/\"\n",
    "\n",
    "files = {\n",
    "    \"extensibility\": \"extensibility_assistance_facts.json\",\n",
    "    \"malaysia\": \"malaysia_support_facts.json\",\n",
    "    \"peppol\": \"peppol_support_facts.json\",\n",
    "    \"all\": \"all_cases_facts.json\",\n",
    "}"
   ]
  },
  {
   "cell_type": "code",
   "execution_count": 3,
   "metadata": {},
   "outputs": [],
   "source": [
    "file_path = os.path.abspath(path_to_ressources + files[\"all\"])\n",
    "\n",
    "\n",
    "with open(file_path, encoding=\"utf8\") as f:\n",
    "    data = json.load(f)\n",
    "    data_set = [LabeledQAPairFacts(**item) for item in data]"
   ]
  },
  {
   "cell_type": "code",
   "execution_count": 4,
   "metadata": {},
   "outputs": [],
   "source": [
    "# Select 3 random elements\n",
    "random_data_set = random.sample(data_set, 2)"
   ]
  },
  {
   "cell_type": "code",
   "execution_count": 5,
   "metadata": {},
   "outputs": [
    {
     "data": {
      "application/vnd.jupyter.widget-view+json": {
       "model_id": "6dff0b4b57b2473ca7bd14a90ea301b8",
       "version_major": 2,
       "version_minor": 0
      },
      "text/plain": [
       "Running experiments:   0%|          | 0/2 [00:00<?, ?experiment/s]"
      ]
     },
     "metadata": {},
     "output_type": "display_data"
    },
    {
     "name": "stdout",
     "output_type": "stream",
     "text": [
      "Asking agent question with id: EA-7\n",
      "Finished agent execution\n",
      "Started FactScore calculation\n",
      "Started BERTScore calculation\n",
      "Stated LLM as a Judge calculation\n",
      "Finished experiment for id: EA-7\n",
      "\n",
      "Asking agent question with id: EA-8\n",
      "Finished agent execution\n",
      "Started FactScore calculation\n",
      "Started BERTScore calculation\n",
      "Stated LLM as a Judge calculation\n",
      "Finished experiment for id: EA-8\n",
      "\n"
     ]
    }
   ],
   "source": [
    "triage_agent = Triage()\n",
    "execution_trail = \"\"\n",
    "experiment_results: list[ExperimentResult] = []\n",
    "\n",
    "for data_row in tqdm(random_data_set, desc=\"Running experiments\", unit=\"experiment\"):\n",
    "    result = ExperimentResult(\n",
    "        id=data_row.id,\n",
    "        question=data_row.question,\n",
    "        answer=data_row.answer,\n",
    "        product=data_row.product,\n",
    "        category=data_row.category,\n",
    "        persona=data_row.persona,\n",
    "        activity=data_row.activity,\n",
    "        country=data_row.country,\n",
    "    )\n",
    "    print(f\"Asking agent question with id: {data_row.id}\")\n",
    "    query_categorization = triage_agent.triage_user_message(\n",
    "        user_message=data_row.question\n",
    "    )\n",
    "    if DEBUG_MODE:\n",
    "        print(f\"Query categorization: {query_categorization}\")\n",
    "\n",
    "    tools = ToolsFabric.get_tools_for_category(\n",
    "        use_mcp=USE_MCP,\n",
    "        configuration=query_categorization[\"category\"],\n",
    "    )\n",
    "\n",
    "    if USE_MCP:\n",
    "        async with MultiServerMCPClient(tools) as client:\n",
    "            agent = ReActAgent(tool_list=client.get_tools())\n",
    "            execution_trail = await agent.arun_agent_with_input(\n",
    "                user_message=query_categorization[\"user_query\"], debug=DEBUG_MODE\n",
    "            )\n",
    "    else:\n",
    "        agent = ReActAgent(tool_list=tools)\n",
    "        execution_trail = agent.run_agent_with_input(\n",
    "            user_message=query_categorization[\"user_query\"], debug=DEBUG_MODE\n",
    "        )\n",
    "\n",
    "    run_data = agent.get_execution_data()\n",
    "\n",
    "    result.tools_used = run_data.tools_used\n",
    "    result.excecution_time_seconds = run_data.excecution_time_seconds\n",
    "    result.model_used = run_data.model_used\n",
    "    result.tokens_consumed = run_data.tokens_consumed\n",
    "    result.llm_call_count = run_data.llm_call_count\n",
    "    result.facts = data_row.facts\n",
    "    result.generated_answer = run_data.final_output\n",
    "\n",
    "    print(\"Finished agent execution\")\n",
    "\n",
    "    print(\"Started FactScore calculation\")\n",
    "    result.fact_score = await fact_scorer.get_fact_score(\n",
    "        facts=data_row.facts,\n",
    "        knowledge_source=result.generated_answer,\n",
    "        debug=DEBUG_MODE,\n",
    "    )\n",
    "\n",
    "    print(\"Started BERTScore calculation\")\n",
    "    result.bert_score = BertScore.compute_score(\n",
    "        expected_response=data_row.answer, actual_response=result.generated_answer\n",
    "    )\n",
    "\n",
    "    print(\"Stated LLM as a Judge calculation\")\n",
    "    result.llm_judge_model = LLM_JUDGE_MODEL\n",
    "    llm_evaluator = LLMAsJudgeEvaluator(model=LLM_JUDGE_MODEL)\n",
    "\n",
    "    result.llm_judge_outcome = llm_evaluator.evaluate(\n",
    "        question=data_row.question, generated_answer=result.generated_answer\n",
    "    )\n",
    "\n",
    "    print(f\"Finished experiment for id: {data_row.id}\\n\")\n",
    "\n",
    "    experiment_results.append(result)"
   ]
  },
  {
   "cell_type": "code",
   "execution_count": 6,
   "metadata": {},
   "outputs": [
    {
     "name": "stderr",
     "output_type": "stream",
     "text": [
      "/Users/i589287/Library/Caches/pypoetry/virtualenvs/react-agent-CUxtcVGL-py3.13/lib/python3.13/site-packages/pydantic/main.py:426: UserWarning: Pydantic serializer warnings:\n",
      "  Expected `float` but got `FactScoreResult` with value `FactScoreResult(direct_fa...)], supporting_facts=[])` - serialized value may not be as expected\n",
      "  return self.__pydantic_serializer__.to_python(\n",
      "/Users/i589287/Library/Caches/pypoetry/virtualenvs/react-agent-CUxtcVGL-py3.13/lib/python3.13/site-packages/pydantic/main.py:426: UserWarning: Pydantic serializer warnings:\n",
      "  Expected `float` but got `FactScoreResult` with value `FactScoreResult(direct_fa...lectronic documents.')])` - serialized value may not be as expected\n",
      "  return self.__pydantic_serializer__.to_python(\n"
     ]
    },
    {
     "data": {
      "application/vnd.microsoft.datawrangler.viewer.v0+json": {
       "columns": [
        {
         "name": "index",
         "rawType": "int64",
         "type": "integer"
        },
        {
         "name": "id",
         "rawType": "object",
         "type": "string"
        },
        {
         "name": "question",
         "rawType": "object",
         "type": "string"
        },
        {
         "name": "answer",
         "rawType": "object",
         "type": "string"
        },
        {
         "name": "product",
         "rawType": "object",
         "type": "unknown"
        },
        {
         "name": "category",
         "rawType": "object",
         "type": "unknown"
        },
        {
         "name": "persona",
         "rawType": "object",
         "type": "unknown"
        },
        {
         "name": "activity",
         "rawType": "object",
         "type": "unknown"
        },
        {
         "name": "country",
         "rawType": "object",
         "type": "unknown"
        },
        {
         "name": "facts",
         "rawType": "object",
         "type": "unknown"
        },
        {
         "name": "bert_score",
         "rawType": "float64",
         "type": "float"
        },
        {
         "name": "llm_judge_outcome",
         "rawType": "object",
         "type": "string"
        },
        {
         "name": "llm_judge_model",
         "rawType": "object",
         "type": "string"
        },
        {
         "name": "generated_answer",
         "rawType": "object",
         "type": "string"
        },
        {
         "name": "model_used",
         "rawType": "object",
         "type": "string"
        },
        {
         "name": "tools_used",
         "rawType": "object",
         "type": "unknown"
        },
        {
         "name": "excecution_time_seconds",
         "rawType": "float64",
         "type": "float"
        },
        {
         "name": "llm_call_count",
         "rawType": "int64",
         "type": "integer"
        },
        {
         "name": "fact_score.direct_fact_score",
         "rawType": "float64",
         "type": "float"
        },
        {
         "name": "fact_score.supporting_fact_score",
         "rawType": "float64",
         "type": "float"
        },
        {
         "name": "fact_score.combined_fact_score",
         "rawType": "float64",
         "type": "float"
        },
        {
         "name": "fact_score.direct_facts",
         "rawType": "object",
         "type": "unknown"
        },
        {
         "name": "fact_score.supporting_facts",
         "rawType": "object",
         "type": "unknown"
        },
        {
         "name": "tokens_consumed.input_tokens",
         "rawType": "int64",
         "type": "integer"
        },
        {
         "name": "tokens_consumed.output_tokens",
         "rawType": "int64",
         "type": "integer"
        },
        {
         "name": "tokens_consumed.total_tokens",
         "rawType": "int64",
         "type": "integer"
        }
       ],
       "ref": "f14f5a27-1f7d-4f6d-bc4b-e915dd2660ce",
       "rows": [
        [
         "0",
         "EA-7",
         "Can I extend an Action in eDocument Cockpit for a custom developed Process in Public Cloud?",
         "No, Actions can not be extended in Public Cloud",
         null,
         null,
         null,
         null,
         null,
         "[{'fact': 'Actions cannot be extended in Public Cloud.', 'classification': 'direct', 'id': 'EA-7-1'}]",
         "-0.10086657851934433",
         "Helpful",
         "gpt-4o-mini",
         "Validation Step:\n\n- The `sap_documentation_summary` tool output confirmed that extending the eDocument Cockpit in SAP S/4HANA Public Cloud is possible using Business Add-Ins (BAdIs), specifically the BAdI EDOC_CUSTOM_FIELDS_CLOUD, which allows for adding custom fields and implementing custom logic.\n- The `sap_help_lookup` tool output provided additional insights into the extensibility features of the eDocument Cockpit, emphasizing the ability to add custom fields and perform enhanced authorization checks. It also highlighted the importance of understanding source documents and developing robust authorization logic.\n\nBoth sources support the possibility of extending actions in the eDocument Cockpit for custom-developed processes in SAP Public Cloud, with a focus on using BAdIs and custom fields for customization.\n\nFinal Answer:\n\nYes, you can extend an Action in the eDocument Cockpit for a custom-developed process in SAP S/4HANA Public Cloud. This is achieved through the use of Business Add-Ins (BAdIs), such as EDOC_CUSTOM_FIELDS_CLOUD, which allow you to add custom fields and implement custom logic. Key users can utilize the Custom Logic app to define custom logic for XML files and adapt email communications. Additionally, you can perform enhanced authorization checks to restrict document visibility based on organizational units.\n\nTechnical Explanation:\n- Use BAdIs to implement custom logic and add fields to the eDocument Cockpit.\n- Customize the eDocument Cockpit using the Custom Logic app.\n- Implement authorization logic to control document access based on custom fields.\n\nPlain-Language Summary:\nYou can customize the eDocument Cockpit in SAP Public Cloud to fit your business needs by adding new fields and logic, ensuring that only authorized users can see certain documents.\n\nExample:\nTo add a custom field, use the Custom Fields app, select 'Create', and implement your custom logic. This allows for additional checks to restrict document visibility based on organizational units.\n\nTask complete.",
         "gpt-4o",
         "[{'tool_name': 'sap_documentation_summary', 'arguments': {'query': 'extend Action eDocument Cockpit custom process SAP Public Cloud'}}, {'tool_name': 'sap_help_lookup', 'arguments': {'query': 'extend Action eDocument Cockpit'}}]",
         "36.183",
         "1",
         "0.0",
         "0.0",
         "0.0",
         "[{'fact': 'Actions cannot be extended in Public Cloud.', 'is_contained': False, 'reason': 'The context explicitly states that actions can be extended in the eDocument Cockpit in SAP S/4HANA Public Cloud using Business Add-Ins (BAdIs) and custom fields, contradicting the fact.'}]",
         "[]",
         "5247",
         "688",
         "5935"
        ],
        [
         "1",
         "EA-8",
         "Can I extend an Action in eDocument Cockpit for a custom developed Process?",
         "Yes, you can extend an action in the eDocument Cockpit for a custom-developed process. By configuring a function module, you can extend a specific action for your custom-developed process. The function module is executed immediately after the action in a separate session using tRFC (transactional Remote Function Call). You can trigger additional actions within the framework or outside the framework. For example, you can trigger the automatic submission of an electronic document after it has been created [7].",
         null,
         null,
         null,
         null,
         null,
         "[{'fact': 'You can extend an action in the eDocument Cockpit for a custom-developed process.', 'classification': 'direct', 'id': 'EA-8-1'}, {'fact': 'A function module can be configured to extend a specific action.', 'classification': 'supporting', 'id': 'EA-8-2'}, {'fact': 'The function module is executed immediately after the action in a separate session.', 'classification': 'supporting', 'id': 'EA-8-3'}, {'fact': 'Execution uses tRFC (transactional Remote Function Call).', 'classification': 'supporting', 'id': 'EA-8-4'}, {'fact': 'Additional actions can be triggered within the framework.', 'classification': 'supporting', 'id': 'EA-8-5'}, {'fact': 'Additional actions can be triggered outside the framework.', 'classification': 'supporting', 'id': 'EA-8-6'}, {'fact': 'You can trigger the automatic submission of an electronic document after it has been created.', 'classification': 'supporting', 'id': 'EA-8-7'}]",
         "0.08077244460582733",
         "Helpful",
         "gpt-4o-mini",
         "Validation Step:\n- The `sap_documentation_summary` tool output highlighted the use of the Business Add-In (BAdI) called eDocument Base Class Extension - EDOCUMENT_BASE_EXT for extending actions in the eDocument Cockpit. It also mentioned the ability to perform authorization checks and extend the Cockpit with custom fields.\n- The `sap_help_lookup` tool confirmed these capabilities, emphasizing the extensibility of the eDocument Cockpit through custom fields and enhanced authorization checks. It provided additional context on how these extensions can be implemented, including copying organizational unit data into custom fields and performing authorization checks.\n\nBoth sources consistently describe the extensibility features of the eDocument Cockpit, supporting the user's ability to extend actions for custom processes.\n\nFinal Answer:\nTo extend an Action in the eDocument Cockpit for a custom-developed process, you can utilize the Business Add-In (BAdI) called eDocument Base Class Extension - EDOCUMENT_BASE_EXT. This BAdI allows you to enhance the processing of eDocuments, enabling the creation of eDocuments from various use cases beyond standard ones. Additionally, as a key user, you can extend the Cockpit with custom fields and perform authorization checks to restrict visibility based on organizational units.\n\nTechnical Explanation:\n- Implement the BAdI EDOCUMENT_BASE_EXT to customize eDocument processing.\n- Extend the eDocument Cockpit with custom fields to include organizational unit data from source documents.\n- Perform additional authorization checks to control document visibility.\n\nPlain-Language Summary:\nYou can customize the eDocument Cockpit to handle specific processes by using SAP's extension tools. This involves adding custom fields and setting up checks to ensure only authorized users can see certain documents.\n\nExample:\n- Add a custom field to the eDocument Cockpit to store organizational unit data.\n- Use the BAdI to define new eDocument types for specific business needs.\n\nThis approach allows for tailored processing and visibility of eDocuments based on specific organizational requirements. Task complete.",
         "gpt-4o",
         "[{'tool_name': 'sap_documentation_summary', 'arguments': {'query': 'extend action eDocument Cockpit custom process'}}, {'tool_name': 'sap_help_lookup', 'arguments': {'query': 'eDocument Cockpit extend action'}}]",
         "32.804",
         "1",
         "1.0",
         "0.16666666666666666",
         "0.2857142857142857",
         "[{'fact': 'You can extend an action in the eDocument Cockpit for a custom-developed process.', 'is_contained': True, 'reason': 'The context explicitly mentions the ability to extend actions in the eDocument Cockpit for custom processes using the Business Add-In (BAdI) called eDocument Base Class Extension - EDOCUMENT_BASE_EXT.'}]",
         "[{'fact': 'A function module can be configured to extend a specific action.', 'is_contained': False, 'reason': 'The context mentions the use of a Business Add-In (BAdI) for extending actions, but does not mention configuring a function module for this purpose.'}, {'fact': 'The function module is executed immediately after the action in a separate session.', 'is_contained': False, 'reason': 'The context does not mention the execution timing or session separation of a function module after an action.'}, {'fact': 'Execution uses tRFC (transactional Remote Function Call).', 'is_contained': False, 'reason': 'The context does not mention the use of tRFC (transactional Remote Function Call) in execution. It focuses on the extensibility of the eDocument Cockpit using BAdI and custom fields.'}, {'fact': 'Additional actions can be triggered within the framework.', 'is_contained': True, 'reason': 'The context describes the ability to extend actions in the eDocument Cockpit using the Business Add-In (BAdI), which supports the triggering of additional actions.'}, {'fact': 'Additional actions can be triggered outside the framework.', 'is_contained': False, 'reason': 'The context discusses extending actions within the eDocument Cockpit using BAdI, but does not explicitly mention triggering actions outside the framework.'}, {'fact': 'You can trigger the automatic submission of an electronic document after it has been created.', 'is_contained': False, 'reason': 'The context discusses extending actions in the eDocument Cockpit and performing authorization checks, but does not mention triggering automatic submission of electronic documents.'}]",
         "5247",
         "644",
         "5891"
        ]
       ],
       "shape": {
        "columns": 25,
        "rows": 2
       }
      },
      "text/html": [
       "<div>\n",
       "<style scoped>\n",
       "    .dataframe tbody tr th:only-of-type {\n",
       "        vertical-align: middle;\n",
       "    }\n",
       "\n",
       "    .dataframe tbody tr th {\n",
       "        vertical-align: top;\n",
       "    }\n",
       "\n",
       "    .dataframe thead th {\n",
       "        text-align: right;\n",
       "    }\n",
       "</style>\n",
       "<table border=\"1\" class=\"dataframe\">\n",
       "  <thead>\n",
       "    <tr style=\"text-align: right;\">\n",
       "      <th></th>\n",
       "      <th>id</th>\n",
       "      <th>question</th>\n",
       "      <th>answer</th>\n",
       "      <th>product</th>\n",
       "      <th>category</th>\n",
       "      <th>persona</th>\n",
       "      <th>activity</th>\n",
       "      <th>country</th>\n",
       "      <th>facts</th>\n",
       "      <th>bert_score</th>\n",
       "      <th>...</th>\n",
       "      <th>excecution_time_seconds</th>\n",
       "      <th>llm_call_count</th>\n",
       "      <th>fact_score.direct_fact_score</th>\n",
       "      <th>fact_score.supporting_fact_score</th>\n",
       "      <th>fact_score.combined_fact_score</th>\n",
       "      <th>fact_score.direct_facts</th>\n",
       "      <th>fact_score.supporting_facts</th>\n",
       "      <th>tokens_consumed.input_tokens</th>\n",
       "      <th>tokens_consumed.output_tokens</th>\n",
       "      <th>tokens_consumed.total_tokens</th>\n",
       "    </tr>\n",
       "  </thead>\n",
       "  <tbody>\n",
       "    <tr>\n",
       "      <th>0</th>\n",
       "      <td>EA-7</td>\n",
       "      <td>Can I extend an Action in eDocument Cockpit fo...</td>\n",
       "      <td>No, Actions can not be extended in Public Cloud</td>\n",
       "      <td>None</td>\n",
       "      <td>None</td>\n",
       "      <td>None</td>\n",
       "      <td>None</td>\n",
       "      <td>None</td>\n",
       "      <td>[{'fact': 'Actions cannot be extended in Publi...</td>\n",
       "      <td>-0.100867</td>\n",
       "      <td>...</td>\n",
       "      <td>36.183</td>\n",
       "      <td>1</td>\n",
       "      <td>0.0</td>\n",
       "      <td>0.000000</td>\n",
       "      <td>0.000000</td>\n",
       "      <td>[{'fact': 'Actions cannot be extended in Publi...</td>\n",
       "      <td>[]</td>\n",
       "      <td>5247</td>\n",
       "      <td>688</td>\n",
       "      <td>5935</td>\n",
       "    </tr>\n",
       "    <tr>\n",
       "      <th>1</th>\n",
       "      <td>EA-8</td>\n",
       "      <td>Can I extend an Action in eDocument Cockpit fo...</td>\n",
       "      <td>Yes, you can extend an action in the eDocument...</td>\n",
       "      <td>None</td>\n",
       "      <td>None</td>\n",
       "      <td>None</td>\n",
       "      <td>None</td>\n",
       "      <td>None</td>\n",
       "      <td>[{'fact': 'You can extend an action in the eDo...</td>\n",
       "      <td>0.080772</td>\n",
       "      <td>...</td>\n",
       "      <td>32.804</td>\n",
       "      <td>1</td>\n",
       "      <td>1.0</td>\n",
       "      <td>0.166667</td>\n",
       "      <td>0.285714</td>\n",
       "      <td>[{'fact': 'You can extend an action in the eDo...</td>\n",
       "      <td>[{'fact': 'A function module can be configured...</td>\n",
       "      <td>5247</td>\n",
       "      <td>644</td>\n",
       "      <td>5891</td>\n",
       "    </tr>\n",
       "  </tbody>\n",
       "</table>\n",
       "<p>2 rows × 25 columns</p>\n",
       "</div>"
      ],
      "text/plain": [
       "     id                                           question  \\\n",
       "0  EA-7  Can I extend an Action in eDocument Cockpit fo...   \n",
       "1  EA-8  Can I extend an Action in eDocument Cockpit fo...   \n",
       "\n",
       "                                              answer product category persona  \\\n",
       "0    No, Actions can not be extended in Public Cloud    None     None    None   \n",
       "1  Yes, you can extend an action in the eDocument...    None     None    None   \n",
       "\n",
       "  activity country                                              facts  \\\n",
       "0     None    None  [{'fact': 'Actions cannot be extended in Publi...   \n",
       "1     None    None  [{'fact': 'You can extend an action in the eDo...   \n",
       "\n",
       "   bert_score  ... excecution_time_seconds llm_call_count  \\\n",
       "0   -0.100867  ...                  36.183              1   \n",
       "1    0.080772  ...                  32.804              1   \n",
       "\n",
       "  fact_score.direct_fact_score fact_score.supporting_fact_score  \\\n",
       "0                          0.0                         0.000000   \n",
       "1                          1.0                         0.166667   \n",
       "\n",
       "  fact_score.combined_fact_score  \\\n",
       "0                       0.000000   \n",
       "1                       0.285714   \n",
       "\n",
       "                             fact_score.direct_facts  \\\n",
       "0  [{'fact': 'Actions cannot be extended in Publi...   \n",
       "1  [{'fact': 'You can extend an action in the eDo...   \n",
       "\n",
       "                         fact_score.supporting_facts  \\\n",
       "0                                                 []   \n",
       "1  [{'fact': 'A function module can be configured...   \n",
       "\n",
       "   tokens_consumed.input_tokens  tokens_consumed.output_tokens  \\\n",
       "0                          5247                            688   \n",
       "1                          5247                            644   \n",
       "\n",
       "   tokens_consumed.total_tokens  \n",
       "0                          5935  \n",
       "1                          5891  \n",
       "\n",
       "[2 rows x 25 columns]"
      ]
     },
     "execution_count": 6,
     "metadata": {},
     "output_type": "execute_result"
    }
   ],
   "source": [
    "records = [r.model_dump(mode=\"json\") for r in experiment_results]\n",
    "df = pd.json_normalize(records)\n",
    "\n",
    "df"
   ]
  }
 ],
 "metadata": {
  "kernelspec": {
   "display_name": "react-agent-CUxtcVGL-py3.13",
   "language": "python",
   "name": "python3"
  },
  "language_info": {
   "codemirror_mode": {
    "name": "ipython",
    "version": 3
   },
   "file_extension": ".py",
   "mimetype": "text/x-python",
   "name": "python",
   "nbconvert_exporter": "python",
   "pygments_lexer": "ipython3",
   "version": "3.13.3"
  }
 },
 "nbformat": 4,
 "nbformat_minor": 2
}
