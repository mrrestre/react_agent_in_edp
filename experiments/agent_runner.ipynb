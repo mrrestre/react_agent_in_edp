{
 "cells": [
  {
   "cell_type": "code",
   "execution_count": 1,
   "metadata": {},
   "outputs": [],
   "source": [
    "import os\n",
    "import json\n",
    "from IPython.display import Image, display\n",
    "\n",
    "from langchain_mcp_adapters.client import MultiServerMCPClient\n",
    "\n",
    "from react_agent.src.agents.react_agent import ReActAgent\n",
    "from react_agent.src.agents.triage import Triage\n",
    "\n",
    "from react_agent.src.util.tools_fabric import ToolsFabric\n",
    "\n",
    "from react_agent.src.util.llm_proxy import LLM_PROXY\n",
    "\n",
    "from experiments.util.fact_score.fact_scorer import FactScorer"
   ]
  },
  {
   "cell_type": "code",
   "execution_count": 2,
   "metadata": {},
   "outputs": [],
   "source": [
    "USE_MCP = False\n",
    "fact_scorer = FactScorer()\n",
    "path_to_ressources = \"./ressources/\"\n",
    "\n",
    "files = {\n",
    "    \"extensibility\": \"extensibility_assistance_result.json\",\n",
    "    \"malaysia\": \"malaysia_support_result.json\",\n",
    "    \"peppol\": \"peppol_support_result.json\",\n",
    "}"
   ]
  },
  {
   "cell_type": "code",
   "execution_count": 3,
   "metadata": {},
   "outputs": [],
   "source": [
    "file_path = os.path.abspath(path_to_ressources + files[\"extensibility\"])\n",
    "\n",
    "\n",
    "with open(file_path, encoding=\"utf8\") as f:\n",
    "    json_file = json.load(f)"
   ]
  },
  {
   "cell_type": "code",
   "execution_count": 4,
   "metadata": {},
   "outputs": [
    {
     "name": "stdout",
     "output_type": "stream",
     "text": [
      "Case ID:  EA-3\n"
     ]
    }
   ],
   "source": [
    "case = json_file[\"cases\"][2]\n",
    "print(\"Case ID: \", case[\"id\"])"
   ]
  },
  {
   "cell_type": "code",
   "execution_count": 5,
   "metadata": {},
   "outputs": [
    {
     "name": "stdout",
     "output_type": "stream",
     "text": [
      "{'user_query': 'For a Greece customer invoice process in Public Cloud, can I enhance or extend the generated XML before it is sent to the authorities?', 'category': 'Knowledge-QA'}\n"
     ]
    }
   ],
   "source": [
    "triage_agent = Triage()\n",
    "\n",
    "query_categorization = triage_agent.triage_user_message(\n",
    "    user_message=case[\"question\"]\n",
    ")\n",
    "print(query_categorization)"
   ]
  },
  {
   "cell_type": "code",
   "execution_count": 6,
   "metadata": {},
   "outputs": [],
   "source": [
    "tools = ToolsFabric.get_tools_for_category( use_mcp = USE_MCP, configuration = query_categorization[\"category\"] )"
   ]
  },
  {
   "cell_type": "code",
   "execution_count": 7,
   "metadata": {},
   "outputs": [
    {
     "name": "stdout",
     "output_type": "stream",
     "text": [
      "================================\u001b[1m Human Message \u001b[0m=================================\n",
      "\n",
      "For a Greece customer invoice process in Public Cloud, can I enhance or extend the generated XML before it is sent to the authorities?\n",
      "==================================\u001b[1m Ai Message \u001b[0m==================================\n",
      "\n",
      "Observation:\n",
      "The user is asking whether it's possible to enhance or extend the XML generated for a Greece customer invoice process in SAP Public Cloud before it is sent to the authorities.\n",
      "\n",
      "Thought:\n",
      "To answer this question, I need to determine if SAP Document and Reporting Compliance allows for customization or extension of the XML output for Greece customer invoices. This involves understanding the capabilities and limitations of the system in terms of XML manipulation and compliance requirements.\n",
      "\n",
      "Action Plan:\n",
      "1. Retrieve relevant information about customizing or extending XML in SAP Document and Reporting Compliance for Greece invoices.\n",
      "2. Check if there are specific guidelines or restrictions related to XML modifications for compliance purposes.\n",
      "3. Provide a detailed answer based on the findings.\n",
      "\n",
      "Action:\n",
      "Use the `retrieve_troubleshooting_guide` tool to find information related to customizing or extending XML for Greece customer invoices in SAP Public Cloud.\n",
      "\n",
      "Parameters:\n",
      "- query: \"Greece invoice XML customization SAP Public Cloud\"\n",
      "Tool Calls:\n",
      "  retrieve_troubleshooting_guide (call_X2m7O1bmtcTHJXVq2rewnwqF)\n",
      " Call ID: call_X2m7O1bmtcTHJXVq2rewnwqF\n",
      "  Args:\n",
      "    query: Greece invoice XML customization SAP Public Cloud\n",
      "=================================\u001b[1m Tool Message \u001b[0m=================================\n",
      "Name: retrieve_troubleshooting_guide\n",
      "\n",
      "E18 - Electronic invoicing for Egypt:The Electronic Document Processing (Document and Reporting Compliance) solution does not have a standard version for Egypt and there are no plans for that.A solution has been developed by a local partner as extension on SAP Document and Reporting Compliance including the integration into Electronic Document Processing Framework, eDocument Cockpit and the integration with the tax authority. If you are interested in knowing more information about the partner extension, send an email togsjam@sap.comto access theSAP Jam group 'MENA Localization SIG'. Notice that this local partner solution is not supported by SAP. For any other legal changes, check the appLegal Change Notification.\n",
      "The Invoice List functionality is not in the scope of electronic documents for countries using Peppol. You must generate electronic documents based in separate invoices. Note that you can submit this idea and/or improvement requests via Customer Influence program. This is the channel where customers can influence the development. See the SAP Note 11 (Shape and influence releases of products).\n",
      "To solve this issue, implement the SAP Notes 2974315 (eDoc EU eInvoice Email ABAP Proxy Objects Changes) and 2947961 (eDoc EU eInvoice Email Corrections).\n",
      "==================================\u001b[1m Ai Message \u001b[0m==================================\n",
      "\n",
      "Observation (Result):\n",
      "The retrieved information does not directly address the customization or extension of XML for Greece invoices in SAP Public Cloud. It mentions electronic invoicing for Egypt and Peppol, but not Greece specifically.\n",
      "\n",
      "Thought (Synthesis & Validation):\n",
      "The result does not provide the needed information about Greece invoice XML customization. I need to find specific details about whether SAP Document and Reporting Compliance allows XML customization for Greece invoices. Since the current result is not relevant, I should try another approach to gather the necessary information.\n",
      "\n",
      "Action Plan:\n",
      "1. Use the `get_doc_summary` tool to search for a concise summary related to Greece invoice XML customization in SAP Public Cloud.\n",
      "2. If the summary provides relevant insights, use it to form the final answer.\n",
      "\n",
      "Action:\n",
      "Use the `get_doc_summary` tool to find a concise summary related to Greece invoice XML customization.\n",
      "\n",
      "Parameters:\n",
      "- query: \"Greece invoice XML customization\"\n",
      "Tool Calls:\n",
      "  get_doc_summary (call_mRAIx5F9VYs4y5uOFiRCPkQz)\n",
      " Call ID: call_mRAIx5F9VYs4y5uOFiRCPkQz\n",
      "  Args:\n",
      "    query: Greece invoice XML customization\n",
      "=================================\u001b[1m Tool Message \u001b[0m=================================\n",
      "Name: get_doc_summary\n",
      "\n",
      "The markdown content provides detailed guidance on customizing Greece invoice XMLs within the SAP S/4HANA environment, focusing on electronic document processing and compliance with Greek tax authorities. Here are the key technical details relevant to the user's query:\n",
      "\n",
      "### Prerequisites and SAP Notes\n",
      "- **SAP Note 3331368**: Essential for implementing electronic document variations in Greece.\n",
      "- **SAP Note 3274385**: Required for processing eBook variations in the eDocument Cockpit or Manage Electronic Documents app.\n",
      "\n",
      "### eDocument Cockpit (EDOC_COCKPIT)\n",
      "- **Transaction Code**: EDOC_COCKPIT is used for managing electronic documents, including Greece eBooks and variations.\n",
      "- **Processes**: Includes Greece eBooks, Greece myDATA eBooks, Greece eBooks Summary, and Greece Incoming eBooks.\n",
      "\n",
      "### Variation Types\n",
      "- **Recipient Omission**: When the invoice issuer fails to submit to myDATA, and the recipient submits it as an omission.\n",
      "- **Issuer Omission**: Similar to recipient omission but initiated by the issuer.\n",
      "- **Recipient Deviation**: Occurs when the net value submitted by the issuer is less than the recipient's accounting posting.\n",
      "- **Issuer Deviation**: Occurs when the net value differs from the recipient's accounting posting.\n",
      "\n",
      "### Procedure for Processing eBook Variations\n",
      "1. **Excel Upload**: For 2021 variations, maintain data in an Excel file and upload using a special program.\n",
      "2. **eDocument Creation**: Automatically create eDocuments for each row in the Excel file.\n",
      "3. **XML Submission**: Submit eDocuments, which are converted into XML format and forwarded to the recipient.\n",
      "4. **Automated Jobs**: Creation and submission can be automated using jobs.\n",
      "\n",
      "### Customizing and Configuration\n",
      "- **Customizing Activities**: Maintain G/L accounts for invoice types under Cross-Application Components > General Application Functions > Document and Reporting Compliance > Country/Region-Specific Settings > Greece > Electronic Document Processing.\n",
      "- **eDocument Types**: Determined by standard system logic and customizing configurations. Essential for creating eDocuments from source documents like SD or FI customer invoices, invoice verification documents, and FI vendor invoices.\n",
      "\n",
      "### Enhancements and Extensions\n",
      "- **Business Add-Ins (BAdIs)**: Use EDOCUMENT_GR BAdI for enhancements specific to Greece.\n",
      "- **eDocument Mapping Extensions (EDOC_MAP_GR)**: Update mappings for invoice type, income or expense classification, and VAT classification.\n",
      "\n",
      "### Integration and Logging\n",
      "- **SAP Cloud Integration**: Required for XML file mapping and communication with tax authorities.\n",
      "- **Read Access Logging**: Use transaction SRALMANAGER to monitor and log access to sensitive data in electronic documents.\n",
      "\n",
      "### Downloading Invoices in XML Format as a Buyer\n",
      "- **eDocument Inbound Message Handler**: Use report EDOC_MESSAGE_HANDLING with message types `GR_INV_MDSUM__IN_PULL` and `GR_INV_MD_ADPAR_PULL` to process incoming invoices.\n",
      "- **Matching Process**: Automatic matching of pulled invoices with posted invoices. Manual matching can be performed if necessary.\n",
      "\n",
      "### Additional Tools and Reports\n",
      "- **Create Consolidated eDocuments**: Use transaction EDOC_GR_SUMMARY to create classification list eDocuments for matched invoices.\n",
      "\n",
      "This content provides a comprehensive overview of the technical steps and components involved in customizing Greece invoice XMLs within SAP S/4HANA, ensuring compliance with local tax regulations and efficient electronic document processing.\n",
      "==================================\u001b[1m Ai Message \u001b[0m==================================\n",
      "\n",
      "Final Answer:\n",
      "\n",
      "Yes, you can enhance or extend the generated XML for Greece customer invoices in SAP Public Cloud before it is sent to the authorities. The SAP S/4HANA environment provides several tools and configurations to customize electronic document processing for compliance with Greek tax authorities.\n",
      "\n",
      "### Key Technical Details:\n",
      "\n",
      "1. **Prerequisites and SAP Notes**:\n",
      "   - Implement SAP Note 3331368 for electronic document variations in Greece.\n",
      "   - Implement SAP Note 3274385 for processing eBook variations in the eDocument Cockpit or Manage Electronic Documents app.\n",
      "\n",
      "2. **eDocument Cockpit (EDOC_COCKPIT)**:\n",
      "   - Use transaction code EDOC_COCKPIT to manage electronic documents, including Greece eBooks and variations.\n",
      "\n",
      "3. **Enhancements and Extensions**:\n",
      "   - Utilize Business Add-Ins (BAdIs) like EDOCUMENT_GR for Greece-specific enhancements.\n",
      "   - Update eDocument Mapping Extensions (EDOC_MAP_GR) for invoice type, income or expense classification, and VAT classification.\n",
      "\n",
      "4. **Customizing and Configuration**:\n",
      "   - Maintain G/L accounts for invoice types under Cross-Application Components > General Application Functions > Document and Reporting Compliance > Country/Region-Specific Settings > Greece > Electronic Document Processing.\n",
      "\n",
      "5. **Integration and Logging**:\n",
      "   - Use SAP Cloud Integration for XML file mapping and communication with tax authorities.\n",
      "   - Monitor and log access to sensitive data using transaction SRALMANAGER.\n",
      "\n",
      "### Example Process:\n",
      "- **Excel Upload**: Maintain data in an Excel file and upload using a special program for variations.\n",
      "- **eDocument Creation**: Automatically create eDocuments for each row in the Excel file.\n",
      "- **XML Submission**: Submit eDocuments, which are converted into XML format and forwarded to the recipient.\n",
      "\n",
      "These tools and configurations allow for significant customization of the XML output, ensuring compliance with local regulations and efficient processing. If further customization is needed, you can explore additional enhancements through SAP's Customer Influence program.\n",
      "\n",
      "### Suggested Next Steps:\n",
      "- Review the relevant SAP Notes and ensure they are implemented.\n",
      "- Explore the use of BAdIs and mapping extensions for specific customization needs.\n",
      "- Consider engaging with SAP's Customer Influence program for additional customization requests.\n"
     ]
    }
   ],
   "source": [
    "if USE_MCP:\n",
    "    async with MultiServerMCPClient( tools ) as client:\n",
    "        agent = ReActAgent(tool_list=client.get_tools())\n",
    "        await agent.arun_and_print_agent_stream(\n",
    "            user_message=query_categorization[\"user_query\"]\n",
    "        )\n",
    "else:\n",
    "    agent = ReActAgent(tool_list=tools)\n",
    "    agent.run_and_print_agent_stream(user_message=query_categorization[\"user_query\"])"
   ]
  },
  {
   "cell_type": "code",
   "execution_count": 8,
   "metadata": {},
   "outputs": [],
   "source": [
    "agent_answer = agent.response_message.content"
   ]
  },
  {
   "cell_type": "code",
   "execution_count": 9,
   "metadata": {},
   "outputs": [
    {
     "name": "stdout",
     "output_type": "stream",
     "text": [
      "Fact: You can enhance the generated XML before it is sent to the authorities.\n",
      "Contained: True\n",
      "Reason: The context explicitly states that you can enhance or extend the generated XML for Greece customer invoices in SAP Public Cloud before it is sent to the authorities.\n",
      "----------------------------------------\n",
      "Fact: You can extend the generated XML before it is sent to the authorities.\n",
      "Contained: True\n",
      "Reason: The context explicitly states that you can enhance or extend the generated XML for Greece customer invoices in SAP Public Cloud before it is sent to the authorities.\n",
      "----------------------------------------\n",
      "Fact: The enhancement or extension is done using the method SET_OUTPUT_DATA.\n",
      "Contained: False\n",
      "Reason: The context mentions various tools and methods for enhancing or extending XML output, but does not specifically mention the method SET_OUTPUT_DATA.\n",
      "----------------------------------------\n",
      "Fact: The method SET_OUTPUT_DATA is part of BAdI EDOC_ADAPTOR_CLOUD.\n",
      "Contained: False\n",
      "Reason: The context does not mention the method SET_OUTPUT_DATA or the BAdI EDOC_ADAPTOR_CLOUD.\n",
      "----------------------------------------\n"
     ]
    }
   ],
   "source": [
    "output = await fact_scorer.classify_facts_in_context(facts=case.get(\"facts\"), knowledge_source=agent_answer)\n",
    "\n",
    "for result in output:\n",
    "    print(f\"Fact: {result.fact}\")\n",
    "    print(f\"Contained: {result.is_contained}\")\n",
    "    print(f\"Reason: {result.reason}\")\n",
    "    print(\"-\" * 40)"
   ]
  },
  {
   "cell_type": "code",
   "execution_count": 10,
   "metadata": {},
   "outputs": [
    {
     "name": "stdout",
     "output_type": "stream",
     "text": [
      "Call Count: 8\n",
      "Token Usage: {'input_tokens': 16910, 'output_tokens': 1832, 'total_tokens': 18742}\n"
     ]
    }
   ],
   "source": [
    "LLM_PROXY.print_usage()"
   ]
  }
 ],
 "metadata": {
  "kernelspec": {
   "display_name": "react-agent-CUxtcVGL-py3.13",
   "language": "python",
   "name": "python3"
  },
  "language_info": {
   "codemirror_mode": {
    "name": "ipython",
    "version": 3
   },
   "file_extension": ".py",
   "mimetype": "text/x-python",
   "name": "python",
   "nbconvert_exporter": "python",
   "pygments_lexer": "ipython3",
   "version": "3.13.3"
  }
 },
 "nbformat": 4,
 "nbformat_minor": 2
}
