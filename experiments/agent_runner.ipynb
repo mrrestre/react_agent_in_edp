{
 "cells": [
  {
   "cell_type": "code",
   "execution_count": 1,
   "metadata": {},
   "outputs": [],
   "source": [
    "import os\n",
    "import json\n",
    "import random\n",
    "import pandas as pd\n",
    "\n",
    "from langchain_mcp_adapters.client import MultiServerMCPClient\n",
    "\n",
    "from react_agent.src.agents.react_agent import ReActAgent\n",
    "from react_agent.src.agents.triage import Triage\n",
    "\n",
    "from react_agent.src.util.tools_fabric import ToolsFabric\n",
    "\n",
    "from experiments.models.experiment_models import LabeledQAPairFacts, ExperimentResult\n",
    "from experiments.util.fact_score.fact_scorer import FactScorer"
   ]
  },
  {
   "cell_type": "code",
   "execution_count": 2,
   "metadata": {},
   "outputs": [],
   "source": [
    "USE_MCP = True\n",
    "DEBUG_MODE = False\n",
    "\n",
    "fact_scorer = FactScorer()\n",
    "path_to_ressources = \"./resources/01_facts/\"\n",
    "\n",
    "files = {\n",
    "    \"extensibility\": \"extensibility_assistance_facts.json\",\n",
    "    \"malaysia\": \"malaysia_support_facts.json\",\n",
    "    \"peppol\": \"peppol_support_facts.json\",\n",
    "    \"all\": \"all_cases_facts.json\",\n",
    "}"
   ]
  },
  {
   "cell_type": "code",
   "execution_count": 3,
   "metadata": {},
   "outputs": [],
   "source": [
    "file_path = os.path.abspath(path_to_ressources + files[\"all\"])\n",
    "\n",
    "\n",
    "with open(file_path, encoding=\"utf8\") as f:\n",
    "    data = json.load(f)\n",
    "    data_set = [LabeledQAPairFacts(**item) for item in data]"
   ]
  },
  {
   "cell_type": "code",
   "execution_count": 4,
   "metadata": {},
   "outputs": [],
   "source": [
    "# Select 3 random elements\n",
    "random_data_set = random.sample(data_set, 2)"
   ]
  },
  {
   "cell_type": "code",
   "execution_count": 5,
   "metadata": {},
   "outputs": [
    {
     "name": "stdout",
     "output_type": "stream",
     "text": [
      "Asking agent question with id: EA-43\n",
      "Finished agent execution\n",
      "Started FactScore calculation\n",
      "Finished experiment for id: EA-43\n",
      "\n",
      "Asking agent question with id: EA-23\n",
      "Finished agent execution\n",
      "Started FactScore calculation\n",
      "Finished experiment for id: EA-23\n",
      "\n"
     ]
    }
   ],
   "source": [
    "triage_agent = Triage()\n",
    "execution_trail = \"\"\n",
    "experiment_results: list[ExperimentResult] = []\n",
    "\n",
    "for data_row in random_data_set:\n",
    "    result = ExperimentResult(\n",
    "        id=data_row.id,\n",
    "        question=data_row.question,\n",
    "        answer=data_row.answer,\n",
    "        product=data_row.product,\n",
    "        category=data_row.category,\n",
    "        persona=data_row.persona,\n",
    "        activity=data_row.activity,\n",
    "        country=data_row.country,\n",
    "    )\n",
    "    print(f\"Asking agent question with id: {data_row.id}\")\n",
    "    query_categorization = triage_agent.triage_user_message(\n",
    "        user_message=data_row.question\n",
    "    )\n",
    "    if DEBUG_MODE:\n",
    "        print(f\"Query categorization: {query_categorization}\")\n",
    "\n",
    "    tools = ToolsFabric.get_tools_for_category(\n",
    "        use_mcp=USE_MCP,\n",
    "        configuration=query_categorization[\"category\"],\n",
    "    )\n",
    "\n",
    "    if USE_MCP:\n",
    "        async with MultiServerMCPClient(tools) as client:\n",
    "            agent = ReActAgent(tool_list=client.get_tools())\n",
    "            execution_trail = await agent.arun_agent_with_input(\n",
    "                user_message=query_categorization[\"user_query\"], debug=DEBUG_MODE\n",
    "            )\n",
    "    else:\n",
    "        agent = ReActAgent(tool_list=tools)\n",
    "        execution_trail = agent.run_agent_with_input(\n",
    "            user_message=query_categorization[\"user_query\"], debug=DEBUG_MODE\n",
    "        )\n",
    "\n",
    "    run_data = agent.get_execution_data()\n",
    "\n",
    "    result.tools_used = run_data.tools_used\n",
    "    result.excecution_time_seconds = run_data.excecution_time_seconds\n",
    "    result.model_used = run_data.model_used\n",
    "    result.tokens_consumed = run_data.tokens_consumed\n",
    "    result.llm_call_count = run_data.llm_call_count\n",
    "    result.facts = data_row.facts\n",
    "\n",
    "    print(\"Finished agent execution\")\n",
    "\n",
    "    print(\"Started FactScore calculation\")\n",
    "    result.fact_score = await fact_scorer.get_fact_score(\n",
    "        facts=data_row.facts,\n",
    "        knowledge_source=run_data.final_output,\n",
    "        debug=DEBUG_MODE,\n",
    "    )\n",
    "\n",
    "    print(f\"Finished experiment for id: {data_row.id}\\n\")\n",
    "\n",
    "    experiment_results.append(result)"
   ]
  },
  {
   "cell_type": "code",
   "execution_count": 6,
   "metadata": {},
   "outputs": [
    {
     "name": "stderr",
     "output_type": "stream",
     "text": [
      "/Users/i589287/Library/Caches/pypoetry/virtualenvs/react-agent-CUxtcVGL-py3.13/lib/python3.13/site-packages/pydantic/main.py:426: UserWarning: Pydantic serializer warnings:\n",
      "  Expected `float` but got `FactScoreResult` with value `FactScoreResult(direct_fa... further processing.')])` - serialized value may not be as expected\n",
      "  return self.__pydantic_serializer__.to_python(\n",
      "/Users/i589287/Library/Caches/pypoetry/virtualenvs/react-agent-CUxtcVGL-py3.13/lib/python3.13/site-packages/pydantic/main.py:426: UserWarning: Pydantic serializer warnings:\n",
      "  Expected `float` but got `FactScoreResult` with value `FactScoreResult(direct_fa...DOC_CHANGE_EMAIL_V2.')])` - serialized value may not be as expected\n",
      "  return self.__pydantic_serializer__.to_python(\n"
     ]
    },
    {
     "data": {
      "application/vnd.microsoft.datawrangler.viewer.v0+json": {
       "columns": [
        {
         "name": "index",
         "rawType": "int64",
         "type": "integer"
        },
        {
         "name": "id",
         "rawType": "object",
         "type": "string"
        },
        {
         "name": "question",
         "rawType": "object",
         "type": "string"
        },
        {
         "name": "answer",
         "rawType": "object",
         "type": "string"
        },
        {
         "name": "product",
         "rawType": "object",
         "type": "unknown"
        },
        {
         "name": "category",
         "rawType": "object",
         "type": "unknown"
        },
        {
         "name": "persona",
         "rawType": "object",
         "type": "unknown"
        },
        {
         "name": "activity",
         "rawType": "object",
         "type": "unknown"
        },
        {
         "name": "country",
         "rawType": "object",
         "type": "unknown"
        },
        {
         "name": "facts",
         "rawType": "object",
         "type": "unknown"
        },
        {
         "name": "bert_score",
         "rawType": "float64",
         "type": "float"
        },
        {
         "name": "rouge_score",
         "rawType": "float64",
         "type": "float"
        },
        {
         "name": "tools_used",
         "rawType": "object",
         "type": "unknown"
        },
        {
         "name": "excecution_time_seconds",
         "rawType": "float64",
         "type": "float"
        },
        {
         "name": "model_used",
         "rawType": "object",
         "type": "string"
        },
        {
         "name": "llm_call_count",
         "rawType": "int64",
         "type": "integer"
        },
        {
         "name": "fact_score.direct_fact_score",
         "rawType": "float64",
         "type": "float"
        },
        {
         "name": "fact_score.supporting_fact_score",
         "rawType": "float64",
         "type": "float"
        },
        {
         "name": "fact_score.combined_fact_score",
         "rawType": "float64",
         "type": "float"
        },
        {
         "name": "fact_score.direct_facts",
         "rawType": "object",
         "type": "unknown"
        },
        {
         "name": "fact_score.supporting_facts",
         "rawType": "object",
         "type": "unknown"
        },
        {
         "name": "tokens_consumed.input_tokens",
         "rawType": "int64",
         "type": "integer"
        },
        {
         "name": "tokens_consumed.output_tokens",
         "rawType": "int64",
         "type": "integer"
        },
        {
         "name": "tokens_consumed.total_tokens",
         "rawType": "int64",
         "type": "integer"
        }
       ],
       "conversionMethod": "pd.DataFrame",
       "ref": "5f5f5d88-c698-49aa-9a0b-213f78b6a271",
       "rows": [
        [
         "0",
         "EA-43",
         "What are the settings required before I can send documents from the external system to SAP in Private Cloud systems?",
         "Before you can start exchanging electronic documents, you must carry out the required settings to send the documents from the external system to your SAP system and to create electronic documents for further processing.\n1. Defining External Document Systems\n2. Maintaining External Document Organizational Unit\n3. Assigning External System and Organizational Unit to Company Code\n4. Assigning Process Status to External Document Status\n5. Registering Factory Class for External Documents",
         null,
         null,
         null,
         null,
         null,
         "[{'fact': 'You must define external document systems.', 'classification': 'direct', 'id': 'EA-43-1'}, {'fact': 'You must maintain external document organizational unit.', 'classification': 'direct', 'id': 'EA-43-2'}, {'fact': 'You must assign external system and organizational unit to company code.', 'classification': 'direct', 'id': 'EA-43-3'}, {'fact': 'You must assign process status to external document status.', 'classification': 'direct', 'id': 'EA-43-4'}, {'fact': 'You must register factory class for external documents.', 'classification': 'direct', 'id': 'EA-43-5'}, {'fact': 'Required settings are necessary to send documents from the external system to SAP.', 'classification': 'supporting', 'id': 'EA-43-6'}, {'fact': 'Settings are needed to create electronic documents for further processing.', 'classification': 'supporting', 'id': 'EA-43-7'}]",
         "0.0",
         "0.0",
         "[{'tool_name': 'sap_documentation_summary', 'arguments': {'query': 'settings for sending documents from external systems to SAP Private Cloud systems'}}, {'tool_name': 'sap_help_lookup', 'arguments': {'query': 'settings for sending documents from external systems to SAP Private Cloud systems'}}]",
         "29.95",
         "gpt-4o",
         "0",
         "0.0",
         "0.5",
         "0.14285714285714285",
         "[{'fact': 'You must define external document systems.', 'is_contained': False, 'reason': 'The context discusses settings and configurations for sending documents from external systems to SAP Private Cloud systems but does not explicitly state that external document systems must be defined.'}, {'fact': 'You must maintain external document organizational unit.', 'is_contained': False, 'reason': 'The context does not mention maintaining an external document organizational unit. It focuses on integration steps, secure communication, and authentication methods for document exchange.'}, {'fact': 'You must assign external system and organizational unit to company code.', 'is_contained': False, 'reason': 'The context does not mention assigning external systems and organizational units to a company code.'}, {'fact': 'You must assign process status to external document status.', 'is_contained': False, 'reason': 'The context does not mention assigning process status to external document status. It focuses on integration steps, secure communication, and authentication methods for document exchange.'}, {'fact': 'You must register factory class for external documents.', 'is_contained': False, 'reason': 'The context does not mention the requirement to register a factory class for external documents.'}]",
         "[{'fact': 'Required settings are necessary to send documents from the external system to SAP.', 'is_contained': True, 'reason': 'The context explicitly states that several settings and configurations are required to send documents from external systems to SAP Private Cloud systems.'}, {'fact': 'Settings are needed to create electronic documents for further processing.', 'is_contained': False, 'reason': 'The context discusses settings for sending documents from external systems to SAP Private Cloud systems, but does not explicitly mention creating electronic documents for further processing.'}]",
         "19455",
         "1071",
         "20526"
        ],
        [
         "1",
         "EA-23",
         "What are the required steps to implement Business Add-In (BAdI) EDOC_PART_CONN_CHANGE_EMAIL_V2 in Public Cloud using ADT?",
         "To implement the Business Add-In (BAdI) EDOC_PART_CONN_CHANGE_EMAIL_V2 in Public Cloud using ABAP Development Tools (ADT), you need to follow these steps:\n1. In your ABAP project, go to the enhancement spot ES_EDOCUMENT_CLOUD (path: package GLO-EDO > Enhancements > Enhancement Spots).\n2. Right-click ES_EDOCUMENT_CLOUD and select New BAdI Enhancement Implementation.\n3. Enter a package, name, and description.\n4. Choose Add BAdI Implementation and select EDOC_PART_CONN_CHANGE_EMAIL_V2.\n5. Enter a BAdI implementation name.\n6. Choose Implementing Class to create a new implementation class. The new implementation class automatically implements the interface IF_EDOC_CHANGE_EMAIL_V2.\n7. After generating the class, open the interface method and press F3 to view its parameters. You are now ready to implement your custom logic. To display the documentation, press F2.",
         null,
         null,
         null,
         null,
         null,
         "[{'fact': 'The BAdI to implement is EDOC_PART_CONN_CHANGE_EMAIL_V2.', 'classification': 'direct', 'id': 'EA-23-1'}, {'fact': 'Implementation is done in Public Cloud using ABAP Development Tools (ADT).', 'classification': 'direct', 'id': 'EA-23-2'}, {'fact': 'Go to enhancement spot ES_EDOCUMENT_CLOUD in your ABAP project.', 'classification': 'direct', 'id': 'EA-23-3'}, {'fact': 'The path to ES_EDOCUMENT_CLOUD is package GLO-EDO > Enhancements > Enhancement Spots.', 'classification': 'supporting', 'id': 'EA-23-4'}, {'fact': 'Select New BAdI Enhancement Implementation by right-clicking ES_EDOCUMENT_CLOUD.', 'classification': 'direct', 'id': 'EA-23-5'}, {'fact': 'Enter a package, name, and description for the implementation.', 'classification': 'direct', 'id': 'EA-23-6'}, {'fact': 'Choose Add BAdI Implementation and select EDOC_PART_CONN_CHANGE_EMAIL_V2.', 'classification': 'direct', 'id': 'EA-23-7'}, {'fact': 'Enter a BAdI implementation name.', 'classification': 'direct', 'id': 'EA-23-8'}, {'fact': 'Create a new implementation class by choosing Implementing Class.', 'classification': 'direct', 'id': 'EA-23-9'}, {'fact': 'The new implementation class automatically implements the interface IF_EDOC_CHANGE_EMAIL_V2.', 'classification': 'supporting', 'id': 'EA-23-10'}]",
         "0.0",
         "0.0",
         "[{'tool_name': 'sap_documentation_summary', 'arguments': {'query': 'implement Business Add-In EDOC_PART_CONN_CHANGE_EMAIL_V2 in Public Cloud using ADT'}}, {'tool_name': 'sap_help_lookup', 'arguments': {'query': 'BAdI EDOC_PART_CONN_CHANGE_EMAIL_V2 implementation steps in Public Cloud using ADT'}}]",
         "36.466",
         "gpt-4o",
         "7",
         "1.0",
         "1.0",
         "1.0",
         "[{'fact': 'The BAdI to implement is EDOC_PART_CONN_CHANGE_EMAIL_V2.', 'is_contained': True, 'reason': \"The context explicitly mentions the implementation of the BAdI 'EDOC_PART_CONN_CHANGE_EMAIL_V2'.\"}, {'fact': 'Implementation is done in Public Cloud using ABAP Development Tools (ADT).', 'is_contained': True, 'reason': 'The context explicitly mentions implementing the BAdI in the Public Cloud using ABAP Development Tools (ADT).'}, {'fact': 'Go to enhancement spot ES_EDOCUMENT_CLOUD in your ABAP project.', 'is_contained': True, 'reason': 'The context explicitly instructs to navigate to the enhancement spot ES_EDOCUMENT_CLOUD within the ABAP project.'}, {'fact': 'Select New BAdI Enhancement Implementation by right-clicking ES_EDOCUMENT_CLOUD.', 'is_contained': True, 'reason': \"The context explicitly states that to create a new BAdI Enhancement Implementation, you should right-click on ES_EDOCUMENT_CLOUD and select 'New BAdI Enhancement Implementation'.\"}, {'fact': 'Enter a package, name, and description for the implementation.', 'is_contained': True, 'reason': 'The context explicitly states that when creating a new BAdI Enhancement Implementation, you should provide a package, name, and description for your implementation.'}, {'fact': 'Choose Add BAdI Implementation and select EDOC_PART_CONN_CHANGE_EMAIL_V2.', 'is_contained': True, 'reason': \"The context explicitly states to choose 'Add BAdI Implementation' and select 'EDOC_PART_CONN_CHANGE_EMAIL_V2'.\"}, {'fact': 'Enter a BAdI implementation name.', 'is_contained': True, 'reason': 'The context explicitly instructs to enter a name for the BAdI implementation during the process of adding a BAdI implementation.'}, {'fact': 'Create a new implementation class by choosing Implementing Class.', 'is_contained': True, 'reason': \"The context explicitly states that selecting 'Implementing Class' will create a new implementation class.\"}]",
         "[{'fact': 'The path to ES_EDOCUMENT_CLOUD is package GLO-EDO > Enhancements > Enhancement Spots.', 'is_contained': True, 'reason': 'The context explicitly states that the enhancement spot ES_EDOCUMENT_CLOUD can be found under the package path: GLO-EDO > Enhancements > Enhancement Spots.'}, {'fact': 'The new implementation class automatically implements the interface IF_EDOC_CHANGE_EMAIL_V2.', 'is_contained': True, 'reason': 'The context explicitly states that the new implementation class will automatically implement the interface IF_EDOC_CHANGE_EMAIL_V2.'}]",
         "19455",
         "1071",
         "20526"
        ]
       ],
       "shape": {
        "columns": 23,
        "rows": 2
       }
      },
      "text/html": [
       "<div>\n",
       "<style scoped>\n",
       "    .dataframe tbody tr th:only-of-type {\n",
       "        vertical-align: middle;\n",
       "    }\n",
       "\n",
       "    .dataframe tbody tr th {\n",
       "        vertical-align: top;\n",
       "    }\n",
       "\n",
       "    .dataframe thead th {\n",
       "        text-align: right;\n",
       "    }\n",
       "</style>\n",
       "<table border=\"1\" class=\"dataframe\">\n",
       "  <thead>\n",
       "    <tr style=\"text-align: right;\">\n",
       "      <th></th>\n",
       "      <th>id</th>\n",
       "      <th>question</th>\n",
       "      <th>answer</th>\n",
       "      <th>product</th>\n",
       "      <th>category</th>\n",
       "      <th>persona</th>\n",
       "      <th>activity</th>\n",
       "      <th>country</th>\n",
       "      <th>facts</th>\n",
       "      <th>bert_score</th>\n",
       "      <th>...</th>\n",
       "      <th>model_used</th>\n",
       "      <th>llm_call_count</th>\n",
       "      <th>fact_score.direct_fact_score</th>\n",
       "      <th>fact_score.supporting_fact_score</th>\n",
       "      <th>fact_score.combined_fact_score</th>\n",
       "      <th>fact_score.direct_facts</th>\n",
       "      <th>fact_score.supporting_facts</th>\n",
       "      <th>tokens_consumed.input_tokens</th>\n",
       "      <th>tokens_consumed.output_tokens</th>\n",
       "      <th>tokens_consumed.total_tokens</th>\n",
       "    </tr>\n",
       "  </thead>\n",
       "  <tbody>\n",
       "    <tr>\n",
       "      <th>0</th>\n",
       "      <td>EA-43</td>\n",
       "      <td>What are the settings required before I can se...</td>\n",
       "      <td>Before you can start exchanging electronic doc...</td>\n",
       "      <td>None</td>\n",
       "      <td>None</td>\n",
       "      <td>None</td>\n",
       "      <td>None</td>\n",
       "      <td>None</td>\n",
       "      <td>[{'fact': 'You must define external document s...</td>\n",
       "      <td>0.0</td>\n",
       "      <td>...</td>\n",
       "      <td>gpt-4o</td>\n",
       "      <td>0</td>\n",
       "      <td>0.0</td>\n",
       "      <td>0.5</td>\n",
       "      <td>0.142857</td>\n",
       "      <td>[{'fact': 'You must define external document s...</td>\n",
       "      <td>[{'fact': 'Required settings are necessary to ...</td>\n",
       "      <td>19455</td>\n",
       "      <td>1071</td>\n",
       "      <td>20526</td>\n",
       "    </tr>\n",
       "    <tr>\n",
       "      <th>1</th>\n",
       "      <td>EA-23</td>\n",
       "      <td>What are the required steps to implement Busin...</td>\n",
       "      <td>To implement the Business Add-In (BAdI) EDOC_P...</td>\n",
       "      <td>None</td>\n",
       "      <td>None</td>\n",
       "      <td>None</td>\n",
       "      <td>None</td>\n",
       "      <td>None</td>\n",
       "      <td>[{'fact': 'The BAdI to implement is EDOC_PART_...</td>\n",
       "      <td>0.0</td>\n",
       "      <td>...</td>\n",
       "      <td>gpt-4o</td>\n",
       "      <td>7</td>\n",
       "      <td>1.0</td>\n",
       "      <td>1.0</td>\n",
       "      <td>1.000000</td>\n",
       "      <td>[{'fact': 'The BAdI to implement is EDOC_PART_...</td>\n",
       "      <td>[{'fact': 'The path to ES_EDOCUMENT_CLOUD is p...</td>\n",
       "      <td>19455</td>\n",
       "      <td>1071</td>\n",
       "      <td>20526</td>\n",
       "    </tr>\n",
       "  </tbody>\n",
       "</table>\n",
       "<p>2 rows × 23 columns</p>\n",
       "</div>"
      ],
      "text/plain": [
       "      id                                           question  \\\n",
       "0  EA-43  What are the settings required before I can se...   \n",
       "1  EA-23  What are the required steps to implement Busin...   \n",
       "\n",
       "                                              answer product category persona  \\\n",
       "0  Before you can start exchanging electronic doc...    None     None    None   \n",
       "1  To implement the Business Add-In (BAdI) EDOC_P...    None     None    None   \n",
       "\n",
       "  activity country                                              facts  \\\n",
       "0     None    None  [{'fact': 'You must define external document s...   \n",
       "1     None    None  [{'fact': 'The BAdI to implement is EDOC_PART_...   \n",
       "\n",
       "   bert_score  ...  model_used llm_call_count  fact_score.direct_fact_score  \\\n",
       "0         0.0  ...      gpt-4o              0                           0.0   \n",
       "1         0.0  ...      gpt-4o              7                           1.0   \n",
       "\n",
       "  fact_score.supporting_fact_score  fact_score.combined_fact_score  \\\n",
       "0                              0.5                        0.142857   \n",
       "1                              1.0                        1.000000   \n",
       "\n",
       "                             fact_score.direct_facts  \\\n",
       "0  [{'fact': 'You must define external document s...   \n",
       "1  [{'fact': 'The BAdI to implement is EDOC_PART_...   \n",
       "\n",
       "                         fact_score.supporting_facts  \\\n",
       "0  [{'fact': 'Required settings are necessary to ...   \n",
       "1  [{'fact': 'The path to ES_EDOCUMENT_CLOUD is p...   \n",
       "\n",
       "   tokens_consumed.input_tokens tokens_consumed.output_tokens  \\\n",
       "0                         19455                          1071   \n",
       "1                         19455                          1071   \n",
       "\n",
       "  tokens_consumed.total_tokens  \n",
       "0                        20526  \n",
       "1                        20526  \n",
       "\n",
       "[2 rows x 23 columns]"
      ]
     },
     "execution_count": 6,
     "metadata": {},
     "output_type": "execute_result"
    }
   ],
   "source": [
    "records = [r.model_dump(mode=\"json\") for r in experiment_results]\n",
    "df = pd.json_normalize(records)\n",
    "\n",
    "df"
   ]
  }
 ],
 "metadata": {
  "kernelspec": {
   "display_name": "react-agent-CUxtcVGL-py3.13",
   "language": "python",
   "name": "python3"
  },
  "language_info": {
   "codemirror_mode": {
    "name": "ipython",
    "version": 3
   },
   "file_extension": ".py",
   "mimetype": "text/x-python",
   "name": "python",
   "nbconvert_exporter": "python",
   "pygments_lexer": "ipython3",
   "version": "3.13.3"
  }
 },
 "nbformat": 4,
 "nbformat_minor": 2
}
