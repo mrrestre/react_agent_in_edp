{
 "cells": [
  {
   "cell_type": "code",
   "execution_count": 1,
   "metadata": {},
   "outputs": [],
   "source": [
    "import os\n",
    "import json\n",
    "from IPython.display import Image, display\n",
    "\n",
    "from langchain_mcp_adapters.client import MultiServerMCPClient\n",
    "\n",
    "from react_agent.src.agents.react_agent import ReActAgent\n",
    "from react_agent.src.agents.triage import Triage\n",
    "\n",
    "from react_agent.src.util.tools_fabric import ToolsFabric\n",
    "\n",
    "from react_agent.src.util.llm_proxy import LLM_PROXY\n",
    "\n",
    "from experiments.util.fact_score.fact_scorer import FactScorer"
   ]
  },
  {
   "cell_type": "code",
   "execution_count": 2,
   "metadata": {},
   "outputs": [],
   "source": [
    "USE_MCP = False\n",
    "fact_scorer = FactScorer()\n",
    "path_to_ressources = \"./ressources/\"\n",
    "\n",
    "files = {\n",
    "    \"extensibility\": \"extensibility_assistance_result.json\",\n",
    "    \"malaysia\": \"malaysia_support_result.json\",\n",
    "    \"peppol\": \"peppol_support_result.json\",\n",
    "}"
   ]
  },
  {
   "cell_type": "code",
   "execution_count": 3,
   "metadata": {},
   "outputs": [],
   "source": [
    "file_path = os.path.abspath(path_to_ressources + files[\"extensibility\"])\n",
    "\n",
    "\n",
    "with open(file_path, encoding=\"utf8\") as f:\n",
    "    json_file = json.load(f)"
   ]
  },
  {
   "cell_type": "code",
   "execution_count": null,
   "metadata": {},
   "outputs": [
    {
     "name": "stdout",
     "output_type": "stream",
     "text": [
      "Case ID:  EA-2\n"
     ]
    }
   ],
   "source": [
    "case = json_file[\"cases\"][1]"
   ]
  },
  {
   "cell_type": "code",
   "execution_count": 5,
   "metadata": {},
   "outputs": [
    {
     "name": "stdout",
     "output_type": "stream",
     "text": [
      "{'user_query': 'For a Greece customer in Public Cloud, what are the steps to enhance the generated XML before sending it to the Tax Authorities using ADT?', 'category': 'Knowledge-QA'}\n"
     ]
    }
   ],
   "source": [
    "triage_agent = Triage()\n",
    "\n",
    "query_categorization = triage_agent.triage_user_message(\n",
    "    user_message=case[\"question\"]\n",
    ")\n",
    "print(query_categorization)"
   ]
  },
  {
   "cell_type": "code",
   "execution_count": 6,
   "metadata": {},
   "outputs": [],
   "source": [
    "tools = ToolsFabric.get_tools_for_category( use_mcp = USE_MCP, configuration = query_categorization[\"category\"] )"
   ]
  },
  {
   "cell_type": "code",
   "execution_count": 7,
   "metadata": {},
   "outputs": [
    {
     "name": "stdout",
     "output_type": "stream",
     "text": [
      "================================\u001b[1m Human Message \u001b[0m=================================\n",
      "\n",
      "For a Greece customer in Public Cloud, what are the steps to enhance the generated XML before sending it to the Tax Authorities using ADT?\n",
      "==================================\u001b[1m Ai Message \u001b[0m==================================\n",
      "\n",
      "**Observation:** The user is asking for the steps to enhance the generated XML for a Greece customer in Public Cloud before sending it to the Tax Authorities using ADT (ABAP Development Tools).\n",
      "\n",
      "**Thought:** To address this request, I need to provide a detailed procedure for enhancing XML documents using ADT in the context of SAP Document and Reporting Compliance. This involves understanding the XML generation process, the enhancement capabilities within ADT, and any specific compliance requirements for Greece.\n",
      "\n",
      "**Action Plan:**\n",
      "1. Retrieve information on enhancing XML documents using ADT.\n",
      "2. Gather specific compliance requirements for Greece related to XML submissions.\n",
      "3. Compile the steps into a coherent guide.\n",
      "\n",
      "**Action:** Use the `retrieve_troubleshooting_guide` tool to gather information on enhancing XML documents using ADT.\n",
      "Tool Calls:\n",
      "  retrieve_troubleshooting_guide (call_B556tm37RtYcI8ooq8PKdotl)\n",
      " Call ID: call_B556tm37RtYcI8ooq8PKdotl\n",
      "  Args:\n",
      "    query: enhance XML ADT Greece Public Cloud\n",
      "=================================\u001b[1m Tool Message \u001b[0m=================================\n",
      "Name: retrieve_troubleshooting_guide\n",
      "\n",
      "E18 - Electronic invoicing for Egypt:The Electronic Document Processing (Document and Reporting Compliance) solution does not have a standard version for Egypt and there are no plans for that.A solution has been developed by a local partner as extension on SAP Document and Reporting Compliance including the integration into Electronic Document Processing Framework, eDocument Cockpit and the integration with the tax authority. If you are interested in knowing more information about the partner extension, send an email togsjam@sap.comto access theSAP Jam group 'MENA Localization SIG'. Notice that this local partner solution is not supported by SAP. For any other legal changes, check the appLegal Change Notification.\n",
      "D7 - Error 'Instance of process manager for eDocument has not been created':Use the eDocument's Process Manager for the AIF XML solution. In order to do that, you need to install SAP Note2273379(Use Process Manager), and for Electronic Document Processing Italy you have also to install SAP Note2181282(Electronic Document Processing Italy Use Process Manager). Remember to follow their content to confirm if there are prerequisites and manual steps. After the implementation, test the same scenario again with new documents.\n",
      "For the \"HTML Display\" feature, you will need to set up the proxy and logical port in the SOAManager. These proxies are named 'CO_DCS_DCP_GENERIC_WEBSERVICE' and 'EDO_UBL_GENERIC_WEBSERVICE'. For a step-by-step guide on how to create these logical ports, please refer to the detailed description provided in the following link: Creating Logical Ports in SOA Management.\n",
      "E20 - The same XML Output is displayed for any selected entry in eDocument History table:Install the SAP Note3084687(eDoc Framework Correction for eDocument History) which contains the code corrections to solve this issue.\n",
      "E19 - Electronic Document Processing solution for Serbia:The Electronic Document Processing (Document and Reporting Compliance) solution does not have a standard version for Republic of Serbia and at the moment there are no plans for that. For information on the supported Legal Requirements check theLegal Change Notificationtool. You can stay aware of all new legal changes by following the instructions from SAP Note2382863(Announcement of Legal Changes application).\n",
      "To solve this issue, implement the SAP Notes 2974315 (eDoc EU eInvoice Email ABAP Proxy Objects Changes) and 2947961 (eDoc EU eInvoice Email Corrections).\n",
      "==================================\u001b[1m Ai Message \u001b[0m==================================\n",
      "\n",
      "**Observation (Result):** The retrieved information does not directly address the enhancement of XML documents using ADT for Greece in Public Cloud. It includes various unrelated troubleshooting guides and notes for different regions and issues.\n",
      "\n",
      "**Thought (Synthesis & Validation):** The current result does not provide the necessary steps for enhancing XML documents using ADT for Greece. I need to gather more specific information related to XML enhancement in the context of SAP Document and Reporting Compliance for Greece.\n",
      "\n",
      "**Action:** Use the `get_doc_summary` tool to search for a concise summary related to \"XML enhancement ADT Greece\".\n",
      "Tool Calls:\n",
      "  get_doc_summary (call_j4uBQFT7J5V5BdNXy37VNHe9)\n",
      " Call ID: call_j4uBQFT7J5V5BdNXy37VNHe9\n",
      "  Args:\n",
      "    query: XML enhancement ADT Greece\n",
      "=================================\u001b[1m Tool Message \u001b[0m=================================\n",
      "Name: get_doc_summary\n",
      "\n",
      "The provided markdown content primarily focuses on the extensibility and customization of electronic document processing within SAP systems, specifically tailored for Greece's myDATA requirements. The user's query, \"XML enhancement ADT Greece,\" is addressed through various technical elements and configuration options that allow for XML enhancements in the context of Greece's electronic document processing.\n",
      "\n",
      "### Key Technical Elements Related to XML Enhancement for Greece:\n",
      "\n",
      "1. **Business Add-Ins (BAdIs):**\n",
      "   - **BAdI: Determine myDATA VAT Classification for Greece eDocument:** Allows customization of VAT categories in XML files based on transaction locations (Greece, EU, non-EU).\n",
      "   - **BAdI: Determine myDATA Classification Details:** Enables custom logic for Income or Expense Classification in XML files.\n",
      "   - **Cloud EDOC Adaptor BADI: Modify final invoice XML:** Facilitates XML field modifications and error handling during XML processing. This is crucial for XML enhancements as it allows filling or altering XML fields not covered by standard mappings.\n",
      "\n",
      "2. **Application Interface Framework (AIF):**\n",
      "   - Integration with AIF is essential for mapping electronic documents, including XML enhancements. The Cloud EDOC Adaptor BADI is particularly relevant when using AIF for XML mapping.\n",
      "\n",
      "3. **eDocument Cockpit and Manage Electronic Documents App:**\n",
      "   - These apps provide a platform for processing and managing electronic documents, including XML files. They support various processes like Greece myDATA eBooks and Greece Incoming eBooks, which are integral to handling XML enhancements.\n",
      "\n",
      "4. **ADT (Eclipse-based ABAP Development Tools):**\n",
      "   - ADT is used for creating enhancement BAdI implementations, allowing developers to extend electronic document processes. This includes enhancing XML mappings by editing existing fields or adding new ones.\n",
      "\n",
      "5. **Configuration Steps and Paths:**\n",
      "   - **Maintain G/L Accounts for Invoice Types:** Configuration activity necessary for setting up invoice types, which indirectly affects XML content.\n",
      "   - **Process eDocument Inbound Messages App:** Utilized for downloading invoices in XML format, with specific message types (`GR_INV_MDSUM__IN_PULL`, `GR_INV_MD_ADPAR_PULL`) for processing incoming invoices.\n",
      "\n",
      "6. **Integration with SAP Cloud Integration or SAP Integration Suite:**\n",
      "   - These integration services are used to forward XML files to the tax authority, ensuring compliance with Greece's myDATA requirements.\n",
      "\n",
      "### Implementation Hints:\n",
      "\n",
      "- **Custom Logic App:** Key users can implement BAdIs using the Custom Logic app to tailor XML files according to specific business needs.\n",
      "- **Error Handling:** The Cloud EDOC Adaptor BADI allows for error message logging and resubmission of documents after fixing errors, which is crucial for maintaining XML integrity.\n",
      "- **Manual Matching:** If automatic matching fails, users can manually match documents in the eDocument Cockpit, ensuring accurate XML data representation.\n",
      "\n",
      "### Related Processes and Scenarios:\n",
      "\n",
      "- **Downloading Invoices in XML Format as a Buyer:** This process involves downloading electronic documents from myDATA, applying filters, and handling XML files through SAP systems.\n",
      "- **Submitting Buyer Omissions to myDATA:** Involves creating omission list eDocuments and submitting them, with XML mapping handled by SAP Application Interface Framework.\n",
      "\n",
      "### Extensibility Options:\n",
      "\n",
      "- **EDOC_ADAPTOR_CLOUD BAdI:** Allows developers to prevent electronic document creation for specific source documents and enhance XML mappings.\n",
      "- **EDOC_CUSTOM_FIELDS_CLOUD:** Enables filling custom fields in XML files based on source data.\n",
      "- **EDOC_CUSTOM_FIELDS_UI_CLOUD:** Facilitates visibility of custom fields in the eDocument Cockpit.\n",
      "\n",
      "### Conclusion:\n",
      "\n",
      "The markdown content provides comprehensive technical guidance on enhancing XML files within SAP systems for Greece's myDATA requirements. By leveraging BAdIs, ADT, and integration frameworks, users can customize XML mappings, handle errors, and ensure compliance with local tax regulations. The extensibility features offered by SAP allow for significant customization, addressing the user's query on XML enhancement in the context of Greece.\n",
      "==================================\u001b[1m Ai Message \u001b[0m==================================\n",
      "\n",
      "**Final Answer:**\n",
      "\n",
      "To enhance the generated XML for a Greece customer in Public Cloud before sending it to the Tax Authorities using ADT, follow these steps:\n",
      "\n",
      "### Key Technical Elements for XML Enhancement:\n",
      "\n",
      "1. **Business Add-Ins (BAdIs):**\n",
      "   - **Determine myDATA VAT Classification:** Customize VAT categories in XML files based on transaction locations.\n",
      "   - **Determine myDATA Classification Details:** Implement custom logic for Income or Expense Classification in XML files.\n",
      "   - **Cloud EDOC Adaptor BADI:** Modify XML fields and handle errors during XML processing.\n",
      "\n",
      "2. **Application Interface Framework (AIF):**\n",
      "   - Use AIF for mapping electronic documents, including XML enhancements. The Cloud EDOC Adaptor BADI is crucial for XML mapping.\n",
      "\n",
      "3. **eDocument Cockpit and Manage Electronic Documents App:**\n",
      "   - Utilize these apps for processing and managing electronic documents, including XML files. They support processes like Greece myDATA eBooks.\n",
      "\n",
      "4. **ADT (Eclipse-based ABAP Development Tools):**\n",
      "   - Use ADT to create enhancement BAdI implementations, allowing XML mappings to be extended by editing existing fields or adding new ones.\n",
      "\n",
      "5. **Configuration Steps:**\n",
      "   - **Maintain G/L Accounts for Invoice Types:** Set up invoice types affecting XML content.\n",
      "   - **Process eDocument Inbound Messages App:** Download invoices in XML format using specific message types.\n",
      "\n",
      "6. **Integration with SAP Cloud Integration or SAP Integration Suite:**\n",
      "   - Forward XML files to the tax authority, ensuring compliance with Greece's myDATA requirements.\n",
      "\n",
      "### Implementation Hints:\n",
      "\n",
      "- **Custom Logic App:** Implement BAdIs using the Custom Logic app to tailor XML files according to business needs.\n",
      "- **Error Handling:** Use the Cloud EDOC Adaptor BADI for error message logging and resubmission of documents.\n",
      "- **Manual Matching:** Manually match documents in the eDocument Cockpit if automatic matching fails.\n",
      "\n",
      "### Extensibility Options:\n",
      "\n",
      "- **EDOC_ADAPTOR_CLOUD BAdI:** Prevent electronic document creation for specific source documents and enhance XML mappings.\n",
      "- **EDOC_CUSTOM_FIELDS_CLOUD:** Fill custom fields in XML files based on source data.\n",
      "- **EDOC_CUSTOM_FIELDS_UI_CLOUD:** Make custom fields visible in the eDocument Cockpit.\n",
      "\n",
      "By leveraging these tools and configurations, you can effectively enhance XML files to meet Greece's myDATA requirements, ensuring compliance and accurate data representation.\n"
     ]
    }
   ],
   "source": [
    "if USE_MCP:\n",
    "    async with MultiServerMCPClient( tools ) as client:\n",
    "        agent = ReActAgent(tool_list=client.get_tools())\n",
    "        await agent.arun_and_print_agent_stream(\n",
    "            user_message=query_categorization[\"user_query\"]\n",
    "        )\n",
    "else:\n",
    "    agent = ReActAgent(tool_list=tools)\n",
    "    agent.run_and_print_agent_stream(user_message=query_categorization[\"user_query\"])"
   ]
  },
  {
   "cell_type": "code",
   "execution_count": 8,
   "metadata": {},
   "outputs": [],
   "source": [
    "agent_answer = agent.response_message.content"
   ]
  },
  {
   "cell_type": "code",
   "execution_count": 9,
   "metadata": {},
   "outputs": [
    {
     "name": "stdout",
     "output_type": "stream",
     "text": [
      "Fact: The task involves enhancing an XML file for a Greece customer in Public Cloud.\n",
      "Contained: True\n",
      "Reason: The context explicitly mentions enhancing the generated XML for a Greece customer in Public Cloud before sending it to the Tax Authorities using ADT.\n",
      "----------------------------------------\n",
      "Fact: The enhancement is done using ABAP Development Tools (ADT).\n",
      "Contained: True\n",
      "Reason: The context explicitly mentions using ADT (Eclipse-based ABAP Development Tools) to create enhancement BAdI implementations for XML mappings.\n",
      "----------------------------------------\n",
      "Fact: The enhancement spot used is ES_EDOCUMENT_CLOUD.\n",
      "Contained: False\n",
      "Reason: The context does not mention the enhancement spot ES_EDOCUMENT_CLOUD.\n",
      "----------------------------------------\n",
      "Fact: A new BAdI Enhancement Implementation is created by right-clicking ES_EDOCUMENT_CLOUD.\n",
      "Contained: False\n",
      "Reason: The context mentions using ADT to create enhancement BAdI implementations but does not specify the action of right-clicking ES_EDOCUMENT_CLOUD to create a new BAdI Enhancement Implementation.\n",
      "----------------------------------------\n",
      "Fact: The implementation involves selecting EDOC_ADAPTOR_CLOUD.\n",
      "Contained: True\n",
      "Reason: The context mentions the EDOC_ADAPTOR_CLOUD BAdI as part of the implementation for XML enhancement.\n",
      "----------------------------------------\n",
      "Fact: A BAdI filter can be optionally created for Country and/or Generic Filter.\n",
      "Contained: False\n",
      "Reason: The context does not mention the creation of BAdI filters for Country or Generic Filter.\n",
      "----------------------------------------\n",
      "Fact: A new implementation class is created, implementing interfaces if_badi_interfaces and if_edoc_adaptor_cloud.\n",
      "Contained: False\n",
      "Reason: The context mentions the use of BAdIs and the Cloud EDOC Adaptor BADI but does not explicitly state the creation of a new implementation class with these specific interfaces.\n",
      "----------------------------------------\n",
      "Fact: Logic is implemented in the method to modify XML tags and fill optional XML tags with values.\n",
      "Contained: False\n",
      "Reason: The context mentions modifying XML fields and enhancing XML mappings, but does not explicitly state that logic is implemented to fill optional XML tags with values.\n",
      "----------------------------------------\n",
      "Fact: The BAdI implementation is activated.\n",
      "Contained: False\n",
      "Reason: The context mentions creating BAdI implementations but does not explicitly state that they are activated.\n",
      "----------------------------------------\n",
      "Fact: The XML file of the electronic document can be viewed in the eDocument Cockpit or Manage Electronic Documents app with the desired values filled in the XML tags.\n",
      "Contained: True\n",
      "Reason: The context mentions that the eDocument Cockpit and Manage Electronic Documents App are used for processing and managing electronic documents, including XML files, which supports the fact.\n",
      "----------------------------------------\n"
     ]
    }
   ],
   "source": [
    "output = await fact_scorer.classify_facts_in_context(facts=case.get(\"facts\"), knowledge_source=agent_answer)\n",
    "\n",
    "for result in output:\n",
    "    print(f\"Fact: {result.fact}\")\n",
    "    print(f\"Contained: {result.is_contained}\")\n",
    "    print(f\"Reason: {result.reason}\")\n",
    "    print(\"-\" * 40)"
   ]
  },
  {
   "cell_type": "code",
   "execution_count": 10,
   "metadata": {},
   "outputs": [
    {
     "name": "stdout",
     "output_type": "stream",
     "text": [
      "Call Count: 14\n",
      "Token Usage: {'input_tokens': 25055, 'output_tokens': 2294, 'total_tokens': 27349}\n"
     ]
    }
   ],
   "source": [
    "LLM_PROXY.print_usage()"
   ]
  }
 ],
 "metadata": {
  "kernelspec": {
   "display_name": "react-agent-CUxtcVGL-py3.13",
   "language": "python",
   "name": "python3"
  },
  "language_info": {
   "codemirror_mode": {
    "name": "ipython",
    "version": 3
   },
   "file_extension": ".py",
   "mimetype": "text/x-python",
   "name": "python",
   "nbconvert_exporter": "python",
   "pygments_lexer": "ipython3",
   "version": "3.13.3"
  }
 },
 "nbformat": 4,
 "nbformat_minor": 2
}
