{
 "cells": [
  {
   "cell_type": "code",
   "execution_count": 1,
   "metadata": {},
   "outputs": [
    {
     "name": "stderr",
     "output_type": "stream",
     "text": [
      "/Users/i589287/Library/Caches/pypoetry/virtualenvs/react-agent-CUxtcVGL-py3.13/lib/python3.13/site-packages/tqdm/auto.py:21: TqdmWarning: IProgress not found. Please update jupyter and ipywidgets. See https://ipywidgets.readthedocs.io/en/stable/user_install.html\n",
      "  from .autonotebook import tqdm as notebook_tqdm\n"
     ]
    }
   ],
   "source": [
    "import os\n",
    "import json\n",
    "import random\n",
    "import pandas as pd\n",
    "\n",
    "from langchain_mcp_adapters.client import MultiServerMCPClient\n",
    "\n",
    "from react_agent.src.agents.react_agent import ReActAgent\n",
    "from react_agent.src.agents.triage import Triage\n",
    "\n",
    "from react_agent.src.util.tools_fabric import ToolsFabric\n",
    "\n",
    "from experiments.models.experiment_models import LabeledQAPairFacts, ExperimentResult\n",
    "from experiments.fact_score.fact_scorer import FactScorer\n",
    "from experiments.metrics.bert_score import BertScore"
   ]
  },
  {
   "cell_type": "code",
   "execution_count": 2,
   "metadata": {},
   "outputs": [],
   "source": [
    "USE_MCP = False\n",
    "DEBUG_MODE = False\n",
    "\n",
    "LLM_JUDGE_MODEL = \"gpt-4o-mini\"\n",
    "\n",
    "fact_scorer = FactScorer()\n",
    "path_to_ressources = \"./resources/02_facts/\"\n",
    "\n",
    "files = {\n",
    "    \"extensibility\": \"extensibility_assistance_facts.json\",\n",
    "    \"malaysia\": \"malaysia_support_facts.json\",\n",
    "    \"peppol\": \"peppol_support_facts.json\",\n",
    "    \"all\": \"all_cases_facts.json\",\n",
    "}"
   ]
  },
  {
   "cell_type": "code",
   "execution_count": 3,
   "metadata": {},
   "outputs": [],
   "source": [
    "file_path = os.path.abspath(path_to_ressources + files[\"all\"])\n",
    "\n",
    "\n",
    "with open(file_path, encoding=\"utf8\") as f:\n",
    "    data = json.load(f)\n",
    "    data_set = [LabeledQAPairFacts(**item) for item in data]"
   ]
  },
  {
   "cell_type": "code",
   "execution_count": 4,
   "metadata": {},
   "outputs": [],
   "source": [
    "# Select 3 random elements\n",
    "random_data_set = random.sample(data_set, 2)"
   ]
  },
  {
   "cell_type": "code",
   "execution_count": 5,
   "metadata": {},
   "outputs": [
    {
     "name": "stdout",
     "output_type": "stream",
     "text": [
      "Asking agent question with id: EA-20\n",
      "Finished agent execution\n",
      "Started FactScore calculation\n",
      "Started BERTScore calculation\n",
      "Stated LLM as a Judge calculation\n",
      "Finished experiment for id: EA-20\n",
      "\n",
      "Asking agent question with id: EA-3\n",
      "Finished agent execution\n",
      "Started FactScore calculation\n",
      "Started BERTScore calculation\n",
      "Stated LLM as a Judge calculation\n",
      "Finished experiment for id: EA-3\n",
      "\n"
     ]
    }
   ],
   "source": [
    "from experiments.metrics.llm_judge import LLMAsJudgeEvaluator\n",
    "\n",
    "\n",
    "triage_agent = Triage()\n",
    "execution_trail = \"\"\n",
    "experiment_results: list[ExperimentResult] = []\n",
    "\n",
    "for data_row in random_data_set:\n",
    "    result = ExperimentResult(\n",
    "        id=data_row.id,\n",
    "        question=data_row.question,\n",
    "        answer=data_row.answer,\n",
    "        product=data_row.product,\n",
    "        category=data_row.category,\n",
    "        persona=data_row.persona,\n",
    "        activity=data_row.activity,\n",
    "        country=data_row.country,\n",
    "    )\n",
    "    print(f\"Asking agent question with id: {data_row.id}\")\n",
    "    query_categorization = triage_agent.triage_user_message(\n",
    "        user_message=data_row.question\n",
    "    )\n",
    "    if DEBUG_MODE:\n",
    "        print(f\"Query categorization: {query_categorization}\")\n",
    "\n",
    "    tools = ToolsFabric.get_tools_for_category(\n",
    "        use_mcp=USE_MCP,\n",
    "        configuration=query_categorization[\"category\"],\n",
    "    )\n",
    "\n",
    "    if USE_MCP:\n",
    "        async with MultiServerMCPClient(tools) as client:\n",
    "            agent = ReActAgent(tool_list=client.get_tools())\n",
    "            execution_trail = await agent.arun_agent_with_input(\n",
    "                user_message=query_categorization[\"user_query\"], debug=DEBUG_MODE\n",
    "            )\n",
    "    else:\n",
    "        agent = ReActAgent(tool_list=tools)\n",
    "        execution_trail = agent.run_agent_with_input(\n",
    "            user_message=query_categorization[\"user_query\"], debug=DEBUG_MODE\n",
    "        )\n",
    "\n",
    "    run_data = agent.get_execution_data()\n",
    "\n",
    "    result.tools_used = run_data.tools_used\n",
    "    result.excecution_time_seconds = run_data.excecution_time_seconds\n",
    "    result.model_used = run_data.model_used\n",
    "    result.tokens_consumed = run_data.tokens_consumed\n",
    "    result.llm_call_count = run_data.llm_call_count\n",
    "    result.facts = data_row.facts\n",
    "    result.generated_answer = run_data.final_output\n",
    "\n",
    "    print(\"Finished agent execution\")\n",
    "\n",
    "    print(\"Started FactScore calculation\")\n",
    "    result.fact_score = await fact_scorer.get_fact_score(\n",
    "        facts=data_row.facts,\n",
    "        knowledge_source=result.generated_answer,\n",
    "        debug=DEBUG_MODE,\n",
    "    )\n",
    "\n",
    "    print(\"Started BERTScore calculation\")\n",
    "    result.bert_score = BertScore.compute_score(\n",
    "        expected_response=data_row.answer, actual_response=result.generated_answer\n",
    "    )\n",
    "\n",
    "    print(\"Stated LLM as a Judge calculation\")\n",
    "    result.llm_judge_model = LLM_JUDGE_MODEL\n",
    "    llm_evaluator = LLMAsJudgeEvaluator(model=LLM_JUDGE_MODEL)\n",
    "\n",
    "    result.llm_judge_outcome = llm_evaluator.evaluate(\n",
    "        question=data_row.question, generated_answer=result.generated_answer\n",
    "    )\n",
    "\n",
    "    print(f\"Finished experiment for id: {data_row.id}\\n\")\n",
    "\n",
    "    experiment_results.append(result)"
   ]
  },
  {
   "cell_type": "code",
   "execution_count": 6,
   "metadata": {},
   "outputs": [
    {
     "name": "stderr",
     "output_type": "stream",
     "text": [
      "/Users/i589287/Library/Caches/pypoetry/virtualenvs/react-agent-CUxtcVGL-py3.13/lib/python3.13/site-packages/pydantic/main.py:426: UserWarning: Pydantic serializer warnings:\n",
      "  Expected `float` but got `FactScoreResult` with value `FactScoreResult(direct_fa...tion by pressing F2.')])` - serialized value may not be as expected\n",
      "  return self.__pydantic_serializer__.to_python(\n",
      "/Users/i589287/Library/Caches/pypoetry/virtualenvs/react-agent-CUxtcVGL-py3.13/lib/python3.13/site-packages/pydantic/main.py:426: UserWarning: Pydantic serializer warnings:\n",
      "  Expected `float` but got `FactScoreResult` with value `FactScoreResult(direct_fa...hod SET_OUTPUT_DATA.')])` - serialized value may not be as expected\n",
      "  return self.__pydantic_serializer__.to_python(\n"
     ]
    },
    {
     "data": {
      "application/vnd.microsoft.datawrangler.viewer.v0+json": {
       "columns": [
        {
         "name": "index",
         "rawType": "int64",
         "type": "integer"
        },
        {
         "name": "id",
         "rawType": "object",
         "type": "string"
        },
        {
         "name": "question",
         "rawType": "object",
         "type": "string"
        },
        {
         "name": "answer",
         "rawType": "object",
         "type": "string"
        },
        {
         "name": "product",
         "rawType": "object",
         "type": "unknown"
        },
        {
         "name": "category",
         "rawType": "object",
         "type": "unknown"
        },
        {
         "name": "persona",
         "rawType": "object",
         "type": "unknown"
        },
        {
         "name": "activity",
         "rawType": "object",
         "type": "unknown"
        },
        {
         "name": "country",
         "rawType": "object",
         "type": "unknown"
        },
        {
         "name": "facts",
         "rawType": "object",
         "type": "unknown"
        },
        {
         "name": "bert_score",
         "rawType": "float64",
         "type": "float"
        },
        {
         "name": "llm_judge_outcome",
         "rawType": "object",
         "type": "string"
        },
        {
         "name": "llm_judge_model",
         "rawType": "object",
         "type": "string"
        },
        {
         "name": "generated_answer",
         "rawType": "object",
         "type": "string"
        },
        {
         "name": "model_used",
         "rawType": "object",
         "type": "string"
        },
        {
         "name": "tools_used",
         "rawType": "object",
         "type": "unknown"
        },
        {
         "name": "excecution_time_seconds",
         "rawType": "float64",
         "type": "float"
        },
        {
         "name": "llm_call_count",
         "rawType": "int64",
         "type": "integer"
        },
        {
         "name": "fact_score.direct_fact_score",
         "rawType": "float64",
         "type": "float"
        },
        {
         "name": "fact_score.supporting_fact_score",
         "rawType": "float64",
         "type": "float"
        },
        {
         "name": "fact_score.combined_fact_score",
         "rawType": "float64",
         "type": "float"
        },
        {
         "name": "fact_score.direct_facts",
         "rawType": "object",
         "type": "unknown"
        },
        {
         "name": "fact_score.supporting_facts",
         "rawType": "object",
         "type": "unknown"
        },
        {
         "name": "tokens_consumed.input_tokens",
         "rawType": "int64",
         "type": "integer"
        },
        {
         "name": "tokens_consumed.output_tokens",
         "rawType": "int64",
         "type": "integer"
        },
        {
         "name": "tokens_consumed.total_tokens",
         "rawType": "int64",
         "type": "integer"
        }
       ],
       "conversionMethod": "pd.DataFrame",
       "ref": "94e695e2-667d-43ee-a7f7-847d9447bb38",
       "rows": [
        [
         "0",
         "EA-20",
         "As a Public Cloud customer in Greece, what are the required steps to enhance generated XML in the Manage Electronic Document App or the eDocument Cockpit?",
         "Implementation Steps in ABAP Development Tools (ADT)\n1. In your ABAP project, go to the enhancement spot ES_EDOCUMENT_CLOUD (path: package GLO-EDO > Enhancements > Enhancement Spots).\n2. Right-click ES_EDOCUMENT_CLOUD and select New BAdI Enhancement Implementation.\n3. Enter a package, name, and description.\n4. Choose Add BAdI Implementation and select for EDOC_ADAPTOR_CLOUD.\n5. (Optional) Create a BAdI filter for Country and/or Generic Filter.\n6. Choose Implementing Class to create a new implementation class. The new implementation class automatically implements the interfaces if_badi_interfaces and if_edoc_adaptor_cloud.\n7. After generating the class, open the interface method and press F3 to view its parameters. To display the documentation, press F2.\n8. Activate your BAdI implementation.\nRefer to Business Add-In (BAdI) EDOC_ADAPTOR_CLOUD documentation for more details.",
         null,
         null,
         null,
         null,
         null,
         "[{'fact': 'Enhancement spot ES_EDOCUMENT_CLOUD is used in ABAP project.', 'classification': 'direct', 'id': 'EA-20-1'}, {'fact': 'Path to enhancement spot is package GLO-EDO > Enhancements > Enhancement Spots.', 'classification': 'direct', 'id': 'EA-20-2'}, {'fact': 'New BAdI Enhancement Implementation is created by right-clicking ES_EDOCUMENT_CLOUD.', 'classification': 'direct', 'id': 'EA-20-3'}, {'fact': 'Add BAdI Implementation is selected for EDOC_ADAPTOR_CLOUD.', 'classification': 'direct', 'id': 'EA-20-4'}, {'fact': 'A BAdI filter can be created for Country and/or Generic Filter.', 'classification': 'supporting', 'id': 'EA-20-5'}, {'fact': 'Implementing Class is chosen to create a new implementation class.', 'classification': 'direct', 'id': 'EA-20-6'}, {'fact': 'The new implementation class implements interfaces if_badi_interfaces and if_edoc_adaptor_cloud.', 'classification': 'supporting', 'id': 'EA-20-7'}, {'fact': 'Interface method is opened and F3 is pressed to view its parameters.', 'classification': 'supporting', 'id': 'EA-20-8'}, {'fact': 'Documentation is displayed by pressing F2.', 'classification': 'supporting', 'id': 'EA-20-9'}, {'fact': 'BAdI implementation is activated.', 'classification': 'direct', 'id': 'EA-20-10'}]",
         "0.10644198209047318",
         "Helpful",
         "gpt-4o-mini",
         "Validation Step:\n- The first tool output from `sap_documentation_summary` highlighted the use of Business Add-Ins (BAdIs) for customizing XML output in the Manage Electronic Document App or eDocument Cockpit, specifically for Greece. It mentioned the Cloud EDOC Adaptor BADI for modifying XML fields and handling errors.\n- The second tool output from `sap_help_lookup` provided additional details on BAdIs specific to Greece, such as determining invoice types, handling legal document numbers, and integrating with the SAP Application Interface Framework (AIF) for XML mapping. It also covered the use of SAP Cloud Integration for XML transmission and outlined processes like Greece eBooks.\n\nBoth outputs consistently emphasize the use of BAdIs and integration frameworks for enhancing XML documents, confirming the approach and providing additional context on Greece-specific processes.\n\nFinal Answer:\nTo enhance generated XML in the Manage Electronic Document App or eDocument Cockpit for a Public Cloud customer in Greece, you should follow these steps:\n\n1. **Implement Business Add-Ins (BAdIs):** Use BAdIs like the Cloud EDOC Adaptor BADI to customize XML output. This allows you to fill XML fields not covered by standard mapping, modify field values, and implement checks to halt processing if necessary.\n\n2. **Use the Custom Logic App:** Key users can implement BAdIs using the Custom Logic app to extend functionalities according to business needs, particularly for Greece-specific processes like the Greece Incoming eBooks.\n\n3. **Configure Integration Frameworks:** Set up SAP Application Interface Framework (AIF) for mapping XML files to the required format by the tax authority. Use SAP Cloud Integration or SAP Integration Suite for transmitting XML files to the tax authority.\n\n4. **Monitor and Resubmit eDocuments:** Utilize the eDocument Cockpit to monitor eDocument status, handle errors, and resubmit documents as needed.\n\nThese steps ensure compliance with Greece's electronic document submission standards and facilitate seamless XML processing and transmission.",
         "gpt-4o",
         "[{'tool_name': 'sap_documentation_summary', 'arguments': {'query': 'enhance XML Manage Electronic Document App eDocument Cockpit Greece'}}, {'tool_name': 'sap_help_lookup', 'arguments': {'query': 'Greece XML enhancement eDocument Cockpit'}}]",
         "39.68",
         "1",
         "0.0",
         "0.0",
         "0.0",
         "[{'fact': 'Enhancement spot ES_EDOCUMENT_CLOUD is used in ABAP project.', 'is_contained': False, 'reason': 'The context mentions the use of Business Add-Ins (BAdIs) and integration frameworks for XML enhancement, but does not specifically mention the enhancement spot ES_EDOCUMENT_CLOUD.'}, {'fact': 'Path to enhancement spot is package GLO-EDO > Enhancements > Enhancement Spots.', 'is_contained': False, 'reason': 'The context does not mention the specific path to enhancement spots or the package GLO-EDO.'}, {'fact': 'New BAdI Enhancement Implementation is created by right-clicking ES_EDOCUMENT_CLOUD.', 'is_contained': False, 'reason': 'The context does not mention the creation of a BAdI Enhancement Implementation by right-clicking ES_EDOCUMENT_CLOUD.'}, {'fact': 'Add BAdI Implementation is selected for EDOC_ADAPTOR_CLOUD.', 'is_contained': False, 'reason': \"The context mentions the use of the Cloud EDOC Adaptor BADI for customizing XML output, but does not explicitly state that 'Add BAdI Implementation is selected for EDOC_ADAPTOR_CLOUD.'\"}, {'fact': 'Implementing Class is chosen to create a new implementation class.', 'is_contained': False, 'reason': 'The context does not mention the selection of an Implementing Class to create a new implementation class.'}, {'fact': 'BAdI implementation is activated.', 'is_contained': False, 'reason': 'The context discusses the use and implementation of BAdIs but does not explicitly state that BAdI implementation is activated.'}]",
         "[{'fact': 'A BAdI filter can be created for Country and/or Generic Filter.', 'is_contained': False, 'reason': 'The context does not mention the creation of BAdI filters for Country or Generic Filter.'}, {'fact': 'The new implementation class implements interfaces if_badi_interfaces and if_edoc_adaptor_cloud.', 'is_contained': False, 'reason': 'The context mentions the use of Business Add-Ins (BAdIs) and the Cloud EDOC Adaptor BADI but does not explicitly state that the new implementation class implements interfaces if_badi_interfaces and if_edoc_adaptor_cloud.'}, {'fact': 'Interface method is opened and F3 is pressed to view its parameters.', 'is_contained': False, 'reason': 'The context does not mention anything about opening an interface method or using F3 to view its parameters.'}, {'fact': 'Documentation is displayed by pressing F2.', 'is_contained': False, 'reason': 'The context does not mention any functionality related to displaying documentation by pressing F2.'}]",
         "12630",
         "778",
         "13408"
        ],
        [
         "1",
         "EA-3",
         "For a Greece customer invoice process in Public Cloud, can I enhance or extend the generated XML before it is sent to the authorities?",
         "Yes, you can enhance or extend the generated XML before it is sent to the authorities by the use of method SET_OUTPUT_DATA of BAdI EDOC_ADAPTOR_CLOUD.",
         null,
         null,
         null,
         null,
         null,
         "[{'fact': 'You can enhance or extend the generated XML before it is sent to the authorities.', 'classification': 'direct', 'id': 'EA-3-1'}, {'fact': 'The enhancement or extension is done using the method SET_OUTPUT_DATA.', 'classification': 'supporting', 'id': 'EA-3-2'}, {'fact': 'The method SET_OUTPUT_DATA is part of BAdI EDOC_ADAPTOR_CLOUD.', 'classification': 'supporting', 'id': 'EA-3-3'}]",
         "0.41408976912498474",
         "Helpful",
         "gpt-4o-mini",
         "Final Answer:\n\nYes, you can enhance or extend the XML generated for Greece customer invoice processes in SAP Public Cloud before it is sent to the authorities. This customization is possible using the Business Add-In (BAdI) EDOC_ADAPTOR_CLOUD. This BAdI allows you to modify XML tags and include additional information such as customer material numbers or delivery numbers, which can be crucial for meeting specific business requirements.\n\nTechnical Explanation:\n- The BAdI EDOC_ADAPTOR_CLOUD is designed to adapt electronic document processes in the cloud. It provides methods like `CHANGE_ADAPTOR_GENERIC_FILTER` to determine filter values for process adaptation.\n- You can implement custom logic using the Custom Logic app to modify item-level data during eInvoice generation, extending the standard XML file with additional details relevant to your business processes.\n\nPlain-Language Summary:\n- SAP provides tools to customize the XML files used in eInvoicing for Greece. You can add extra information to these files using specific customization options, ensuring that your invoices meet both business needs and legal requirements.\n\nThis answer is supported by information from both SAP documentation and SAP Help articles, confirming the capability to customize XML outputs for Greece eInvoicing in SAP Public Cloud.",
         "gpt-4o",
         "[{'tool_name': 'sap_documentation_summary', 'arguments': {'query': 'Greece eInvoicing XML customization SAP Public Cloud'}}, {'tool_name': 'sap_help_lookup', 'arguments': {'query': 'EDOC_ADAPTOR_CLOUD Greece eInvoicing'}}]",
         "35.108",
         "1",
         "1.0",
         "0.0",
         "0.3333333333333333",
         "[{'fact': 'You can enhance or extend the generated XML before it is sent to the authorities.', 'is_contained': True, 'reason': 'The context explicitly states that the XML generated for Greece customer invoice processes in SAP Public Cloud can be enhanced or extended before being sent to the authorities using the Business Add-In (BAdI) EDOC_ADAPTOR_CLOUD.'}]",
         "[{'fact': 'The enhancement or extension is done using the method SET_OUTPUT_DATA.', 'is_contained': False, 'reason': 'The context mentions the use of BAdI EDOC_ADAPTOR_CLOUD and methods like CHANGE_ADAPTOR_GENERIC_FILTER for customization, but does not mention SET_OUTPUT_DATA.'}, {'fact': 'The method SET_OUTPUT_DATA is part of BAdI EDOC_ADAPTOR_CLOUD.', 'is_contained': False, 'reason': 'The context mentions the BAdI EDOC_ADAPTOR_CLOUD and its purpose but does not specify the inclusion of the method SET_OUTPUT_DATA.'}]",
         "6820",
         "819",
         "7639"
        ]
       ],
       "shape": {
        "columns": 25,
        "rows": 2
       }
      },
      "text/html": [
       "<div>\n",
       "<style scoped>\n",
       "    .dataframe tbody tr th:only-of-type {\n",
       "        vertical-align: middle;\n",
       "    }\n",
       "\n",
       "    .dataframe tbody tr th {\n",
       "        vertical-align: top;\n",
       "    }\n",
       "\n",
       "    .dataframe thead th {\n",
       "        text-align: right;\n",
       "    }\n",
       "</style>\n",
       "<table border=\"1\" class=\"dataframe\">\n",
       "  <thead>\n",
       "    <tr style=\"text-align: right;\">\n",
       "      <th></th>\n",
       "      <th>id</th>\n",
       "      <th>question</th>\n",
       "      <th>answer</th>\n",
       "      <th>product</th>\n",
       "      <th>category</th>\n",
       "      <th>persona</th>\n",
       "      <th>activity</th>\n",
       "      <th>country</th>\n",
       "      <th>facts</th>\n",
       "      <th>bert_score</th>\n",
       "      <th>...</th>\n",
       "      <th>excecution_time_seconds</th>\n",
       "      <th>llm_call_count</th>\n",
       "      <th>fact_score.direct_fact_score</th>\n",
       "      <th>fact_score.supporting_fact_score</th>\n",
       "      <th>fact_score.combined_fact_score</th>\n",
       "      <th>fact_score.direct_facts</th>\n",
       "      <th>fact_score.supporting_facts</th>\n",
       "      <th>tokens_consumed.input_tokens</th>\n",
       "      <th>tokens_consumed.output_tokens</th>\n",
       "      <th>tokens_consumed.total_tokens</th>\n",
       "    </tr>\n",
       "  </thead>\n",
       "  <tbody>\n",
       "    <tr>\n",
       "      <th>0</th>\n",
       "      <td>EA-20</td>\n",
       "      <td>As a Public Cloud customer in Greece, what are...</td>\n",
       "      <td>Implementation Steps in ABAP Development Tools...</td>\n",
       "      <td>None</td>\n",
       "      <td>None</td>\n",
       "      <td>None</td>\n",
       "      <td>None</td>\n",
       "      <td>None</td>\n",
       "      <td>[{'fact': 'Enhancement spot ES_EDOCUMENT_CLOUD...</td>\n",
       "      <td>0.106442</td>\n",
       "      <td>...</td>\n",
       "      <td>39.680</td>\n",
       "      <td>1</td>\n",
       "      <td>0.0</td>\n",
       "      <td>0.0</td>\n",
       "      <td>0.000000</td>\n",
       "      <td>[{'fact': 'Enhancement spot ES_EDOCUMENT_CLOUD...</td>\n",
       "      <td>[{'fact': 'A BAdI filter can be created for Co...</td>\n",
       "      <td>12630</td>\n",
       "      <td>778</td>\n",
       "      <td>13408</td>\n",
       "    </tr>\n",
       "    <tr>\n",
       "      <th>1</th>\n",
       "      <td>EA-3</td>\n",
       "      <td>For a Greece customer invoice process in Publi...</td>\n",
       "      <td>Yes, you can enhance or extend the generated X...</td>\n",
       "      <td>None</td>\n",
       "      <td>None</td>\n",
       "      <td>None</td>\n",
       "      <td>None</td>\n",
       "      <td>None</td>\n",
       "      <td>[{'fact': 'You can enhance or extend the gener...</td>\n",
       "      <td>0.414090</td>\n",
       "      <td>...</td>\n",
       "      <td>35.108</td>\n",
       "      <td>1</td>\n",
       "      <td>1.0</td>\n",
       "      <td>0.0</td>\n",
       "      <td>0.333333</td>\n",
       "      <td>[{'fact': 'You can enhance or extend the gener...</td>\n",
       "      <td>[{'fact': 'The enhancement or extension is don...</td>\n",
       "      <td>6820</td>\n",
       "      <td>819</td>\n",
       "      <td>7639</td>\n",
       "    </tr>\n",
       "  </tbody>\n",
       "</table>\n",
       "<p>2 rows × 25 columns</p>\n",
       "</div>"
      ],
      "text/plain": [
       "      id                                           question  \\\n",
       "0  EA-20  As a Public Cloud customer in Greece, what are...   \n",
       "1   EA-3  For a Greece customer invoice process in Publi...   \n",
       "\n",
       "                                              answer product category persona  \\\n",
       "0  Implementation Steps in ABAP Development Tools...    None     None    None   \n",
       "1  Yes, you can enhance or extend the generated X...    None     None    None   \n",
       "\n",
       "  activity country                                              facts  \\\n",
       "0     None    None  [{'fact': 'Enhancement spot ES_EDOCUMENT_CLOUD...   \n",
       "1     None    None  [{'fact': 'You can enhance or extend the gener...   \n",
       "\n",
       "   bert_score  ... excecution_time_seconds llm_call_count  \\\n",
       "0    0.106442  ...                  39.680              1   \n",
       "1    0.414090  ...                  35.108              1   \n",
       "\n",
       "  fact_score.direct_fact_score fact_score.supporting_fact_score  \\\n",
       "0                          0.0                              0.0   \n",
       "1                          1.0                              0.0   \n",
       "\n",
       "  fact_score.combined_fact_score  \\\n",
       "0                       0.000000   \n",
       "1                       0.333333   \n",
       "\n",
       "                             fact_score.direct_facts  \\\n",
       "0  [{'fact': 'Enhancement spot ES_EDOCUMENT_CLOUD...   \n",
       "1  [{'fact': 'You can enhance or extend the gener...   \n",
       "\n",
       "                         fact_score.supporting_facts  \\\n",
       "0  [{'fact': 'A BAdI filter can be created for Co...   \n",
       "1  [{'fact': 'The enhancement or extension is don...   \n",
       "\n",
       "   tokens_consumed.input_tokens  tokens_consumed.output_tokens  \\\n",
       "0                         12630                            778   \n",
       "1                          6820                            819   \n",
       "\n",
       "   tokens_consumed.total_tokens  \n",
       "0                         13408  \n",
       "1                          7639  \n",
       "\n",
       "[2 rows x 25 columns]"
      ]
     },
     "execution_count": 6,
     "metadata": {},
     "output_type": "execute_result"
    }
   ],
   "source": [
    "records = [r.model_dump(mode=\"json\") for r in experiment_results]\n",
    "df = pd.json_normalize(records)\n",
    "\n",
    "df"
   ]
  }
 ],
 "metadata": {
  "kernelspec": {
   "display_name": "react-agent-CUxtcVGL-py3.13",
   "language": "python",
   "name": "python3"
  },
  "language_info": {
   "codemirror_mode": {
    "name": "ipython",
    "version": 3
   },
   "file_extension": ".py",
   "mimetype": "text/x-python",
   "name": "python",
   "nbconvert_exporter": "python",
   "pygments_lexer": "ipython3",
   "version": "3.13.3"
  }
 },
 "nbformat": 4,
 "nbformat_minor": 2
}
