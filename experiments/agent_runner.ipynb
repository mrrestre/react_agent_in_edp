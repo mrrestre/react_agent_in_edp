{
 "cells": [
  {
   "cell_type": "code",
   "execution_count": 1,
   "metadata": {},
   "outputs": [],
   "source": [
    "import os\n",
    "import json\n",
    "\n",
    "from langchain_mcp_adapters.client import MultiServerMCPClient\n",
    "\n",
    "from react_agent.src.agents.react_agent import ReActAgent\n",
    "from react_agent.src.agents.triage import Triage\n",
    "\n",
    "from react_agent.src.util.tools_fabric import ToolsFabric\n",
    "\n",
    "from react_agent.src.util.llm_proxy import LLM_PROXY\n",
    "\n",
    "from experiments.util.fact_score.fact_scorer import FactScorer"
   ]
  },
  {
   "cell_type": "code",
   "execution_count": 2,
   "metadata": {},
   "outputs": [],
   "source": [
    "USE_MCP = False\n",
    "DEBUG_MODE = False\n",
    "\n",
    "fact_scorer = FactScorer()\n",
    "path_to_ressources = \"./ressources/\"\n",
    "\n",
    "files = {\n",
    "    \"extensibility\": \"extensibility_assistance_result.json\",\n",
    "    \"malaysia\": \"malaysia_support_result.json\",\n",
    "    \"peppol\": \"peppol_support_result.json\",\n",
    "}"
   ]
  },
  {
   "cell_type": "code",
   "execution_count": 3,
   "metadata": {},
   "outputs": [],
   "source": [
    "file_path = os.path.abspath(path_to_ressources + files[\"extensibility\"])\n",
    "\n",
    "\n",
    "with open(file_path, encoding=\"utf8\") as f:\n",
    "    json_file = json.load(f)"
   ]
  },
  {
   "cell_type": "code",
   "execution_count": 4,
   "metadata": {},
   "outputs": [],
   "source": [
    "case = json_file[\"cases\"][1]"
   ]
  },
  {
   "cell_type": "code",
   "execution_count": 5,
   "metadata": {},
   "outputs": [],
   "source": [
    "triage_agent = Triage()\n",
    "\n",
    "query_categorization = triage_agent.triage_user_message(\n",
    "    user_message=case[\"question\"]\n",
    ")\n",
    "if DEBUG_MODE:\n",
    "    print(f\"Query categorization: {query_categorization}\")"
   ]
  },
  {
   "cell_type": "code",
   "execution_count": 6,
   "metadata": {},
   "outputs": [],
   "source": [
    "tools = ToolsFabric.get_tools_for_category( use_mcp = USE_MCP, configuration = query_categorization[\"category\"] )"
   ]
  },
  {
   "cell_type": "code",
   "execution_count": 7,
   "metadata": {},
   "outputs": [],
   "source": [
    "if USE_MCP:\n",
    "    async with MultiServerMCPClient( tools ) as client:\n",
    "        agent = ReActAgent(tool_list=client.get_tools())\n",
    "        await agent.arun_and_print_agent_stream(\n",
    "            user_message=query_categorization[\"user_query\"]\n",
    "        )\n",
    "else:\n",
    "    agent = ReActAgent(tool_list=tools)\n",
    "    agent_answer = agent.run_agent_with_input(user_message=query_categorization[\"user_query\"], debug=DEBUG_MODE)"
   ]
  },
  {
   "cell_type": "code",
   "execution_count": 8,
   "metadata": {},
   "outputs": [
    {
     "name": "stdout",
     "output_type": "stream",
     "text": [
      "### Final Answer\n",
      "\n",
      "To enhance the generated XML for a Greece customer in Public Cloud before sending it to the Tax Authorities using ADT, you can follow these steps:\n",
      "\n",
      "1. **Utilize Business Add-Ins (BAdIs)**:\n",
      "   - **Determine myDATA VAT Classification**: Customize VAT categories in the XML based on transaction locations (Greece, EU, non-EU).\n",
      "   - **Determine myDATA Classification Details**: Implement custom logic for Income or Expense Classification in the XML file.\n",
      "   - **Cloud EDOC Adaptor BADI**: Modify the final invoice XML to fill fields not covered by standard mapping and perform error checking.\n",
      "\n",
      "2. **Integrate with SAP Application Interface Framework (AIF)**:\n",
      "   - Use AIF for mapping electronic documents to the XML format required by Greek tax authorities, supporting XML file modifications.\n",
      "\n",
      "3. **Implement Enhancement Spot ES_EDOCUMENT_CLOUD**:\n",
      "   - **EDOC_ADAPTOR_CLOUD**: Enhance XML mapping by editing or adding fields, and prevent electronic document creation for specific source documents.\n",
      "\n",
      "4. **Use Custom Logic App**:\n",
      "   - Implement BAdIs using the Custom Logic app to extend functionalities, such as defining invoice types or legal document numbers in XML files.\n",
      "\n",
      "5. **Configuration Steps**:\n",
      "   - **Maintain G/L Accounts for Invoice Types**: Set up financial accounts impacting XML generation.\n",
      "   - **Value Mapping for VAT ID**: Ensure correct XML data submission for scenarios involving authorized accountants.\n",
      "\n",
      "6. **Process eDocument Inbound Messages**:\n",
      "   - Use message types like `GR_INV_MDSUM__IN_PULL` for downloading invoices from myDATA, which are processed and mapped to XML format.\n",
      "\n",
      "7. **Utilize eDocument Cockpit and Manage Electronic Documents App**:\n",
      "   - Process electronic documents, perform actions like matching invoices, creating consolidated eDocuments, and submitting them to tax authorities.\n",
      "\n",
      "8. **Extend Existing Processes**:\n",
      "   - Create enhancement BAdI implementations in ADT to extend electronic document processes, including XML enhancements.\n",
      "\n",
      "### Technical Summary\n",
      "These steps involve using BAdIs for customization, integrating with AIF for XML mapping, and configuring necessary settings to ensure compliance with Greek myDATA requirements. The eDocument Cockpit and related applications are central to handling electronic documents and enhancing XML processing.\n",
      "\n",
      "### Plain-Language Summary\n",
      "To enhance XML documents for Greek tax compliance, you can customize VAT and classification details, modify XML fields using specific tools, and ensure proper mapping and submission through SAP's framework and applications. This process involves technical configurations and extensions to meet legal requirements efficiently.\n",
      "\n",
      "### Suggested Next Steps\n",
      "If further customization is needed, consider consulting with SAP experts or utilizing additional SAP resources to ensure all compliance requirements are met.\n"
     ]
    }
   ],
   "source": [
    "print(agent_answer)"
   ]
  },
  {
   "cell_type": "code",
   "execution_count": 9,
   "metadata": {},
   "outputs": [
    {
     "name": "stdout",
     "output_type": "stream",
     "text": [
      "Fact score:  0.5\n"
     ]
    }
   ],
   "source": [
    "output = await fact_scorer.get_fact_score(facts=case.get(\"facts\"), knowledge_source=agent_answer, debug=DEBUG_MODE)\n",
    "print(\"Fact score: \", output)"
   ]
  },
  {
   "cell_type": "code",
   "execution_count": 10,
   "metadata": {},
   "outputs": [
    {
     "name": "stdout",
     "output_type": "stream",
     "text": [
      "Call Count: 12\n",
      "Token Usage: {'input_tokens': 22954, 'output_tokens': 2009, 'total_tokens': 24963}\n"
     ]
    }
   ],
   "source": [
    "LLM_PROXY.print_usage()"
   ]
  }
 ],
 "metadata": {
  "kernelspec": {
   "display_name": "react-agent-CUxtcVGL-py3.13",
   "language": "python",
   "name": "python3"
  },
  "language_info": {
   "codemirror_mode": {
    "name": "ipython",
    "version": 3
   },
   "file_extension": ".py",
   "mimetype": "text/x-python",
   "name": "python",
   "nbconvert_exporter": "python",
   "pygments_lexer": "ipython3",
   "version": "3.13.3"
  }
 },
 "nbformat": 4,
 "nbformat_minor": 2
}
