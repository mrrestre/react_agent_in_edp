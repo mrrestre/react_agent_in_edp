{
 "cells": [
  {
   "cell_type": "code",
   "execution_count": 1,
   "metadata": {},
   "outputs": [],
   "source": [
    "import os\n",
    "import json\n",
    "import random\n",
    "\n",
    "from langchain_mcp_adapters.client import MultiServerMCPClient\n",
    "\n",
    "from react_agent.src.agents.react_agent import ReActAgent\n",
    "from react_agent.src.agents.triage import Triage\n",
    "\n",
    "from react_agent.src.util.tools_fabric import ToolsFabric\n",
    "\n",
    "from experiments.models.experiment_models import LabeledQAPairFacts\n",
    "from experiments.util.fact_score.fact_scorer import FactScorer"
   ]
  },
  {
   "cell_type": "code",
   "execution_count": 2,
   "metadata": {},
   "outputs": [],
   "source": [
    "USE_MCP = False\n",
    "DEBUG_MODE = False\n",
    "INCLUDE_WEBSEARCH_TOOL = True\n",
    "\n",
    "fact_scorer = FactScorer()\n",
    "path_to_ressources = \"./resources/01_facts/\"\n",
    "\n",
    "files = {\n",
    "    \"extensibility\": \"extensibility_assistance_facts.json\",\n",
    "    \"malaysia\": \"malaysia_support_facts.json\",\n",
    "    \"peppol\": \"peppol_support_facts.json\",\n",
    "    \"all\": \"all_cases_facts.json\",\n",
    "}"
   ]
  },
  {
   "cell_type": "code",
   "execution_count": 3,
   "metadata": {},
   "outputs": [],
   "source": [
    "file_path = os.path.abspath(path_to_ressources + files[\"all\"])\n",
    "\n",
    "\n",
    "with open(file_path, encoding=\"utf8\") as f:\n",
    "    data = json.load(f)\n",
    "    qa_data_set = [LabeledQAPairFacts(**item) for item in data]"
   ]
  },
  {
   "cell_type": "code",
   "execution_count": 4,
   "metadata": {},
   "outputs": [],
   "source": [
    "# Select 3 random elements\n",
    "random_qa_pairs = random.sample(qa_data_set, 3)"
   ]
  },
  {
   "cell_type": "code",
   "execution_count": 5,
   "metadata": {},
   "outputs": [
    {
     "name": "stdout",
     "output_type": "stream",
     "text": [
      "Asking agent question with id: EA-32\n",
      "\tFinished agent execution\n",
      "\tStarted FactScore calculation\n",
      "\tFact score: 0.0\n",
      "Asking agent question with id: PS-3\n",
      "\tFinished agent execution\n",
      "\tStarted FactScore calculation\n",
      "\tFact score: 0.0\n",
      "Asking agent question with id: EA-25\n",
      "\tFinished agent execution\n",
      "\tStarted FactScore calculation\n",
      "\tFact score: 0.0\n"
     ]
    }
   ],
   "source": [
    "triage_agent = Triage()\n",
    "\n",
    "for qa_pair in random_qa_pairs:\n",
    "    print(f\"Asking agent question with id: {qa_pair.id}\")\n",
    "    query_categorization = triage_agent.triage_user_message(\n",
    "        user_message=qa_pair.question\n",
    "    )\n",
    "    if DEBUG_MODE:\n",
    "        print(f\"\\tQuery categorization: {query_categorization}\")\n",
    "\n",
    "    tools = ToolsFabric.get_tools_for_category(\n",
    "        use_mcp=USE_MCP,\n",
    "        configuration=query_categorization[\"category\"],\n",
    "        include_web_search=INCLUDE_WEBSEARCH_TOOL,\n",
    "    )\n",
    "\n",
    "    if USE_MCP:\n",
    "        async with MultiServerMCPClient(tools) as client:\n",
    "            agent = ReActAgent(tool_list=client.get_tools())\n",
    "            if DEBUG_MODE:\n",
    "                print(f\"\\t{agent.create_sys_prompt()}\\n\")\n",
    "            await agent.arun_agent_with_input(\n",
    "                user_message=query_categorization[\"user_query\"], debug=DEBUG_MODE\n",
    "            )\n",
    "    else:\n",
    "        agent = ReActAgent(tool_list=tools)\n",
    "        if DEBUG_MODE:\n",
    "            print(f\"\\t{agent.create_sys_prompt()}\\n\")\n",
    "        agent.run_agent_with_input(\n",
    "            user_message=query_categorization[\"user_query\"], debug=DEBUG_MODE\n",
    "        )\n",
    "\n",
    "    run_data = agent.get_execution_data()\n",
    "\n",
    "    if DEBUG_MODE:\n",
    "        run_data.pretty_print()\n",
    "\n",
    "    print(\"\\tFinished agent execution\")\n",
    "\n",
    "    print(\"\\tStarted FactScore calculation\")\n",
    "    output = await fact_scorer.get_fact_score(\n",
    "        facts=qa_pair.facts,\n",
    "        knowledge_source=run_data.final_output,\n",
    "        debug=DEBUG_MODE,\n",
    "    )\n",
    "    print(f\"\\tFact score: {output}\")"
   ]
  }
 ],
 "metadata": {
  "kernelspec": {
   "display_name": "react-agent-CUxtcVGL-py3.13",
   "language": "python",
   "name": "python3"
  },
  "language_info": {
   "codemirror_mode": {
    "name": "ipython",
    "version": 3
   },
   "file_extension": ".py",
   "mimetype": "text/x-python",
   "name": "python",
   "nbconvert_exporter": "python",
   "pygments_lexer": "ipython3",
   "version": "3.13.3"
  }
 },
 "nbformat": 4,
 "nbformat_minor": 2
}
