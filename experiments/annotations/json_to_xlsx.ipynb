{
 "cells": [
  {
   "cell_type": "code",
   "execution_count": 1,
   "id": "cd53aa67",
   "metadata": {},
   "outputs": [],
   "source": [
    "import os\n",
    "import pandas as pd\n",
    "import json\n",
    "\n",
    "notebook_dir = os.path.abspath(\"\")\n",
    "\n",
    "file_path = os.path.abspath(\n",
    "    os.path.join(\n",
    "        notebook_dir,\n",
    "        \"resources\",\n",
    "        \"all_cases.json\",\n",
    "    )\n",
    ")\n",
    "\n",
    "\n",
    "# Load JSON data (as list of dicts)\n",
    "with open(file_path) as f:\n",
    "    data = json.load(f)\n",
    "\n",
    "df = pd.DataFrame(data)\n",
    "df.to_excel(\"resources/labeled.xlsx\", index=False)"
   ]
  }
 ],
 "metadata": {
  "kernelspec": {
   "display_name": "react-agent-CUxtcVGL-py3.13",
   "language": "python",
   "name": "python3"
  },
  "language_info": {
   "codemirror_mode": {
    "name": "ipython",
    "version": 3
   },
   "file_extension": ".py",
   "mimetype": "text/x-python",
   "name": "python",
   "nbconvert_exporter": "python",
   "pygments_lexer": "ipython3",
   "version": "3.13.3"
  }
 },
 "nbformat": 4,
 "nbformat_minor": 5
}
