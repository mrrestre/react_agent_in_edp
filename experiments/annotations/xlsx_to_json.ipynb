{
 "cells": [
  {
   "cell_type": "code",
   "execution_count": 1,
   "id": "fec32d17",
   "metadata": {},
   "outputs": [
    {
     "name": "stderr",
     "output_type": "stream",
     "text": [
      "/Users/i589287/Library/Caches/pypoetry/virtualenvs/react-agent-CUxtcVGL-py3.13/lib/python3.13/site-packages/openpyxl/worksheet/_reader.py:329: UserWarning: Data Validation extension is not supported and will be removed\n",
      "  warn(msg)\n"
     ]
    }
   ],
   "source": [
    "import os\n",
    "import pandas as pd\n",
    "\n",
    "sheets = [\n",
    "    \"data_set\",\n",
    "]\n",
    "\n",
    "notebook_dir = os.path.abspath(\"\")\n",
    "\n",
    "file_path = os.path.abspath(\n",
    "    os.path.join(\n",
    "        notebook_dir,\n",
    "        \"..\",\n",
    "        \"resources\",\n",
    "        \"annotated_dataset.xlsx\",\n",
    "    )\n",
    ")\n",
    "\n",
    "for sheet in sheets:\n",
    "    df = pd.read_excel(file_path, sheet_name=sheet)\n",
    "    df.to_json(f\"target/{sheet}.json\", orient=\"records\", indent=2)"
   ]
  }
 ],
 "metadata": {
  "kernelspec": {
   "display_name": "react-agent-CUxtcVGL-py3.13",
   "language": "python",
   "name": "python3"
  },
  "language_info": {
   "codemirror_mode": {
    "name": "ipython",
    "version": 3
   },
   "file_extension": ".py",
   "mimetype": "text/x-python",
   "name": "python",
   "nbconvert_exporter": "python",
   "pygments_lexer": "ipython3",
   "version": "3.13.3"
  }
 },
 "nbformat": 4,
 "nbformat_minor": 5
}
