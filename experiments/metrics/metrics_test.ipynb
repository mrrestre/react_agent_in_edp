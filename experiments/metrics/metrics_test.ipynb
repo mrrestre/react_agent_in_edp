{
 "cells": [
  {
   "cell_type": "code",
   "execution_count": 1,
   "id": "e0ece95a",
   "metadata": {},
   "outputs": [
    {
     "name": "stdout",
     "output_type": "stream",
     "text": [
      "Not Helpful\n"
     ]
    },
    {
     "data": {
      "text/plain": [
       "TokenConsumption(input_tokens=0, output_tokens=0, total_tokens=0)"
      ]
     },
     "execution_count": 1,
     "metadata": {},
     "output_type": "execute_result"
    }
   ],
   "source": [
    "from experiments.metrics.llm_judge import LLMAsJudgeEvaluator\n",
    "from react_agent.src.util.llm_proxy import LLM_PROXY\n",
    "\n",
    "evaluator = LLMAsJudgeEvaluator(\"gpt-4o-mini\")\n",
    "\n",
    "question = \"How does the introduction of electric vehicles impact the demand for lithium and what are the potential geopolitical consequences?\"\n",
    "generated_answer = \"Electric vehicles reduce emissions and are better for the environment. As more people buy them, governments are offering subsidies. This trend supports green technology and helps fight climate change globally.\"\n",
    "\n",
    "print(evaluator.evaluate(question, generated_answer))\n",
    "\n",
    "LLM_PROXY.get_token_usage()"
   ]
  }
 ],
 "metadata": {
  "kernelspec": {
   "display_name": "react-agent-CUxtcVGL-py3.13",
   "language": "python",
   "name": "python3"
  },
  "language_info": {
   "codemirror_mode": {
    "name": "ipython",
    "version": 3
   },
   "file_extension": ".py",
   "mimetype": "text/x-python",
   "name": "python",
   "nbconvert_exporter": "python",
   "pygments_lexer": "ipython3",
   "version": "3.13.3"
  }
 },
 "nbformat": 4,
 "nbformat_minor": 5
}
