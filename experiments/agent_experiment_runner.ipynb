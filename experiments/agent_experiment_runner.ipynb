{
 "cells": [
  {
   "cell_type": "code",
   "execution_count": 1,
   "metadata": {},
   "outputs": [],
   "source": [
    "import os\n",
    "import json\n",
    "import traceback\n",
    "\n",
    "from datetime import datetime\n",
    "\n",
    "from tqdm.notebook import tqdm\n",
    "\n",
    "from langchain_mcp_adapters.client import MultiServerMCPClient\n",
    "\n",
    "from react_agent.src.agents.react_agent import ReActAgent\n",
    "from react_agent.src.agents.triage import Triage\n",
    "\n",
    "from react_agent.src.config.system_parameters import TriageSettings\n",
    "\n",
    "from react_agent.src.util.tools_fabric import ToolsFabric\n",
    "\n",
    "from experiments.models.experiment_models import LabeledQAPairFacts, ExperimentResult\n",
    "from experiments.metrics.fact_score.fact_scorer import FactScorer\n",
    "from experiments.metrics.bert_score import BertScore\n",
    "from experiments.metrics.agent_judge import AgentJudgeEvaluator"
   ]
  },
  {
   "cell_type": "code",
   "execution_count": 2,
   "metadata": {},
   "outputs": [],
   "source": [
    "USE_MCP = False\n",
    "DEBUG_MODE = False\n",
    "USE_TRIAGE = False\n",
    "\n",
    "AGENT_JUDGE_MODEL = \"anthropic--claude-3.5-sonnet\"\n",
    "\n",
    "fact_scorer = FactScorer()\n",
    "path_to_source_data = \"./resources/02_facts/\"\n",
    "\n",
    "date_str = datetime.now().strftime(\"%d%m%Y\")\n",
    "path_to_results = f\"./results/{date_str}\"\n",
    "\n",
    "if not os.path.exists(path_to_results):\n",
    "    os.makedirs(path_to_results)\n",
    "\n",
    "time_str = datetime.now().strftime(\"%H%M%S\")\n",
    "\n",
    "result_file_name = f\"{path_to_results}/{time_str}_results.json\"\n",
    "failed_experiments_file_name = f\"{path_to_results}/{time_str}_failed_experiments.json\""
   ]
  },
  {
   "cell_type": "code",
   "execution_count": 3,
   "metadata": {},
   "outputs": [],
   "source": [
    "file_path = os.path.abspath(path_to_source_data + \"data_set_facts.json\")\n",
    "\n",
    "with open(file_path, encoding=\"utf8\") as f:\n",
    "    data = json.load(f)\n",
    "    data_set = [LabeledQAPairFacts(**item) for item in data]"
   ]
  },
  {
   "cell_type": "code",
   "execution_count": 4,
   "metadata": {},
   "outputs": [],
   "source": [
    "data_set_for_experiment = data_set[:2]"
   ]
  },
  {
   "cell_type": "code",
   "execution_count": 5,
   "metadata": {},
   "outputs": [
    {
     "data": {
      "application/vnd.jupyter.widget-view+json": {
       "model_id": "74cf27662f9340b5ab90ef0330dfb53d",
       "version_major": 2,
       "version_minor": 0
      },
      "text/plain": [
       "Running cases:   0%|          | 0/2 [00:00<?, ?case/s]"
      ]
     },
     "metadata": {},
     "output_type": "display_data"
    },
    {
     "name": "stdout",
     "output_type": "stream",
     "text": [
      "Asking agent question with id: EA-1\n",
      "\tFinished agent execution\n",
      "\tCalculating FactScore...\n",
      "\tCalculating BERTScore...\n",
      "\tEvaluating agent response with Agent as a Judge...\n",
      "\tFinished experiment for id: EA-1\n",
      "\n",
      "Asking agent question with id: EA-2\n",
      "\tFinished agent execution\n",
      "\tCalculating FactScore...\n",
      "\tCalculating BERTScore...\n",
      "\tEvaluating agent response with Agent as a Judge...\n",
      "\tFinished experiment for id: EA-2\n",
      "\n"
     ]
    }
   ],
   "source": [
    "triage_agent = Triage()\n",
    "execution_trail = \"\"\n",
    "experiment_results: list[ExperimentResult] = []\n",
    "failed_experiments: list = []\n",
    "\n",
    "for data_row in tqdm(data_set_for_experiment, desc=\"Running cases\", unit=\"case\"):\n",
    "    try:\n",
    "        result = ExperimentResult(\n",
    "            id=data_row.id,\n",
    "            question=data_row.question,\n",
    "            answer=data_row.answer,\n",
    "            product=data_row.product,\n",
    "            category=data_row.category,\n",
    "            persona=data_row.persona,\n",
    "            activity=data_row.activity,\n",
    "            country=data_row.country,\n",
    "        )\n",
    "        print(f\"Asking agent question with id: {data_row.id}\")\n",
    "        if USE_TRIAGE:\n",
    "            print(\"\\tUsing Triage to categorize the query...\")\n",
    "            query_categorization = triage_agent.triage_user_message(\n",
    "                user_message=data_row.question\n",
    "            )\n",
    "            if DEBUG_MODE:\n",
    "                print(f\"\\tQuery categorization: {query_categorization}\")\n",
    "\n",
    "        result.triage_category = (\n",
    "            query_categorization[\"category\"]\n",
    "            if USE_TRIAGE\n",
    "            else TriageSettings.Categories.ALL\n",
    "        )\n",
    "\n",
    "        tools = ToolsFabric.get_tools_for_category(\n",
    "            use_mcp=USE_MCP,\n",
    "            configuration=result.triage_category,\n",
    "        )\n",
    "\n",
    "        if USE_MCP:\n",
    "            async with MultiServerMCPClient(tools) as client:\n",
    "                agent = ReActAgent(tool_list=client.get_tools())\n",
    "                execution_trail = await agent.arun_agent_with_input(\n",
    "                    user_message=data_row.question, debug=DEBUG_MODE\n",
    "                )\n",
    "        else:\n",
    "            agent = ReActAgent(tool_list=tools)\n",
    "            execution_trail = agent.run_agent_with_input(\n",
    "                user_message=data_row.question, debug=DEBUG_MODE\n",
    "            )\n",
    "\n",
    "        run_data = agent.get_execution_data()\n",
    "\n",
    "        result.tools_used = run_data.tools_used\n",
    "        result.tool_calls_count = len(run_data.tools_used)\n",
    "        result.excecution_time_seconds = run_data.excecution_time_seconds\n",
    "        result.model_used = run_data.model_used\n",
    "        result.tokens_consumed = run_data.tokens_consumed\n",
    "        result.llm_call_count = run_data.llm_call_count\n",
    "        result.facts = data_row.facts\n",
    "        result.generated_answer = run_data.final_output\n",
    "\n",
    "        print(\"\\tFinished agent execution\")\n",
    "\n",
    "        print(\"\\tCalculating FactScore...\")\n",
    "        result.fact_score = await fact_scorer.get_fact_score(\n",
    "            facts=data_row.facts,\n",
    "            knowledge_source=result.generated_answer,\n",
    "            debug=DEBUG_MODE,\n",
    "        )\n",
    "\n",
    "        print(\"\\tCalculating BERTScore...\")\n",
    "        result.bert_score = BertScore.compute_score(\n",
    "            expected_response=data_row.answer, actual_response=result.generated_answer\n",
    "        )\n",
    "\n",
    "        print(\"\\tEvaluating agent response with Agent as a Judge...\")\n",
    "        result.agent_judge_model = AGENT_JUDGE_MODEL\n",
    "        agent_evaluator = AgentJudgeEvaluator(model=AGENT_JUDGE_MODEL)\n",
    "\n",
    "        agent_judge_outcome = agent_evaluator.evaluate(\n",
    "            question=data_row.question, generated_answer=result.generated_answer\n",
    "        )\n",
    "\n",
    "        result.agent_judge_outcome = agent_judge_outcome.answer\n",
    "        result.agent_judge_reasoning = agent_judge_outcome.reasoning\n",
    "\n",
    "        result.agent_judge_call_count = agent_evaluator.get_llm_call_count()\n",
    "        result.agent_judge_tokens_consumed = agent_evaluator.get_token_consumption()\n",
    "\n",
    "        print(f\"\\tFinished experiment for id: {data_row.id}\\n\")\n",
    "\n",
    "        experiment_results.append(result)\n",
    "    except Exception as e:\n",
    "        print(f\"\\tExperiment failed for id {data_row.id}: {e}\")\n",
    "        if DEBUG_MODE:\n",
    "            traceback.print_exc()\n",
    "\n",
    "        failed_experiments.append(\n",
    "            {\n",
    "                \"id\": data_row.id,\n",
    "                \"error\": str(e),\n",
    "                \"traceback\": traceback.format_exc(),\n",
    "            }\n",
    "        )"
   ]
  },
  {
   "cell_type": "code",
   "execution_count": 6,
   "metadata": {},
   "outputs": [],
   "source": [
    "if failed_experiments:\n",
    "    with open(failed_experiments_file_name, \"w\") as f:\n",
    "        json.dump(failed_experiments, f, indent=2)"
   ]
  },
  {
   "cell_type": "code",
   "execution_count": 7,
   "metadata": {},
   "outputs": [
    {
     "name": "stderr",
     "output_type": "stream",
     "text": [
      "/Users/i589287/Library/Caches/pypoetry/virtualenvs/react-agent-CUxtcVGL-py3.13/lib/python3.13/site-packages/pydantic/main.py:426: UserWarning: Pydantic serializer warnings:\n",
      "  Expected `float` but got `FactScoreResult` with value `FactScoreResult(direct_fa... <Attachment> nodes.\")])` - serialized value may not be as expected\n",
      "  return self.__pydantic_serializer__.to_python(\n",
      "/Users/i589287/Library/Caches/pypoetry/virtualenvs/react-agent-CUxtcVGL-py3.13/lib/python3.13/site-packages/pydantic/main.py:426: UserWarning: Pydantic serializer warnings:\n",
      "  Expected `float` but got `FactScoreResult` with value `FactScoreResult(direct_fa... these applications.')])` - serialized value may not be as expected\n",
      "  return self.__pydantic_serializer__.to_python(\n"
     ]
    },
    {
     "data": {
      "application/vnd.microsoft.datawrangler.viewer.v0+json": {
       "columns": [
        {
         "name": "index",
         "rawType": "int64",
         "type": "integer"
        },
        {
         "name": "id",
         "rawType": "object",
         "type": "string"
        },
        {
         "name": "question",
         "rawType": "object",
         "type": "string"
        },
        {
         "name": "answer",
         "rawType": "object",
         "type": "string"
        },
        {
         "name": "product",
         "rawType": "object",
         "type": "string"
        },
        {
         "name": "category",
         "rawType": "object",
         "type": "string"
        },
        {
         "name": "persona",
         "rawType": "object",
         "type": "string"
        },
        {
         "name": "activity",
         "rawType": "object",
         "type": "string"
        },
        {
         "name": "country",
         "rawType": "object",
         "type": "string"
        },
        {
         "name": "facts",
         "rawType": "object",
         "type": "unknown"
        },
        {
         "name": "bert_score",
         "rawType": "float64",
         "type": "float"
        },
        {
         "name": "agent_judge_outcome",
         "rawType": "object",
         "type": "string"
        },
        {
         "name": "agent_judge_reasoning",
         "rawType": "object",
         "type": "string"
        },
        {
         "name": "agent_judge_model",
         "rawType": "object",
         "type": "string"
        },
        {
         "name": "agent_judge_call_count",
         "rawType": "int64",
         "type": "integer"
        },
        {
         "name": "generated_answer",
         "rawType": "object",
         "type": "string"
        },
        {
         "name": "model_used",
         "rawType": "object",
         "type": "string"
        },
        {
         "name": "triage_category",
         "rawType": "object",
         "type": "string"
        },
        {
         "name": "tools_used",
         "rawType": "object",
         "type": "unknown"
        },
        {
         "name": "tool_calls_count",
         "rawType": "int64",
         "type": "integer"
        },
        {
         "name": "excecution_time_seconds",
         "rawType": "float64",
         "type": "float"
        },
        {
         "name": "llm_call_count",
         "rawType": "int64",
         "type": "integer"
        },
        {
         "name": "fact_score.direct_fact_score",
         "rawType": "float64",
         "type": "float"
        },
        {
         "name": "fact_score.supporting_fact_score",
         "rawType": "float64",
         "type": "float"
        },
        {
         "name": "fact_score.combined_fact_score",
         "rawType": "float64",
         "type": "float"
        },
        {
         "name": "fact_score.direct_facts",
         "rawType": "object",
         "type": "unknown"
        },
        {
         "name": "fact_score.supporting_facts",
         "rawType": "object",
         "type": "unknown"
        },
        {
         "name": "agent_judge_tokens_consumed.input_tokens",
         "rawType": "int64",
         "type": "integer"
        },
        {
         "name": "agent_judge_tokens_consumed.output_tokens",
         "rawType": "int64",
         "type": "integer"
        },
        {
         "name": "agent_judge_tokens_consumed.total_tokens",
         "rawType": "int64",
         "type": "integer"
        },
        {
         "name": "tokens_consumed.input_tokens",
         "rawType": "int64",
         "type": "integer"
        },
        {
         "name": "tokens_consumed.output_tokens",
         "rawType": "int64",
         "type": "integer"
        },
        {
         "name": "tokens_consumed.total_tokens",
         "rawType": "int64",
         "type": "integer"
        }
       ],
       "ref": "4ebf169f-039d-44cd-b890-c87a831ee368",
       "rows": [
        [
         "0",
         "EA-1",
         "How can I attach additional files to standard XML in Public Cloud?",
         "To attach additional files to the standard XML in Public Cloud, you can use the Business Add-In (BAdI) EDOC_ADAPTOR_CLOUD and enhance the XML file generated for an electronic document.\nBy enhancing the XML file, you can include additional information that may be relevant for your business processes .\nTo implement this enhancement, you can follow these steps in ABAP Development Tools (ADT):\n1. In your ABAP project, go to the enhancement spot ES_EDOCUMENT_CLOUD and select 'New BAdI Enhancement Implementation'.\n2. Enter a package, name, and description for the implementation.\n3. Choose 'Add BAdI Implementation' and select EDOC_ADAPTOR_CLOUD .\n4. (Optional) Create a BAdI filter for Country and/or Generic Filter.\n5. Choose 'Implementing Class' to create a new implementation class.\n6. Activate your BAdI implementation .\nOnce you have implemented the BAdI, you can fill the XML tag <BuyersItemIdentification> with the desired additional information.\nThis can be done by reading the relevant data from the source documents and filling the appropriate XML tags.\nPlease note that the specific implementation details may vary depending on your system setup and requirements.\nIt is recommended to refer to the provided sources for more detailed instructions and examples.",
         "ERP (only SAP S/4HANA Cloud Public Edition)",
         "How to Develop (Maintenance - Customer case support)",
         "Developer (Customer side)",
         "Custom Development",
         "Cross",
         "[{'fact': 'You can attach additional files to standard XML in Public Cloud by using the Business Add-In (BAdI) EDOC_ADAPTOR_CLOUD.', 'classification': 'direct', 'id': 'EA-1-1'}, {'fact': 'Enhancing the XML file generated for an electronic document allows inclusion of additional information.', 'classification': 'direct', 'id': 'EA-1-2'}, {'fact': 'The enhancement is implemented in ABAP Development Tools (ADT) via the enhancement spot ES_EDOCUMENT_CLOUD.', 'classification': 'supporting', 'id': 'EA-1-3'}, {'fact': 'You need to create a new BAdI Enhancement Implementation in your ABAP project.', 'classification': 'supporting', 'id': 'EA-1-4'}, {'fact': 'You must select EDOC_ADAPTOR_CLOUD when adding the BAdI Implementation.', 'classification': 'supporting', 'id': 'EA-1-5'}, {'fact': 'You can optionally create a BAdI filter for Country and/or Generic Filter.', 'classification': 'supporting', 'id': 'EA-1-6'}, {'fact': 'After implementing the BAdI, you can fill the XML tag <BuyersItemIdentification> with additional information.', 'classification': 'direct', 'id': 'EA-1-7'}, {'fact': 'Filling the XML tag can be done by reading relevant data from source documents.', 'classification': 'supporting', 'id': 'EA-1-8'}]",
         "0.2597430348396301",
         "Fully Helpful",
         "The generated answer accurately and comprehensively addresses the question \"How can I attach additional files to standard XML in Public Cloud?\". It provides both a technical explanation and a plain-language summary, which aligns with the information retrieved from the SAP documentation and help resources.\n\nKey points that make this answer fully helpful:\n\n1. Correctly identifies the use of the EDOC_ADAPTOR_CLOUD BAdI and its SET_OUTPUT_DATA method for attaching files.\n2. Provides a step-by-step technical explanation of the implementation process.\n3. Includes an example XML snippet to illustrate the attachment structure.\n4. Offers a plain-language summary for non-technical users.\n5. Mentions important considerations such as the need for ABAP development skills and potential limitations.\n\nThe answer is supported by official SAP documentation and provides a complete solution to the user's question, including both the technical implementation details and a broader context for understanding the process.",
         "anthropic--claude-3.5-sonnet",
         "0",
         "To attach additional files to standard XML documents in SAP Public Cloud (SAP Document and Reporting Compliance, Cloud Edition), you need to implement the BAdI (Business Add-In) EDOC_ADAPTOR_CLOUD and use its method SET_OUTPUT_DATA. This method allows you to programmatically add attachments from the source document’s Attachment List to the XML output.\n\nTechnical Explanation:\n- In ABAP Development Tools (ADT/Eclipse), create an implementation of the BAdI EDOC_ADAPTOR_CLOUD (Enhancement Spot: ES_EDOCUMENT_CLOUD).\n- In the SET_OUTPUT_DATA method, enhance the output data structure by adding one or more <Attachment> nodes.\n- Each attachment should include fields such as FileName, MimeType, FileSize, and the file content encoded in base64.\n- Example XML snippet:\n  ```xml\n  <Attachment FileName=\"Invoice.pdf\" MimeType=\"application/pdf\" FileSize=\"12345\">JVBERi0xLjQKJ...</Attachment>\n  <Attachment FileName=\"Specs.docx\" MimeType=\"application/vnd.openxmlformats-officedocument.wordprocessingml.document\" FileSize=\"67890\">UEsDBBQABgA...</Attachment>\n  ```\n- The attachments must first be added to the source document’s Attachment List in SAP.\n- After implementation, test the process using the eDocument Cockpit (EDOC_COCKPIT) or relevant Fiori apps.\n\nPlain-Language Summary:\nYou can add extra files (like PDFs or images) to your standard XML documents in SAP Public Cloud by having a developer enhance the system using a special extension point (BAdI). The developer writes code to pull attachments from your document and include them in the XML output, so they are sent together with the main document.\n\nLimitations:\n- This process requires ABAP development skills and access to SAP Cloud extensibility tools.\n- The receiving authority or platform must support attachments in the XML format.\n- There may be size limits for attachments.",
         "gpt-4.1",
         "All Tools",
         "[{'tool_name': 'sap_documentation_summary', 'arguments': {}}, {'tool_name': 'sap_documentation_summary', 'arguments': {'query': 'attach additional files XML Public Cloud'}}, {'tool_name': 'sap_help_lookup', 'arguments': {'query': 'EDOC_ADAPTOR_CLOUD SET_OUTPUT_DATA attachment'}}]",
         "3",
         "44.787",
         "5",
         "0.6666666666666666",
         "0.8",
         "0.75",
         "[{'fact': 'You can attach additional files to standard XML in Public Cloud by using the Business Add-In (BAdI) EDOC_ADAPTOR_CLOUD.', 'is_contained': True, 'reason': 'The context explicitly states that to attach additional files to standard XML documents in SAP Public Cloud, you need to implement the BAdI EDOC_ADAPTOR_CLOUD and use its method to add attachments.'}, {'fact': 'Enhancing the XML file generated for an electronic document allows inclusion of additional information.', 'is_contained': True, 'reason': 'The context explains that by enhancing the XML output (using the BAdI and its method), additional information such as attachments can be included in the XML file generated for an electronic document.'}, {'fact': 'After implementing the BAdI, you can fill the XML tag <BuyersItemIdentification> with additional information.', 'is_contained': False, 'reason': 'The context only describes adding <Attachment> nodes to the XML output using the BAdI implementation. There is no mention of the <BuyersItemIdentification> tag or adding information to it.'}]",
         "[{'fact': 'The enhancement is implemented in ABAP Development Tools (ADT) via the enhancement spot ES_EDOCUMENT_CLOUD.', 'is_contained': True, 'reason': 'The context explicitly states that in ABAP Development Tools (ADT/Eclipse), you create an implementation of the BAdI EDOC_ADAPTOR_CLOUD, which is part of Enhancement Spot ES_EDOCUMENT_CLOUD.'}, {'fact': 'You need to create a new BAdI Enhancement Implementation in your ABAP project.', 'is_contained': True, 'reason': 'The context explicitly states that to attach additional files, you must create an implementation of the BAdI EDOC_ADAPTOR_CLOUD in ABAP Development Tools, which is a BAdI Enhancement Implementation.'}, {'fact': 'You must select EDOC_ADAPTOR_CLOUD when adding the BAdI Implementation.', 'is_contained': True, 'reason': 'The context explicitly states that to implement the required functionality, you need to create an implementation of the BAdI EDOC_ADAPTOR_CLOUD. This directly supports the fact that EDOC_ADAPTOR_CLOUD must be selected when adding the BAdI Implementation.'}, {'fact': 'You can optionally create a BAdI filter for Country and/or Generic Filter.', 'is_contained': False, 'reason': 'The context explains how to implement the BAdI EDOC_ADAPTOR_CLOUD and use its method to add attachments, but it does not mention the creation of BAdI filters for Country or Generic Filter, nor does it discuss any optional filtering mechanism.'}, {'fact': 'Filling the XML tag can be done by reading relevant data from source documents.', 'is_contained': True, 'reason': \"The context explains that attachments are added to the XML output by programmatically pulling them from the source document's Attachment List, which involves reading relevant data from source documents to fill the XML <Attachment> nodes.\"}]",
         "0",
         "0",
         "0",
         "10542",
         "2041",
         "12583"
        ],
        [
         "1",
         "EA-2",
         "For a Greece customer in Public Cloud, what are the steps to enhance the generated XML before sending it to the Tax Authorities using ADT?",
         "To enhance the generated XML file for a Greece customer in Public Cloud before sending it to the Tax Authorities using ABAP Development Tools (ADT), you can follow these steps:\n1. In your ABAP project, go to the enhancement spot ES_EDOCUMENT_CLOUD (path: package GLO-EDO > Enhancements > Enhancement Spots).\n2. Right-click ES_EDOCUMENT_CLOUD and select New BAdI Enhancement Implementation .\n3. Enter a package, name, and description for the implementation.\n4. Choose Add BAdI Implementation and select EDOC_ADAPTOR_CLOUD.\n5. (Optional) Create a BAdI filter for Country and/or Generic Filter.\n6. Choose Implementing Class to create a new implementation class. The new implementation class automatically implements the interfaces if_badi_interfaces and if_edoc_adaptor_cloud.7. After generating the class, open the interface method and press F3 to view its parameters. To display the documentation, press F2.\n8. Implement the necessary logic in the method to modify the XML tags and fill optional XML tags with values such as customer material number or delivery number.9. Activate your BAdI implementation.When you display the XML file of the electronic document in the eDocument Cockpit or Manage Electronic Documents app, you will see that the relevant XML tags are now filled with the desired values.Please note that the provided steps are specific to enhancing the XML file for a German customer in Public Cloud using ADT. The exact implementation may vary depending on the specific requirements and configurations of your system.",
         "ERP (only SAP S/4HANA Cloud Public Edition)",
         "How to Develop (Maintenance - Customer case support)",
         "Developer (Customer side)",
         "Custom Development",
         "GR",
         "[{'fact': 'To enhance the generated XML for a Greece customer in Public Cloud before sending it to the Tax Authorities, you use ABAP Development Tools (ADT).', 'classification': 'direct', 'id': 'EA-2-1'}, {'fact': 'You should go to the enhancement spot ES_EDOCUMENT_CLOUD in your ABAP project.', 'classification': 'direct', 'id': 'EA-2-2'}, {'fact': 'You need to create a new BAdI Enhancement Implementation for ES_EDOCUMENT_CLOUD.', 'classification': 'direct', 'id': 'EA-2-3'}, {'fact': 'You select EDOC_ADAPTOR_CLOUD when adding the BAdI Implementation.', 'classification': 'direct', 'id': 'EA-2-4'}, {'fact': 'You can optionally create a BAdI filter for Country and/or Generic Filter.', 'classification': 'supporting', 'id': 'EA-2-5'}, {'fact': 'You create an implementing class that automatically implements the interfaces if_badi_interfaces and if_edoc_adaptor_cloud.', 'classification': 'supporting', 'id': 'EA-2-6'}, {'fact': 'You implement logic in the method to modify XML tags and fill optional XML tags with values such as customer material number or delivery number.', 'classification': 'direct', 'id': 'EA-2-7'}, {'fact': 'You must activate your BAdI implementation after making changes.', 'classification': 'direct', 'id': 'EA-2-8'}, {'fact': 'After enhancement, the relevant XML tags in the electronic document will be filled with the desired values when viewed in the eDocument Cockpit or Manage Electronic Documents app.', 'classification': 'supporting', 'id': 'EA-2-9'}]",
         "0.15590086579322815",
         "Partially Helpful",
         "The generated answer provides accurate and detailed steps for enhancing the XML for Greece customers in SAP Public Cloud using ABAP Development Tools (ADT). It correctly identifies key classes and methods, explains the process of XML generation and modification, and covers important aspects such as error handling and testing. The answer also includes both technical and plain language summaries, making it accessible to different audiences.\n\nHowever, the answer could be improved by incorporating additional information from SAP documentation:\n\n1. Mentioning the use of abapGit for code transport between development and production systems, which is crucial for managing custom developments in SAP S/4HANA Cloud.\n2. Emphasizing the importance of checking scope items and the availability matrix for Greece-specific features, as these can impact the availability of certain functionalities.\n3. Providing more context on the SAP S/4HANA Cloud environment and its limitations for custom development, which could affect the implementation approach.\n\nWhile the answer is largely accurate and helpful, these additions would make it more comprehensive and aligned with SAP's recommended practices for development in S/4HANA Cloud.",
         "anthropic--claude-3.5-sonnet",
         "0",
         "To enhance the generated XML for a Greece customer in Public Cloud before sending it to the Tax Authorities using ABAP Development Tools (ADT), follow these steps:\n\n1. Use the `cl_edocument_gr` class:\n   - This class is responsible for handling Greece-specific electronic documents.\n   - Key methods include:\n     a. `generate_xml`: Generates the XML structure for Greece invoices.\n     b. `create_edocument_hook`: Creates the eDocument instance and prepares the XML file.\n     c. `process_download`: Handles the download of VAT-related information.\n\n2. Implement XML enhancements using the `cl_edoc_map_gr` class:\n   - This class is derived from `cl_edoc_map_aif` and handles mapping for Greece-specific documents.\n   - Key methods include:\n     a. `map_invincclsr1`: Maps income classification data.\n     b. `get_classification_data_bset`: Retrieves VAT classification data.\n\n3. Enhance the XML generation process:\n   - Modify the `generate_xml` method in `cl_edocument_gr` to include additional data or modify existing data structures.\n   - Use the `cl_edoc_map_gr` class to map additional fields or modify existing mappings.\n\n4. Implement Business Add-Ins (BAdIs) for custom enhancements:\n   - Use the `mo_edo_map_cloud_vat_clsif_gr` BAdI to determine VAT classifications.\n   - Implement the `determine_vat_classif` method in your BAdI implementation to add custom logic for VAT classification.\n\n5. Modify the XML structure:\n   - Update the `edo_gr_aade_book_invoice_type` structure to include any additional fields required by the Greek Tax Authorities.\n   - Ensure that the `generate_xml` method incorporates these changes when creating the XML file.\n\n6. Handle different invoice types:\n   - Use the `create_edocument_hook` method to determine the correct eDocument type based on the invoice type and variation.\n   - Implement logic for various invoice types such as payroll invoices, depreciation invoices, and settlement invoices.\n\n7. Implement error handling and logging:\n   - Use the `add_error_message` method to log any errors or exceptions during the XML enhancement process.\n   - Implement proper exception handling in your custom code to ensure robust error management.\n\n8. Test the enhanced XML:\n   - Use ADT to deploy your changes to the development system.\n   - Generate test invoices and verify that the enhanced XML meets the requirements of the Greek Tax Authorities.\n\n9. Validate the enhanced XML:\n   - Use the `process_download` method to download the generated XML files.\n   - Verify the content and structure of the downloaded XML files to ensure compliance with Greek tax regulations.\n\n10. Implement the sending process:\n    - Develop a method to send the enhanced XML to the Greek Tax Authorities using the appropriate web service or API.\n    - Implement error handling and response processing for the submission process.\n\nTechnical Summary:\nThe XML enhancement process for Greece customers in SAP Public Cloud primarily involves extending the `cl_edocument_gr` and `cl_edoc_map_gr` classes. Key methods such as `generate_xml`, `create_edocument_hook`, and `get_classification_data_bset` play crucial roles in generating and modifying the XML structure. Implementing custom BAdIs, particularly for VAT classification, allows for flexible enhancements to meet specific requirements.\n\nPlain Language Summary:\nTo enhance XML files for Greek Tax Authorities in SAP Public Cloud, developers need to modify existing SAP classes that handle electronic document generation. This involves adding new data fields, changing how information is mapped, and implementing custom logic for things like VAT classification. The process requires careful attention to Greek tax regulations and thorough testing to ensure the enhanced XML files meet all necessary requirements before submission to the authorities.",
         "gpt-4.1",
         "All Tools",
         "[]",
         "0",
         "62.022",
         "4",
         "0.16666666666666666",
         "0.0",
         "0.1111111111111111",
         "[{'fact': 'To enhance the generated XML for a Greece customer in Public Cloud before sending it to the Tax Authorities, you use ABAP Development Tools (ADT).', 'is_contained': True, 'reason': 'The context explicitly mentions using ABAP Development Tools (ADT) to enhance the generated XML for Greece customers in Public Cloud before sending it to the Tax Authorities.'}, {'fact': 'You should go to the enhancement spot ES_EDOCUMENT_CLOUD in your ABAP project.', 'is_contained': False, 'reason': 'The context does not mention any enhancement spot called ES_EDOCUMENT_CLOUD or any specific enhancement spot. The text provides detailed steps for enhancing XML generation for Greece customers in Public Cloud using ABAP Development Tools, but does not reference the specific enhancement spot mentioned in the fact.'}, {'fact': 'You need to create a new BAdI Enhancement Implementation for ES_EDOCUMENT_CLOUD.', 'is_contained': False, 'reason': \"The context does not explicitly mention creating a new BAdI Enhancement Implementation for ES_EDOCUMENT_CLOUD. While it discusses implementing BAdIs for custom enhancements, it specifically mentions using the 'mo_edo_map_cloud_vat_clsif_gr' BAdI, not creating a new one for ES_EDOCUMENT_CLOUD.\"}, {'fact': 'You select EDOC_ADAPTOR_CLOUD when adding the BAdI Implementation.', 'is_contained': False, 'reason': 'The context does not mention selecting EDOC_ADAPTOR_CLOUD or any specific BAdI Implementation selection process. While it discusses implementing BAdIs for custom enhancements, it does not provide this specific detail about EDOC_ADAPTOR_CLOUD.'}, {'fact': 'You implement logic in the method to modify XML tags and fill optional XML tags with values such as customer material number or delivery number.', 'is_contained': False, 'reason': 'The context does not specifically mention implementing logic to modify XML tags or fill optional XML tags with values like customer material number or delivery number. While it discusses enhancing and modifying XML structures, it does not provide this level of detail about specific tag modifications or the mentioned values.'}, {'fact': 'You must activate your BAdI implementation after making changes.', 'is_contained': False, 'reason': 'The context does not explicitly mention the need to activate BAdI implementations after making changes. While it discusses implementing BAdIs for custom enhancements, it does not provide information about the activation process.'}]",
         "[{'fact': 'You can optionally create a BAdI filter for Country and/or Generic Filter.', 'is_contained': False, 'reason': \"The context does not mention creating BAdI filters for Country or Generic Filter. While it discusses implementing BAdIs for custom enhancements, it specifically mentions using the 'mo_edo_map_cloud_vat_clsif_gr' BAdI for VAT classifications, but does not mention the option to create filters as stated in the fact.\"}, {'fact': 'You create an implementing class that automatically implements the interfaces if_badi_interfaces and if_edoc_adaptor_cloud.', 'is_contained': False, 'reason': \"The context does not mention creating an implementing class that automatically implements the specific interfaces 'if_badi_interfaces' and 'if_edoc_adaptor_cloud'. While it discusses implementing BAdIs for custom enhancements, it does not provide information about automatic interface implementation or the specific interfaces mentioned in the fact.\"}, {'fact': 'After enhancement, the relevant XML tags in the electronic document will be filled with the desired values when viewed in the eDocument Cockpit or Manage Electronic Documents app.', 'is_contained': False, 'reason': 'The context provides detailed information about enhancing XML for Greece customers in SAP Public Cloud, but it does not specifically mention the eDocument Cockpit or Manage Electronic Documents app, nor does it state that the enhanced XML tags will be filled with desired values when viewed in these applications.'}]",
         "0",
         "0",
         "0",
         "17968",
         "1070",
         "19038"
        ]
       ],
       "shape": {
        "columns": 32,
        "rows": 2
       }
      },
      "text/html": [
       "<div>\n",
       "<style scoped>\n",
       "    .dataframe tbody tr th:only-of-type {\n",
       "        vertical-align: middle;\n",
       "    }\n",
       "\n",
       "    .dataframe tbody tr th {\n",
       "        vertical-align: top;\n",
       "    }\n",
       "\n",
       "    .dataframe thead th {\n",
       "        text-align: right;\n",
       "    }\n",
       "</style>\n",
       "<table border=\"1\" class=\"dataframe\">\n",
       "  <thead>\n",
       "    <tr style=\"text-align: right;\">\n",
       "      <th></th>\n",
       "      <th>id</th>\n",
       "      <th>question</th>\n",
       "      <th>answer</th>\n",
       "      <th>product</th>\n",
       "      <th>category</th>\n",
       "      <th>persona</th>\n",
       "      <th>activity</th>\n",
       "      <th>country</th>\n",
       "      <th>facts</th>\n",
       "      <th>bert_score</th>\n",
       "      <th>...</th>\n",
       "      <th>fact_score.supporting_fact_score</th>\n",
       "      <th>fact_score.combined_fact_score</th>\n",
       "      <th>fact_score.direct_facts</th>\n",
       "      <th>fact_score.supporting_facts</th>\n",
       "      <th>agent_judge_tokens_consumed.input_tokens</th>\n",
       "      <th>agent_judge_tokens_consumed.output_tokens</th>\n",
       "      <th>agent_judge_tokens_consumed.total_tokens</th>\n",
       "      <th>tokens_consumed.input_tokens</th>\n",
       "      <th>tokens_consumed.output_tokens</th>\n",
       "      <th>tokens_consumed.total_tokens</th>\n",
       "    </tr>\n",
       "  </thead>\n",
       "  <tbody>\n",
       "    <tr>\n",
       "      <th>0</th>\n",
       "      <td>EA-1</td>\n",
       "      <td>How can I attach additional files to standard ...</td>\n",
       "      <td>To attach additional files to the standard XML...</td>\n",
       "      <td>ERP (only SAP S/4HANA Cloud Public Edition)</td>\n",
       "      <td>How to Develop (Maintenance - Customer case su...</td>\n",
       "      <td>Developer (Customer side)</td>\n",
       "      <td>Custom Development</td>\n",
       "      <td>Cross</td>\n",
       "      <td>[{'fact': 'You can attach additional files to ...</td>\n",
       "      <td>0.259743</td>\n",
       "      <td>...</td>\n",
       "      <td>0.8</td>\n",
       "      <td>0.750000</td>\n",
       "      <td>[{'fact': 'You can attach additional files to ...</td>\n",
       "      <td>[{'fact': 'The enhancement is implemented in A...</td>\n",
       "      <td>0</td>\n",
       "      <td>0</td>\n",
       "      <td>0</td>\n",
       "      <td>10542</td>\n",
       "      <td>2041</td>\n",
       "      <td>12583</td>\n",
       "    </tr>\n",
       "    <tr>\n",
       "      <th>1</th>\n",
       "      <td>EA-2</td>\n",
       "      <td>For a Greece customer in Public Cloud, what ar...</td>\n",
       "      <td>To enhance the generated XML file for a Greece...</td>\n",
       "      <td>ERP (only SAP S/4HANA Cloud Public Edition)</td>\n",
       "      <td>How to Develop (Maintenance - Customer case su...</td>\n",
       "      <td>Developer (Customer side)</td>\n",
       "      <td>Custom Development</td>\n",
       "      <td>GR</td>\n",
       "      <td>[{'fact': 'To enhance the generated XML for a ...</td>\n",
       "      <td>0.155901</td>\n",
       "      <td>...</td>\n",
       "      <td>0.0</td>\n",
       "      <td>0.111111</td>\n",
       "      <td>[{'fact': 'To enhance the generated XML for a ...</td>\n",
       "      <td>[{'fact': 'You can optionally create a BAdI fi...</td>\n",
       "      <td>0</td>\n",
       "      <td>0</td>\n",
       "      <td>0</td>\n",
       "      <td>17968</td>\n",
       "      <td>1070</td>\n",
       "      <td>19038</td>\n",
       "    </tr>\n",
       "  </tbody>\n",
       "</table>\n",
       "<p>2 rows × 32 columns</p>\n",
       "</div>"
      ],
      "text/plain": [
       "     id                                           question  \\\n",
       "0  EA-1  How can I attach additional files to standard ...   \n",
       "1  EA-2  For a Greece customer in Public Cloud, what ar...   \n",
       "\n",
       "                                              answer  \\\n",
       "0  To attach additional files to the standard XML...   \n",
       "1  To enhance the generated XML file for a Greece...   \n",
       "\n",
       "                                       product  \\\n",
       "0  ERP (only SAP S/4HANA Cloud Public Edition)   \n",
       "1  ERP (only SAP S/4HANA Cloud Public Edition)   \n",
       "\n",
       "                                            category  \\\n",
       "0  How to Develop (Maintenance - Customer case su...   \n",
       "1  How to Develop (Maintenance - Customer case su...   \n",
       "\n",
       "                     persona            activity country  \\\n",
       "0  Developer (Customer side)  Custom Development   Cross   \n",
       "1  Developer (Customer side)  Custom Development      GR   \n",
       "\n",
       "                                               facts  bert_score  ...  \\\n",
       "0  [{'fact': 'You can attach additional files to ...    0.259743  ...   \n",
       "1  [{'fact': 'To enhance the generated XML for a ...    0.155901  ...   \n",
       "\n",
       "  fact_score.supporting_fact_score fact_score.combined_fact_score  \\\n",
       "0                              0.8                       0.750000   \n",
       "1                              0.0                       0.111111   \n",
       "\n",
       "                             fact_score.direct_facts  \\\n",
       "0  [{'fact': 'You can attach additional files to ...   \n",
       "1  [{'fact': 'To enhance the generated XML for a ...   \n",
       "\n",
       "                         fact_score.supporting_facts  \\\n",
       "0  [{'fact': 'The enhancement is implemented in A...   \n",
       "1  [{'fact': 'You can optionally create a BAdI fi...   \n",
       "\n",
       "  agent_judge_tokens_consumed.input_tokens  \\\n",
       "0                                        0   \n",
       "1                                        0   \n",
       "\n",
       "  agent_judge_tokens_consumed.output_tokens  \\\n",
       "0                                         0   \n",
       "1                                         0   \n",
       "\n",
       "  agent_judge_tokens_consumed.total_tokens tokens_consumed.input_tokens  \\\n",
       "0                                        0                        10542   \n",
       "1                                        0                        17968   \n",
       "\n",
       "   tokens_consumed.output_tokens  tokens_consumed.total_tokens  \n",
       "0                           2041                         12583  \n",
       "1                           1070                         19038  \n",
       "\n",
       "[2 rows x 32 columns]"
      ]
     },
     "execution_count": 7,
     "metadata": {},
     "output_type": "execute_result"
    }
   ],
   "source": [
    "# Serialize experiment results to list of dicts\n",
    "import pandas as pd\n",
    "\n",
    "records = [r.model_dump(mode=\"json\") for r in experiment_results]\n",
    "# Make it a dataframe in order to flatten nested structures\n",
    "df = pd.json_normalize(records)\n",
    "\n",
    "df"
   ]
  },
  {
   "cell_type": "code",
   "execution_count": 8,
   "metadata": {},
   "outputs": [],
   "source": [
    "# Convert to list of dictionaries (JSON objects)\n",
    "json_list = df.to_dict(orient=\"records\")\n",
    "\n",
    "with open(result_file_name, \"w\") as f:\n",
    "    json.dump(json_list, f, indent=2)"
   ]
  }
 ],
 "metadata": {
  "kernelspec": {
   "display_name": "react-agent-CUxtcVGL-py3.13",
   "language": "python",
   "name": "python3"
  },
  "language_info": {
   "codemirror_mode": {
    "name": "ipython",
    "version": 3
   },
   "file_extension": ".py",
   "mimetype": "text/x-python",
   "name": "python",
   "nbconvert_exporter": "python",
   "pygments_lexer": "ipython3",
   "version": "3.13.3"
  }
 },
 "nbformat": 4,
 "nbformat_minor": 2
}
