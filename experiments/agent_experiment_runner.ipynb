{
 "cells": [
  {
   "cell_type": "code",
   "execution_count": 1,
   "metadata": {},
   "outputs": [],
   "source": [
    "import os\n",
    "import json\n",
    "import traceback\n",
    "\n",
    "from datetime import datetime\n",
    "\n",
    "from tqdm.notebook import tqdm\n",
    "\n",
    "from langchain_mcp_adapters.client import MultiServerMCPClient\n",
    "\n",
    "from react_agent.src.agents.react_agent import ReActAgent\n",
    "from react_agent.src.agents.triage import Triage\n",
    "\n",
    "from react_agent.src.config.system_parameters import TriageSettings\n",
    "\n",
    "from react_agent.src.util.tools_fabric import ToolsFabric\n",
    "\n",
    "from experiments.models.experiment_models import LabeledQAPairFacts, ExperimentResult\n",
    "from experiments.metrics.fact_score.fact_scorer import FactScorer\n",
    "from experiments.metrics.bert_score import BertScore\n",
    "from experiments.metrics.agent_judge import AgentJudgeEvaluator"
   ]
  },
  {
   "cell_type": "code",
   "execution_count": 2,
   "metadata": {},
   "outputs": [],
   "source": [
    "USE_MCP = True\n",
    "DEBUG_MODE = False\n",
    "USE_TRIAGE = True\n",
    "\n",
    "AGENT_JUDGE_MODEL = \"anthropic--claude-3.5-sonnet\"\n",
    "\n",
    "fact_scorer = FactScorer()\n",
    "path_to_source_data = \"./resources/02_facts/\"\n",
    "\n",
    "date_str = datetime.now().strftime(\"%d%m%Y\")\n",
    "path_to_results = f\"./results/{date_str}\"\n",
    "\n",
    "if not os.path.exists(path_to_results):\n",
    "    os.makedirs(path_to_results)\n",
    "\n",
    "time_str = datetime.now().strftime(\"%H%M%S\")\n",
    "\n",
    "result_file_name = f\"{path_to_results}/{time_str}_results.json\"\n",
    "failed_experiments_file_name = f\"{path_to_results}/{time_str}_failed_experiments.json\""
   ]
  },
  {
   "cell_type": "code",
   "execution_count": 3,
   "metadata": {},
   "outputs": [],
   "source": [
    "file_path = os.path.abspath(path_to_source_data + \"data_set_facts_copy.json\")\n",
    "\n",
    "with open(file_path, encoding=\"utf8\") as f:\n",
    "    data = json.load(f)\n",
    "    data_set = [LabeledQAPairFacts(**item) for item in data]"
   ]
  },
  {
   "cell_type": "code",
   "execution_count": 4,
   "metadata": {},
   "outputs": [],
   "source": [
    "data_set_for_experiment = data_set"
   ]
  },
  {
   "cell_type": "code",
   "execution_count": 5,
   "metadata": {},
   "outputs": [],
   "source": [
    "triage_agent = Triage()"
   ]
  },
  {
   "cell_type": "code",
   "execution_count": 6,
   "metadata": {},
   "outputs": [],
   "source": [
    "async def run_experiment(data_row):\n",
    "    result = ExperimentResult(\n",
    "        id=data_row.id,\n",
    "        question=data_row.question,\n",
    "        answer=data_row.answer,\n",
    "        product=data_row.product,\n",
    "        category=data_row.category,\n",
    "        persona=data_row.persona,\n",
    "        activity=data_row.activity,\n",
    "        country=data_row.country,\n",
    "    )\n",
    "    print(f\"Asking agent question with id: {data_row.id}\")\n",
    "    if USE_TRIAGE:\n",
    "        print(\"\\tUsing Triage to categorize the query...\")\n",
    "        query_categorization = triage_agent.triage_user_message(\n",
    "            user_message=data_row.question\n",
    "        )\n",
    "        if DEBUG_MODE:\n",
    "            print(f\"\\tQuery categorization: {query_categorization}\")\n",
    "\n",
    "    result.triage_category = (\n",
    "        query_categorization[\"category\"]\n",
    "        if USE_TRIAGE\n",
    "        else TriageSettings.Categories.ALL\n",
    "    )\n",
    "\n",
    "    tools = ToolsFabric.get_tools_for_category(\n",
    "        use_mcp=USE_MCP,\n",
    "        configuration=result.triage_category,\n",
    "    )\n",
    "\n",
    "    if USE_MCP:\n",
    "        async with MultiServerMCPClient(tools) as client:\n",
    "            agent = ReActAgent(tool_list=client.get_tools())\n",
    "            await agent.arun_agent_with_input(\n",
    "                user_message=data_row.question, debug=DEBUG_MODE\n",
    "            )\n",
    "    else:\n",
    "        agent = ReActAgent(tool_list=tools)\n",
    "        agent.run_agent_with_input(user_message=data_row.question, debug=DEBUG_MODE)\n",
    "\n",
    "    run_data = agent.get_execution_data()\n",
    "\n",
    "    result.tools_used = run_data.tools_used\n",
    "    result.tool_calls_count = len(run_data.tools_used)\n",
    "    result.excecution_time_seconds = run_data.excecution_time_seconds\n",
    "    result.model_used = run_data.model_used\n",
    "    result.tokens_consumed = run_data.tokens_consumed\n",
    "    result.llm_call_count = run_data.llm_call_count\n",
    "    result.facts = data_row.facts\n",
    "    result.generated_answer = run_data.final_output\n",
    "\n",
    "    print(\"\\tFinished agent execution\")\n",
    "\n",
    "    print(\"\\tCalculating FactScore...\")\n",
    "    result.fact_score = await fact_scorer.get_fact_score(\n",
    "        facts=data_row.facts,\n",
    "        knowledge_source=result.generated_answer,\n",
    "        debug=DEBUG_MODE,\n",
    "    )\n",
    "\n",
    "    print(\"\\tCalculating BERTScore...\")\n",
    "    result.bert_score = BertScore.compute_score(\n",
    "        expected_response=data_row.answer, actual_response=result.generated_answer\n",
    "    )\n",
    "\n",
    "    print(\"\\tEvaluating agent response with Agent as a Judge...\")\n",
    "    result.agent_judge_model = AGENT_JUDGE_MODEL\n",
    "    agent_evaluator = AgentJudgeEvaluator(model=AGENT_JUDGE_MODEL)\n",
    "\n",
    "    agent_judge_outcome = agent_evaluator.evaluate(\n",
    "        question=data_row.question,\n",
    "        expert_answer=data_row.answer,\n",
    "        generated_answer=result.generated_answer,\n",
    "    )\n",
    "\n",
    "    result.agent_judge_outcome = agent_judge_outcome.answer\n",
    "    result.agent_judge_reasoning = agent_judge_outcome.reasoning\n",
    "\n",
    "    result.agent_judge_call_count = agent_evaluator.get_llm_call_count()\n",
    "    result.agent_judge_tokens_consumed = agent_evaluator.get_token_consumption()\n",
    "\n",
    "    print(f\"\\tFinished experiment for id: {data_row.id}\\n\")\n",
    "\n",
    "    return result"
   ]
  },
  {
   "cell_type": "code",
   "execution_count": 7,
   "metadata": {},
   "outputs": [
    {
     "data": {
      "application/vnd.jupyter.widget-view+json": {
       "model_id": "fd5f8fd8890a4d10b4397518a19adb64",
       "version_major": 2,
       "version_minor": 0
      },
      "text/plain": [
       "Running cases:   0%|          | 0/1 [00:00<?, ?case/s]"
      ]
     },
     "metadata": {},
     "output_type": "display_data"
    },
    {
     "name": "stdout",
     "output_type": "stream",
     "text": [
      "Asking agent question with id: PS-3\n",
      "\tUsing Triage to categorize the query...\n",
      "\tFinished agent execution\n",
      "\tCalculating FactScore...\n",
      "\tCalculating BERTScore...\n",
      "\tEvaluating agent response with Agent as a Judge...\n",
      "\tFinished experiment for id: PS-3\n",
      "\n"
     ]
    }
   ],
   "source": [
    "experiment_results: list[ExperimentResult] = []\n",
    "experiment_to_retry: list = []\n",
    "\n",
    "for data_row in tqdm(data_set_for_experiment, desc=\"Running cases\", unit=\"case\"):\n",
    "    try:\n",
    "        result = await run_experiment(data_row)\n",
    "\n",
    "        experiment_results.append(result)\n",
    "    except Exception as e:\n",
    "        print(f\"\\tRetrying experiment for id {data_row.id}: {e}\")\n",
    "\n",
    "        experiment_to_retry.append(data_row)"
   ]
  },
  {
   "cell_type": "code",
   "execution_count": 8,
   "metadata": {},
   "outputs": [
    {
     "data": {
      "application/vnd.jupyter.widget-view+json": {
       "model_id": "d144f23dd75846c6a3eb416516c373fd",
       "version_major": 2,
       "version_minor": 0
      },
      "text/plain": [
       "Running cases: 0case [00:00, ?case/s]"
      ]
     },
     "metadata": {},
     "output_type": "display_data"
    }
   ],
   "source": [
    "failed_experiments = []\n",
    "\n",
    "for data_row in tqdm(experiment_to_retry, desc=\"Running cases\", unit=\"case\"):\n",
    "    try:\n",
    "        result = await run_experiment(data_row)\n",
    "\n",
    "        experiment_results.append(result)\n",
    "    except Exception as e:\n",
    "        print(f\"\\tExperiment failed for id {data_row.id}: {e}\")\n",
    "        if DEBUG_MODE:\n",
    "            traceback.print_exc()\n",
    "\n",
    "        failed_experiments.append(\n",
    "            {\n",
    "                \"id\": data_row.id,\n",
    "                \"error\": str(e),\n",
    "                \"traceback\": traceback.format_exc(),\n",
    "            }\n",
    "        )"
   ]
  },
  {
   "cell_type": "code",
   "execution_count": 9,
   "metadata": {},
   "outputs": [],
   "source": [
    "if failed_experiments:\n",
    "    with open(failed_experiments_file_name, \"w\") as f:\n",
    "        json.dump(failed_experiments, f, indent=2)"
   ]
  },
  {
   "cell_type": "code",
   "execution_count": 10,
   "metadata": {},
   "outputs": [
    {
     "name": "stderr",
     "output_type": "stream",
     "text": [
      "/Users/i589287/Library/Caches/pypoetry/virtualenvs/react-agent-CUxtcVGL-py3.13/lib/python3.13/site-packages/pydantic/main.py:426: UserWarning: Pydantic serializer warnings:\n",
      "  Expected `float` but got `FactScoreResult` with value `FactScoreResult(direct_fa...oing E-Mail Process.\")])` - serialized value may not be as expected\n",
      "  Expected `enum` but got `str` with value `'Knowledge-QA'` - serialized value may not be as expected\n",
      "  return self.__pydantic_serializer__.to_python(\n"
     ]
    },
    {
     "data": {
      "application/vnd.microsoft.datawrangler.viewer.v0+json": {
       "columns": [
        {
         "name": "index",
         "rawType": "int64",
         "type": "integer"
        },
        {
         "name": "id",
         "rawType": "object",
         "type": "string"
        },
        {
         "name": "question",
         "rawType": "object",
         "type": "string"
        },
        {
         "name": "answer",
         "rawType": "object",
         "type": "string"
        },
        {
         "name": "product",
         "rawType": "object",
         "type": "string"
        },
        {
         "name": "category",
         "rawType": "object",
         "type": "string"
        },
        {
         "name": "persona",
         "rawType": "object",
         "type": "string"
        },
        {
         "name": "activity",
         "rawType": "object",
         "type": "string"
        },
        {
         "name": "country",
         "rawType": "object",
         "type": "string"
        },
        {
         "name": "facts",
         "rawType": "object",
         "type": "unknown"
        },
        {
         "name": "bert_score",
         "rawType": "float64",
         "type": "float"
        },
        {
         "name": "agent_judge_outcome",
         "rawType": "object",
         "type": "string"
        },
        {
         "name": "agent_judge_reasoning",
         "rawType": "object",
         "type": "string"
        },
        {
         "name": "agent_judge_model",
         "rawType": "object",
         "type": "string"
        },
        {
         "name": "agent_judge_call_count",
         "rawType": "int64",
         "type": "integer"
        },
        {
         "name": "generated_answer",
         "rawType": "object",
         "type": "string"
        },
        {
         "name": "model_used",
         "rawType": "object",
         "type": "string"
        },
        {
         "name": "triage_category",
         "rawType": "object",
         "type": "string"
        },
        {
         "name": "tools_used",
         "rawType": "object",
         "type": "unknown"
        },
        {
         "name": "tool_calls_count",
         "rawType": "int64",
         "type": "integer"
        },
        {
         "name": "excecution_time_seconds",
         "rawType": "float64",
         "type": "float"
        },
        {
         "name": "llm_call_count",
         "rawType": "int64",
         "type": "integer"
        },
        {
         "name": "fact_score.direct_fact_score",
         "rawType": "float64",
         "type": "float"
        },
        {
         "name": "fact_score.supporting_fact_score",
         "rawType": "float64",
         "type": "float"
        },
        {
         "name": "fact_score.combined_fact_score",
         "rawType": "float64",
         "type": "float"
        },
        {
         "name": "fact_score.direct_facts",
         "rawType": "object",
         "type": "unknown"
        },
        {
         "name": "fact_score.supporting_facts",
         "rawType": "object",
         "type": "unknown"
        },
        {
         "name": "agent_judge_tokens_consumed.input_tokens",
         "rawType": "int64",
         "type": "integer"
        },
        {
         "name": "agent_judge_tokens_consumed.output_tokens",
         "rawType": "int64",
         "type": "integer"
        },
        {
         "name": "agent_judge_tokens_consumed.total_tokens",
         "rawType": "int64",
         "type": "integer"
        },
        {
         "name": "tokens_consumed.input_tokens",
         "rawType": "int64",
         "type": "integer"
        },
        {
         "name": "tokens_consumed.output_tokens",
         "rawType": "int64",
         "type": "integer"
        },
        {
         "name": "tokens_consumed.total_tokens",
         "rawType": "int64",
         "type": "integer"
        }
       ],
       "ref": "34e64f94-2f41-435c-a05b-cb471652801a",
       "rows": [
        [
         "0",
         "PS-3",
         "Incoming ZUGFeRD invoices (from suppliers) we load in the eDocument Cockpit using the PUSH SOAP Service DCPPUSHSERVICE . We have an own development to extract the XML attached in the PDF A/3 and load this in the eCockpit. That works very good. The question is what we do with the PDF itself. According to the service documentation of SOAP service DCPPUSHSERVICE we can add HTML version of the XML or PDF as attachments. We tried boths and both is working. But in eDocument Cockpit we  have for incoming edocuments only a buttoon to display HTML. How can we display the PDF that originally represents the ZUGFeRD invoice?",
         "Here are some hints that might be helpful. We haven't tried out those yet, but it may be worth to give it a try.\nextend EDOPROCFUNCASGV as indicated in Configure the eDocument Cockpit | SAP Help Portal\nextend EDOPROCFUNCARCV as indicated in Configure the eDocument Cockpit | SAP Help Portal\nalternatively, consider to override the HTML Display Function using some custom logic, e.g. show a follow-up Popup that let's the user decide whether the HTML or PDF shall be displayed or not - EDOACTIONUIPROCV as indicated in Configure the eDocument Cockpit | SAP Help Portal\nYou'll find some screenshots, including the Display PDF Action implementation for the Outgoing E-Mail Process",
         "ERP (excluding SAP S/4HANA Cloud Public Edition)",
         "How to Develop (Maintenance - Customer case support)",
         "Developer (Customer side)",
         "Custom Development",
         "DE",
         "[{'fact': 'You can extend EDOPROCFUNCASGV as indicated in Configure the eDocument Cockpit | SAP Help Portal.', 'classification': 'direct', 'id': 'PS-3-1'}, {'fact': 'You can extend EDOPROCFUNCARCV as indicated in Configure the eDocument Cockpit | SAP Help Portal.', 'classification': 'direct', 'id': 'PS-3-2'}, {'fact': 'You can override the HTML Display Function using custom logic to allow users to choose between HTML or PDF display.', 'classification': 'direct', 'id': 'PS-3-3'}, {'fact': 'EDOACTIONUIPROCV can be used for overriding the HTML Display Function as indicated in Configure the eDocument Cockpit | SAP Help Portal.', 'classification': 'direct', 'id': 'PS-3-4'}, {'fact': 'There are screenshots available showing the Display PDF Action implementation for the Outgoing E-Mail Process.', 'classification': 'supporting', 'id': 'PS-3-5'}]",
         "0.05750562250614166",
         "Partially Helpful",
         "The generated answer provides some useful information about displaying PDFs in the eDocument Cockpit, but it doesn't fully address the specific scenario described in the question. Here's a breakdown of the evaluation:\n\n1. Relevance: The answer is partially relevant as it discusses the display of PDFs in the eDocument Cockpit, which is related to the user's question.\n\n2. Accuracy: The information provided about configuring output forms for PDF generation and the existence of a \"Display PDF\" button is generally accurate. However, it doesn't directly address the user's specific situation with ZUGFeRD invoices and the DCPPUSHSERVICE.\n\n3. Completeness: The answer is incomplete in several ways:\n   - It doesn't address the user's specific implementation of extracting XML from PDF/A-3 files.\n   - It doesn't discuss the DCPPUSHSERVICE or how the PDFs are being attached.\n   - It doesn't provide information on how to modify the eDocument Cockpit to display PDFs for incoming documents, which is the core of the user's question.\n\n4. Alignment with expert answer: The generated answer doesn't align well with the expert answer. It misses key points such as:\n   - Extending EDOPROCFUNCASGV and EDOPROCFUNCARCV\n   - Overriding the HTML Display Function using EDOACTIONUIPROCV\n   - The suggestion to create a custom popup for choosing between HTML and PDF display\n\n5. Use of tool-provided context: The answer seems to rely on general knowledge about SAP eDocument Cockpit rather than specific information from the tools. It doesn't reference any specific tool outputs that would provide authoritative information about the user's question.\n\nWhile the generated answer provides some generally useful information about PDF display in the eDocument Cockpit, it falls short of fully addressing the user's specific question about displaying PDFs for incoming ZUGFeRD invoices loaded via DCPPUSHSERVICE. The answer lacks the technical depth and specificity provided in the expert answer, particularly regarding custom development options to extend the cockpit's functionality.",
         "anthropic--claude-3.5-sonnet",
         "2",
         "Key Findings:\n- To display the original PDF (such as a ZUGFeRD invoice) in the SAP eDocument Cockpit, you must ensure that the correct output form for PDF generation is configured for your country and document type.\n- The \"Display PDF\" button is only available if this configuration is in place and if your country/process supports it.\n- If the feature is not available, you can still download the PDF attachment from the Cockpit to your local computer.\n- The feature is country-specific; check SAP’s availability matrix or documentation for your region.\n\nHow Tools Supported the Answer:\n- The SAP documentation summary clarified the attachment and download process.\n- The SAP Help lookup provided explicit configuration steps and confirmed the existence (and limitations) of the \"Display PDF\" function.\n\nTechnical Explanation:\n- In SPRO, navigate to: Cross-Application Components → General Application Functions → eDocument → Output Forms for PDF Generation.\n- Assign the correct Smart Form or Adobe Form for your incoming invoice type (e.g., `EDO_IT_INCO_INVOICE_CLOUD_V1` for Italy).\n- After configuration, the \"Display PDF\" button should appear in the eDocument Cockpit or the \"Manage Electronic Documents\" Fiori app for supported countries.\n\nPlain-Language Summary:\n- If you want to view the original PDF of an incoming ZUGFeRD invoice in SAP’s eDocument Cockpit, your SAP system must be set up to generate and display PDFs for incoming invoices. This setup is not always enabled by default and depends on your country and SAP configuration. If the display option is not available, you can still download the PDF from the Cockpit.\n\nExample:\n- After configuration, you should see a \"Display PDF\" button alongside \"Display HTML\" and \"Display/Preview XML\" in the Cockpit for each incoming invoice.\n\nLimitations:\n- The \"Display PDF\" feature is not available for all countries or document types.\n- You may need to consult your SAP Basis or functional consultant to ensure the correct output form is configured.",
         "gpt-4.1",
         "Knowledge-QA",
         "[{'tool_name': 'sap_documentation_summary', 'arguments': {'query': 'display PDF attachment in eDocument Cockpit for incoming ZUGFeRD invoices'}}, {'tool_name': 'sap_help_lookup', 'arguments': {'query': 'eDocument Cockpit display PDF attachment incoming invoice'}}]",
         "2",
         "49.456",
         "4",
         "0.0",
         "0.0",
         "0.0",
         "[{'fact': 'You can extend EDOPROCFUNCASGV as indicated in Configure the eDocument Cockpit | SAP Help Portal.', 'is_contained': False, 'reason': 'The context discusses configuring output forms for PDF generation in the eDocument Cockpit and related features, but does not mention EDOPROCFUNCASGV or provide information about extending it as indicated in the SAP Help Portal.'}, {'fact': 'You can extend EDOPROCFUNCARCV as indicated in Configure the eDocument Cockpit | SAP Help Portal.', 'is_contained': False, 'reason': 'The context discusses configuring output forms for PDF generation in the eDocument Cockpit and related features, but it does not mention EDOPROCFUNCARCV or provide information about extending it as indicated in the SAP Help Portal.'}, {'fact': 'You can override the HTML Display Function using custom logic to allow users to choose between HTML or PDF display.', 'is_contained': False, 'reason': \"The context describes how to configure SAP to display or download PDFs and mentions the presence of both 'Display PDF' and 'Display HTML' buttons after configuration. However, it does not mention the ability to override the HTML Display Function with custom logic or allow users to choose between HTML or PDF display through custom logic. No information about overriding or customizing the display function is provided.\"}, {'fact': 'EDOACTIONUIPROCV can be used for overriding the HTML Display Function as indicated in Configure the eDocument Cockpit | SAP Help Portal.', 'is_contained': False, 'reason': \"The context discusses configuring output forms for PDF generation and the availability of the 'Display PDF' button in the eDocument Cockpit, but it does not mention EDOACTIONUIPROCV or any method for overriding the HTML Display Function. There is no explicit reference to EDOACTIONUIPROCV or its use in the provided text.\"}]",
         "[{'fact': 'There are screenshots available showing the Display PDF Action implementation for the Outgoing E-Mail Process.', 'is_contained': False, 'reason': \"The context discusses the configuration and availability of the 'Display PDF' feature in the SAP eDocument Cockpit, including technical steps and limitations, but does not mention the existence of screenshots or specifically reference the Outgoing E-Mail Process.\"}]",
         "4748",
         "3",
         "4751",
         "14890",
         "2009",
         "16899"
        ]
       ],
       "shape": {
        "columns": 32,
        "rows": 1
       }
      },
      "text/html": [
       "<div>\n",
       "<style scoped>\n",
       "    .dataframe tbody tr th:only-of-type {\n",
       "        vertical-align: middle;\n",
       "    }\n",
       "\n",
       "    .dataframe tbody tr th {\n",
       "        vertical-align: top;\n",
       "    }\n",
       "\n",
       "    .dataframe thead th {\n",
       "        text-align: right;\n",
       "    }\n",
       "</style>\n",
       "<table border=\"1\" class=\"dataframe\">\n",
       "  <thead>\n",
       "    <tr style=\"text-align: right;\">\n",
       "      <th></th>\n",
       "      <th>id</th>\n",
       "      <th>question</th>\n",
       "      <th>answer</th>\n",
       "      <th>product</th>\n",
       "      <th>category</th>\n",
       "      <th>persona</th>\n",
       "      <th>activity</th>\n",
       "      <th>country</th>\n",
       "      <th>facts</th>\n",
       "      <th>bert_score</th>\n",
       "      <th>...</th>\n",
       "      <th>fact_score.supporting_fact_score</th>\n",
       "      <th>fact_score.combined_fact_score</th>\n",
       "      <th>fact_score.direct_facts</th>\n",
       "      <th>fact_score.supporting_facts</th>\n",
       "      <th>agent_judge_tokens_consumed.input_tokens</th>\n",
       "      <th>agent_judge_tokens_consumed.output_tokens</th>\n",
       "      <th>agent_judge_tokens_consumed.total_tokens</th>\n",
       "      <th>tokens_consumed.input_tokens</th>\n",
       "      <th>tokens_consumed.output_tokens</th>\n",
       "      <th>tokens_consumed.total_tokens</th>\n",
       "    </tr>\n",
       "  </thead>\n",
       "  <tbody>\n",
       "    <tr>\n",
       "      <th>0</th>\n",
       "      <td>PS-3</td>\n",
       "      <td>Incoming ZUGFeRD invoices (from suppliers) we ...</td>\n",
       "      <td>Here are some hints that might be helpful. We ...</td>\n",
       "      <td>ERP (excluding SAP S/4HANA Cloud Public Edition)</td>\n",
       "      <td>How to Develop (Maintenance - Customer case su...</td>\n",
       "      <td>Developer (Customer side)</td>\n",
       "      <td>Custom Development</td>\n",
       "      <td>DE</td>\n",
       "      <td>[{'fact': 'You can extend EDOPROCFUNCASGV as i...</td>\n",
       "      <td>0.057506</td>\n",
       "      <td>...</td>\n",
       "      <td>0.0</td>\n",
       "      <td>0.0</td>\n",
       "      <td>[{'fact': 'You can extend EDOPROCFUNCASGV as i...</td>\n",
       "      <td>[{'fact': 'There are screenshots available sho...</td>\n",
       "      <td>4748</td>\n",
       "      <td>3</td>\n",
       "      <td>4751</td>\n",
       "      <td>14890</td>\n",
       "      <td>2009</td>\n",
       "      <td>16899</td>\n",
       "    </tr>\n",
       "  </tbody>\n",
       "</table>\n",
       "<p>1 rows × 32 columns</p>\n",
       "</div>"
      ],
      "text/plain": [
       "     id                                           question  \\\n",
       "0  PS-3  Incoming ZUGFeRD invoices (from suppliers) we ...   \n",
       "\n",
       "                                              answer  \\\n",
       "0  Here are some hints that might be helpful. We ...   \n",
       "\n",
       "                                            product  \\\n",
       "0  ERP (excluding SAP S/4HANA Cloud Public Edition)   \n",
       "\n",
       "                                            category  \\\n",
       "0  How to Develop (Maintenance - Customer case su...   \n",
       "\n",
       "                     persona            activity country  \\\n",
       "0  Developer (Customer side)  Custom Development      DE   \n",
       "\n",
       "                                               facts  bert_score  ...  \\\n",
       "0  [{'fact': 'You can extend EDOPROCFUNCASGV as i...    0.057506  ...   \n",
       "\n",
       "  fact_score.supporting_fact_score fact_score.combined_fact_score  \\\n",
       "0                              0.0                            0.0   \n",
       "\n",
       "                             fact_score.direct_facts  \\\n",
       "0  [{'fact': 'You can extend EDOPROCFUNCASGV as i...   \n",
       "\n",
       "                         fact_score.supporting_facts  \\\n",
       "0  [{'fact': 'There are screenshots available sho...   \n",
       "\n",
       "  agent_judge_tokens_consumed.input_tokens  \\\n",
       "0                                     4748   \n",
       "\n",
       "  agent_judge_tokens_consumed.output_tokens  \\\n",
       "0                                         3   \n",
       "\n",
       "  agent_judge_tokens_consumed.total_tokens tokens_consumed.input_tokens  \\\n",
       "0                                     4751                        14890   \n",
       "\n",
       "   tokens_consumed.output_tokens  tokens_consumed.total_tokens  \n",
       "0                           2009                         16899  \n",
       "\n",
       "[1 rows x 32 columns]"
      ]
     },
     "execution_count": 10,
     "metadata": {},
     "output_type": "execute_result"
    }
   ],
   "source": [
    "# Serialize experiment results to list of dicts\n",
    "import pandas as pd\n",
    "\n",
    "records = [r.model_dump(mode=\"json\") for r in experiment_results]\n",
    "# Make it a dataframe in order to flatten nested structures\n",
    "df = pd.json_normalize(records)\n",
    "\n",
    "df"
   ]
  },
  {
   "cell_type": "code",
   "execution_count": 11,
   "metadata": {},
   "outputs": [],
   "source": [
    "# Convert to list of dictionaries (JSON objects)\n",
    "json_list = df.to_dict(orient=\"records\")\n",
    "\n",
    "with open(result_file_name, \"w\") as f:\n",
    "    json.dump(json_list, f, indent=2)"
   ]
  }
 ],
 "metadata": {
  "kernelspec": {
   "display_name": "react-agent-CUxtcVGL-py3.13",
   "language": "python",
   "name": "python3"
  },
  "language_info": {
   "codemirror_mode": {
    "name": "ipython",
    "version": 3
   },
   "file_extension": ".py",
   "mimetype": "text/x-python",
   "name": "python",
   "nbconvert_exporter": "python",
   "pygments_lexer": "ipython3",
   "version": "3.13.3"
  }
 },
 "nbformat": 4,
 "nbformat_minor": 2
}
