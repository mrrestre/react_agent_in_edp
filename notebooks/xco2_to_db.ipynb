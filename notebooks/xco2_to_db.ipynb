{
 "cells": [
  {
   "cell_type": "code",
   "execution_count": 1,
   "id": "3c1d441b",
   "metadata": {},
   "outputs": [],
   "source": [
    "import os\n",
    "import json\n",
    "\n",
    "from react_agent.src.agent_tools.source_code_retriever import SourceCodeRetriever\n",
    "from react_agent.src.util.abap_repository import ABAPClassRepository"
   ]
  },
  {
   "cell_type": "code",
   "execution_count": 2,
   "id": "927aaf18",
   "metadata": {},
   "outputs": [],
   "source": [
    "notebook_dir = os.path.abspath(\"\")\n",
    "\n",
    "file_path = os.path.abspath(\n",
    "    os.path.join(notebook_dir, \"./\", \"resources\", \"classes_to_index.json\")\n",
    ")\n",
    "\n",
    "with open(file_path, encoding=\"utf8\") as f:\n",
    "    json_file = json.load(f)"
   ]
  },
  {
   "cell_type": "code",
   "execution_count": 3,
   "id": "f3ed59f9",
   "metadata": {},
   "outputs": [
    {
     "name": "stdout",
     "output_type": "stream",
     "text": [
      "Class name: cl_edoc_map_ubl_fi\n"
     ]
    }
   ],
   "source": [
    "class_name = json_file[\"classes\"][5][\"name\"].lower()\n",
    "print(f\"Class name: {class_name}\")"
   ]
  },
  {
   "cell_type": "code",
   "execution_count": 4,
   "id": "6fbb128d",
   "metadata": {},
   "outputs": [],
   "source": [
    "code_lookup = SourceCodeRetriever()\n",
    "\n",
    "class_source_code = code_lookup._run(class_name=class_name)"
   ]
  },
  {
   "cell_type": "code",
   "execution_count": 5,
   "id": "853ede84",
   "metadata": {},
   "outputs": [],
   "source": [
    "repository = ABAPClassRepository(source_code=class_source_code)"
   ]
  },
  {
   "cell_type": "code",
   "execution_count": 10,
   "id": "89a43dc5",
   "metadata": {},
   "outputs": [
    {
     "name": "stdout",
     "output_type": "stream",
     "text": [
      "cl_edoc_map_ubl_fi\n",
      "Parent Class: cl_edoc_map_ubl\tChildren Classes: \n",
      "Class: cl_edoc_map_ubl_fi\n",
      "Inheritance: Parent Class: cl_edoc_map_ubl\tChildren Classes: \n",
      "Method Name: init_mapping\n",
      "Method Implementation:\n",
      "METHOD init_mapping.  DATA:    ls_bseg   TYPE bseg,    ls_bsec   TYPE bsec,    lv_isocd  TYPE tcurc-isocd,    lv_msg    TYPE string,    lv_is_cpd TYPE boole_d.\"3071425* Determine Customer  READ TABLE ms_source-bseg        INTO ls_bseg    WITH KEY koart = 'D'.  IF sy-subrc IS NOT INITIAL.*   Determine Vendor    READ TABLE ms_source-bseg          INTO ls_bseg     WITH KEY koart = 'K'.    IF sy-subrc IS NOT INITIAL.      RETURN.    ENDIF.  ENDIF.* One time Customer  READ TABLE ms_source-bsec        INTO ls_bsec        INDEX 1.  IF sy-subrc IS NOT INITIAL.    CLEAR ls_bsec.  ENDIF.* Convert currency to ISO  TEST-SEAM init_mapping_01.                                \"2854416    CALL FUNCTION 'CURRENCY_CODE_SAP_TO_ISO'      EXPORTING        sap_code  = ms_source-bkpf-waers      IMPORTING        iso_code  = lv_isocd      EXCEPTIONS        not_found = 1        OTHERS    = 2.  END-TEST-SEAM.                                            \"2854416  IF sy-subrc <> 0.    MESSAGE ID sy-msgid TYPE sy-msgty NUMBER sy-msgno WITH sy-msgv1 sy-msgv2 sy-msgv3 sy-msgv4 INTO lv_msg.    add_error_message( ).  ENDIF.  ms_source-bkpf-waers = lv_isocd.  get_self_billing_indicator( ).                        \"3071425  IF mv_is_self_billing = abap_true.                    \"3071425    cl_edoc_util_eu=>get_onetime_indicator(             \"3071425      EXPORTING                                         \"3071425        iv_lifnr      = ls_bseg-lifnr                   \"3071425      RECEIVING                                         \"3071425        rv_is_onetime = lv_is_cpd ).                    \"3071425  ELSE.                                                 \"3071425    cl_edoc_util_eu=>get_onetime_indicator(             \"3071425      EXPORTING                                         \"3071425        iv_kunnr      = ls_bseg-kunnr                   \"3071425      RECEIVING                                         \"3071425        rv_is_onetime = lv_is_cpd ).                    \"3071425  ENDIF.                                                \"3071425  mv_is_cpd = lv_is_cpd.                                \"3071425* Initial mapping is implemented in class CL_EDOC_MAP  super->init_mapping(    EXPORTING      iv_bukrs = ms_source-bkpf-bukrs      iv_kunnr = ls_bseg-kunnr      iv_lifnr = ls_bseg-lifnr      iv_adrnr = ls_bsec-adrnr ).  IF lv_is_cpd IS NOT INITIAL.\"3071425    fill_ms_vars_cust_cpd( EXPORTING is_bsec = ls_bsec ).\"3071425  ENDIF.\"3071425* Structure MS_KNA1 contains the attributes of the customer* for one time customer, take the relevant tax information from BSEC  IF ls_bsec-stcd1 IS NOT INITIAL AND ls_bsec-stcdt IS NOT INITIAL.    ms_kna1-stcd1 = ls_bsec-stcd1.    ms_kna1-stcdt = ls_bsec-stcdt.  ENDIF.  IF ls_bseg-stceg IS NOT INITIAL.                          \"2938424    ms_kna1-stceg = ls_bseg-stceg.                          \"2938424  ENDIF.                                                    \"2938424* Structure MS_ADRC_CUST contains the address of the customer* for one time customer, the address can be stored in BSEC fields  IF ls_bsec IS NOT INITIAL AND     ls_bsec-adrnr IS INITIAL.    MOVE-CORRESPONDING ls_bsec TO ms_adrc_cust.    MOVE-CORRESPONDING ls_bsec TO ms_adrc_vend.  ENDIF.* ISO country code 2 digit  TEST-SEAM init_mapping_02.                                \"2854416    SELECT SINGLE intca      FROM t005      INTO ms_adrc_vend-country     WHERE land1 = ms_adrc_vend-country.    SELECT SINGLE intca      FROM t005      INTO ms_adrc_cust-country     WHERE land1 = ms_adrc_cust-country.  END-TEST-SEAM.                                            \"2854416* Get Document Currency Code ID  mv_currency_code_id = get_fix_value(                          iv_name        = 'CURRENCY_CODE_ID'                          iv_err_msg_ind = abap_true ).* Get party ID and type  \" Start of 3030901  IF mv_is_self_billing = abap_true.    get_party_id_and_type( iv_partner_id = ms_vendor-lifnr                           iv_partner_type = cl_edoc_dpp=>gc_vendor                           iv_bukrs = mv_bukrs                           iv_is_cpd = lv_is_cpd ). \"3042934  ELSE.    get_party_id_and_type( iv_partner_id = ms_kna1-kunnr                           iv_partner_type = cl_edoc_dpp=>gc_customer                           iv_bukrs = mv_bukrs                           iv_is_cpd = lv_is_cpd ). \"3042934  ENDIF.                                                    \"3030901\n",
      " ENDMETHOD.\n"
     ]
    }
   ],
   "source": [
    "print(', '.join(repository.list_indexed_classes()))\n",
    "print(repository.get_inheritance_for_class(class_name))\n",
    "\n",
    "my_method = \"\"\n",
    "for method_name in repository.classes[class_name].keys():\n",
    "    my_method = method_name\n",
    "\n",
    "\n",
    "method_source_code = repository.get_content_by_class_and_method(class_name, my_method)\n",
    "print(method_source_code)"
   ]
  },
  {
   "cell_type": "code",
   "execution_count": 11,
   "id": "104e2fb0",
   "metadata": {},
   "outputs": [
    {
     "name": "stdout",
     "output_type": "stream",
     "text": [
      "The `init_mapping` method in the `cl_edoc_map_ubl_fi` class is designed to initialize the mapping of electronic document data by determining customer or vendor information, converting currency codes to ISO format, and setting various attributes related to one-time customers and self-billing indicators. It also retrieves and sets party IDs and types, ensuring the correct mapping of financial document attributes for electronic processing.\n"
     ]
    }
   ],
   "source": [
    "from react_agent.src.util.code_summarizer import CodeSummarizer\n",
    "\n",
    "print(CodeSummarizer.summarize_code(method_source_code))"
   ]
  }
 ],
 "metadata": {
  "kernelspec": {
   "display_name": "react-agent-CUxtcVGL-py3.13",
   "language": "python",
   "name": "python3"
  },
  "language_info": {
   "codemirror_mode": {
    "name": "ipython",
    "version": 3
   },
   "file_extension": ".py",
   "mimetype": "text/x-python",
   "name": "python",
   "nbconvert_exporter": "python",
   "pygments_lexer": "ipython3",
   "version": "3.13.3"
  }
 },
 "nbformat": 4,
 "nbformat_minor": 5
}
