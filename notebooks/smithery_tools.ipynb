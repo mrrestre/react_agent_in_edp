{
 "cells": [
  {
   "cell_type": "code",
   "execution_count": null,
   "id": "ca756753",
   "metadata": {},
   "outputs": [],
   "source": [
    "import os\n",
    "import mcp\n",
    "import base64\n",
    "import json\n",
    "from mcp.client.streamable_http import streamablehttp_client\n",
    "\n",
    "\n",
    "from dotenv import load_dotenv"
   ]
  },
  {
   "cell_type": "code",
   "execution_count": null,
   "id": "947f4820",
   "metadata": {},
   "outputs": [],
   "source": [
    "_ = load_dotenv()\n",
    "\n",
    "SMITHERY_API_KEY: str = os.getenv(\"SMITHERY_API_KEY\")"
   ]
  },
  {
   "cell_type": "code",
   "execution_count": null,
   "id": "ae519266",
   "metadata": {},
   "outputs": [],
   "source": [
    "config = {}\n",
    "# Encode config in base64\n",
    "config_b64 = base64.b64encode(json.dumps(config).encode())"
   ]
  },
  {
   "cell_type": "code",
   "execution_count": null,
   "id": "0997a8a6",
   "metadata": {},
   "outputs": [],
   "source": [
    "url = f\"https://server.smithery.ai/@smithery-ai/server-sequential-thinking/mcp?config={config_b64}&api_key={SMITHERY_API_KEY}\"\n",
    "print(f\"Connecting to {url}\")"
   ]
  },
  {
   "cell_type": "code",
   "execution_count": null,
   "id": "55340676",
   "metadata": {},
   "outputs": [],
   "source": [
    "async with streamablehttp_client(url) as (read_stream, write_stream, _):\n",
    "    async with mcp.ClientSession(read_stream, write_stream) as session:\n",
    "        # Initialize the connection\n",
    "        await session.initialize()\n",
    "        # List available tools\n",
    "        tools_result = await session.list_tools()\n",
    "        print(f\"Available tools: {', '.join([t.name for t in tools_result.tools])}\")"
   ]
  }
 ],
 "metadata": {
  "kernelspec": {
   "display_name": "react-agent-CUxtcVGL-py3.13",
   "language": "python",
   "name": "python3"
  },
  "language_info": {
   "codemirror_mode": {
    "name": "ipython",
    "version": 3
   },
   "file_extension": ".py",
   "mimetype": "text/x-python",
   "name": "python",
   "nbconvert_exporter": "python",
   "pygments_lexer": "ipython3",
   "version": "3.13.3"
  }
 },
 "nbformat": 4,
 "nbformat_minor": 5
}
