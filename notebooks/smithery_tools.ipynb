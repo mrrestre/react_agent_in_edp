{
 "cells": [
  {
   "cell_type": "code",
   "execution_count": 1,
   "id": "ca756753",
   "metadata": {},
   "outputs": [],
   "source": [
    "import os\n",
    "import mcp\n",
    "import base64\n",
    "import json\n",
    "from mcp.client.websocket import websocket_client\n",
    "\n",
    "from dotenv import load_dotenv"
   ]
  },
  {
   "cell_type": "code",
   "execution_count": 2,
   "id": "947f4820",
   "metadata": {},
   "outputs": [],
   "source": [
    "_ = load_dotenv()\n",
    "\n",
    "SMITHERY_API_KEY: str = os.getenv(\"SMITHERY_API_KEY\")"
   ]
  },
  {
   "cell_type": "code",
   "execution_count": 3,
   "id": "ae519266",
   "metadata": {},
   "outputs": [],
   "source": [
    "config = {}\n",
    "# Encode config in base64\n",
    "config_b64 = base64.b64encode(json.dumps(config).encode())"
   ]
  },
  {
   "cell_type": "code",
   "execution_count": 4,
   "id": "0997a8a6",
   "metadata": {},
   "outputs": [
    {
     "name": "stdout",
     "output_type": "stream",
     "text": [
      "Connecting to wss://server.smithery.ai/@nickclyde/duckduckgo-mcp-server/ws?config=b'e30='&api_key=30d52ea6-8d16-42d7-8331-2f9b70445c1e\n"
     ]
    }
   ],
   "source": [
    "url = f\"wss://server.smithery.ai/@nickclyde/duckduckgo-mcp-server/ws?config={config_b64}&api_key={SMITHERY_API_KEY}\"\n",
    "print(f\"Connecting to {url}\")"
   ]
  },
  {
   "cell_type": "code",
   "execution_count": 5,
   "id": "55340676",
   "metadata": {},
   "outputs": [
    {
     "ename": "ConnectionResetError",
     "evalue": "",
     "output_type": "error",
     "traceback": [
      "\u001b[31m---------------------------------------------------------------------------\u001b[39m",
      "\u001b[31mConnectionResetError\u001b[39m                      Traceback (most recent call last)",
      "\u001b[36mCell\u001b[39m\u001b[36m \u001b[39m\u001b[32mIn[5]\u001b[39m\u001b[32m, line 1\u001b[39m\n\u001b[32m----> \u001b[39m\u001b[32m1\u001b[39m \u001b[38;5;28;01masync\u001b[39;00m \u001b[38;5;28;01mwith\u001b[39;00m websocket_client(url) \u001b[38;5;28;01mas\u001b[39;00m streams:\n\u001b[32m      2\u001b[39m     \u001b[38;5;28;01masync\u001b[39;00m \u001b[38;5;28;01mwith\u001b[39;00m mcp.ClientSession(*streams) \u001b[38;5;28;01mas\u001b[39;00m session:\n\u001b[32m      3\u001b[39m         \u001b[38;5;66;03m# Initialize the connection\u001b[39;00m\n\u001b[32m      4\u001b[39m         \u001b[38;5;28;01mawait\u001b[39;00m session.initialize()\n",
      "\u001b[36mFile \u001b[39m\u001b[32m/opt/homebrew/Cellar/python@3.13/3.13.3/Frameworks/Python.framework/Versions/3.13/lib/python3.13/contextlib.py:214\u001b[39m, in \u001b[36m_AsyncGeneratorContextManager.__aenter__\u001b[39m\u001b[34m(self)\u001b[39m\n\u001b[32m    212\u001b[39m \u001b[38;5;28;01mdel\u001b[39;00m \u001b[38;5;28mself\u001b[39m.args, \u001b[38;5;28mself\u001b[39m.kwds, \u001b[38;5;28mself\u001b[39m.func\n\u001b[32m    213\u001b[39m \u001b[38;5;28;01mtry\u001b[39;00m:\n\u001b[32m--> \u001b[39m\u001b[32m214\u001b[39m     \u001b[38;5;28;01mreturn\u001b[39;00m \u001b[38;5;28;01mawait\u001b[39;00m anext(\u001b[38;5;28mself\u001b[39m.gen)\n\u001b[32m    215\u001b[39m \u001b[38;5;28;01mexcept\u001b[39;00m \u001b[38;5;167;01mStopAsyncIteration\u001b[39;00m:\n\u001b[32m    216\u001b[39m     \u001b[38;5;28;01mraise\u001b[39;00m \u001b[38;5;167;01mRuntimeError\u001b[39;00m(\u001b[33m\"\u001b[39m\u001b[33mgenerator didn\u001b[39m\u001b[33m'\u001b[39m\u001b[33mt yield\u001b[39m\u001b[33m\"\u001b[39m) \u001b[38;5;28;01mfrom\u001b[39;00m\u001b[38;5;250m \u001b[39m\u001b[38;5;28;01mNone\u001b[39;00m\n",
      "\u001b[36mFile \u001b[39m\u001b[32m~/Library/Caches/pypoetry/virtualenvs/react-agent-CUxtcVGL-py3.13/lib/python3.13/site-packages/mcp/client/websocket.py:51\u001b[39m, in \u001b[36mwebsocket_client\u001b[39m\u001b[34m(url)\u001b[39m\n\u001b[32m     48\u001b[39m write_stream, write_stream_reader = anyio.create_memory_object_stream(\u001b[32m0\u001b[39m)\n\u001b[32m     50\u001b[39m \u001b[38;5;66;03m# Connect using websockets, requesting the \"mcp\" subprotocol\u001b[39;00m\n\u001b[32m---> \u001b[39m\u001b[32m51\u001b[39m \u001b[38;5;28;01masync\u001b[39;00m \u001b[38;5;28;01mwith\u001b[39;00m ws_connect(url, subprotocols=[Subprotocol(\u001b[33m\"\u001b[39m\u001b[33mmcp\u001b[39m\u001b[33m\"\u001b[39m)]) \u001b[38;5;28;01mas\u001b[39;00m ws:\n\u001b[32m     53\u001b[39m     \u001b[38;5;28;01masync\u001b[39;00m \u001b[38;5;28;01mdef\u001b[39;00m\u001b[38;5;250m \u001b[39m\u001b[34mws_reader\u001b[39m():\n\u001b[32m     54\u001b[39m \u001b[38;5;250m        \u001b[39m\u001b[33;03m\"\"\"\u001b[39;00m\n\u001b[32m     55\u001b[39m \u001b[33;03m        Reads text messages from the WebSocket, parses them as JSON-RPC messages,\u001b[39;00m\n\u001b[32m     56\u001b[39m \u001b[33;03m        and sends them into read_stream_writer.\u001b[39;00m\n\u001b[32m     57\u001b[39m \u001b[33;03m        \"\"\"\u001b[39;00m\n",
      "\u001b[36mFile \u001b[39m\u001b[32m~/Library/Caches/pypoetry/virtualenvs/react-agent-CUxtcVGL-py3.13/lib/python3.13/site-packages/websockets/asyncio/client.py:587\u001b[39m, in \u001b[36mconnect.__aenter__\u001b[39m\u001b[34m(self)\u001b[39m\n\u001b[32m    586\u001b[39m \u001b[38;5;28;01masync\u001b[39;00m \u001b[38;5;28;01mdef\u001b[39;00m\u001b[38;5;250m \u001b[39m\u001b[34m__aenter__\u001b[39m(\u001b[38;5;28mself\u001b[39m) -> ClientConnection:\n\u001b[32m--> \u001b[39m\u001b[32m587\u001b[39m     \u001b[38;5;28;01mreturn\u001b[39;00m \u001b[38;5;28;01mawait\u001b[39;00m \u001b[38;5;28mself\u001b[39m\n",
      "\u001b[36mFile \u001b[39m\u001b[32m~/Library/Caches/pypoetry/virtualenvs/react-agent-CUxtcVGL-py3.13/lib/python3.13/site-packages/websockets/asyncio/client.py:541\u001b[39m, in \u001b[36mconnect.__await_impl__\u001b[39m\u001b[34m(self)\u001b[39m\n\u001b[32m    539\u001b[39m \u001b[38;5;28;01masync\u001b[39;00m \u001b[38;5;28;01mwith\u001b[39;00m asyncio_timeout(\u001b[38;5;28mself\u001b[39m.open_timeout):\n\u001b[32m    540\u001b[39m     \u001b[38;5;28;01mfor\u001b[39;00m _ \u001b[38;5;129;01min\u001b[39;00m \u001b[38;5;28mrange\u001b[39m(MAX_REDIRECTS):\n\u001b[32m--> \u001b[39m\u001b[32m541\u001b[39m         \u001b[38;5;28mself\u001b[39m.connection = \u001b[38;5;28;01mawait\u001b[39;00m \u001b[38;5;28mself\u001b[39m.create_connection()\n\u001b[32m    542\u001b[39m         \u001b[38;5;28;01mtry\u001b[39;00m:\n\u001b[32m    543\u001b[39m             \u001b[38;5;28;01mawait\u001b[39;00m \u001b[38;5;28mself\u001b[39m.connection.handshake(\n\u001b[32m    544\u001b[39m                 \u001b[38;5;28mself\u001b[39m.additional_headers,\n\u001b[32m    545\u001b[39m                 \u001b[38;5;28mself\u001b[39m.user_agent_header,\n\u001b[32m    546\u001b[39m             )\n",
      "\u001b[36mFile \u001b[39m\u001b[32m~/Library/Caches/pypoetry/virtualenvs/react-agent-CUxtcVGL-py3.13/lib/python3.13/site-packages/websockets/asyncio/client.py:467\u001b[39m, in \u001b[36mconnect.create_connection\u001b[39m\u001b[34m(self)\u001b[39m\n\u001b[32m    465\u001b[39m         kwargs.setdefault(\u001b[33m\"\u001b[39m\u001b[33mport\u001b[39m\u001b[33m\"\u001b[39m, ws_uri.port)\n\u001b[32m    466\u001b[39m     \u001b[38;5;66;03m# Initialize WebSocket connection.\u001b[39;00m\n\u001b[32m--> \u001b[39m\u001b[32m467\u001b[39m     _, connection = \u001b[38;5;28;01mawait\u001b[39;00m loop.create_connection(factory, **kwargs)\n\u001b[32m    468\u001b[39m \u001b[38;5;28;01mreturn\u001b[39;00m connection\n",
      "\u001b[36mFile \u001b[39m\u001b[32m/opt/homebrew/Cellar/python@3.13/3.13.3/Frameworks/Python.framework/Versions/3.13/lib/python3.13/asyncio/base_events.py:1187\u001b[39m, in \u001b[36mBaseEventLoop.create_connection\u001b[39m\u001b[34m(self, protocol_factory, host, port, ssl, family, proto, flags, sock, local_addr, server_hostname, ssl_handshake_timeout, ssl_shutdown_timeout, happy_eyeballs_delay, interleave, all_errors)\u001b[39m\n\u001b[32m   1177\u001b[39m     \u001b[38;5;28;01mif\u001b[39;00m sock.type != socket.SOCK_STREAM:\n\u001b[32m   1178\u001b[39m         \u001b[38;5;66;03m# We allow AF_INET, AF_INET6, AF_UNIX as long as they\u001b[39;00m\n\u001b[32m   1179\u001b[39m         \u001b[38;5;66;03m# are SOCK_STREAM.\u001b[39;00m\n\u001b[32m   (...)\u001b[39m\u001b[32m   1182\u001b[39m         \u001b[38;5;66;03m# Disallowing AF_UNIX in this method, breaks backwards\u001b[39;00m\n\u001b[32m   1183\u001b[39m         \u001b[38;5;66;03m# compatibility.\u001b[39;00m\n\u001b[32m   1184\u001b[39m         \u001b[38;5;28;01mraise\u001b[39;00m \u001b[38;5;167;01mValueError\u001b[39;00m(\n\u001b[32m   1185\u001b[39m             \u001b[33mf\u001b[39m\u001b[33m'\u001b[39m\u001b[33mA Stream Socket was expected, got \u001b[39m\u001b[38;5;132;01m{\u001b[39;00msock\u001b[38;5;132;01m!r}\u001b[39;00m\u001b[33m'\u001b[39m)\n\u001b[32m-> \u001b[39m\u001b[32m1187\u001b[39m transport, protocol = \u001b[38;5;28;01mawait\u001b[39;00m \u001b[38;5;28mself\u001b[39m._create_connection_transport(\n\u001b[32m   1188\u001b[39m     sock, protocol_factory, ssl, server_hostname,\n\u001b[32m   1189\u001b[39m     ssl_handshake_timeout=ssl_handshake_timeout,\n\u001b[32m   1190\u001b[39m     ssl_shutdown_timeout=ssl_shutdown_timeout)\n\u001b[32m   1191\u001b[39m \u001b[38;5;28;01mif\u001b[39;00m \u001b[38;5;28mself\u001b[39m._debug:\n\u001b[32m   1192\u001b[39m     \u001b[38;5;66;03m# Get the socket from the transport because SSL transport closes\u001b[39;00m\n\u001b[32m   1193\u001b[39m     \u001b[38;5;66;03m# the old socket and creates a new SSL socket\u001b[39;00m\n\u001b[32m   1194\u001b[39m     sock = transport.get_extra_info(\u001b[33m'\u001b[39m\u001b[33msocket\u001b[39m\u001b[33m'\u001b[39m)\n",
      "\u001b[36mFile \u001b[39m\u001b[32m/opt/homebrew/Cellar/python@3.13/3.13.3/Frameworks/Python.framework/Versions/3.13/lib/python3.13/asyncio/base_events.py:1220\u001b[39m, in \u001b[36mBaseEventLoop._create_connection_transport\u001b[39m\u001b[34m(self, sock, protocol_factory, ssl, server_hostname, server_side, ssl_handshake_timeout, ssl_shutdown_timeout)\u001b[39m\n\u001b[32m   1217\u001b[39m     transport = \u001b[38;5;28mself\u001b[39m._make_socket_transport(sock, protocol, waiter)\n\u001b[32m   1219\u001b[39m \u001b[38;5;28;01mtry\u001b[39;00m:\n\u001b[32m-> \u001b[39m\u001b[32m1220\u001b[39m     \u001b[38;5;28;01mawait\u001b[39;00m waiter\n\u001b[32m   1221\u001b[39m \u001b[38;5;28;01mexcept\u001b[39;00m:\n\u001b[32m   1222\u001b[39m     transport.close()\n",
      "\u001b[36mFile \u001b[39m\u001b[32m/opt/homebrew/Cellar/python@3.13/3.13.3/Frameworks/Python.framework/Versions/3.13/lib/python3.13/asyncio/sslproto.py:581\u001b[39m, in \u001b[36mSSLProtocol._on_handshake_complete\u001b[39m\u001b[34m(self, handshake_exc)\u001b[39m\n\u001b[32m    579\u001b[39m         \u001b[38;5;28mself\u001b[39m._set_state(SSLProtocolState.WRAPPED)\n\u001b[32m    580\u001b[39m     \u001b[38;5;28;01melse\u001b[39;00m:\n\u001b[32m--> \u001b[39m\u001b[32m581\u001b[39m         \u001b[38;5;28;01mraise\u001b[39;00m handshake_exc\n\u001b[32m    583\u001b[39m     peercert = sslobj.getpeercert()\n\u001b[32m    584\u001b[39m \u001b[38;5;28;01mexcept\u001b[39;00m \u001b[38;5;167;01mException\u001b[39;00m \u001b[38;5;28;01mas\u001b[39;00m exc:\n",
      "\u001b[31mConnectionResetError\u001b[39m: "
     ]
    }
   ],
   "source": [
    "async with websocket_client(url) as streams:\n",
    "    async with mcp.ClientSession(*streams) as session:\n",
    "        # Initialize the connection\n",
    "        await session.initialize()\n",
    "        # List available tools\n",
    "        tools_result = await session.list_tools()\n",
    "        print(f\"Available tools: {', '.join([t.name for t in tools_result.tools])}\")\n",
    "\n",
    "        result = await session.call_tool(\n",
    "            \"search\", arguments={\"query\": \"e documents germany\"}\n",
    "        )\n",
    "        print(f\"Result: {result}\")"
   ]
  }
 ],
 "metadata": {
  "kernelspec": {
   "display_name": "react-agent-CUxtcVGL-py3.13",
   "language": "python",
   "name": "python3"
  },
  "language_info": {
   "codemirror_mode": {
    "name": "ipython",
    "version": 3
   },
   "file_extension": ".py",
   "mimetype": "text/x-python",
   "name": "python",
   "nbconvert_exporter": "python",
   "pygments_lexer": "ipython3",
   "version": "3.13.3"
  }
 },
 "nbformat": 4,
 "nbformat_minor": 5
}
