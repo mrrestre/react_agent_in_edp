{
 "cells": [
  {
   "cell_type": "code",
   "execution_count": 1,
   "id": "ca756753",
   "metadata": {},
   "outputs": [],
   "source": [
    "import os\n",
    "import mcp\n",
    "import base64\n",
    "import json\n",
    "from mcp.client.websocket import websocket_client\n",
    "\n",
    "from dotenv import load_dotenv"
   ]
  },
  {
   "cell_type": "code",
   "execution_count": 2,
   "id": "947f4820",
   "metadata": {},
   "outputs": [],
   "source": [
    "_ = load_dotenv()\n",
    "\n",
    "SMITHERY_API_KEY: str = os.getenv(\"SMITHERY_API_KEY\")"
   ]
  },
  {
   "cell_type": "code",
   "execution_count": 3,
   "id": "ae519266",
   "metadata": {},
   "outputs": [],
   "source": [
    "config = {}\n",
    "# Encode config in base64\n",
    "config_b64 = base64.b64encode(json.dumps(config).encode())"
   ]
  },
  {
   "cell_type": "code",
   "execution_count": 6,
   "id": "0997a8a6",
   "metadata": {},
   "outputs": [
    {
     "name": "stdout",
     "output_type": "stream",
     "text": [
      "Connecting to wss://server.smithery.ai/@nickclyde/duckduckgo-mcp-server/ws?config=b'e30='&api_key=30d52ea6-8d16-42d7-8331-2f9b70445c1e\n"
     ]
    }
   ],
   "source": [
    "url = f\"wss://server.smithery.ai/@nickclyde/duckduckgo-mcp-server/ws?config={config_b64}&api_key={SMITHERY_API_KEY}\"\n",
    "print(f\"Connecting to {url}\")"
   ]
  },
  {
   "cell_type": "code",
   "execution_count": 5,
   "id": "55340676",
   "metadata": {},
   "outputs": [
    {
     "name": "stdout",
     "output_type": "stream",
     "text": [
      "Available tools: search, fetch_content\n",
      "Result: meta=None content=[TextContent(type='text', text='Found 10 search results:\\n\\n1. BSI - Basics of the electronic signature - Federal Office for ...\\n   URL: https://www.bsi.bund.de/EN/Themen/Oeffentliche-Verwaltung/Moderner-Staat/ElektronischeSignatur/elektronischesignatur_node.html\\n   Summary: As such, this publication contains both a summary of the legal framework conditions relating to electronic signatures, seals and timestamps inGermanythat is understandable for those from a technical background, as well as a description of the current status of technical research and development that is intended for legal practitioners and ...\\n\\n2. Germany | DocuSign\\n   URL: https://www.docusign.com/products/electronic-signature/legality/germany\\n   Summary: E-Signature Legality Summary. AsGermanyis one of the Member States of the European Union (\"EU\"), the provisions of the EU Regulation No 910/2014 of the European Parliament and of the Council of 23 July 2014 on electronic identification and trust services for electronic transactions in the internal market (the eIDAS Regulation) govern and are directly applicable inGermany.\\n\\n3. Start using E-Documents framework localized for Germany, XRechnung\\n   URL: https://learn.microsoft.com/en-us/dynamics365/release-plan/2024wave2/smb/dynamics365-business-central/start-using-e-documents-framework-localized-germany\\n   Summary: Users can use theE-Documentsframework localized forGermany, so that they can work with Peppol BIS3 or XRechnung electronic invoices formats. Users can choose to use one of the existing Peppol service providers as the communication channel via access points or they can exchangedocumentsby uploading them manually or via e-mail.\\n\\n4. Key points on e‑invoicing\\n   URL: https://en.e-rechnung-bund.de/e-invoicing/key-points-on-e-invoicing/\\n   Summary: The legal basis for electronic invoicing inGermany\\'sfederal administration is the E-Invoicing Ordinance. The Ordinance on Electronic Invoicing in Federal Public Procurement (E-Rechnungsverordnung, E-RechV) was adopted by the Federal Cabinet on 6 September 2017.The Ordinance specified the requirements of the E-Invoicing Act, thus completing the implementation of EU Directive 2014/55/EU in ...\\n\\n5. eSignature Legality in Germany - OneSpan\\n   URL: https://www.onespan.com/resources/esignature-legality/germany\\n   Summary: In this case, thedocumentmust be electronically signed using a qualified electronic signature of the responsible person (see Sec. 130a Civil Procedure Code, Zivilprozessordnung, ZPO) Are there certaindocumentsthat cannot be e-signed inGermany? Yes. 1. Declarations and contracts that require notarization cannot be e-signed. A notarization ...\\n\\n6. eSignatures in Germany: Here\\'s What You Need to Know - Better Proposals\\n   URL: https://betterproposals.io/blog/are-esignatures-legal-in-germany/\\n   Summary: The \"written form\" requirement inGermany. Another thing to consider when using eSignatures inGermanyis the \"written form\" requirement fordocuments. Here, \"written form\" does not mean literally \"in writing\". Rather, it relates to the requirement for a QES (qualified electronic signature).Documentsthat require QES under German eSignature law\\n\\n7. Electronic invoicing in Germany - Business Central\\n   URL: https://learn.microsoft.com/en-us/dynamics365/business-central/localfunctionality/germany/germany-einvoicing\\n   Summary: To set up the format for theE-Documentservice, follow these steps: Select the icon, enterE-DocumentServices, and then select the related link.TheE-DocumentServices page displays.; On the General FastTab, select New.In theDocumentFormat field, choose PEPPOL BIS 3.0 or XRechnung.; Configure the fields as described in Set upe-documents.; Close the page.\\n\\n8. Electronic signature laws and validity in Germany - Juro\\n   URL: https://juro.com/esignature-legality/germany\\n   Summary: Germany\\'seSignature laws determine if, how, and when a contract can be signed electronically. ... It\\'s designed so that it is clearly connected to the person signing (i.e., the signer\\'s identity can be verified), and any changes to the signeddocumentwill be detectable. Qualified Electronic Signature (QES): ...\\n\\n9. Overview of eSignature Legality in Germany - Dropbox Sign\\n   URL: https://sign.dropbox.com/esignature-legality/germany\\n   Summary: A standard electronic signature (SES) is the existence of electronic data logically connected to other electronic data (e.g. adocument), which is used by the signatory of the electronic data for signature of thedocument. Many electronic tools, including passwords, PIN codes and scanned signatures can be regarded as a SES. \\u200d\\n\\n10. E-Signature Regulations - Germany - Ally Law\\n   URL: https://ally-law.com/e-signature-regulations-germany/\\n   Summary: Due to its high (technical) requirements, QES is used in specific cases only. InGermany, all lawyers dispose of a specific lawyers\\' mail account which meets the requirements of QES (the so-called besonderes elektronisches Anwaltspostfach - \"beA\"). Every lawyer inGermanyis obliged to establish and maintain such beA.\\n', annotations=None)] isError=False\n"
     ]
    }
   ],
   "source": [
    "async with websocket_client(url) as streams:\n",
    "    async with mcp.ClientSession(*streams) as session:\n",
    "        # Initialize the connection\n",
    "        await session.initialize()\n",
    "        # List available tools\n",
    "        tools_result = await session.list_tools()\n",
    "        print(f\"Available tools: {', '.join([t.name for t in tools_result.tools])}\")\n",
    "        \n",
    "        result = await session.call_tool(\"search\", arguments={\"query\": \"e documents germany\"})\n",
    "        print(f\"Result: {result}\")"
   ]
  }
 ],
 "metadata": {
  "kernelspec": {
   "display_name": "react-agent-CUxtcVGL-py3.13",
   "language": "python",
   "name": "python3"
  },
  "language_info": {
   "codemirror_mode": {
    "name": "ipython",
    "version": 3
   },
   "file_extension": ".py",
   "mimetype": "text/x-python",
   "name": "python",
   "nbconvert_exporter": "python",
   "pygments_lexer": "ipython3",
   "version": "3.13.3"
  }
 },
 "nbformat": 4,
 "nbformat_minor": 5
}
