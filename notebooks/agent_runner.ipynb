{
 "cells": [
  {
   "cell_type": "code",
   "execution_count": 1,
   "metadata": {},
   "outputs": [],
   "source": [
    "from IPython.display import Image, display\n",
    "\n",
    "from langchain_mcp_adapters.client import MultiServerMCPClient\n",
    "\n",
    "from react_agent.src.agents.react_agent import ReActAgent\n",
    "from react_agent.src.agents.triage import Triage\n",
    "\n",
    "from react_agent.src.util.tools_fabric import ToolsFabric\n",
    "\n",
    "from react_agent.src.util.llm_proxy import LLM_PROXY"
   ]
  },
  {
   "cell_type": "code",
   "execution_count": 2,
   "metadata": {},
   "outputs": [],
   "source": [
    "USE_MCP = False\n",
    "DEBUG_MODE = True\n",
    "INCLUDE_WEBSEARCH_TOOL = True\n",
    "\n",
    "# Wether to run MLFlow next to the agent\n",
    "WITH_ML_FLOW = False"
   ]
  },
  {
   "cell_type": "code",
   "execution_count": 3,
   "metadata": {},
   "outputs": [],
   "source": [
    "if WITH_ML_FLOW:\n",
    "    import mlflow\n",
    "\n",
    "    # poetry run mlflow server --host 127.0.0.1 --port 8080\n",
    "    mlflow.set_tracking_uri(uri=\"http://localhost:8080\")\n",
    "    mlflow.set_experiment(\"Testing of email ReAct Agent\")\n",
    "\n",
    "    mlflow.langchain.autolog()"
   ]
  },
  {
   "cell_type": "code",
   "execution_count": 4,
   "metadata": {},
   "outputs": [],
   "source": [
    "mapping_question = \"Explain how 'Payment Terms' is mapped. Start with 'map_invoice1'.\"\n",
    "extensibility_question = \"As a Public Cloud customer in Spain, can I extend an existing eDocument customer invoice Process?\"\n",
    "peppol_support = \"We as Syntax are currently implementing SAP DRC and are following the official SAP help. We are currently at the step “Integration of Peppol Exchange with SAP S/4HANA Cloud” and there at the creation of an S/4HANA Public Cloud communication user. A client certificate should be uploaded for the communication user to be created, as Basic Auth (via user + password) is not supported. The problem: We do not have this certificate. Where can I get this certificate? What format must it be in? We are stuck at this step because we are missing the certificate mentioned and it is also not clear to us what kind of certificate is meant here and where to get it.\"\n",
    "france_us = \"As a localization developer, I want to enhance the relevancy check in the France eDocument country class with the new source type so that settlement management documents become relevant for the eDocument process and eDocuments are created for the source documents.\"\n",
    "\n",
    "QUERY = extensibility_question"
   ]
  },
  {
   "cell_type": "code",
   "execution_count": 5,
   "metadata": {},
   "outputs": [
    {
     "name": "stdout",
     "output_type": "stream",
     "text": [
      "query categorization: {'user_query': 'As a Public Cloud customer in Spain, can I extend an existing eDocument customer invoice Process?', 'category': 'Knowledge-QA'}\n"
     ]
    }
   ],
   "source": [
    "triage_agent = Triage()\n",
    "\n",
    "query_categorization = triage_agent.triage_user_message(user_message=QUERY)\n",
    "if DEBUG_MODE:\n",
    "    print(f\"query categorization: {query_categorization}\")"
   ]
  },
  {
   "cell_type": "code",
   "execution_count": 6,
   "metadata": {},
   "outputs": [],
   "source": [
    "tools = ToolsFabric.get_tools_for_category(\n",
    "    use_mcp=USE_MCP,\n",
    "    configuration=query_categorization[\"category\"],\n",
    "    include_web_search=INCLUDE_WEBSEARCH_TOOL,\n",
    ")"
   ]
  },
  {
   "cell_type": "code",
   "execution_count": 7,
   "metadata": {},
   "outputs": [
    {
     "name": "stdout",
     "output_type": "stream",
     "text": [
      "# Role\n",
      "You are an expert in Electronic Document Processing, with deep domain knowledge in SAP Document and Reporting Compliance, Peppol, UBL, and eInvoicing standards.\n",
      "\n",
      "# Objective\n",
      "Use a reason-and-act (ReAct) approach to answer user questions with clear, well-supported reasoning chains, and tool-validated outputs. Final answers must reflect insights derived from specific tool calls.\n",
      "\n",
      "# Instructions\n",
      "**You will operate in a strict step-by-step loop. After a tool is called and you receive its output, your response MUST follow the sequence below and then STOP, waiting for the next instruction or tool result from the system.**\n",
      "1. Initial Observation: This is the first thing you should always do after a user message: Restate the user's request or define the sub-task being addressed. Clearly establish the current focus.\n",
      "2. Thought: Analyze the obsercation. Decide whether available memory tool results already answer the need, or if new information must be retrieved or validated.\n",
      "3. Action Plan: Generate a high-level sequence outlining how you intend to solve the user's entire request. Revise the Action Plan only if new observations reveal significant changes.\n",
      "4. Action: Based on the current Observation, Thought, and Action Plan, decide the immediate next step. Name the selected tool and parameters. Take no further action until the result is returned.\n",
      "5. Observation (From tool output): Record the tool output exactly as received without paraphrasing.\n",
      "6. Thought (Synthesis & Validation):\n",
      "    a. Integrate the new result with prior observations.\n",
      "    b. Evaluate reliability, completeness, and consistency.\n",
      "    c. If necessary, validate using another tool or proceed if sufficient.\n",
      "    d. Decide whether sufficient information has been gathered for the Final Answer. Do NOT include this Thought section in the final message.\n",
      "7. Final Answer (Only content in this section should be shown to the user as the final agent message):\n",
      "    - Summarize key findings based on specific tool outputs.\n",
      "    - Explain how tools and results supported the answer.\n",
      "    - If the answer is technical, provide both a technical explanation and a plain-language summary for a broader audience.\n",
      "    - Whenever applicable, include short examples (such as snippets, samples, or template outputs) to illustrate key points.\n",
      "    - Mention any remaining uncertainties or limitations.\n",
      "    - This section should be the sole content of the final message. Omit previous sections (Observations, Thoughts, Action Plans, etc.).\n",
      "    - After generating this Final Answer, signal that the task is complete.\n",
      "\n",
      "Always follow these behavioral standards:\n",
      "- Avoid assumptions not supported by tool outputs.\n",
      "- Replace biased or inappropriate language with inclusive, respectful phrasing.\n",
      "- If a respectful response cannot be generated, politely decline the request.\n",
      "- Focus only on the specific sub-task at each step. Do not unnecessarily restate all rules each cycle.\n",
      "\n",
      "# Tools\n",
      "You have access to the following tools to gather facts, retrieve relevant data, and answer technical or compliance-related queries:\n",
      "- Tool Name: sap_documentation_summary, Description: Summarizes SAP documentation content from multiple trusted sources, including official guides, internal documentation, and expert references, to provide accurate and reliable answers to SAP-related queries., Args: url: string\n",
      "- Tool Name: edp_troubleshooting_search, Description: Retrieves troubleshooting information related to the Electronic Document Processing (EDP) using semantic similarity.\n",
      "Returns chunks of potentially relevant diagnostic guidance and known issue resolutions., Args: query: string\n",
      "- Tool Name: sap_help_lookup, Description: Returns summaries of SAP Help articles based on keyword prompts, focusing on official feature descriptions and configuration documentation from SAP’s public documentation site., Args: query: string\n",
      "\n",
      "- Some tools retrieve information from internal memory or prior context. Prefer these Memory Tools first whenever applicable.\n",
      "- Memory tools will be clearly indicated in their tool description.\n",
      "- If Memory tool outputs are incomplete, outdated, or unclear, plan to validate or supplement with external sources.\n",
      "\n",
      "# Rules\n",
      "1. Prioritize Memory Tools: Always first check if memory-based tools provide the necessary information. Prefer using these tools before external search tools or new data-fetching actions. If memory tool outputs appear incomplete, outdated, or unclear, plan to cross-validate using independent tools.\n",
      "2. Strict Sequential Execution: Execute only one tool action per reasoning cycle. Wait for the result before proceeding to the next Thought step.\n",
      "3. Cross-Validation Principle: Whenever feasible and necessary for accuracy, cross-validate information obtained from one source by using a different, independent tool in a later reasoning cycle.\n",
      "4. Avoid Redundant Calls: Do not call the same tool with identical parameters repeatedly unless retrying after a known transient error. For related explorations, adjust queries or use different parameters.\n",
      "5. Completeness and Support Check: Before generating the Final Answer, review the original request and the gathered information. Ensure all parts of the request have been addressed and are backed by specific observations or tool outputs.\n",
      "6. Task Focus: Ensure every Thought and Action contributes directly to solving the original request. Avoid irrelevant exploration.\n"
     ]
    },
    {
     "data": {
      "image/png": "[encoded data removed]",
      "text/plain": [
       "<IPython.core.display.Image object>"
      ]
     },
     "metadata": {},
     "output_type": "display_data"
    },
    {
     "name": "stdout",
     "output_type": "stream",
     "text": [
      "================================\u001b[1m Human Message \u001b[0m=================================\n",
      "\n",
      "As a Public Cloud customer in Spain, can I extend an existing eDocument customer invoice Process?\n",
      "==================================\u001b[1m Ai Message \u001b[0m==================================\n",
      "\n",
      "**Initial Observation:** The user is asking whether a Public Cloud customer in Spain can extend an existing eDocument customer invoice process.\n",
      "\n",
      "**Thought:** To answer this question, I need to check SAP documentation related to eDocument processes, specifically focusing on the capabilities and limitations for Public Cloud customers in Spain. This may involve understanding the configuration options and any restrictions that apply to extending processes in the SAP Public Cloud environment.\n",
      "\n",
      "**Action Plan:**\n",
      "1. Use the `sap_help_lookup` tool to find relevant SAP Help articles about extending eDocument processes for Public Cloud customers.\n",
      "2. If necessary, use the `sap_documentation_summary` tool to gather more detailed information from SAP documentation.\n",
      "3. Compile the findings to provide a clear answer regarding the extension capabilities for eDocument processes in Spain.\n",
      "\n",
      "**Action:** Use the `sap_help_lookup` tool with the query \"extend eDocument process Spain\".\n",
      "Tool Calls:\n",
      "  sap_help_lookup (call_MhaRkEisJJyOKhiMe8SIOnAJ)\n",
      " Call ID: call_MhaRkEisJJyOKhiMe8SIOnAJ\n",
      "  Args:\n",
      "    query: extend eDocument process Spain\n",
      "=================================\u001b[1m Tool Message \u001b[0m=================================\n",
      "Name: sap_help_lookup\n",
      "\n",
      "The provided markdown content offers a comprehensive overview of how to extend and manage the eDocument process specifically for Spain using SAP tools. It focuses on the technical aspects of configuring and utilizing SAP applications to handle electronic documents, particularly eInvoices, in compliance with Spanish regulations. Below is a summary of the technical content relevant to the user's query \"extend eDocument process Spain\":\n",
      "\n",
      "### Extending eDocument Cockpit and Manage Electronic Documents\n",
      "\n",
      "- **App Extensibility**: The eDocument Cockpit and Manage Electronic Documents apps can be extended using the Custom Logic app. This allows key users to implement custom logic for specific business contexts such as eDocument: Spain or Document Compliance.\n",
      "  \n",
      "- **Business Add-Ins (BAdIs)**: Several BAdIs are available for customization:\n",
      "  - **Spain: Filling of Bank Account Data**: Customize the IBAN used for invoice payments.\n",
      "  - **Spain: Filling of Delivery Note Field**: Specify the XML field for storing delivery note numbers from sales orders.\n",
      "  - **Spain: Filling of Discounts and Charges Reason**: Overwrite default values for discounts and charges in eInvoices.\n",
      "  - **Spain: Determine Reason Code**: Enable reason code determination for correction invoices, applicable when submitting correction invoices via the Manage Electronic Documents app.\n",
      "\n",
      "### eDocument Cockpit\n",
      "\n",
      "- **Key Features**:\n",
      "  - Display, download, or submit eDocuments in XML format.\n",
      "  - Monitor eDocument status and perform subsequent actions based on the process used.\n",
      "  \n",
      "- **Spain-specific Processes**:\n",
      "  - **Spain eInvoice (Webservice)**: Submit eDocuments to public entities via FACe, with automatic status updates in the Cockpit.\n",
      "  - **Spain eInvoice (Download)**: Download eDocuments locally and manually upload them to public entities, with manual status maintenance.\n",
      "\n",
      "### Configuration Activities and BAdIs\n",
      "\n",
      "- **Configuration Activities**: Both the Manage Electronic Documents app and eDocument Cockpit require similar configuration activities, with specific activities for Spain:\n",
      "  - **Define Error Categories for Error Analysis**: Group electronic documents with errors by category.\n",
      "  - **Spain: Determine Reason Code BAdI**: Mandatory for correction invoices, enabling reason code determination.\n",
      "\n",
      "### Spain-Specific Scenarios for Consistency Checks\n",
      "\n",
      "- **Consistency Checks**: Ensure data integrity between SAP system documents and tax authority records. Supported checks include:\n",
      "  - **Existence Checks**: Verify the presence of electronic invoices in both systems.\n",
      "  - **Status Checks**: Ensure status consistency between SAP and tax authority systems.\n",
      "  - **Content Checks**: Validate content consistency between SAP documents and tax authority records.\n",
      "\n",
      "### Schedule eDocument Jobs\n",
      "\n",
      "- **Job Scheduling Apps**: Automate background tasks related to eDocument processing:\n",
      "  - **Schedule Jobs for eDocument Processing - Spain**: Perform periodic activities for tax register books with SII.\n",
      "  - **Schedule eDocument Jobs - General**: Handle generic periodic activities for eDocuments.\n",
      "\n",
      "### Create eDocuments\n",
      "\n",
      "- **Spain SII: Create eDocument Job**: Automatically create eDocuments for SII regulations in Spain or the Canary Islands. The app selects accounting documents without existing eDocuments and creates them based on defined parameters.\n",
      "\n",
      "### Create and Submit eDocument Lists\n",
      "\n",
      "- **Spain SII: Create and Submit eDocument List Job**: Automatically create and submit lists of eDocuments to tax authorities using SII. Parameters include company code, creation date, and maximum number of eDocuments per list.\n",
      "\n",
      "### Implementation Hints\n",
      "\n",
      "- **Custom Logic and BAdIs**: Utilize the Custom Logic app to implement specific business requirements using BAdIs tailored for Spain.\n",
      "- **Configuration Paths**: Follow country-specific documentation for detailed configuration activities and BAdIs.\n",
      "- **Job Scheduling**: Use scheduling apps to automate routine tasks, reducing manual workload and ensuring timely compliance with regulations.\n",
      "\n",
      "This summary provides a detailed mapping of how the SAP tools and configurations can be leveraged to extend and manage the eDocument process for Spain, addressing the user's query with specific technical elements and implementation guidance.\n",
      "==================================\u001b[1m Ai Message \u001b[0m==================================\n",
      "\n",
      "**Final Answer:**\n",
      "\n",
      "As a Public Cloud customer in Spain, you can extend an existing eDocument customer invoice process using SAP tools. The SAP Public Cloud environment provides several options for customization and extension, particularly through the use of Business Add-Ins (BAdIs) and the Custom Logic app. Here are the key points:\n",
      "\n",
      "1. **App Extensibility:** You can extend the eDocument Cockpit and Manage Electronic Documents apps using the Custom Logic app. This allows you to implement custom logic for specific business contexts, such as eDocument processes for Spain.\n",
      "\n",
      "2. **Business Add-Ins (BAdIs):** Several BAdIs are available for customization, including:\n",
      "   - Customizing IBAN data for invoice payments.\n",
      "   - Specifying XML fields for delivery note numbers.\n",
      "   - Overwriting default values for discounts and charges in eInvoices.\n",
      "   - Determining reason codes for correction invoices.\n",
      "\n",
      "3. **Configuration Activities:** Specific configuration activities are required for Spain, such as defining error categories for error analysis and implementing the Determine Reason Code BAdI for correction invoices.\n",
      "\n",
      "4. **Job Scheduling:** You can automate background tasks related to eDocument processing using job scheduling apps, which help in maintaining compliance with Spanish regulations.\n",
      "\n",
      "These tools and configurations enable you to tailor the eDocument process to meet specific business needs and regulatory requirements in Spain. If you need further customization or have specific scenarios, leveraging these SAP capabilities will be essential.\n",
      "\n",
      "**Technical Summary:** SAP provides robust tools for extending eDocument processes in Spain, including BAdIs and custom logic implementations. These allow for detailed customization of invoice processes to comply with local regulations and business requirements.\n",
      "\n",
      "**Plain-Language Summary:** As a customer using SAP in Spain, you have the flexibility to customize and extend your electronic invoice processes to better fit your business needs and comply with local laws. SAP offers tools that make these adjustments possible, ensuring your processes are efficient and compliant.\n"
     ]
    }
   ],
   "source": [
    "if USE_MCP:\n",
    "    async with MultiServerMCPClient(tools) as client:\n",
    "        agent = ReActAgent(tool_list=client.get_tools())\n",
    "        if DEBUG_MODE:\n",
    "            print(agent.create_sys_prompt())\n",
    "            display(Image(agent.get_agent_graph()))\n",
    "\n",
    "        await agent.arun_agent_with_input(\n",
    "            user_message=query_categorization[\"user_query\"], debug=DEBUG_MODE\n",
    "        )\n",
    "else:\n",
    "    agent = ReActAgent(tool_list=tools)\n",
    "    if DEBUG_MODE:\n",
    "        print(agent.create_sys_prompt())\n",
    "        display(Image(agent.get_agent_graph()))\n",
    "\n",
    "    agent.run_agent_with_input(\n",
    "        user_message=query_categorization[\"user_query\"], debug=DEBUG_MODE\n",
    "    )"
   ]
  },
  {
   "cell_type": "code",
   "execution_count": 8,
   "metadata": {},
   "outputs": [
    {
     "name": "stdout",
     "output_type": "stream",
     "text": [
      "Agent Run Summary\n",
      "========================================\n",
      "Final Output:\n",
      "**Final Answer:**\n",
      "\n",
      "As a Public Cloud customer in Spain, you can extend an existing eDocument customer invoice process using SAP tools. The SAP Public Cloud environment provides several options for customization and extension, particularly through the use of Business Add-Ins (BAdIs) and the Custom Logic app. Here are the key points:\n",
      "\n",
      "1. **App Extensibility:** You can extend the eDocument Cockpit and Manage Electronic Documents apps using the Custom Logic app. This allows you to implement custom logic for specific business contexts, such as eDocument processes for Spain.\n",
      "\n",
      "2. **Business Add-Ins (BAdIs):** Several BAdIs are available for customization, including:\n",
      "   - Customizing IBAN data for invoice payments.\n",
      "   - Specifying XML fields for delivery note numbers.\n",
      "   - Overwriting default values for discounts and charges in eInvoices.\n",
      "   - Determining reason codes for correction invoices.\n",
      "\n",
      "3. **Configuration Activities:** Specific configuration activities are required for Spain, such as defining error categories for error analysis and implementing the Determine Reason Code BAdI for correction invoices.\n",
      "\n",
      "4. **Job Scheduling:** You can automate background tasks related to eDocument processing using job scheduling apps, which help in maintaining compliance with Spanish regulations.\n",
      "\n",
      "These tools and configurations enable you to tailor the eDocument process to meet specific business needs and regulatory requirements in Spain. If you need further customization or have specific scenarios, leveraging these SAP capabilities will be essential.\n",
      "\n",
      "**Technical Summary:** SAP provides robust tools for extending eDocument processes in Spain, including BAdIs and custom logic implementations. These allow for detailed customization of invoice processes to comply with local regulations and business requirements.\n",
      "\n",
      "**Plain-Language Summary:** As a customer using SAP in Spain, you have the flexibility to customize and extend your electronic invoice processes to better fit your business needs and comply with local laws. SAP offers tools that make these adjustments possible, ensuring your processes are efficient and compliant.\n",
      "\n",
      "Model Used:\n",
      "gpt-4o\n",
      "\n",
      "Execution Time: 26.933 seconds\n",
      "\n",
      "Tools Used:\n",
      "  Tool #1:\n",
      "    Name: sap_help_lookup\n",
      "    Arguments:\n",
      "      query: extend eDocument process Spain\n",
      "========================================\n"
     ]
    }
   ],
   "source": [
    "run_data = agent.get_execution_metadata()\n",
    "\n",
    "run_data.pretty_print()"
   ]
  },
  {
   "cell_type": "code",
   "execution_count": 9,
   "metadata": {},
   "outputs": [
    {
     "name": "stdout",
     "output_type": "stream",
     "text": [
      "Call Count: 2\n",
      "Token Usage: {'input_tokens': 11770, 'output_tokens': 1201, 'total_tokens': 12971}\n"
     ]
    }
   ],
   "source": [
    "LLM_PROXY.print_usage()"
   ]
  }
 ],
 "metadata": {
  "kernelspec": {
   "display_name": "react-agent-CUxtcVGL-py3.13",
   "language": "python",
   "name": "python3"
  },
  "language_info": {
   "codemirror_mode": {
    "name": "ipython",
    "version": 3
   },
   "file_extension": ".py",
   "mimetype": "text/x-python",
   "name": "python",
   "nbconvert_exporter": "python",
   "pygments_lexer": "ipython3",
   "version": "3.13.3"
  }
 },
 "nbformat": 4,
 "nbformat_minor": 2
}
