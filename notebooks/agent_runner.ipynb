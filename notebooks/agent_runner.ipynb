{
 "cells": [
  {
   "cell_type": "code",
   "execution_count": 1,
   "metadata": {},
   "outputs": [],
   "source": [
    "from IPython.display import Image, display\n",
    "\n",
    "from langchain_mcp_adapters.client import MultiServerMCPClient\n",
    "\n",
    "from react_agent.src.agents.react_agent import ReActAgent\n",
    "from react_agent.src.agents.triage import Triage\n",
    "\n",
    "from react_agent.src.util.tools_fabric import ToolsFabric\n",
    "\n",
    "from react_agent.src.util.llm_proxy import LLM_PROXY"
   ]
  },
  {
   "cell_type": "code",
   "execution_count": 2,
   "metadata": {},
   "outputs": [],
   "source": [
    "USE_MCP = True\n",
    "DEBUG_MODE = False\n",
    "INCLUDE_WEBSEARCH_TOOL = True\n",
    "\n",
    "# Wether to run MLFlow next to the agent\n",
    "WITH_ML_FLOW = False"
   ]
  },
  {
   "cell_type": "code",
   "execution_count": 3,
   "metadata": {},
   "outputs": [],
   "source": [
    "if WITH_ML_FLOW:\n",
    "    import mlflow\n",
    "\n",
    "    # poetry run mlflow server --host 127.0.0.1 --port 8080\n",
    "    mlflow.set_tracking_uri(uri=\"http://localhost:8080\")\n",
    "    mlflow.set_experiment(\"Testing of email ReAct Agent\")\n",
    "\n",
    "    mlflow.langchain.autolog()"
   ]
  },
  {
   "cell_type": "code",
   "execution_count": 4,
   "metadata": {},
   "outputs": [],
   "source": [
    "mapping_question = \"Explain how 'Payment Terms' is mapped. Start with 'map_invoice1'.\"\n",
    "extensibility_question = \"As a Public Cloud customer in Spain, can I extend an existing eDocument customer invoice Process?\"\n",
    "peppol_support = \"We as Syntax are currently implementing SAP DRC and are following the official SAP help. We are currently at the step “Integration of Peppol Exchange with SAP S/4HANA Cloud” and there at the creation of an S/4HANA Public Cloud communication user. A client certificate should be uploaded for the communication user to be created, as Basic Auth (via user + password) is not supported. The problem: We do not have this certificate. Where can I get this certificate? What format must it be in? We are stuck at this step because we are missing the certificate mentioned and it is also not clear to us what kind of certificate is meant here and where to get it.\"\n",
    "france_us = \"As a localization developer, I want to enhance the relevancy check in the France eDocument country class with the new source type so that settlement management documents become relevant for the eDocument process and eDocuments are created for the source documents.\"\n",
    "\n",
    "QUERY = extensibility_question"
   ]
  },
  {
   "cell_type": "code",
   "execution_count": 5,
   "metadata": {},
   "outputs": [],
   "source": [
    "triage_agent = Triage()\n",
    "\n",
    "query_categorization = triage_agent.triage_user_message(user_message=QUERY)\n",
    "if DEBUG_MODE:\n",
    "    print(f\"query categorization: {query_categorization}\")"
   ]
  },
  {
   "cell_type": "code",
   "execution_count": 6,
   "metadata": {},
   "outputs": [],
   "source": [
    "tools = ToolsFabric.get_tools_for_category(\n",
    "    use_mcp=USE_MCP,\n",
    "    configuration=query_categorization[\"category\"],\n",
    "    include_web_search=INCLUDE_WEBSEARCH_TOOL,\n",
    ")"
   ]
  },
  {
   "cell_type": "code",
   "execution_count": 7,
   "metadata": {},
   "outputs": [
    {
     "name": "stdout",
     "output_type": "stream",
     "text": [
      "Answer: Final Answer:\n",
      "\n",
      "As a Public Cloud customer in Spain, you can extend an existing eDocument customer invoice process using SAP Document and Reporting Compliance. Here are the key considerations and steps involved:\n",
      "\n",
      "1. **Configuration in SAP S/4HANA**: You can configure eDocument processes using transaction codes like `EDOC_COCKPIT` for managing eDocuments and `EDOC_CONFIG` for configuration settings. Navigate through `SPRO` to set up country-specific settings under `Electronic Document Framework > Country-Specific Settings`.\n",
      "\n",
      "2. **Technical Extensions**: You may need to create custom function modules or use BAPIs (Business Application Programming Interfaces) to modify standard eDocument processing logic. Key tables like `EDOC_HEADER` and `EDOC_ITEM` are involved in processing.\n",
      "\n",
      "3. **Compliance with Local Standards**: Ensure compatibility with European eInvoicing standards such as Peppol and UBL, and adapt the process to meet specific Spanish regulations.\n",
      "\n",
      "4. **SAP Notes and Updates**: Regularly check for SAP Notes related to eDocument processing for Spain to stay compliant with the latest legal requirements.\n",
      "\n",
      "5. **Testing and Monitoring**: Thoroughly test the extended process in a sandbox environment and use SAP monitoring tools to track eDocument status and performance.\n",
      "\n",
      "By following these steps, you can effectively extend the eDocument customer invoice process in SAP Public Cloud for Spain, ensuring compliance and optimizing workflows.\n"
     ]
    }
   ],
   "source": [
    "answer = \"\"\n",
    "if USE_MCP:\n",
    "    async with MultiServerMCPClient( tools ) as client:\n",
    "        agent = ReActAgent(tool_list=client.get_tools())\n",
    "        if DEBUG_MODE:\n",
    "            print(agent.create_sys_prompt())\n",
    "            display(Image(agent.get_agent_graph()))\n",
    "            \n",
    "        answer = await agent.arun_agent_with_input(\n",
    "            user_message=query_categorization[\"user_query\"], debug=DEBUG_MODE\n",
    "        )\n",
    "else:\n",
    "    agent = ReActAgent(tool_list=tools)\n",
    "    if DEBUG_MODE:\n",
    "        print(agent.create_sys_prompt())\n",
    "        display(Image(agent.get_agent_graph()))\n",
    "\n",
    "    answer = agent.run_agent_with_input(user_message=query_categorization[\"user_query\"], debug=DEBUG_MODE)\n",
    "\n",
    "if not DEBUG_MODE:\n",
    "    print(f\"Answer: {answer}\")"
   ]
  },
  {
   "cell_type": "code",
   "execution_count": 8,
   "metadata": {},
   "outputs": [
    {
     "name": "stdout",
     "output_type": "stream",
     "text": [
      "Call Count: 1\n",
      "Token Usage: {'input_tokens': 2383, 'output_tokens': 287, 'total_tokens': 2670}\n"
     ]
    }
   ],
   "source": [
    "LLM_PROXY.print_usage()"
   ]
  }
 ],
 "metadata": {
  "kernelspec": {
   "display_name": "react-agent-CUxtcVGL-py3.13",
   "language": "python",
   "name": "python3"
  },
  "language_info": {
   "codemirror_mode": {
    "name": "ipython",
    "version": 3
   },
   "file_extension": ".py",
   "mimetype": "text/x-python",
   "name": "python",
   "nbconvert_exporter": "python",
   "pygments_lexer": "ipython3",
   "version": "3.13.3"
  }
 },
 "nbformat": 4,
 "nbformat_minor": 2
}
