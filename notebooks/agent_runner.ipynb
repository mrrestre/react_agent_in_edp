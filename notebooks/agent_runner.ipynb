{
 "cells": [
  {
   "cell_type": "code",
   "execution_count": 1,
   "metadata": {},
   "outputs": [],
   "source": [
    "from IPython.display import Image, display\n",
    "\n",
    "from langchain_mcp_adapters.client import MultiServerMCPClient\n",
    "\n",
    "from react_agent.src.agents.react_agent import ReActAgent\n",
    "from react_agent.src.agents.triage import Triage\n",
    "\n",
    "from react_agent.src.util.tools_fabric import ToolsFabric\n",
    "\n",
    "from react_agent.src.util.llm_proxy import LLM_PROXY"
   ]
  },
  {
   "cell_type": "code",
   "execution_count": 2,
   "metadata": {},
   "outputs": [],
   "source": [
    "USE_MCP = False\n",
    "\n",
    "DEBUG_MODE = True\n",
    "\n",
    "# Wether to run MLFlow next to the agent\n",
    "WITH_ML_FLOW = False"
   ]
  },
  {
   "cell_type": "code",
   "execution_count": 3,
   "metadata": {},
   "outputs": [],
   "source": [
    "if WITH_ML_FLOW:\n",
    "    import mlflow\n",
    "\n",
    "    # poetry run mlflow server --host 127.0.0.1 --port 8080\n",
    "    mlflow.set_tracking_uri(uri=\"http://localhost:8080\")\n",
    "    mlflow.set_experiment(\"Testing of email ReAct Agent\")\n",
    "\n",
    "    mlflow.langchain.autolog()"
   ]
  },
  {
   "cell_type": "code",
   "execution_count": 4,
   "metadata": {},
   "outputs": [],
   "source": [
    "mapping_question = \"Explain how 'Payment Terms' is mapped. Start with 'map_invoice1'.\"\n",
    "extensibility_question = \"As a Public Cloud customer in Spain, can I extend an existing eDocument customer invoice Process?\"\n",
    "peppol_support = \"We as Syntax are currently implementing SAP DRC and are following the official SAP help. We are currently at the step “Integration of Peppol Exchange with SAP S/4HANA Cloud” and there at the creation of an S/4HANA Public Cloud communication user. A client certificate should be uploaded for the communication user to be created, as Basic Auth (via user + password) is not supported. The problem: We do not have this certificate. Where can I get this certificate? What format must it be in? We are stuck at this step because we are missing the certificate mentioned and it is also not clear to us what kind of certificate is meant here and where to get it.\"\n",
    "france_us = \"As a localization developer, I want to enhance the relevancy check in the France eDocument country class with the new source type so that settlement management documents become relevant for the eDocument process and eDocuments are created for the source documents.\"\n",
    "\n",
    "QUERY = france_us"
   ]
  },
  {
   "cell_type": "code",
   "execution_count": 5,
   "metadata": {},
   "outputs": [
    {
     "name": "stdout",
     "output_type": "stream",
     "text": [
      "query categorization: {'user_query': 'As a localization developer, I want to enhance the relevancy check in the France eDocument country class with the new source type so that settlement management documents become relevant for the eDocument process and eDocuments are created for the source documents.', 'category': 'Config-RCA'}\n"
     ]
    }
   ],
   "source": [
    "triage_agent = Triage()\n",
    "\n",
    "query_categorization = triage_agent.triage_user_message(user_message=QUERY)\n",
    "if DEBUG_MODE:\n",
    "    print(f\"query categorization: {query_categorization}\")"
   ]
  },
  {
   "cell_type": "code",
   "execution_count": 6,
   "metadata": {},
   "outputs": [],
   "source": [
    "tools = ToolsFabric.get_tools_for_category( use_mcp = USE_MCP, configuration = query_categorization[\"category\"] )"
   ]
  },
  {
   "cell_type": "code",
   "execution_count": 7,
   "metadata": {},
   "outputs": [
    {
     "name": "stdout",
     "output_type": "stream",
     "text": [
      "# Role\n",
      "You are an expert in Electronic Document Processing, with deep domain knowledge in SAP Document and Reporting Compliance, Peppol, UBL, and eInvoicing standards.\n",
      "\n",
      "# Objective\n",
      "Use a reason-and-act (ReAct) approach to answer user questions with clear, well-supported reasoning chains, and tool-validated outputs. Final answers must reflect insights derived from specific tool calls.\n",
      "\n",
      "# Instructions\n",
      "**You will operate in a strict step-by-step loop. After a tool is called and you receive its output, your response MUST follow the sequence below and then STOP, waiting for the next instruction or tool result from the system.**\n",
      "1. Observation: Restate the user's request or define the sub-task being addressed. Clearly establish the current focus.\n",
      "2. Thought: Analyze the problem. Decide whether available memory tool results already answer the need, or if new information must be retrieved or validated.\n",
      "3. Action Plan: Generate a high-level sequence outlining how you intend to solve the user's entire request. Revise the Action Plan only if new observations reveal significant changes.\n",
      "4. Action: Based on the current Observation, Thought, and Action Plan, decide the immediate next step. Name the selected tool and parameters. Take no further action until the result is returned.\n",
      "5. Observation (Result): Record the tool output exactly as received without paraphrasing.\n",
      "6. Thought (Synthesis & Validation):\n",
      "    a. Integrate the new result with prior observations.\n",
      "    b. Evaluate reliability, completeness, and consistency.\n",
      "    c. If necessary, validate using another tool or proceed if sufficient.\n",
      "    d. Decide the next action or prepare for Final Answer.\n",
      "7. Final Answer:\n",
      "    - Summarize key findings based on specific tool outputs.\n",
      "    - Explain how tools and results supported the answer.\n",
      "    - If the answer is technical, provide both a technical explanation and a plain-language summary for a broader audience.\n",
      "    - Whenever applicable, include short examples (such as snippets, samples, or template outputs) to illustrate key points.\n",
      "    - Mention any remaining uncertainties or limitations.\n",
      "    - After the Final Answer was generated, send a stop signal to the system to indicate that the task is complete.\n",
      "\n",
      "Always follow these behavioral standards:\n",
      "- Avoid assumptions not supported by tool outputs.\n",
      "- Replace biased or inappropriate language with inclusive, respectful phrasing.\n",
      "- If a respectful response cannot be generated, politely decline the request.\n",
      "- Focus only on the specific sub-task at each step. Do not unnecessarily restate all rules each cycle.\n",
      "\n",
      "# Tools\n",
      "You have access to the following tools to gather facts, retrieve relevant data, and answer technical or compliance-related queries:\n",
      "- Tool Name: abap_method_codebase_search, Description: Tool for retrieving ABAP methods relevant to a natural language query, based on semantic similarity with method descriptions in a pre-indexed codebase.\n",
      "Returns a ranked list of matching methods with following attributes: class name, method name, parent class, implemented interfaces, method implementation.\n",
      "This is the preferred tool for finding code snippets or implementations.\n",
      "Use this before any full-class or external code retrieval tools.\n",
      "Repeated calls with different inputs are valid and may return distinct results., Args: query: string\n",
      "- Tool Name: external_class_code_lookup, Description: This is a fallback tool. Do not use unless the class is known to be missing from the pre-indexed dataset.\n",
      "Retrieves the full source code of an ABAP class by querying an external repository.\n",
      "Use this tool only when the target class is not found in the pre-indexed codebase or when previous method-specific tools return no results.\n",
      "Returns the complete class source as plain text., Args: class_name: string\n",
      "\n",
      "- Some tools retrieve information from internal memory or prior context. Prefer these Memory Tools first whenever applicable.\n",
      "- Memory tools will be clearly indicated in their tool description.\n",
      "- If Memory tool outputs are incomplete, outdated, or unclear, plan to validate or supplement with external sources.\n",
      "\n",
      "# Rules\n",
      "1. Prioritize Memory Tools: Always first check if memory-based tools provide the necessary information. Prefer using these tools before external search tools or new data-fetching actions. If memory tool outputs appear incomplete, outdated, or unclear, plan to cross-validate using independent tools.\n",
      "2. Strict Sequential Execution: Execute only one tool action per reasoning cycle. Wait for the result before proceeding to the next Thought step.\n",
      "3. Cross-Validation Principle: Whenever feasible and necessary for accuracy, cross-validate information obtained from one source by using a different, independent tool or method in a later reasoning cycle.\n",
      "4. Avoid Redundant Calls: Do not call the same tool with identical parameters repeatedly unless retrying after a known transient error. For related explorations, adjust queries or use different parameters.\n",
      "5. Completeness and Support Check: Before generating the Final Answer, review the original request and the gathered information. Ensure all parts of the request have been addressed and are backed by specific observations or tool outputs.\n",
      "6. Task Focus: Ensure every Thought and Action contributes directly to solving the original request. Avoid irrelevant exploration.\n",
      "7. Error Handling: If a tool call fails, record the exact error message. In the next Thought, decide how to recover (retry, adjust parameters, use another tool). If no tools successfully resolve the request after reasonable attempts, acknowledge the limitation respectfully in the Final Answer and suggest possible next steps if applicable.\n"
     ]
    },
    {
     "data": {
      "image/png": "[encoded data removed]",
      "text/plain": [
       "<IPython.core.display.Image object>"
      ]
     },
     "metadata": {},
     "output_type": "display_data"
    },
    {
     "name": "stdout",
     "output_type": "stream",
     "text": [
      "================================\u001b[1m Human Message \u001b[0m=================================\n",
      "\n",
      "As a localization developer, I want to enhance the relevancy check in the France eDocument country class with the new source type so that settlement management documents become relevant for the eDocument process and eDocuments are created for the source documents.\n",
      "==================================\u001b[1m Ai Message \u001b[0m==================================\n",
      "\n",
      "Observation: The user wants to enhance the relevancy check in the France eDocument country class to include a new source type for settlement management documents, ensuring that eDocuments are created for these source documents.\n",
      "\n",
      "Thought: To address this request, we need to identify the specific ABAP methods or classes involved in the relevancy check for eDocuments in the France localization context. This will likely involve searching for methods related to eDocument processing and relevancy checks within the France-specific classes.\n",
      "\n",
      "Action Plan:\n",
      "1. Search for ABAP methods related to eDocument relevancy checks in the France localization context.\n",
      "2. Identify the specific class or method where the relevancy check is implemented.\n",
      "3. Retrieve the implementation details of the identified method to understand how to enhance it with the new source type.\n",
      "4. Provide guidance on how to modify the code to include settlement management documents in the relevancy check.\n",
      "\n",
      "Action: Use the `abap_method_codebase_search` tool with keywords related to \"France eDocument relevancy check\" to find relevant methods.\n",
      "Tool Calls:\n",
      "  abap_method_codebase_search (call_FSnV24ekNBCIxDsoDThEX2Et)\n",
      " Call ID: call_FSnV24ekNBCIxDsoDThEX2Et\n",
      "  Args:\n",
      "    query: France eDocument relevancy check\n",
      "=================================\u001b[1m Tool Message \u001b[0m=================================\n",
      "Name: abap_method_codebase_search\n",
      "\n",
      "Class: cl_edocument_fr_inv\n",
      "Inheritance: Parent Class: cl_edocument\n",
      "Implemented Interfaces: None\n",
      "Method Name: is_international_document\n",
      "Method Implementation:\n",
      "  METHOD IS_INTERNATIONAL_DOCUMENT.    \"Regions that needs be considered as part of International documents:    \"973  Guyane, 976 Mayotte, 988  New Caledonia, 987  French Polynesia, 977 Saint Barthelemy,    \"978  Saint Martin, 975 Saint-Pierre-et-Miq.    IF iv_receiver_country = 'FR' .      IF iv_region = '973' OR iv_region = '976' OR iv_region = '988' OR iv_region = '987' OR         iv_region = '977' OR iv_region = '978' OR iv_region = '975'.        rv_is_international = abap_true.      ELSE.        rv_is_international = abap_false.      ENDIF.    ELSEIF iv_receiver_country = 'GP' OR \"Guadeloupe           iv_receiver_country = 'MQ' OR \"Martinique           iv_receiver_country = 'RE'.   \"Reunion      rv_is_international = abap_false.    ELSE.      rv_is_international = abap_true.    ENDIF.  \n",
      " ENDMETHOD.\n",
      "\n",
      "Class: cl_edocument_fr_inv\n",
      "Inheritance: Parent Class: cl_edocument\n",
      "Implemented Interfaces: None\n",
      "Method Name: determine_process\n",
      "Method Implementation:\n",
      "  METHOD determine_process.    DATA : ls_edofrproctvta    TYPE edofrproctvta,           ls_bseg             TYPE bseg,           ls_sd_data          TYPE edoc_src_data_sd_invoice,           ls_fi_data          TYPE edoc_src_data_fi_invoice,           ls_sm_data          TYPE edoc_src_data_stlmt_invoice,           ls_inv_ver_data     TYPE edoc_src_data_invoice_verif,           ls_rseg             TYPE rseg,           lv_kunnr            TYPE kunnr,           lv_receiver_country TYPE intca,           lv_region           TYPE regio,           ls_supplier         TYPE edoc_lifnr,           lv_proc_type        TYPE edoc_fr_inv_proc_type,           lv_koart            TYPE koart,*           lo_source_ext       TYPE REF TO cl_edoc_source_ext_doc, \"3428018*           ls_ubl_data         TYPE cl_edoc_source_ext_doc=>ty_ubl_data, \"3428018,           lt_item_data        TYPE TABLE OF edoc_bseg,           lv_blart            TYPE blart,           lt_tax_code         TYPE TABLE OF mwskz,           lt_edofrproct003    TYPE TABLE OF edofrproct003,           lv_partner          TYPE bu_partner,           lv_bp_status        TYPE bptaxstatus.*  In case of external source document*    IF ms_edocument-source_type  EQ 'EXT_DOC'.                          \"Start 3428018*      lo_source_ext ?= mo_source.*      ls_ubl_data = lo_source_ext->ms_ubl_data.*      IF ls_ubl_data-ubl_data-parameters-invoice_type_code-base-content = '389'.*        ms_edocument-process = 'FRB2BSBINV'.*        ms_edocument-process_version = '0001'.*      ELSE.*        ms_edocument-process = 'FRB2BCINV'.*        ms_edocument-process_version = '0001'.*      ENDIF.*      RETURN.*    ENDIF.                                                                \"End 3428018* Determine receiver country and region    mo_source->get_customer( IMPORTING ev_kunrg = lv_kunnr ).    IF lv_kunnr IS NOT INITIAL.      get_customer_country( EXPORTING iv_kunnr   = lv_kunnr                            IMPORTING ev_country = lv_receiver_country                                      ev_region  = lv_region ).    ELSE.      mo_source->get_supplier( IMPORTING es_supplier = ls_supplier ).      IF ls_supplier-lifnr IS NOT INITIAL.        get_supplier_country( EXPORTING iv_lifnr   = ls_supplier-lifnr                              IMPORTING ev_country = lv_receiver_country                                        ev_region  = lv_region ).      ENDIF.    ENDIF.    IF lv_receiver_country IS INITIAL.      MESSAGE e011(edocument_fr_inv) WITH lv_kunnr INTO gv_error_txt.      raise_edoc_exception( ).    ENDIF.*  get Doc Type    lv_blart = mo_source->get_blart( ).    CASE mo_source->mv_source_type.* Process determination for FI source type      WHEN cl_edoc_source_fi_invoice=>gc_src_fi_invoice.        mo_source->get_data( IMPORTING es_data = ls_fi_data ).        lt_item_data  = ls_fi_data-document_item.*  Payment process determination for service based invoice        IF ls_fi_data-cleareddoc_data IS NOT INITIAL.          me->determine_payment_process( ).          RETURN.        ENDIF.*       customer Invoice        READ TABLE ls_fi_data-document_item INTO ls_bseg WITH KEY koart = 'D'.        IF sy-subrc = 0.          lv_koart = 'D'.        ENDIF.*       supplier Invoice        READ TABLE ls_fi_data-document_item INTO ls_bseg WITH KEY koart = 'K'.        IF sy-subrc = 0.          lv_koart = 'K'.        ENDIF.*     Process determination for SD source type      WHEN cl_edoc_source_sd_invoice=>gc_src_sd_invoice.        mo_source->get_data( IMPORTING es_data = ls_sd_data ).        lv_koart = 'D'.*       Store original source type,invoice no, item data for BADI call        lt_item_data  = ls_sd_data-bseg.*       Customization on Sales Area        ls_edofrproctvta = go_edoc_fr_inv_db->select_edofrproctvta(                                                        iv_vkorg = ls_sd_data-document_header-vkorg                                                        iv_vtweg = ls_sd_data-document_header-vtweg                                                        iv_spart = ls_sd_data-document_header-spart ).        IF ls_edofrproctvta-proc_type IS NOT INITIAL.          lv_proc_type = ls_edofrproctvta-proc_type.        ENDIF.*    Invoice Verification      WHEN cl_edoc_source_invoice_verif=>gc_src_inv_verif.        mo_source->get_data( IMPORTING es_data = ls_inv_ver_data ).        lv_koart = 'K'.        LOOP AT ls_inv_ver_data-document_item INTO ls_rseg.          IF ls_rseg-mwskz IS NOT INITIAL.            APPEND ls_rseg-mwskz TO lt_tax_code.          ENDIF.        ENDLOOP.*  Settlement Management - process determination      WHEN cl_edoc_source_stlmt=>gc_src_stlmt_inv.        mo_source->get_data( IMPORTING es_data = ls_sm_data ).        lv_koart = 'D'.        lt_item_data  = ls_sm_data-bseg.* Customization on Sales Area        ls_edofrproctvta = go_edoc_fr_inv_db->select_edofrproctvta(                                                        iv_vkorg = ls_sm_data-document_header-vkorg                                                        iv_vtweg = ls_sm_data-document_header-vtweg                                                        iv_spart = ls_sm_data-document_header-spart ).        IF ls_edofrproctvta-proc_type IS NOT INITIAL.          lv_proc_type = ls_edofrproctvta-proc_type.        ENDIF.      WHEN OTHERS.    ENDCASE.    IF lv_proc_type IS INITIAL.      IF lt_item_data IS NOT INITIAL.        LOOP AT lt_item_data INTO ls_bseg.          IF ls_bseg-mwskz IS NOT INITIAL.            APPEND ls_bseg-mwskz TO lt_tax_code.          ENDIF.        ENDLOOP.      ENDIF.*     get process attribute from customizing table      SELECT * FROM edofrproct003 INTO TABLE lt_edofrproct003 WHERE blart = lv_blart.*     get process type from customizing table      get_process_type(        EXPORTING          it_edofrproct003 = lt_edofrproct003          it_tax_code      = lt_tax_code        RECEIVING          rv_proc_type = lv_proc_type      ).    ENDIF.*   Get BP status details    get_bp_status( EXPORTING iv_customer = lv_kunnr                             iv_supplier = ls_supplier-lifnr                   IMPORTING es_dfkkbptaxnum = ms_dfkkbptaxnum ).*   BP status    lv_bp_status = ms_dfkkbptaxnum-taxstatus.*   Determine process based on BP data    IF lv_receiver_country = 'FR'.                         \"Domestic Invoice      IF lv_bp_status = 'PRA' OR lv_bp_status = 'PRI' .    \"Business active/Goverment Active        IF lv_koart = 'D'.          ms_edocument-process = 'FRB2BCINV'.               \"B2B Customer invoice        ELSEIF lv_koart = 'K'.          ms_edocument-process = 'FRB2BSBINV'.              \"Self-Billing        ENDIF.      ELSE.        IF lv_koart = 'K'.          ms_edocument-process = 'FRB2BSBINV'.              \"Self-Billing        ELSE.          ms_edocument-process = 'FRB2CCINV'.               \"B2C customer invoice        ENDIF.      ENDIF.      ELSE.*     Prcoess determination based on customizing        ms_edocument-process = get_process_name( iv_proc_type        = lv_proc_type                                                 iv_koart            = lv_koart                                                 iv_receiver_country = lv_receiver_country                                                 iv_region           = lv_region ).      ENDIF.*   process version    ms_edocument-process_version = '0001'.*   Determine invoice type and call customer BADI for all sources      ms_edofreinv-invoice_type = determine_invoice_type( EXPORTING it_edofrproct003 = lt_edofrproct003                                                                    it_tax_code      = lt_tax_code                                                                    iv_blart         = lv_blart ).    \n",
      " ENDMETHOD.\n",
      "\n",
      "Class: cl_edocument_fr_inv\n",
      "Inheritance: Parent Class: cl_edocument\n",
      "Implemented Interfaces: None\n",
      "Method Name: is_relevant\n",
      "Method Implementation:\n",
      "  METHOD is_relevant.    DATA: lv_bukrs_land    TYPE land1.    IF  mo_source->mv_source_type <>        cl_edoc_source_sd_invoice=>gc_src_sd_invoice       AND  mo_source->mv_source_type <>        cl_edoc_source_fi_invoice=>gc_src_fi_invoice       AND mo_source->mv_source_type <>        cl_edoc_source_invoice_verif=>gc_src_inv_verif       AND mo_source->mv_source_type <>        cl_edoc_source_stlmt=>gc_src_stlmt_inv.*       AND mo_source->mv_source_type <>                     \"3428018*        cl_edoc_source_ext_doc=>gc_src_ext_doc.             \"3428018      rv_relevant = abap_false.      RETURN.    ENDIF.    rv_relevant = abap_true.    IF rv_relevant = abap_true.*     For Cancellations the eDocument should not be created*     If the original document has been reversed the eDocument should not be created      IF mo_source->is_cancelled( ) = abap_true OR         \"Is the source document already cancelled?        mo_source->is_cancellation( ) = abap_true.         \"Is a Cancellation?        rv_relevant = abap_false.      ENDIF.    ENDIF.    IF mo_adaptor IS BOUND.      mo_adaptor->if_edoc_adaptor~is_relevant(                     EXPORTING io_source   = mo_source                     CHANGING  cx_relevant = rv_relevant ).    ENDIF.  \n",
      " ENDMETHOD.\n",
      "\n",
      "Class: cl_edocument_fr_inv\n",
      "Inheritance: Parent Class: cl_edocument\n",
      "Implemented Interfaces: None\n",
      "Method Name: constructor\n",
      "Method Implementation:\n",
      "CLASS CL_EDOCUMENT_FR_INV IMPLEMENTATION.  METHOD constructor.    \" Super Constructor call for eDocument France    super->constructor(      io_source_data   = io_source_data      iv_edoc_guid     = iv_edoc_guid      iv_land          = iv_land      iv_update_task   = iv_update_task      iv_generic_badi_filter_adaptor = 'INVOICE'    ).    ms_edocument-land = iv_land.    ms_generic_badi_filter-adaptor      = 'INVOICE'.    ms_generic_badi_filter-interf_conn  = 'INVOICE'.    ms_generic_badi_filter-partner_conn = 'INVOICE'.    \"Overwrite the eDocument Class name.    ms_edocument-edocument_class = 'CL_EDOCUMENT_FR_INV'.    IF is_edofrpaymt IS NOT INITIAL.      MOVE-CORRESPONDING is_edofrpaymt TO ms_edofrpaymt.      ms_edofrpaymt-edoc_guid = ms_edocument-edoc_guid.    ELSE.     ms_edofreinv-edoc_guid = ms_edocument-edoc_guid.    ENDIF.  \n",
      " ENDMETHOD.\n",
      "\n",
      "Class: cl_edoc_map_ubl_fr\n",
      "Inheritance: Parent Class: cl_edoc_map_ubl\n",
      "Implemented Interfaces: None\n",
      "Method Name: fill_endpoint_cust\n",
      "Method Implementation:\n",
      "  METHOD fill_endpoint_cust. \"Added with Note 3079278    \"Deleted with 3158855  \n",
      " ENDMETHOD.\n",
      "\n",
      "Class: cl_edocument_fr_inv\n",
      "Inheritance: Parent Class: cl_edocument\n",
      "Implemented Interfaces: None\n",
      "Method Name: determine_interface_type\n",
      "Method Implementation:\n",
      "  METHOD determine_interface_type.    DATA: lv_interface_type TYPE edoc_interface_type ##NEEDED,          lx_edocument      TYPE REF TO cx_edocument.    TRY.        lv_interface_type = super->determine_interface_type(  ).      CATCH cx_edocument INTO lx_edocument.        raise_edoc_exception( iv_error_txt = lx_edocument->get_text(  )  ).    ENDTRY.* Hard coded for all France process    rv_interface_type = 'DRCC'.    ms_edocument-interface_type = rv_interface_type.  \n",
      " ENDMETHOD.\n",
      "\n",
      "\n",
      "==================================\u001b[1m Ai Message \u001b[0m==================================\n",
      "\n",
      "Observation (Result): The search returned several methods from the `cl_edocument_fr_inv` class, which is related to eDocument processing for France. The relevant methods include `is_relevant`, `determine_process`, and others that handle different aspects of eDocument creation and relevancy checks.\n",
      "\n",
      "Thought (Synthesis & Validation):\n",
      "- The `is_relevant` method directly checks the relevancy of source types for eDocument creation. It currently includes checks for settlement management documents (`cl_edoc_source_stlmt=>gc_src_stlmt_inv`).\n",
      "- The `determine_process` method handles process determination for various source types, including settlement management.\n",
      "- To enhance the relevancy check, modifications would likely be needed in the `is_relevant` method to ensure the new source type is correctly identified and processed.\n",
      "\n",
      "Action Plan (Revised):\n",
      "1. Focus on the `is_relevant` method to ensure it correctly identifies the new source type for settlement management documents.\n",
      "2. Review the `determine_process` method to ensure it correctly processes the new source type.\n",
      "3. Provide guidance on modifying these methods to include the new source type.\n",
      "\n",
      "Action: Review the `is_relevant` method implementation to identify how to enhance it with the new source type for settlement management documents.\n",
      "Final Answer:\n",
      "\n",
      "To enhance the relevancy check in the France eDocument country class for settlement management documents, you need to focus on the `is_relevant` method within the `cl_edocument_fr_inv` class. This method already includes a check for settlement management documents (`cl_edoc_source_stlmt=>gc_src_stlmt_inv`). Here's how you can proceed:\n",
      "\n",
      "1. **Review the `is_relevant` Method:**\n",
      "   - The method checks if the source type is one of several predefined types, including settlement management (`cl_edoc_source_stlmt=>gc_src_stlmt_inv`).\n",
      "   - Ensure that the new source type for settlement management is correctly included in this check. If it's a new variant or subtype, you may need to add additional conditions to handle it.\n",
      "\n",
      "2. **Modify the `determine_process` Method:**\n",
      "   - This method determines the process type based on the source type. It includes logic for settlement management documents.\n",
      "   - Verify that the new source type is correctly processed and mapped to the appropriate eDocument process type.\n",
      "\n",
      "3. **Implementation Example:**\n",
      "   - In the `is_relevant` method, ensure the new source type is included in the conditional checks:\n",
      "     ```abap\n",
      "     IF mo_source->mv_source_type = cl_edoc_source_stlmt=>gc_src_stlmt_inv OR\n",
      "        mo_source->mv_source_type = 'NEW_SOURCE_TYPE'. \" Add new source type here\n",
      "       rv_relevant = abap_true.\n",
      "     ELSE.\n",
      "       rv_relevant = abap_false.\n",
      "     ENDIF.\n",
      "     ```\n",
      "\n",
      "4. **Testing and Validation:**\n",
      "   - After implementing the changes, thoroughly test the relevancy check to ensure that eDocuments are correctly created for the new source type.\n",
      "\n",
      "By following these steps, you can enhance the relevancy check to include the new source type for settlement management documents, ensuring they are processed correctly within the eDocument framework.\n",
      "\n",
      "If you have any further questions or need additional assistance, feel free to ask!\n"
     ]
    }
   ],
   "source": [
    "answer = \"\"\n",
    "if USE_MCP:\n",
    "    async with MultiServerMCPClient( tools ) as client:\n",
    "        agent = ReActAgent(tool_list=client.get_tools())\n",
    "        if DEBUG_MODE:\n",
    "            print(agent.create_sys_prompt())\n",
    "            display(Image(agent.get_agent_graph()))\n",
    "            \n",
    "        answer = await agent.arun_agent_with_input(\n",
    "            user_message=query_categorization[\"user_query\"], debug=DEBUG_MODE\n",
    "        )\n",
    "else:\n",
    "    agent = ReActAgent(tool_list=tools)\n",
    "    if DEBUG_MODE:\n",
    "        print(agent.create_sys_prompt())\n",
    "        display(Image(agent.get_agent_graph()))\n",
    "\n",
    "    answer = agent.run_agent_with_input(user_message=query_categorization[\"user_query\"], debug=DEBUG_MODE)\n",
    "\n",
    "if not DEBUG_MODE:\n",
    "    print(f\"Answer: {answer}\")"
   ]
  },
  {
   "cell_type": "code",
   "execution_count": 8,
   "metadata": {},
   "outputs": [
    {
     "name": "stdout",
     "output_type": "stream",
     "text": [
      "Call Count: 1\n",
      "Token Usage: {'input_tokens': 4573, 'output_tokens': 673, 'total_tokens': 5246}\n"
     ]
    }
   ],
   "source": [
    "LLM_PROXY.print_usage()"
   ]
  }
 ],
 "metadata": {
  "kernelspec": {
   "display_name": "react-agent-CUxtcVGL-py3.13",
   "language": "python",
   "name": "python3"
  },
  "language_info": {
   "codemirror_mode": {
    "name": "ipython",
    "version": 3
   },
   "file_extension": ".py",
   "mimetype": "text/x-python",
   "name": "python",
   "nbconvert_exporter": "python",
   "pygments_lexer": "ipython3",
   "version": "3.13.3"
  }
 },
 "nbformat": 4,
 "nbformat_minor": 2
}
