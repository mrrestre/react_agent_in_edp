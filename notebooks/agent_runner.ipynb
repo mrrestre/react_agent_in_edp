{
 "cells": [
  {
   "cell_type": "code",
   "execution_count": 1,
   "metadata": {},
   "outputs": [],
   "source": [
    "from IPython.display import Image, display\n",
    "\n",
    "from langchain_mcp_adapters.client import MultiServerMCPClient\n",
    "\n",
    "from react_agent.src.agents.react_agent import ReActAgent\n",
    "from react_agent.src.agents.triage import Triage\n",
    "\n",
    "from react_agent.src.util.tools_fabric import ToolsFabric\n",
    "\n",
    "from react_agent.src.util.llm_proxy import LLM_PROXY"
   ]
  },
  {
   "cell_type": "code",
   "execution_count": 2,
   "metadata": {},
   "outputs": [],
   "source": [
    "USE_MCP = False\n",
    "\n",
    "# Wether to run MLFlow next to the agent\n",
    "WITH_ML_FLOW = False"
   ]
  },
  {
   "cell_type": "code",
   "execution_count": 3,
   "metadata": {},
   "outputs": [],
   "source": [
    "if WITH_ML_FLOW:\n",
    "    import mlflow\n",
    "\n",
    "    # poetry run mlflow server --host 127.0.0.1 --port 8080\n",
    "    mlflow.set_tracking_uri(uri=\"http://localhost:8080\")\n",
    "    mlflow.set_experiment(\"Testing of email ReAct Agent\")\n",
    "\n",
    "    mlflow.langchain.autolog()"
   ]
  },
  {
   "cell_type": "code",
   "execution_count": 4,
   "metadata": {},
   "outputs": [],
   "source": [
    "mapping_question = \"Explain how 'Payment Terms' is mapped. Start with 'map_invoice1'.\"\n",
    "extensibility_question = \"As a Public Cloud customer in Spain, can I extend an existing eDocument customer invoice Process?\"\n",
    "peppol_support = \"We as Syntax are currently implementing SAP DRC and are following the official SAP help. We are currently at the step “Integration of Peppol Exchange with SAP S/4HANA Cloud” and there at the creation of an S/4HANA Public Cloud communication user. A client certificate should be uploaded for the communication user to be created, as Basic Auth (via user + password) is not supported. The problem: We do not have this certificate. Where can I get this certificate? What format must it be in? We are stuck at this step because we are missing the certificate mentioned and it is also not clear to us what kind of certificate is meant here and where to get it.\"\n",
    "\n",
    "QUERY = extensibility_question"
   ]
  },
  {
   "cell_type": "code",
   "execution_count": 5,
   "metadata": {},
   "outputs": [
    {
     "name": "stdout",
     "output_type": "stream",
     "text": [
      "{'user_query': 'As a Public Cloud customer in Spain, can I extend an existing eDocument customer invoice Process?', 'category': 'Knowledge-QA'}\n"
     ]
    }
   ],
   "source": [
    "triage_agent = Triage()\n",
    "\n",
    "query_categorization = triage_agent.triage_user_message(user_message=QUERY)\n",
    "print(query_categorization)"
   ]
  },
  {
   "cell_type": "code",
   "execution_count": 6,
   "metadata": {},
   "outputs": [],
   "source": [
    "tools = ToolsFabric.get_tools_for_category( use_mcp = USE_MCP, configuration = query_categorization[\"category\"] )"
   ]
  },
  {
   "cell_type": "code",
   "execution_count": 7,
   "metadata": {},
   "outputs": [
    {
     "name": "stdout",
     "output_type": "stream",
     "text": [
      "# Role\n",
      "You are an expert in Electronic Document Processing, with deep domain knowledge in SAP Document and Reporting Compliance, Peppol, UBL, and eInvoicing standards.\n",
      "\n",
      "# Objective\n",
      "Use a reason-and-act (ReAct) approach to answer user questions with clear, well-supported reasoning chains, and tool-validated outputs. Final answers must reflect insights derived from specific tool calls.\n",
      "\n",
      "# Instructions\n",
      "1. Observation: Restate the user's request or define the sub-task being addressed. Clearly establish the current focus.\n",
      "2. Thought: Analyze the problem. Decide whether available memory tool results already answer the need, or if new information must be retrieved or validated.\n",
      "3. Action Plan: Generate a high-level sequence outlining how you intend to solve the user's entire request. Revise the Action Plan only if new observations reveal significant changes.\n",
      "4. Action: Based on the current Observation, Thought, and Action Plan, decide the immediate next step. Name the selected tool and parameters. Take no further action until the result is returned.\n",
      "5. Observation (Result): Record the tool output exactly as received without paraphrasing.\n",
      "6. Thought (Synthesis & Validation):\n",
      "    a. Integrate the new result with prior observations.\n",
      "    b. Evaluate reliability, completeness, and consistency.\n",
      "    c. If necessary, validate using another tool or proceed if sufficient.\n",
      "    d. Decide the next action or prepare for Final Answer.\n",
      "7. Final Answer:\n",
      "    - Summarize key findings based on specific tool outputs.\n",
      "    - Explain how tools and results supported the answer.\n",
      "    - If the answer is highly technical, provide both a technical explanation and a plain-language summary for a broader audience.\n",
      "    - Whenever applicable, include short examples (such as snippets, samples, or template outputs) to illustrate key points.\n",
      "    - Mention any remaining uncertainties or limitations.\n",
      "    - Offer suggested next steps if uncertainties remain.\n",
      "\n",
      "Always follow these behavioral standards:\n",
      "- Avoid assumptions not supported by tool outputs.\n",
      "- Replace biased or inappropriate language with inclusive, respectful phrasing.\n",
      "- If a respectful response cannot be generated, politely decline the request.\n",
      "- Focus only on the specific sub-task at each step. Do not unnecessarily restate all rules each cycle.\n",
      "\n",
      "# Tools\n",
      "You have access to the following tools to gather facts, retrieve relevant data, and answer technical or compliance-related queries:\n",
      "- Tool Name: retrieve_troubleshooting_guide, Description: Retrieves relevant knowledge from a specialized knowledge base using semantic similarity to match the query., Args: query: string\n",
      "- Tool Name: get_doc_summary, Description: Searches a knowledge database using a short query (max 5 words) and returns a concise summary of the relevant information found., Args: query: string\n",
      "\n",
      "- Some tools retrieve information from internal memory or prior context. Prefer these Memory Tools first whenever applicable.\n",
      "- Memory tools will be clearly indicated in their tool description.\n",
      "- If Memory tool outputs are incomplete, outdated, or unclear, plan to validate or supplement with external sources.\n",
      "\n",
      "# Rules\n",
      "1. Prioritize Memory Tools: Always first check if memory-based tools provide the necessary information. Prefer using these tools before external search tools or new data-fetching actions. If memory tool outputs appear incomplete, outdated, or unclear, plan to cross-validate using independent tools.\n",
      "2. Strict Sequential Execution: Execute only one tool action per reasoning cycle. Wait for the result before proceeding to the next Thought step.\n",
      "3. Cross-Validation Principle: Whenever feasible and necessary for accuracy, cross-validate information obtained from one source by using a different, independent tool or method in a later reasoning cycle.\n",
      "4. Avoid Redundant Calls: Do not call the same tool with identical parameters repeatedly unless retrying after a known transient error. For related explorations, adjust queries or use different parameters.\n",
      "5. Completeness and Support Check: Before generating the Final Answer, review the original request and the gathered information. Ensure all parts of the request have been addressed and are backed by specific observations or tool outputs.\n",
      "6. Task Focus: Ensure every Thought and Action contributes directly to solving the original request. Avoid irrelevant exploration.\n",
      "7. Error Handling: If a tool call fails, record the exact error message. In the next Thought, decide how to recover (retry, adjust parameters, use another tool). If no tools successfully resolve the request after reasonable attempts, acknowledge the limitation respectfully in the Final Answer and suggest possible next steps if applicable.\n",
      "================================\u001b[1m Human Message \u001b[0m=================================\n",
      "\n",
      "As a Public Cloud customer in Spain, can I extend an existing eDocument customer invoice Process?\n",
      "==================================\u001b[1m Ai Message \u001b[0m==================================\n",
      "Tool Calls:\n",
      "  retrieve_troubleshooting_guide (call_h0RGxPpoggNpy3gabY7sTCkW)\n",
      " Call ID: call_h0RGxPpoggNpy3gabY7sTCkW\n",
      "  Args:\n",
      "    query: extend eDocument customer invoice process Spain Public Cloud\n",
      "=================================\u001b[1m Tool Message \u001b[0m=================================\n",
      "Name: retrieve_troubleshooting_guide\n",
      "\n",
      "E18 - Electronic invoicing for Egypt:The Electronic Document Processing (Document and Reporting Compliance) solution does not have a standard version for Egypt and there are no plans for that.A solution has been developed by a local partner as extension on SAP Document and Reporting Compliance including the integration into Electronic Document Processing Framework, eDocument Cockpit and the integration with the tax authority. If you are interested in knowing more information about the partner extension, send an email togsjam@sap.comto access theSAP Jam group 'MENA Localization SIG'. Notice that this local partner solution is not supported by SAP. For any other legal changes, check the appLegal Change Notification.\n",
      "The Invoice List functionality is not in the scope of electronic documents for countries using Peppol. You must generate electronic documents based in separate invoices. Note that you can submit this idea and/or improvement requests via Customer Influence program. This is the channel where customers can influence the development. See the SAP Note 11 (Shape and influence releases of products).\n",
      "E14 - Proforma invoices in Electronic Document Processing:Currently the solution allows users to complete proforma invoices without cancelling the eDocuments. The desired behavior is that the system restrict users to complete proforma invoices without cancelling eDocuments. This desire behavior is not supported by standard in proforma invoice scenarios. In order to adapt this situation, you can enhance the desired logic in include MV60AF0V_VBRK_BEARBEITEN. The adaptation of this scenario and also proforma scenarios are also not supported by SAP. In case of issues, it is suggested to contact a consulting team. In case this approach affect your business, it is possible to submit your suggestion about this change viaCustomer Influence program. Using this program, it is possible for SAP customers to influence the development decisions in Electronic Document Processing (Document and Reporting Compliance). More details are found in the content of SAP Note11(Shape and influence releases of products).\n",
      "==================================\u001b[1m Ai Message \u001b[0m==================================\n",
      "\n",
      "### Observation\n",
      "The user is asking whether they can extend an existing eDocument customer invoice process as a Public Cloud customer in Spain.\n",
      "\n",
      "### Thought\n",
      "The retrieved information does not directly address the extension of eDocument processes for Spain in the Public Cloud environment. It mentions general practices for influencing SAP development and specific scenarios for other regions. I need to gather more specific information regarding Spain and Public Cloud capabilities.\n",
      "\n",
      "### Action Plan\n",
      "1. Retrieve specific documentation or summaries related to extending eDocument processes in Spain for Public Cloud customers.\n",
      "2. Validate if there are any specific guidelines or limitations for Spain.\n",
      "3. Provide a comprehensive answer based on the gathered information.\n",
      "\n",
      "### Action\n",
      "Use the `get_doc_summary` tool to find specific information about \"eDocument Spain Public Cloud\".\n",
      "Tool Calls:\n",
      "  get_doc_summary (call_zoX1xTB14USFCvvhIzSoiN2L)\n",
      " Call ID: call_zoX1xTB14USFCvvhIzSoiN2L\n",
      "  Args:\n",
      "    query: eDocument Spain Public Cloud\n",
      "=================================\u001b[1m Tool Message \u001b[0m=================================\n",
      "Name: get_doc_summary\n",
      "\n",
      "The markdown content provides a comprehensive overview of the electronic document processing solution for Spain, specifically focusing on the requirements for invoicing public entities (B2G) using SAP S/4HANA Public Cloud. This solution is part of SAP's Document and Reporting Compliance framework, which ensures compliance with local legal obligations by enabling the creation, processing, and monitoring of electronic documents.\n",
      "\n",
      "### Key Technical Components and Steps:\n",
      "\n",
      "- **Electronic Invoicing of Public Entities (B2G):** \n",
      "  - The solution allows for the creation of electronic invoices, credit memos, and debit memos for public entities in Spain. These documents are generated from source applications like FI (Financial Accounting) or SD (Sales and Distribution) and submitted electronically to public entities for acknowledgment and payment requests.\n",
      "\n",
      "- **Prerequisites for Implementation:**\n",
      "  - Customizing settings must be configured for electronic invoicing of public entities, basic enablement, SAP Application Interface Framework, and integration with SAP Integration Suite.\n",
      "  - Transaction codes and views such as `SM30` for accessing views like `EDOSOASERV` and `EDOINTV` are used for defining and assigning SOA services.\n",
      "\n",
      "- **SOA Services for Communication:**\n",
      "  - SOA services facilitate communication between the business system and SAP Integration Suite or SAP Cloud Integration. Logical ports are assigned to SOA services, which can be restricted to specific company codes.\n",
      "  - Example SOA services include `ES_GET_STATUS`, `ES_INVOICE_TRANSMIS`, and `ES_VOID_DOC_TRANSM`.\n",
      "\n",
      "- **eDocument Status and Actions:**\n",
      "  - The eDocument processing involves multiple statuses such as `CREA` (Created), `SENT` (Sent), `REJE` (Rejected), and `PAID` (Paid). Each status may require specific actions, such as submitting, correcting errors, or canceling documents.\n",
      "  - SAP Cloud Integration updates the status based on notifications from public entities.\n",
      "\n",
      "- **Customizing Activities:**\n",
      "  - Activities include assigning eDocument types to accounting and settlement document types, defining interface types, and maintaining customer web service addresses.\n",
      "  - Business Transaction Events (BTE) are activated using transaction `FIBF`.\n",
      "\n",
      "- **Integration and Extensions:**\n",
      "  - The solution integrates with other SAP applications to support end-to-end business processes. Extensions can be implemented using Business Add-Ins (BAdIs).\n",
      "\n",
      "- **Statutory Reporting:**\n",
      "  - The solution supports statutory reporting features such as VAT returns and withholding tax reports, ensuring compliance with Spanish legal requirements.\n",
      "\n",
      "### Configuration and Customization:\n",
      "\n",
      "- **Customizing for Electronic Invoicing:**\n",
      "  - Configuration steps involve setting up the system to create electronic documents for specific business scenarios, activating compliance features, and defining error categories for error analysis.\n",
      "\n",
      "- **Apps and Transactions:**\n",
      "  - Various apps and transactions are available for processing electronic documents, including the eDocument Cockpit (`EDOC_COCKPIT`) for managing document statuses and errors.\n",
      "\n",
      "This detailed explanation of the electronic document processing solution for Spain in SAP S/4HANA Public Cloud highlights the technical components, configuration steps, and integration aspects necessary for compliance with Spanish electronic invoicing requirements for public entities.\n",
      "==================================\u001b[1m Ai Message \u001b[0m==================================\n",
      "\n",
      "### Final Answer\n",
      "\n",
      "As a Public Cloud customer in Spain, you can extend an existing eDocument customer invoice process using SAP's Document and Reporting Compliance framework. This solution is designed to ensure compliance with local legal obligations, particularly for invoicing public entities (B2G).\n",
      "\n",
      "#### Key Components and Steps for Extension:\n",
      "\n",
      "1. **Electronic Invoicing for Public Entities (B2G):**\n",
      "   - You can create electronic invoices, credit memos, and debit memos for public entities. These documents are generated from source applications like Financial Accounting (FI) or Sales and Distribution (SD) and submitted electronically.\n",
      "\n",
      "2. **Prerequisites for Implementation:**\n",
      "   - Customizing settings must be configured for electronic invoicing, including basic enablement, SAP Application Interface Framework, and integration with SAP Integration Suite.\n",
      "\n",
      "3. **SOA Services for Communication:**\n",
      "   - SOA services facilitate communication between your business system and SAP Integration Suite or SAP Cloud Integration. Logical ports are assigned to SOA services, which can be restricted to specific company codes.\n",
      "\n",
      "4. **eDocument Status and Actions:**\n",
      "   - The eDocument processing involves multiple statuses such as Created, Sent, Rejected, and Paid. Each status may require specific actions, such as submitting, correcting errors, or canceling documents.\n",
      "\n",
      "5. **Customizing Activities:**\n",
      "   - Activities include assigning eDocument types to accounting and settlement document types, defining interface types, and maintaining customer web service addresses.\n",
      "\n",
      "6. **Integration and Extensions:**\n",
      "   - The solution integrates with other SAP applications to support end-to-end business processes. Extensions can be implemented using Business Add-Ins (BAdIs).\n",
      "\n",
      "7. **Statutory Reporting:**\n",
      "   - Supports statutory reporting features such as VAT returns and withholding tax reports, ensuring compliance with Spanish legal requirements.\n",
      "\n",
      "#### Example Configuration:\n",
      "- Use transaction codes like `SM30` to access views for defining and assigning SOA services.\n",
      "- Activate Business Transaction Events (BTE) using transaction `FIBF`.\n",
      "\n",
      "This setup allows you to extend and customize the eDocument process to meet specific business needs while ensuring compliance with Spanish electronic invoicing requirements. If further customization is needed, consider using SAP's Customer Influence program to suggest improvements or extensions.\n",
      "\n",
      "If you have specific requirements or face challenges, consulting with SAP experts or partners may be beneficial to tailor the solution to your needs.\n"
     ]
    }
   ],
   "source": [
    "if USE_MCP:\n",
    "    async with MultiServerMCPClient( tools ) as client:\n",
    "        agent = ReActAgent(tool_list=client.get_tools())\n",
    "        print(agent.create_sys_prompt())\n",
    "        # display(Image(agent.get_agent_graph()))\n",
    "        await agent.arun_and_print_agent_stream(\n",
    "            user_message=query_categorization[\"user_query\"]\n",
    "        )\n",
    "else:\n",
    "    agent = ReActAgent(tool_list=tools)\n",
    "    print(agent.create_sys_prompt())\n",
    "    # display(Image(agent.get_agent_graph()))\n",
    "    agent.run_and_print_agent_stream(user_message=query_categorization[\"user_query\"])"
   ]
  },
  {
   "cell_type": "code",
   "execution_count": 8,
   "metadata": {},
   "outputs": [
    {
     "name": "stdout",
     "output_type": "stream",
     "text": [
      "Call Count: 4\n",
      "Token Usage: {'input_tokens': 13137, 'output_tokens': 1325, 'total_tokens': 14462}\n"
     ]
    }
   ],
   "source": [
    "LLM_PROXY.print_usage()"
   ]
  }
 ],
 "metadata": {
  "kernelspec": {
   "display_name": "react-agent-CUxtcVGL-py3.13",
   "language": "python",
   "name": "python3"
  },
  "language_info": {
   "codemirror_mode": {
    "name": "ipython",
    "version": 3
   },
   "file_extension": ".py",
   "mimetype": "text/x-python",
   "name": "python",
   "nbconvert_exporter": "python",
   "pygments_lexer": "ipython3",
   "version": "3.13.2"
  }
 },
 "nbformat": 4,
 "nbformat_minor": 2
}
