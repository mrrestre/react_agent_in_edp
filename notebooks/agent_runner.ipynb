{
 "cells": [
  {
   "cell_type": "code",
   "execution_count": 1,
   "metadata": {},
   "outputs": [],
   "source": [
    "from IPython.display import Image, display\n",
    "\n",
    "from langchain_mcp_adapters.client import MultiServerMCPClient\n",
    "\n",
    "from react_agent.src.agents.react_agent import ReActAgent\n",
    "from react_agent.src.agents.triage import Triage\n",
    "\n",
    "from react_agent.src.util.tools_fabric import ToolsFabric"
   ]
  },
  {
   "cell_type": "code",
   "execution_count": 2,
   "metadata": {},
   "outputs": [],
   "source": [
    "USE_MCP = False\n",
    "DEBUG_MODE = False\n",
    "INCLUDE_WEBSEARCH_TOOL = True\n",
    "\n",
    "# Wether to run MLFlow next to the agent\n",
    "WITH_ML_FLOW = False"
   ]
  },
  {
   "cell_type": "code",
   "execution_count": 3,
   "metadata": {},
   "outputs": [],
   "source": [
    "if WITH_ML_FLOW:\n",
    "    import mlflow\n",
    "\n",
    "    # poetry run mlflow server --host 127.0.0.1 --port 8080\n",
    "    mlflow.set_tracking_uri(uri=\"http://localhost:8080\")\n",
    "    mlflow.set_experiment(\"Testing of email ReAct Agent\")\n",
    "\n",
    "    mlflow.langchain.autolog()"
   ]
  },
  {
   "cell_type": "code",
   "execution_count": 4,
   "metadata": {},
   "outputs": [],
   "source": [
    "mapping_question = \"Explain how 'Payment Terms' is mapped. Start with 'map_invoice1'.\"\n",
    "extensibility_question = \"As a Public Cloud customer in Spain, can I extend an existing eDocument customer invoice Process?\"\n",
    "peppol_support = \"We as Syntax are currently implementing SAP DRC and are following the official SAP help. We are currently at the step “Integration of Peppol Exchange with SAP S/4HANA Cloud” and there at the creation of an S/4HANA Public Cloud communication user. A client certificate should be uploaded for the communication user to be created, as Basic Auth (via user + password) is not supported. The problem: We do not have this certificate. Where can I get this certificate? What format must it be in? We are stuck at this step because we are missing the certificate mentioned and it is also not clear to us what kind of certificate is meant here and where to get it.\"\n",
    "france_us = \"As a localization developer, I want to enhance the relevancy check in the France eDocument country class with the new source type so that settlement management documents become relevant for the eDocument process and eDocuments are created for the source documents.\"\n",
    "\n",
    "QUERY = extensibility_question"
   ]
  },
  {
   "cell_type": "code",
   "execution_count": 5,
   "metadata": {},
   "outputs": [],
   "source": [
    "triage_agent = Triage()\n",
    "\n",
    "query_categorization = triage_agent.triage_user_message(user_message=QUERY)\n",
    "if DEBUG_MODE:\n",
    "    print(f\"query categorization: {query_categorization}\")"
   ]
  },
  {
   "cell_type": "code",
   "execution_count": 6,
   "metadata": {},
   "outputs": [],
   "source": [
    "tools = ToolsFabric.get_tools_for_category(\n",
    "    use_mcp=USE_MCP,\n",
    "    configuration=query_categorization[\"category\"],\n",
    "    include_web_search=INCLUDE_WEBSEARCH_TOOL,\n",
    ")"
   ]
  },
  {
   "cell_type": "code",
   "execution_count": 7,
   "metadata": {},
   "outputs": [],
   "source": [
    "if USE_MCP:\n",
    "    async with MultiServerMCPClient(tools) as client:\n",
    "        agent = ReActAgent(tool_list=client.get_tools())\n",
    "        if DEBUG_MODE:\n",
    "            print(agent.create_sys_prompt())\n",
    "            display(Image(agent.get_agent_graph()))\n",
    "\n",
    "        await agent.arun_agent_with_input(\n",
    "            user_message=query_categorization[\"user_query\"], debug=DEBUG_MODE\n",
    "        )\n",
    "else:\n",
    "    agent = ReActAgent(tool_list=tools)\n",
    "    if DEBUG_MODE:\n",
    "        print(agent.create_sys_prompt())\n",
    "        display(Image(agent.get_agent_graph()))\n",
    "\n",
    "    agent.run_agent_with_input(\n",
    "        user_message=query_categorization[\"user_query\"], debug=DEBUG_MODE\n",
    "    )"
   ]
  },
  {
   "cell_type": "code",
   "execution_count": 8,
   "metadata": {},
   "outputs": [
    {
     "name": "stdout",
     "output_type": "stream",
     "text": [
      "Agent Run Summary\n",
      "========================================\n",
      "Final Output:\n",
      "Final Answer:\n",
      "\n",
      "As a Public Cloud customer in Spain, you can extend the existing eDocument customer invoice process using several customization options provided by SAP. Here are the key aspects:\n",
      "\n",
      "1. **App Extensibility**: You can extend the eDocument Cockpit or Manage Electronic Documents app using the Custom Logic app. This allows you to tailor the process to specific business contexts related to eDocument compliance in Spain.\n",
      "\n",
      "2. **Business Add-Ins (BAdIs)**: SAP provides several BAdIs for customization, including:\n",
      "   - Filling bank account data for payments.\n",
      "   - Defining delivery note fields in XML documents.\n",
      "   - Overwriting default values for discounts and charges.\n",
      "   - Determining reason codes for correction invoices.\n",
      "\n",
      "3. **eDocument Cockpit Features**: You can display, download, or submit eDocuments in XML format to public entities. For Spain, specific processes include submitting eInvoices via FACe or downloading them for manual submission.\n",
      "\n",
      "4. **Configuration Activities**: Country-specific configurations are available, such as mandatory BAdIs for correction invoices to ensure compliance with local regulations.\n",
      "\n",
      "5. **Job Scheduling**: You can automate periodic activities related to electronic document processing using job scheduling apps, which help manage tasks like creating and submitting eDocument lists to tax authorities.\n",
      "\n",
      "These tools and features allow you to effectively extend and customize the eDocument process to meet specific business and regulatory requirements in Spain.\n",
      "\n",
      "Model Used:\n",
      "gpt-4o\n",
      "\n",
      "Execution Time: \n",
      "24.857 seconds\n",
      "\n",
      "Token Consumption Summary:\n",
      "Input Tokens: 11888\n",
      "Output Tokens: 1250\n",
      "Total Tokens: 13138\n",
      "\n",
      "LLM call count: 2\n",
      "\n",
      "Tools Used:\n",
      "  Tool #1:\n",
      "    Name: sap_help_lookup\n",
      "    Arguments:\n",
      "      query: extend eDocument process Spain\n",
      "========================================\n"
     ]
    }
   ],
   "source": [
    "run_data = agent.get_execution_data()\n",
    "\n",
    "run_data.pretty_print()"
   ]
  }
 ],
 "metadata": {
  "kernelspec": {
   "display_name": "react-agent-CUxtcVGL-py3.13",
   "language": "python",
   "name": "python3"
  },
  "language_info": {
   "codemirror_mode": {
    "name": "ipython",
    "version": 3
   },
   "file_extension": ".py",
   "mimetype": "text/x-python",
   "name": "python",
   "nbconvert_exporter": "python",
   "pygments_lexer": "ipython3",
   "version": "3.13.3"
  }
 },
 "nbformat": 4,
 "nbformat_minor": 2
}
