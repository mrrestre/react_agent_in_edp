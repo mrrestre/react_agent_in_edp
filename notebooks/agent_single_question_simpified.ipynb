{
 "cells": [
  {
   "cell_type": "code",
   "execution_count": null,
   "metadata": {},
   "outputs": [],
   "source": [
    "from react_agent.src.agents.react_agent import ReActAgent\n",
    "\n",
    "from react_agent.src.agent_tools.database_entries_retriever import DBEntriesRetriever\n",
    "from react_agent.src.agent_tools.documentation_retriever import DocumentationRetriever\n",
    "from react_agent.src.agent_tools.sap_help_searcher import SapHelpSearcher\n",
    "from react_agent.src.agent_tools.troubleshooting_searcher import TroubleshootingSearcher\n",
    "from react_agent.src.agent_tools.codebase_searcher import CodebaseSearcher\n",
    "from react_agent.src.agent_tools.source_code_retriever import SourceCodeRetriever\n",
    "\n",
    "from langchain.tools.base import BaseTool"
   ]
  },
  {
   "cell_type": "code",
   "execution_count": null,
   "metadata": {},
   "outputs": [],
   "source": [
    "DEBUG_MODE = True"
   ]
  },
  {
   "cell_type": "code",
   "execution_count": null,
   "metadata": {},
   "outputs": [],
   "source": [
    "QUERY = \"question to be asked\""
   ]
  },
  {
   "cell_type": "code",
   "execution_count": null,
   "metadata": {},
   "outputs": [],
   "source": [
    "# Create the list of tools to be used\n",
    "agent_tools: list[BaseTool]\n",
    "\n",
    "# Available tools: DocumentationRetriever, TroubleshootingSearcher, SapHelpSearcher, CodebaseSearcher, SourceCodeRetriever, DBEntriesRetriever\n",
    "agent_tools = [\n",
    "    DocumentationRetriever(),\n",
    "    SapHelpSearcher(),\n",
    "    SourceCodeRetriever(),\n",
    "    DBEntriesRetriever(),\n",
    "]"
   ]
  },
  {
   "cell_type": "code",
   "execution_count": null,
   "metadata": {},
   "outputs": [],
   "source": [
    "agent = ReActAgent(tool_list=agent_tools)\n",
    "if DEBUG_MODE:\n",
    "    print(agent.get_system_prompt())\n",
    "\n",
    "agent.run_agent_with_input(user_message=QUERY, debug=DEBUG_MODE)"
   ]
  },
  {
   "cell_type": "code",
   "execution_count": null,
   "metadata": {},
   "outputs": [],
   "source": [
    "run_data = agent.get_execution_data()\n",
    "\n",
    "run_data.pretty_print()"
   ]
  },
  {
   "cell_type": "code",
   "execution_count": null,
   "metadata": {},
   "outputs": [],
   "source": [
    "print(run_data.final_output)"
   ]
  }
 ],
 "metadata": {
  "kernelspec": {
   "display_name": "react-agent-py3.13",
   "language": "python",
   "name": "python3"
  },
  "language_info": {
   "codemirror_mode": {
    "name": "ipython",
    "version": 3
   },
   "file_extension": ".py",
   "mimetype": "text/x-python",
   "name": "python",
   "nbconvert_exporter": "python",
   "pygments_lexer": "ipython3",
   "version": "3.13.4"
  }
 },
 "nbformat": 4,
 "nbformat_minor": 2
}
