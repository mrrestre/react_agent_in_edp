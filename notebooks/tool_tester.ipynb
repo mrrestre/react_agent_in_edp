{
 "cells": [
  {
   "cell_type": "code",
   "execution_count": 2,
   "metadata": {},
   "outputs": [
    {
     "name": "stdout",
     "output_type": "stream",
     "text": [
      "The query \"EDP in Germany\" likely refers to Electronic Data Processing (EDP) systems used for regulatory and statutory reporting in Germany, particularly in the context of VAT returns. The articles provide detailed information on statutory reports related to the Advance VAT Return, which are crucial for compliance with German tax regulations. These reports, such as the Registration of Special Advance Payment and Application for Permanent Extension, utilize new XSD formats issued by German tax authorities, effective from 2023 to 2025. The SAP S/4HANA system supports these reports, ensuring timely compliance through SAP Notes and localized functionalities for Germany. The articles emphasize the importance of customizing reporting activities to enable electronic communication with government authorities using SAP's Document and Reporting Compliance service. Additionally, the articles touch on various regulatory reporting requirements in Germany, including foreign trade regulations, loan reports, and insurance processes, highlighting the role of EDP systems in managing these complex data exchanges and ensuring compliance with local laws. Overall, EDP systems in Germany are integral to handling statutory reporting, regulatory compliance, and data management across various sectors.\n"
     ]
    }
   ],
   "source": [
    "from src.agent_tools.sap_help_searcher import SapHelpSearcher\n",
    "\n",
    "sap_help_searcher = SapHelpSearcher() \n",
    "output = sap_help_searcher._run(\"EDP in Germany\")\n",
    "\n",
    "print(output)"
   ]
  }
 ],
 "metadata": {
  "kernelspec": {
   "display_name": "react-agent-CUxtcVGL-py3.13",
   "language": "python",
   "name": "python3"
  },
  "language_info": {
   "codemirror_mode": {
    "name": "ipython",
    "version": 3
   },
   "file_extension": ".py",
   "mimetype": "text/x-python",
   "name": "python",
   "nbconvert_exporter": "python",
   "pygments_lexer": "ipython3",
   "version": "3.13.2"
  }
 },
 "nbformat": 4,
 "nbformat_minor": 2
}
