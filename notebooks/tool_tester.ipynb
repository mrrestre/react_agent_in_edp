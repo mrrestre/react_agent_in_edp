{
 "cells": [
  {
   "cell_type": "code",
   "execution_count": 1,
   "metadata": {},
   "outputs": [
    {
     "name": "stdout",
     "output_type": "stream",
     "text": [
      "The articles provide insights into XML handling within public cloud environments, specifically through SAP Cloud Integration for electronic document processing. SAP Cloud Integration facilitates communication between SAP systems and external entities, such as tax authorities, by transforming transactional data into XML format using the Application Interface Framework (AIF). This process is crucial for business-to-government (B2G) and business-to-business (B2B) scenarios, particularly in Italy, where electronic documents like invoices must be submitted in XML format to comply with legal requirements.\n",
      "\n",
      "Key technical components include SAP Document Compliance, which requires a separate license, and SAP Cloud Integration, which necessitates subscription. The integration process involves creating source documents in SAP applications, mapping them to XML using AIF, and transmitting them via SAP Cloud Integration. This ensures compliance with official communication standards and facilitates the exchange of electronic documents with external systems.\n",
      "\n",
      "Additionally, the articles discuss the importance of system configuration, including customizing settings for XML generation and transmission, value mappings, and business settings for document types. Business Add-Ins (BAdIs) allow for customization of XML formats to meet specific business needs. Overall, these processes highlight the critical role of XML handling in public cloud environments for efficient and compliant electronic document management.\n"
     ]
    }
   ],
   "source": [
    "from src.agent_tools.sap_help_searcher import SapHelpSearcher\n",
    "from src.util.llm_proxy import LLMProxy\n",
    "\n",
    "sap_help_searcher = SapHelpSearcher() \n",
    "output = sap_help_searcher._run(\"XML handling Public Cloud\")\n",
    "\n",
    "print(output)"
   ]
  },
  {
   "cell_type": "code",
   "execution_count": 2,
   "metadata": {},
   "outputs": [
    {
     "name": "stdout",
     "output_type": "stream",
     "text": [
      "Call Count: 1\n",
      "Token Usage: {'input_tokens': 7336, 'output_tokens': 244, 'total_tokens': 7580}\n"
     ]
    }
   ],
   "source": [
    "llm_proxy = LLMProxy()\n",
    "llm_proxy.print_usage()"
   ]
  }
 ],
 "metadata": {
  "kernelspec": {
   "display_name": "react-agent-CUxtcVGL-py3.13",
   "language": "python",
   "name": "python3"
  },
  "language_info": {
   "codemirror_mode": {
    "name": "ipython",
    "version": 3
   },
   "file_extension": ".py",
   "mimetype": "text/x-python",
   "name": "python",
   "nbconvert_exporter": "python",
   "pygments_lexer": "ipython3",
   "version": "3.13.2"
  }
 },
 "nbformat": 4,
 "nbformat_minor": 2
}
