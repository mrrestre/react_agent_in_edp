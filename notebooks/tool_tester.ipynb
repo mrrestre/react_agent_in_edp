{
 "cells": [
  {
   "cell_type": "code",
   "execution_count": 1,
   "metadata": {},
   "outputs": [
    {
     "name": "stdout",
     "output_type": "stream",
     "text": [
      "The document outlines several features and processes related to electronic document compliance and payroll management in Colombia, specifically within the SAP S/4HANA system.\n",
      "\n",
      "1. **Subsequent Electronic Documents for Colombia**: This feature allows users to submit electronic documents containing invoice acknowledgment or receipt of goods/services to Colombian tax authorities for approval. It is available in the eDocument Cockpit and is valid from SAP S/4HANA 2022.\n",
      "\n",
      "2. **Electronic Support Documents for Colombia**: This process is designed for cases where suppliers are not required to issue electronic invoices. Buyers must submit electronic support documents to the Colombian tax authorities (DIAN) via the eDocument Cockpit. It is valid from SAP S/4HANA 2021 SPS03.\n",
      "\n",
      "3. **Colombia Payroll Items**: The document mentions the creation of Colombian payroll items and provides how-to videos for managing various types of vacations in the Colombia Payroll system.\n",
      "\n",
      "4. **Defining Process Step Interface Determination**: This section details the steps required to send invoices and credit memos electronically, including setting up the process steps interface for Colombia Incoming eInvoice.\n",
      "\n",
      "5. **Chart of Accounts**: The Colombian chart of accounts (CACO) is automatically created when a company code is set up using the Colombian\n"
     ]
    }
   ],
   "source": [
    "from agent_tools.sap_help_searcher import SapHelpSearcher\n",
    "\n",
    "sap_help_searcher = SapHelpSearcher() \n",
    "output = sap_help_searcher._run(\"EDP in Colombia\")\n",
    "\n",
    "print(output)"
   ]
  }
 ],
 "metadata": {
  "kernelspec": {
   "display_name": "react-agent-CUxtcVGL-py3.13",
   "language": "python",
   "name": "python3"
  },
  "language_info": {
   "codemirror_mode": {
    "name": "ipython",
    "version": 3
   },
   "file_extension": ".py",
   "mimetype": "text/x-python",
   "name": "python",
   "nbconvert_exporter": "python",
   "pygments_lexer": "ipython3",
   "version": "3.13.2"
  }
 },
 "nbformat": 4,
 "nbformat_minor": 2
}
