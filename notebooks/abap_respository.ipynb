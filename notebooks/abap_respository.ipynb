{
 "cells": [
  {
   "cell_type": "code",
   "execution_count": 1,
   "id": "842a356e",
   "metadata": {},
   "outputs": [],
   "source": [
    "import os\n",
    "\n",
    "from react_agent.src.util.abap_repository import ABAPClassRepository\n",
    "\n",
    "file_path = os.path.abspath(\"resources/abap_source.txt\")\n",
    "\n",
    "with open(file_path, \"r\", encoding=\"utf-8\") as file:\n",
    "    file_content = file.read()\n",
    "\n",
    "repository = ABAPClassRepository(source_code=file_content)"
   ]
  },
  {
   "cell_type": "code",
   "execution_count": 2,
   "id": "e380e11f",
   "metadata": {},
   "outputs": [
    {
     "data": {
      "text/plain": [
       "['cl_edoc_map_aif',\n",
       " 'cl_edoc_map_ubl_sd',\n",
       " 'cl_edoc_map_ubl',\n",
       " 'cl_edocument_eu_db']"
      ]
     },
     "execution_count": 2,
     "metadata": {},
     "output_type": "execute_result"
    }
   ],
   "source": [
    "repository.list_indexed_classes()"
   ]
  },
  {
   "cell_type": "code",
   "execution_count": 3,
   "id": "bbc11145",
   "metadata": {},
   "outputs": [
    {
     "name": "stdout",
     "output_type": "stream",
     "text": [
      "Number of classes: 6\n",
      "Class: CL_EDOC_MAP_AIF\n",
      "Parent Class: CL_EDOC_MAP, Children Classes: CL_EDOC_MAP_UBL\n",
      "____________________________\n",
      "Class: CL_EDOC_MAP\n",
      "Parent Class: , Children Classes: CL_EDOC_MAP_AIF\n",
      "____________________________\n",
      "Class: CL_EDOC_MAP_UBL_SD\n",
      "Parent Class: CL_EDOC_MAP_UBL, Children Classes: \n",
      "____________________________\n",
      "Class: CL_EDOC_MAP_UBL\n",
      "Parent Class: CL_EDOC_MAP_AIF, Children Classes: \n",
      "____________________________\n",
      "Class: CL_EDOCUMENT_EU_DB\n",
      "Parent Class: CL_EDOCUMENT_DB, Children Classes: \n",
      "____________________________\n",
      "Class: CL_EDOCUMENT_DB\n",
      "Parent Class: , Children Classes: CL_EDOCUMENT_EU_DB\n",
      "____________________________\n"
     ]
    }
   ],
   "source": [
    "inheritance = repository.inheritance\n",
    "print(f\"Number of classes: {len(inheritance)}\")\n",
    "for key in inheritance:\n",
    "    print(f\"Class: {key}\")\n",
    "    print(inheritance[key])\n",
    "    print(\"____________________________\")"
   ]
  }
 ],
 "metadata": {
  "kernelspec": {
   "display_name": "react-agent-CUxtcVGL-py3.13",
   "language": "python",
   "name": "python3"
  },
  "language_info": {
   "codemirror_mode": {
    "name": "ipython",
    "version": 3
   },
   "file_extension": ".py",
   "mimetype": "text/x-python",
   "name": "python",
   "nbconvert_exporter": "python",
   "pygments_lexer": "ipython3",
   "version": "3.13.3"
  }
 },
 "nbformat": 4,
 "nbformat_minor": 5
}
