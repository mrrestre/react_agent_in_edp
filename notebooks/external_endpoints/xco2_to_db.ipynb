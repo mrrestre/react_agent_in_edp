{
 "cells": [
  {
   "cell_type": "code",
   "execution_count": 1,
   "id": "3c1d441b",
   "metadata": {},
   "outputs": [],
   "source": [
    "import os\n",
    "import json\n",
    "\n",
    "from tqdm.notebook import tqdm\n",
    "\n",
    "from react_agent.src.config.system_parameters import CodebaseSearcherSettings\n",
    "\n",
    "from react_agent.src.agent_tools.source_code_retriever import SourceCodeRetriever\n",
    "\n",
    "from react_agent.src.util.abap_repository import ABAPClassRepository\n",
    "from react_agent.src.util.memory_manager import MemoryManager\n",
    "from react_agent.src.util.code_summarizer import CodeSummarizer"
   ]
  },
  {
   "cell_type": "code",
   "execution_count": 2,
   "id": "927aaf18",
   "metadata": {},
   "outputs": [],
   "source": [
    "notebook_dir = os.path.abspath(\"\")\n",
    "\n",
    "file_path = os.path.abspath(os.path.join(notebook_dir, \"./\", \"resources\", \"temp.json\"))\n",
    "\n",
    "with open(file_path, encoding=\"utf8\") as f:\n",
    "    json_file = json.load(f)"
   ]
  },
  {
   "cell_type": "code",
   "execution_count": 3,
   "id": "f3ed59f9",
   "metadata": {},
   "outputs": [],
   "source": [
    "classes: list[tuple] = []\n",
    "\n",
    "for my_class in json_file[\"classes\"]:\n",
    "    classes.append((my_class[\"name\"].lower(), my_class[\"description\"]))"
   ]
  },
  {
   "cell_type": "code",
   "execution_count": 4,
   "id": "4ff6494f",
   "metadata": {},
   "outputs": [],
   "source": [
    "CODE_SEARCHER_SETTINGS = CodebaseSearcherSettings()\n",
    "\n",
    "MEMORY_MANAGER = MemoryManager(\n",
    "    memory_store_type=\"Postgres\",\n",
    "    namespace=CODE_SEARCHER_SETTINGS.namespace,\n",
    "    embedding_fields=[\"description\"],\n",
    ")"
   ]
  },
  {
   "cell_type": "code",
   "execution_count": 5,
   "id": "f76ad8ce",
   "metadata": {},
   "outputs": [
    {
     "data": {
      "application/vnd.jupyter.widget-view+json": {
       "model_id": "fc7e8ad43572486c8a7bb29905536801",
       "version_major": 2,
       "version_minor": 0
      },
      "text/plain": [
       "Processing Classes:   0%|          | 0/3 [00:00<?, ?it/s]"
      ]
     },
     "metadata": {},
     "output_type": "display_data"
    },
    {
     "name": "stdout",
     "output_type": "stream",
     "text": [
      "Class name:  cl_edoc_map_co_sd_ubl_21\n",
      "\t- Started indexing\n",
      "\t- Finished indexing, number of methods: 16\n",
      "\t- Summarizing and adding method: fill_allowance_charge\n",
      "\t- Summarizing and adding method: fill_credit_note_line\n",
      "\t- Summarizing and adding method: fill_cr_note\n",
      "\t- Summarizing and adding method: fill_customization_id\n",
      "\t- Summarizing and adding method: fill_debit_note_line\n",
      "\t- Summarizing and adding method: fill_de_note\n",
      "\t- Summarizing and adding method: fill_document_line\n",
      "\t- Summarizing and adding method: fill_invoice\n",
      "\t- Summarizing and adding method: fill_invoice_line\n",
      "\t- Summarizing and adding method: fill_item_identification\n",
      "\t- Summarizing and adding method: fill_monetary_total\n",
      "\t- Summarizing and adding method: fill_tax_total\n",
      "\t- Summarizing and adding method: fill_withholding_tax_total\n",
      "\t- Summarizing and adding method: get_line_count\n",
      "\t- Summarizing and adding method: get_tax_amounts\n",
      "\t- Summarizing and adding method: init_mapping\n",
      "Class name:  cl_edoc_int_con_cl_siimail_pul\n",
      "\t- Started indexing\n",
      "\t- Finished indexing, number of methods: 2\n",
      "\t- Summarizing and adding method: if_edoc_interface_connector~prepare_messages\n",
      "\t- Summarizing and adding method: if_edoc_interface_connector~pull_messages\n",
      "Class name:  cl_edoc_lac_comm_cl\n",
      "\t- Started indexing\n",
      "\t- Finished indexing, number of methods: 1\n",
      "\t- Summarizing and adding method: if_edoc_lac_comm~get_communication_data\n"
     ]
    }
   ],
   "source": [
    "code_lookup = SourceCodeRetriever()\n",
    "\n",
    "for my_class in tqdm(classes, desc=\"Processing Classes\"):\n",
    "    print(\"Class name: \", my_class[0])\n",
    "    class_name = my_class[0]\n",
    "    class_description = my_class[1]\n",
    "\n",
    "    class_code = code_lookup._run(class_name=class_name)\n",
    "\n",
    "    print(\"\\t- Started indexing\")\n",
    "    repository = ABAPClassRepository(source_code=class_code)\n",
    "    if len(repository.classes) == 0:\n",
    "        print(f\"\\t- No methods found for class: {class_name}\")\n",
    "        continue\n",
    "\n",
    "    print(\n",
    "        f\"\\t- Finished indexing, number of methods: {len(repository.classes.get(class_name).keys())}\"\n",
    "    )\n",
    "\n",
    "    for method_name in repository.classes[class_name].keys():\n",
    "        if not MEMORY_MANAGER.is_memory_present(f\"{class_name}.{method_name}\"):\n",
    "            print(f\"\\t- Summarizing and adding method: {method_name}\")\n",
    "            # Summarize the code of the method and add it to the memory\n",
    "            memory_content = {\n",
    "                \"description\": CodeSummarizer.summarize_code(\n",
    "                    f\"Class description: {class_description}\\n\"\n",
    "                    + repository.get_content_by_class_and_method(\n",
    "                        class_name=class_name, method_name=method_name\n",
    "                    )\n",
    "                ),\n",
    "                \"code\": repository.get_content_by_class_and_method(\n",
    "                    class_name=class_name, method_name=method_name\n",
    "                ),\n",
    "            }\n",
    "            MEMORY_MANAGER.add_memory(\n",
    "                memory_title=f\"{class_name}.{method_name}\",\n",
    "                memory_content=memory_content,\n",
    "            )\n",
    "        else:\n",
    "            print(f\"\\t- Skipping method: {method_name}\")\n",
    "            continue"
   ]
  }
 ],
 "metadata": {
  "kernelspec": {
   "display_name": "react-agent-CUxtcVGL-py3.13",
   "language": "python",
   "name": "python3"
  },
  "language_info": {
   "codemirror_mode": {
    "name": "ipython",
    "version": 3
   },
   "file_extension": ".py",
   "mimetype": "text/x-python",
   "name": "python",
   "nbconvert_exporter": "python",
   "pygments_lexer": "ipython3",
   "version": "3.13.3"
  }
 },
 "nbformat": 4,
 "nbformat_minor": 5
}
