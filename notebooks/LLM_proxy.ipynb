{
 "cells": [
  {
   "cell_type": "code",
   "execution_count": 1,
   "id": "ba8326ce",
   "metadata": {},
   "outputs": [
    {
     "name": "stdout",
     "output_type": "stream",
     "text": [
      "The capital of France is **Paris**.\n",
      "\n",
      "Token Consumption Statistics\n",
      "  Input Tokens: 7\n",
      "  Output Tokens: 9\n",
      "  Total Tokens: 16\n"
     ]
    }
   ],
   "source": [
    "from react_agent.src.util.llm_proxy import LLM_PROXY\n",
    "\n",
    "LLM_PROXY.set_new_model(\"gemini-2.0-flash\")\n",
    "print(LLM_PROXY.invoke(\"What is the capital of France?\"))\n",
    "\n",
    "LLM_PROXY.get_token_usage().pretty_print()"
   ]
  }
 ],
 "metadata": {
  "kernelspec": {
   "display_name": "react-agent-CUxtcVGL-py3.13",
   "language": "python",
   "name": "python3"
  },
  "language_info": {
   "codemirror_mode": {
    "name": "ipython",
    "version": 3
   },
   "file_extension": ".py",
   "mimetype": "text/x-python",
   "name": "python",
   "nbconvert_exporter": "python",
   "pygments_lexer": "ipython3",
   "version": "3.13.3"
  }
 },
 "nbformat": 4,
 "nbformat_minor": 5
}
