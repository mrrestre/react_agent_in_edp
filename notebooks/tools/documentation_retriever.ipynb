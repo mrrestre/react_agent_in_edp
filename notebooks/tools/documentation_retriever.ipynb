{
 "cells": [
  {
   "cell_type": "code",
   "execution_count": 1,
   "id": "ca9f4051",
   "metadata": {},
   "outputs": [
    {
     "name": "stdout",
     "output_type": "stream",
     "text": [
      "To obtain a client certificate for the SAP S/4HANA Cloud Peppol Exchange process, you need to follow several steps to ensure proper setup and authentication. Here is a detailed explanation based on the provided sources:\n",
      "\n",
      "1. **Generate a Certificate in SAP BTP**: \n",
      "   - Navigate to the BTP Subaccount and go to Connectivity -> Destination -> Certificates.\n",
      "   - Choose \"Generate New Certificate\" and provide a meaningful name for the certificate.\n",
      "   - Select the file extension \"PFX\" and remember the password you set during this process.\n",
      "   - Select the new certificate in your destination to the backend system and provide authentication settings such as \"Internet\" and \"ClientCertificateAuthentication\".\n",
      "   - Ensure your certificate is selected in the \"Key Store Location\" and save the destination [[1]](https://drcce-architecture-ai.b217766.stage.kyma.ondemand.com/api/v1/forward_to_source?source_url=https%3A%2F%2Fgithub.wdf.sap.corp%2Fslh-dc-platform%2Fpeppol-service-support-documentation%2Fblob%2Fmain%2Fsrc%2Fmd%2FPush%2520Response%2520is%2520not%2520received%2520or%2520processed%2520in%2520the%2520Backend.md%23communication-directions-and-certificates&response_session_id=c00f5824-a6c3-427f-ba19-309fd86eaa45&chunk_id=7a7f1814-ff5f-429b-8dc7-05890e161823&is_inline_source=True).\n",
      "\n",
      "2. **Upload the Certificate to SAP BTP**: \n",
      "   - Before creating a destination for the integration of the Peppol Exchange process, upload your client certificate to SAP BTP. This step is crucial for authenticating the cloud edition when creating a destination [[2]](https://drcce-architecture-ai.b217766.stage.kyma.ondemand.com/api/v1/forward_to_source?source_url=https%3A%2F%2Fhelp.sap.com%2Fdocs%2FSAP_DRC_CLOUD%2F2a3507bf3ad7408fa7185a757bc82ed0%2Fa5ff2201b75647468e68fbe606ed1ade.html%3Flocale%3Den-US%26state%3DPRODUCTION%26version%3DCloud&response_session_id=c00f5824-a6c3-427f-ba19-309fd86eaa45&chunk_id=2071311549-65085-66609&is_inline_source=True).\n",
      "\n",
      "3. **Setting Up Connectivity**: \n",
      "   - If you have already created the destination, it is recommended to re-create it with your client certificate as described in the setup guides. This ensures that the authentication process is correctly configured [[2]](https://drcce-architecture-ai.b217766.stage.kyma.ondemand.com/api/v1/forward_to_source?source_url=https%3A%2F%2Fhelp.sap.com%2Fdocs%2FSAP_DRC_CLOUD%2F2a3507bf3ad7408fa7185a757bc82ed0%2Fa5ff2201b75647468e68fbe606ed1ade.html%3Flocale%3Den-US%26state%3DPRODUCTION%26version%3DCloud&response_session_id=c00f5824-a6c3-427f-ba19-309fd86eaa45&chunk_id=2071311549-65085-66609&is_inline_source=True).\n",
      "\n",
      "4. **Communication System Setup**: \n",
      "   - In S/4 HANA Cloud, switch to your Communication System with Communication Scenario SAP_COM_0529, which is the current communication system for Peppol Exchange.\n",
      "   - Upload the certificate to your existing Communication User [[3]](https://drcce-architecture-ai.b217766.stage.kyma.ondemand.com/api/v1/forward_to_source?source_url=https%3A%2F%2Fgithub.wdf.sap.corp%2Fslh-dc-platform%2Fpeppol-service-support-documentation%2Fblob%2Fmain%2Fsrc%2Fmd%2FPush%2520Response%2520is%2520not%2520received%2520or%2520processed%2520in%2520the%2520Backend.md%23instructions-to-generate-a-certificate-for-communication-direction-2&response_session_id=c00f5824-a6c3-427f-ba19-309fd86eaa45&chunk_id=3fd0aa9c-3db2-4d7e-b334-1f6ec0324e83&is_inline_source=True).\n",
      "\n",
      "5. **Reprocess Documents**: \n",
      "   - After setting up the certificate and communication system, reprocess your documents in the Peppol Exchange App. If errors persist, it may be necessary to delete and recreate the participant [[3]](https://drcce-architecture-ai.b217766.stage.kyma.ondemand.com/api/v1/forward_to_source?source_url=https%3A%2F%2Fgithub.wdf.sap.corp%2Fslh-dc-platform%2Fpeppol-service-support-documentation%2Fblob%2Fmain%2Fsrc%2Fmd%2FPush%2520Response%2520is%2520not%2520received%2520or%2520processed%2520in%2520the%2520Backend.md%23instructions-to-generate-a-certificate-for-communication-direction-2&response_session_id=c00f5824-a6c3-427f-ba19-309fd86eaa45&chunk_id=3fd0aa9c-3db2-4d7e-b334-1f6ec0324e83&is_inline_source=True).\n",
      "\n",
      "These steps ensure that the client certificate is properly obtained and configured for the SAP S/4HANA Cloud Peppol Exchange process, facilitating secure and authenticated communication between systems.\n"
     ]
    }
   ],
   "source": [
    "from react_agent.src.agent_tools.documentation_retriever import DocumentationRetriever\n",
    "\n",
    "query = \"SAP S/4HANA Cloud Peppol Exchange client certificate obtain\"\n",
    "\n",
    "documentation_retriever = DocumentationRetriever()\n",
    "\n",
    "result = documentation_retriever._run(query=query)\n",
    "print(result)"
   ]
  }
 ],
 "metadata": {
  "kernelspec": {
   "display_name": "react-agent-CUxtcVGL-py3.13",
   "language": "python",
   "name": "python3"
  },
  "language_info": {
   "codemirror_mode": {
    "name": "ipython",
    "version": 3
   },
   "file_extension": ".py",
   "mimetype": "text/x-python",
   "name": "python",
   "nbconvert_exporter": "python",
   "pygments_lexer": "ipython3",
   "version": "3.13.3"
  }
 },
 "nbformat": 4,
 "nbformat_minor": 5
}
