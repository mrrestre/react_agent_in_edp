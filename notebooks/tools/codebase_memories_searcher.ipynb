{
 "cells": [
  {
   "cell_type": "code",
   "execution_count": 1,
   "id": "d9aa588a",
   "metadata": {},
   "outputs": [
    {
     "name": "stdout",
     "output_type": "stream",
     "text": [
      "Class: cl_edoc_map_it_sdinv_fica\n",
      "Inheritance: Parent Class: cl_edoc_map_it\n",
      "Implemented Interfaces: None\n",
      "Method Name: call_cloud_badis\n",
      "Method Implementation:\n",
      "CLASS CL_EDOC_MAP_IT_SDINV_FICA IMPLEMENTATION.  METHOD call_cloud_badis.*   remains empty first, cloud is not supported at the time of the restructuring*   parent method includes hardcoded source types, once cloud will be supported,*   need to implement here correctly or ask the parent to include somehow different source types  \n",
      " ENDMETHOD.\n",
      "\n",
      "Class: cl_edoc_map_it\n",
      "Inheritance: Parent Class: cl_edoc_map_aif\n",
      "Implemented Interfaces: None\n",
      "Method Name: call_cloud_badis\n",
      "Method Implementation:\n",
      "  METHOD call_cloud_badis.    \"New with SAP Note 2824504* Changes with SAP Note 2870461 support new XML structure version 1.2.1    DATA: ls_fi_invoice TYPE edoc_src_data_fi_invoice,          ls_sd_invoice TYPE edoc_src_data_sd_invoice.    IF io_source IS NOT INITIAL.      CLEAR ms_source.      ms_source-edocument = is_edocument.      ms_source-reference-edoc_guid = is_edocument-edoc_guid.      ms_source-source_header = io_source->get_header( ).      CASE io_source->mv_source_type.        WHEN cl_edoc_source_fi_invoice=>gc_src_fi_invoice.          io_source->get_data( IMPORTING es_data = ls_fi_invoice ).          ms_source-bkpf                = ls_fi_invoice-document_header.          ms_source-bseg                = ls_fi_invoice-document_item.          ms_source-bset                = ls_fi_invoice-tax_data.          ms_source-bsec                = ls_fi_invoice-onetime_customer.        WHEN cl_edoc_source_sd_invoice=>gc_src_sd_invoice.          io_source->get_data( IMPORTING es_data = ls_sd_invoice ).          ms_source-bkpf                = ls_sd_invoice-bkpf.          ms_source-bseg                = ls_sd_invoice-bseg.          ms_source-bset                = ls_sd_invoice-bset.          ms_source-vbrk                = ls_sd_invoice-document_header.          ms_source-vbrp                = ls_sd_invoice-document_item.          ms_source-komv                = ls_sd_invoice-conditions_record.          ms_source-vbpa                = ls_sd_invoice-partner_data.      ENDCASE.    ENDIF.    IF is_additional_info IS NOT INITIAL.      ms_additional_info = is_additional_info.    ENDIF.*   Add Attachment    TRY.      TEST-SEAM call_cloud_badis_06.        call_badi_attachment( ).      END-TEST-SEAM.      CATCH cx_edocument.        add_error_message( ).    ENDTRY.* Begin of N2878198*   Enhance whole XML file    TRY.      TEST-SEAM call_cloud_badis_07.        call_badi_xml_file( ).      END-TEST-SEAM.      CATCH cx_edocument.        add_error_message( ).    ENDTRY.* End of N2878198   cs_output_data_121 = ms_target_121.                   \"2870461  \n",
      " ENDMETHOD.\n",
      "\n",
      "Class: cl_edoc_map_ch\n",
      "Inheritance: Parent Class: cl_edoc_map_aif\n",
      "Implemented Interfaces: None\n",
      "Method Name: call_cloud_badis\n",
      "Method Implementation:\n",
      "  METHOD call_cloud_badis.    \" Enhance XML file    TRY.        call_badi_xml_file(          CHANGING            cs_output_data = cs_output_data        ).      CATCH cx_edocument.        add_error_message( ).    ENDTRY.  \n",
      " ENDMETHOD.\n",
      "\n",
      "Class: cl_edoc_map_co_ubl_21\n",
      "Inheritance: Parent Class: cl_edoc_map_aif\n",
      "Implemented Interfaces: None\n",
      "Method Name: call_cloud_badi\n",
      "Method Implementation:\n",
      "  method CALL_CLOUD_BADI.    DATA badi TYPE REF TO if_edoc_co_badi.    badi = cl_edoc_co_badi_factory_helper=>get_factory( )->create( is_source ).    IF badi IS BOUND.      TRY.        badi->call( CHANGING data = cs_target ).        CATCH cx_edocument.          add_error_message( ).      ENDTRY.    ENDIF.  \n",
      " ENDMETHOD.\n",
      "\n",
      "Class: cl_edoc_map_mx\n",
      "Inheritance: Parent Class: cl_edoc_map_aif\n",
      "Implemented Interfaces: None\n",
      "Method Name: fill_badi_data\n",
      "Method Implementation:\n",
      "  METHOD fill_badi_data.*   Method implementation is available in S4H Cloud only    CONSTANTS: lc_vbrk TYPE string VALUE 'VBRK'.    CONSTANTS: lc_wbrk TYPE string VALUE 'WBRK'.    DATA: ls_custom_data           TYPE edoc_mx_custom_data,          ls_related_doc           TYPE edoc_mx_related_doc_data,          lt_related_doc_data      TYPE edoc_mx_t_related_doc_data,          ls_map_source            TYPE edoc_mx_source_doc_info,          ls_comp_related_doc_data TYPE edo_mx_comprobante_cfdi_relac1,          lt_comp_related_doc_data TYPE edo_mx_comprobante_cfdi_re_tab,          lv_xstring               TYPE xsdany.    DATA: lv_addenda TYPE edo_mx_any_tab1,          lv_xml     TYPE xsdany.*    IF cl_cos_utilities=>is_s4h_cloud( ) = abap_true. \" X      ls_map_source-customernum = ms_kna1-kunnr.      IF ms_source-bkpf-awtyp = lc_vbrk.        ls_map_source-salesdocumentnum = ms_source-vbrk-vbeln.      ELSE.        ls_map_source-companycode = mv_bukrs.        ls_map_source-accountingdcoumentnum = ms_source-bkpf-belnr.        ls_map_source-fiscalyear = ms_source-bkpf-gjahr.      ENDIF.      IF o_ce_badi_edoc_mx_inv IS INITIAL.        TRY.            GET BADI o_ce_badi_edoc_mx_inv.          CATCH cx_badi_not_implemented.            FREE o_ce_badi_edoc_mx_inv.        ENDTRY.      ENDIF.      IF o_ce_badi_edoc_mx_inv IS NOT INITIAL.        TRY.            CALL BADI o_ce_badi_edoc_mx_inv->fill_custom_data              EXPORTING                is_mapping_source   = ls_map_source              CHANGING                cs_custom_data      = ls_custom_data                ct_related_doc_data = lt_related_doc_data.          CATCH cx_ble_runtime_error.        ENDTRY.      ENDIF.      TEST-SEAM ts_badi_parameters.      END-TEST-SEAM.      IF ls_custom_data-use_of_cfdi IS NOT INITIAL.        cs_comprobante-receptor-uso_cfdi = ls_custom_data-use_of_cfdi.      ENDIF.* Addenda      IF ls_custom_data-addenda IS NOT INITIAL.**-Convert to xstring        CALL FUNCTION 'SCMS_STRING_TO_XSTRING'          EXPORTING            text   = ls_custom_data-addenda          IMPORTING            buffer = lv_xml          EXCEPTIONS            failed = 1            OTHERS = 2.        IF sy-subrc EQ 0.          APPEND lv_xml TO lv_addenda.          cs_comprobante-addenda-any = lv_addenda.        ENDIF.      ENDIF.      IF lt_related_doc_data IS NOT INITIAL.        LOOP AT lt_related_doc_data INTO ls_related_doc.          ls_comp_related_doc_data-uuid = ls_related_doc-related_doc_uuid.          APPEND ls_comp_related_doc_data TO lt_comp_related_doc_data.        ENDLOOP.        cs_comprobante-cfdi_relacionados-cfdi_relacionado = lt_comp_related_doc_data.        cs_comprobante-cfdi_relacionados-tipo_relacion = ls_related_doc-related_doc_type.      ENDIF.*    ENDIF.  \n",
      " ENDMETHOD.\n",
      "\n",
      "Class: cl_edoc_map_mx\n",
      "Inheritance: Parent Class: cl_edoc_map_aif\n",
      "Implemented Interfaces: None\n",
      "Method Name: fill_badi_data_v4\n",
      "Method Implementation:\n",
      "  METHOD fill_badi_data_v4.*   Method implementation is available in S4H Cloud only    CONSTANTS: lc_vbrk TYPE string VALUE 'VBRK'.    CONSTANTS: lc_wbrk TYPE string VALUE 'WBRK'.    DATA: ls_custom_data           TYPE edoc_mx_custom_data,*          ls_related_doc           TYPE edoc_mx_related_doc_data,*          lt_related_doc_data      TYPE edoc_mx_t_related_doc_data,*          ls_map_source            TYPE edoc_mx_source_doc_info,          ls_comp_related_doc_data TYPE edo_mx_comprobante_cfdi_relac7,          lt_comp_related_doc_data TYPE edo_mx_comprobante_cfdi_r_tab4,          ls_cfdi_relacionados     TYPE edo_mx_comprobante_cfdi_relac6,          lv_xstring               TYPE xsdany.    DATA: lv_addenda TYPE edo_mx_any_tab1,          lv_xml     TYPE xsdany.    DATA: ls_map_source       TYPE if_badi_interface_cust_data_v4=>ty_source_doc_info,          lt_related_doc_data TYPE if_badi_interface_cust_data_v4=>tt_related_doc_data,          ls_related_doc      TYPE if_badi_interface_cust_data_v4=>ty_related_doc_data,          ls_related_doc_uuid TYPE if_badi_interface_cust_data_v4=>ty_uuid.*    IF cl_cos_utilities=>is_s4h_cloud( ) = abap_true. \" X      ls_map_source-salesdocinfo-customernum = ms_kna1-kunnr.      IF ms_source-bkpf-awtyp = lc_vbrk.        ls_map_source-salesdocinfo-salesdocumentnum = ms_source-vbrk-vbeln.      ELSE.        ls_map_source-companycode = mv_bukrs.        ls_map_source-accountingdocinfo-accountingdcoumentnum = ms_source-bkpf-belnr.        ls_map_source-accountingdocinfo-fiscalyear = ms_source-bkpf-gjahr.      ENDIF.      IF mo_badi_mx_fill_custom_data_v4 IS INITIAL.        TRY.            GET BADI mo_badi_mx_fill_custom_data_v4.          CATCH cx_badi_not_implemented.            FREE mo_badi_mx_fill_custom_data_v4.        ENDTRY.      ENDIF.      IF mo_badi_mx_fill_custom_data_v4 IS NOT INITIAL.        TRY.            CALL BADI mo_badi_mx_fill_custom_data_v4->fill_custom_data_v4              EXPORTING                is_mapping_source   = ls_map_source              CHANGING                cs_custom_data      = ls_custom_data                ct_related_doc_data = lt_related_doc_data                cv_exportacion      = cs_comprobante-exportacion.          CATCH cx_ble_runtime_error.        ENDTRY.*For non export scenario COMERCIO_EXTERIOR tag should be removed.        IF cs_comprobante-exportacion = '01' AND cs_comprobante-complemento-choice-selection = 'COMERCIO_EXTERIOR'.          CLEAR cs_comprobante-complemento.        ENDIF.      ENDIF.      TEST-SEAM ts_badi_parameters_v4.      END-TEST-SEAM.      IF ls_custom_data-use_of_cfdi IS NOT INITIAL.        cs_comprobante-receptor-uso_cfdi = ls_custom_data-use_of_cfdi.      ENDIF.* Addenda      IF ls_custom_data-addenda IS NOT INITIAL.**-Convert to xstring        CALL FUNCTION 'SCMS_STRING_TO_XSTRING'          EXPORTING            text   = ls_custom_data-addenda          IMPORTING            buffer = lv_xml          EXCEPTIONS            failed = 1            OTHERS = 2.        IF sy-subrc EQ 0.          APPEND lv_xml TO lv_addenda.          cs_comprobante-addenda-any = lv_addenda.        ENDIF.      ENDIF.      IF lt_related_doc_data IS NOT INITIAL.        LOOP AT lt_related_doc_data INTO ls_related_doc.          LOOP AT ls_related_doc-related_doc_uuid INTO ls_related_doc_uuid.            ls_comp_related_doc_data-uuid = ls_related_doc_uuid-uuid.            APPEND ls_comp_related_doc_data TO lt_comp_related_doc_data.            CLEAR: ls_related_doc_uuid, ls_comp_related_doc_data.          ENDLOOP.          ls_cfdi_relacionados-cfdi_relacionado = lt_comp_related_doc_data.          ls_cfdi_relacionados-tipo_relacion = ls_related_doc-related_doc_type.          APPEND ls_cfdi_relacionados TO cs_comprobante-cfdi_relacionados.          CLEAR: lt_comp_related_doc_data, ls_cfdi_relacionados, ls_related_doc.        ENDLOOP.      ENDIF.*    ENDIF.  \n",
      " ENDMETHOD.\n",
      "\n",
      "Class: cl_edoc_map_mx_gi\n",
      "Inheritance: Parent Class: cl_edoc_map_mx\n",
      "Implemented Interfaces: None\n",
      "Method Name: fill_badi_data\n",
      "Method Implementation:\n",
      "CLASS CL_EDOC_MAP_MX_GI IMPLEMENTATION.  METHOD fill_badi_data.*   Method implementation is available in S4H Cloud only    CONSTANTS: lc_vbrk TYPE string VALUE 'VBRK'.    DATA: ls_custom_data           TYPE edoc_mx_custom_data,          ls_related_doc           TYPE edoc_mx_related_doc_data,          lt_related_doc_data      TYPE edoc_mx_t_related_doc_data,          ls_map_source            TYPE edoc_mx_source_doc_info,          ls_comp_related_doc_data TYPE edo_mx_comprobante_cfdi_relac1,          lt_comp_related_doc_data TYPE edo_mx_comprobante_cfdi_re_tab,          lv_xstring               TYPE xsdany.    DATA: lv_addenda TYPE edo_mx_any_tab1,          lv_xml     TYPE xsdany.*    TEST-SEAM s4h_cloud.*     DATA(lv_s4h_cloud) = cl_cos_utilities=>is_s4h_cloud( ).*    END-TEST-SEAM.*    IF lv_s4h_cloud = abap_true. \" X      ls_map_source-customernum = ms_kna1-kunnr.      ls_map_source-companycode = mv_bukrs.      ls_map_source-deliverydocumentnum = ms_source-likp-vbeln.      IF o_ce_badi_edoc_mx_inv IS INITIAL.          TRY.            TEST-SEAM mx_inv_badi.              GET BADI o_ce_badi_edoc_mx_inv.            END-TEST-SEAM.            CATCH cx_badi_not_implemented.              FREE o_ce_badi_edoc_mx_inv.          ENDTRY.      ENDIF.      IF o_ce_badi_edoc_mx_inv IS NOT INITIAL.        TRY.            CALL BADI o_ce_badi_edoc_mx_inv->fill_custom_data              EXPORTING                is_mapping_source   = ls_map_source              CHANGING                cs_custom_data      = ls_custom_data                ct_related_doc_data = lt_related_doc_data.          CATCH cx_ble_runtime_error.        ENDTRY.      ENDIF.      IF ls_custom_data-use_of_cfdi IS NOT INITIAL.        cs_comprobante-receptor-uso_cfdi = ls_custom_data-use_of_cfdi.      ENDIF.* Addenda      IF ls_custom_data-addenda IS NOT INITIAL.**-Convert to xstring        CALL FUNCTION 'SCMS_STRING_TO_XSTRING'          EXPORTING            text   = ls_custom_data-addenda          IMPORTING            buffer = lv_xml          EXCEPTIONS            failed = 1            OTHERS = 2.        IF sy-subrc EQ 0.          APPEND lv_xml TO lv_addenda.          cs_comprobante-addenda-any = lv_addenda.        ENDIF.      ENDIF.      IF lt_related_doc_data IS NOT INITIAL.        LOOP AT lt_related_doc_data INTO ls_related_doc.          ls_comp_related_doc_data-uuid = ls_related_doc-related_doc_uuid.          APPEND ls_comp_related_doc_data TO lt_comp_related_doc_data.        ENDLOOP.        cs_comprobante-cfdi_relacionados-cfdi_relacionado = lt_comp_related_doc_data.        cs_comprobante-cfdi_relacionados-tipo_relacion = ls_related_doc-related_doc_type.      ENDIF.*    ENDIF.  \n",
      " ENDMETHOD.\n",
      "\n",
      "Class: cl_edoc_map_hu_inv_30\n",
      "Inheritance: Parent Class: cl_edoc_map_aif\n",
      "Implemented Interfaces: if_edocument_hu_inv_30\n",
      "Method Name: call_cloud_badis\n",
      "Method Implementation:\n",
      "METHOD call_cloud_badis.  \" Enhance XML file  TRY.      call_badi_xml_file(        CHANGING          cs_output_data = cs_output_data      ).    CATCH cx_edocument.      add_error_message( ).  ENDTRY.\n",
      " ENDMETHOD.\n",
      "\n",
      "\n"
     ]
    }
   ],
   "source": [
    "from react_agent.src.agent_tools.codebase_searcher import CodebaseSearcher\n",
    "\n",
    "query = \"EDOC_CUSTOM_FIELDS_CLOUD BAdI implementation\"\n",
    "\n",
    "code_lookup = CodebaseSearcher()\n",
    "\n",
    "output = code_lookup._run(query=query)\n",
    "\n",
    "print(output)"
   ]
  }
 ],
 "metadata": {
  "kernelspec": {
   "display_name": "react-agent-CUxtcVGL-py3.13",
   "language": "python",
   "name": "python3"
  },
  "language_info": {
   "codemirror_mode": {
    "name": "ipython",
    "version": 3
   },
   "file_extension": ".py",
   "mimetype": "text/x-python",
   "name": "python",
   "nbconvert_exporter": "python",
   "pygments_lexer": "ipython3",
   "version": "3.13.3"
  }
 },
 "nbformat": 4,
 "nbformat_minor": 5
}
