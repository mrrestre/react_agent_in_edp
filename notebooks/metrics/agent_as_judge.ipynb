{
    "cells": [
        {
            "cell_type": "code",
            "execution_count": null,
            "id": "8b49ac25",
            "metadata": {},
            "outputs": [],
            "source": [
                "from evaluation_metrics.agent_judge import AgentJudgeEvaluator\n",
                "\n",
                "question = \"How can I attach additional files to standard XML in Public Cloud?\"\n",
                "\n",
                "expert_answer = \"To attach additional files to the standard XML in Public Cloud, you can use the Business Add-In (BAdI) EDOC_ADAPTOR_CLOUD and enhance the XML file generated for an electronic document.\\nBy enhancing the XML file, you can include additional information that may be relevant for your business processes .\\nTo implement this enhancement, you can follow these steps in ABAP Development Tools (ADT):\\n1. In your ABAP project, go to the enhancement spot ES_EDOCUMENT_CLOUD and select 'New BAdI Enhancement Implementation'.\\n2. Enter a package, name, and description for the implementation.\\n3. Choose 'Add BAdI Implementation' and select EDOC_ADAPTOR_CLOUD .\\n4. (Optional) Create a BAdI filter for Country and/or Generic Filter.\\n5. Choose 'Implementing Class' to create a new implementation class.\\n6. Activate your BAdI implementation .\\nOnce you have implemented the BAdI, you can fill the XML tag <BuyersItemIdentification> with the desired additional information.\\nThis can be done by reading the relevant data from the source documents and filling the appropriate XML tags.\\nPlease note that the specific implementation details may vary depending on your system setup and requirements.\\nIt is recommended to refer to the provided sources for more detailed instructions and examples.\"\n",
                "agent_answer = \"To attach additional files to standard XML in SAP Document and Reporting Compliance, Cloud Edition (DRCce), you can follow these steps:\\n\\n1. Prerequisites:\\n   - Ensure that the legal format and the authority's platforms support handling attachments.\\n   - Create your attachment and add it to the attachment list of the relevant source document.\\n\\n2. Implementation:\\n   Use the Business Add-In (BAdI) EDOC_ADAPTOR_CLOUD and its method SET_OUTPUT_DATA to add attachments to the XML file. Here's how:\\n\\n   a. In the SAP S/4HANA Cloud, ABAP environment, implement the BAdI EDOC_ADAPTOR_CLOUD.\\n   b. In the SET_OUTPUT_DATA method, add the attachment data to the ADDITIONAL_DOCUMENT_REFERENCE table of the XML_FILE_MODIFIED parameter.\\n\\n3. Procedure:\\n   a. Go to transaction SE18 and search for BAdI EDOC_ADAPTOR.\\n   b. Set the GENERIC_FILTER parameter for the BAdI implementation as INVOICE.\\n   c. Configure the COUNTRY filter with your specific country code.\\n   d. Implement the SET_OUTPUT_DATA method to read attachments from the attachment list of a source document and add them to the XML file.\\n\\nExample code snippet (pseudo-code based on the documentation):\\n\\n```abap\\nMETHOD if_edoc_adaptor_cloud~set_output_data.\\n  DATA: ls_attachment TYPE ty_attachment.\\n  \\n  \\\" Read attachment from source document\\n  ls_attachment = read_attachment_from_source( is_source ).\\n  \\n  \\\" Add attachment to XML file\\n  APPEND VALUE #( \\n    attachment_id = ls_attachment-id\\n    file_name     = ls_attachment-file_name\\n    mime_code     = ls_attachment-mime_type\\n    encoding_code = 'base64'\\n    description   = ls_attachment-description\\n    content       = ls_attachment-content\\n  ) TO xml_file_modified-additional_document_reference.\\nENDMETHOD.\\n```\\n\\nThis process allows you to include one or more attachments in the XML file generated for an electronic document in the eDocument Cockpit (EDOC_COCKPIT).\\n\\nKey points to remember:\\n- This feature is specific to SAP Document and Reporting Compliance, Cloud Edition.\\n- The ability to attach files depends on the legal format and authority platform support.\\n- You need to implement the BAdI EDOC_ADAPTOR_CLOUD and its SET_OUTPUT_DATA method.\\n- Attachments are added to the ADDITIONAL_DOCUMENT_REFERENCE table in the XML structure.\\n\\nBy following these steps, you can successfully attach additional files to standard XML in your SAP Public Cloud environment, enhancing your electronic documents with relevant attachments for your business processes.\"\n",
                "\n",
                "judge_evaluator = AgentJudgeEvaluator(\"anthropic--claude-3.5-sonnet\")"
            ]
        },
        {
            "cell_type": "code",
            "execution_count": null,
            "id": "990b3fa9",
            "metadata": {},
            "outputs": [],
            "source": [
                "print(f\"System prompt: {judge_evaluator.agent.get_system_prompt()}\")"
            ]
        },
        {
            "cell_type": "code",
            "execution_count": null,
            "id": "29aef3bd",
            "metadata": {},
            "outputs": [],
            "source": [
                "result = judge_evaluator.evaluate(\n",
                "    question=question, expert_answer=expert_answer, generated_answer=agent_answer\n",
                ")\n",
                "\n",
                "print(f\"Question: {question}\")\n",
                "print(f\"\\n\\nExpert Answer: {expert_answer}\")\n",
                "print(f\"\\n\\nAgent Answer: {agent_answer}\")\n",
                "print(f\"\\n\\nEvaluation Result: {result.answer}\")\n",
                "print(f\"\\n\\nJudge Reasoning: {result.reasoning}\")\n",
                "print(f\"\\n\\nToken Usage: {judge_evaluator.get_token_consumption()}\")\n",
                "print(f\"\\n\\nLLM Call Count: {judge_evaluator.get_llm_call_count()}\")"
            ]
        }
    ],
    "metadata": {
        "kernelspec": {
            "display_name": "react-agent-py3.13",
            "language": "python",
            "name": "python3"
        },
        "language_info": {
            "codemirror_mode": {
                "name": "ipython",
                "version": 3
            },
            "file_extension": ".py",
            "mimetype": "text/x-python",
            "name": "python",
            "nbconvert_exporter": "python",
            "pygments_lexer": "ipython3",
            "version": "3.13.4"
        }
    },
    "nbformat": 4,
    "nbformat_minor": 5
}