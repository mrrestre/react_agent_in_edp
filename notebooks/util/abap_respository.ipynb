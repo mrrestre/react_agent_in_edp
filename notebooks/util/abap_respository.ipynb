{
 "cells": [
  {
   "cell_type": "code",
   "execution_count": 1,
   "id": "842a356e",
   "metadata": {},
   "outputs": [],
   "source": [
    "import os\n",
    "\n",
    "from react_agent.src.util.abap_repository import ABAPClassRepository\n",
    "\n",
    "file_path = os.path.abspath(\"resources/abap_source.txt\")\n",
    "\n",
    "with open(file_path, \"r\", encoding=\"utf-8\") as file:\n",
    "    file_content = file.read()\n",
    "\n",
    "repository = ABAPClassRepository(source_code=file_content)"
   ]
  },
  {
   "cell_type": "code",
   "execution_count": 2,
   "id": "e380e11f",
   "metadata": {},
   "outputs": [
    {
     "data": {
      "text/plain": [
       "['cl_edoc_map_aif',\n",
       " 'cl_edoc_map_ubl_sd',\n",
       " 'cl_edoc_map_ubl',\n",
       " 'cl_edocument_eu_db']"
      ]
     },
     "execution_count": 2,
     "metadata": {},
     "output_type": "execute_result"
    }
   ],
   "source": [
    "repository.list_indexed_classes()"
   ]
  },
  {
   "cell_type": "code",
   "execution_count": 3,
   "id": "bbc11145",
   "metadata": {},
   "outputs": [
    {
     "name": "stdout",
     "output_type": "stream",
     "text": [
      "Number of classes: 4\n",
      "\n",
      "Class: cl_edoc_map_aif\n",
      "Parent Class: cl_edoc_map\n",
      "Implemented Interfaces: None\n",
      "____________________________\n",
      "Class: cl_edoc_map_ubl_sd\n",
      "Parent Class: cl_edoc_map_ubl\n",
      "Implemented Interfaces: None\n",
      "____________________________\n",
      "Class: cl_edoc_map_ubl\n",
      "Parent Class: cl_edoc_map_aif\n",
      "Implemented Interfaces: if_edoc_map_ubl\n",
      "____________________________\n",
      "Class: cl_edocument_eu_db\n",
      "Parent Class: cl_edocument_db\n",
      "Implemented Interfaces: if_edocument_eu_db\n",
      "____________________________\n"
     ]
    }
   ],
   "source": [
    "inheritance = repository.inheritance\n",
    "print(f\"Number of classes: {len(inheritance)}\\n\")\n",
    "for key in inheritance:\n",
    "    print(f\"Class: {key}\")\n",
    "    print(inheritance[key])\n",
    "    print(\"____________________________\")"
   ]
  }
 ],
 "metadata": {
  "kernelspec": {
   "display_name": "react-agent-CUxtcVGL-py3.13",
   "language": "python",
   "name": "python3"
  },
  "language_info": {
   "codemirror_mode": {
    "name": "ipython",
    "version": 3
   },
   "file_extension": ".py",
   "mimetype": "text/x-python",
   "name": "python",
   "nbconvert_exporter": "python",
   "pygments_lexer": "ipython3",
   "version": "3.13.3"
  }
 },
 "nbformat": 4,
 "nbformat_minor": 5
}
