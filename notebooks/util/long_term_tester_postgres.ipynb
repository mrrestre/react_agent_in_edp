{
 "cells": [
  {
   "cell_type": "code",
   "execution_count": 2,
   "metadata": {},
   "outputs": [
    {
     "name": "stdout",
     "output_type": "stream",
     "text": [
      "These errors can be displayed for three different causes. The same VAT ID is used for more than one Company Code. You must have one tax ID per Company Code otherwise the system can't recognize the appropriate Company Code to process acknowledgements. There is no workaround, you must avoid this configuration. You configure the tax ID in transaction OBY6. See Maintaining VAT Registration Number for Company Code. The second cause is due to missing authorizations. The user maintained in cloud service must have the following authorizations to push messages: EDO_BUK, EDO_PROC, S_PROGNAM (Program Name EDOC_MESSAGE_HANDLING), along with role SAP_BC_WEBSERVICE_SERVICE_USER. See Connecting Service to System. The third cause is the entry Response from table EDODCSDOCTYPEV does not have checked the option 'BySender'. If this option is not checked, it is because the program NOTE_2839436_POST_IMPL was not executed in the system during the manual steps of the SAP Note 2839436 (eDoc EU Corrections).\n",
      "\n",
      "These error messages are related to incorrect customizing of the Organization Number. To solve this issue, review all instructions in the attachment of the country/region specific overview SAP Note. The Organization Number must be correctly set in VAT Registration (T001-STCEG) for the Company Code. In addition, all table views mentioned in that attachment must be correctly set and the Company Code needs to be from the respective country. Also, review the master data configuration for the Company Code. The VAT Number usually starts with the country code prefix. Alternatively, you can remove the country code from the beginning of the string and remove the tax identification from the end of the string as well. See Master Data.\n",
      "\n",
      "To solve this situation, implement the SAP Note 2857555 (Company VAT Reg Number and VAT ID self-employed person validations). Note that for Company VAT Number, you must enter the information in the field VAT Reg Number (STCEG), and Self-Employed Person VAT ID must be entered in Tax Number 5 field (STCD5). If the issue persists, open an case for the CRM-BF-TAX component.\n"
     ]
    }
   ],
   "source": [
    "from react_agent.src.scripts.load_troubleshooting import load_memories\n",
    "from react_agent.src.util.memory_manager import MemoryManager\n",
    "\n",
    "mem_manager = MemoryManager(\n",
    "    memory_store_type=\"Postgres\", namespace=(\"agent\", \"troubleshooting\")\n",
    ")\n",
    "\n",
    "load_memories(mem_manager)\n",
    "\n",
    "memories = mem_manager.search_memories(\"What could I do if I am facing an error with VAT Provider\")\n",
    "\n",
    "memories_content = [memory.value for memory in memories]\n",
    "print(\"\\n\\n\".join(memory_content.get(\"text\") for memory_content in memories_content))"
   ]
  }
 ],
 "metadata": {
  "kernelspec": {
   "display_name": "Python 3",
   "language": "python",
   "name": "python3"
  },
  "language_info": {
   "codemirror_mode": {
    "name": "ipython",
    "version": 3
   },
   "file_extension": ".py",
   "mimetype": "text/x-python",
   "name": "python",
   "nbconvert_exporter": "python",
   "pygments_lexer": "ipython3",
   "version": "3.13.2"
  }
 },
 "nbformat": 4,
 "nbformat_minor": 2
}
