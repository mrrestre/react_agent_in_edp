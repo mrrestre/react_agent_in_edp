{
 "cells": [
  {
   "cell_type": "code",
   "execution_count": 1,
   "metadata": {},
   "outputs": [],
   "source": [
    "from IPython.display import Image, display\n",
    "\n",
    "from langchain_mcp_adapters.client import MultiServerMCPClient\n",
    "\n",
    "from react_agent.src.agents.react_agent import ReActAgent\n",
    "from react_agent.src.agents.triage import Triage\n",
    "\n",
    "from react_agent.src.config.system_parameters import TriageSettings\n",
    "\n",
    "from react_agent.src.util.tools_fabric import ToolsFabric"
   ]
  },
  {
   "cell_type": "code",
   "execution_count": 2,
   "metadata": {},
   "outputs": [],
   "source": [
    "USE_MCP = False\n",
    "DEBUG_MODE = False\n",
    "USE_TRIAGE = False"
   ]
  },
  {
   "cell_type": "code",
   "execution_count": 3,
   "metadata": {},
   "outputs": [],
   "source": [
    "mapping_question = \"Explain how 'Payment Terms' is mapped. Start with 'map_invoice1'.\"\n",
    "extensibility_question = \"As a Public Cloud customer in Spain, can I extend an existing eDocument customer invoice Process?\"\n",
    "peppol_support = \"We as Syntax are currently implementing SAP DRC and are following the official SAP help. We are currently at the step “Integration of Peppol Exchange with SAP S/4HANA Cloud” and there at the creation of an S/4HANA Public Cloud communication user. A client certificate should be uploaded for the communication user to be created, as Basic Auth (via user + password) is not supported. The problem: We do not have this certificate. Where can I get this certificate? What format must it be in? We are stuck at this step because we are missing the certificate mentioned and it is also not clear to us what kind of certificate is meant here and where to get it.\"\n",
    "france_us = \"As a localization developer, I want to enhance the relevancy check in the France eDocument country class with the new source type so that settlement management documents become relevant for the eDocument process and eDocuments are created for the source documents. How can I Achieve this?\"\n",
    "\n",
    "QUERY = france_us"
   ]
  },
  {
   "cell_type": "code",
   "execution_count": 4,
   "metadata": {},
   "outputs": [],
   "source": [
    "if USE_TRIAGE:\n",
    "    triage_agent = Triage()\n",
    "\n",
    "    query_categorization = triage_agent.triage_user_message(user_message=QUERY)\n",
    "    if DEBUG_MODE:\n",
    "        print(f\"query categorization: {query_categorization}\")"
   ]
  },
  {
   "cell_type": "code",
   "execution_count": 5,
   "metadata": {},
   "outputs": [],
   "source": [
    "if USE_TRIAGE:\n",
    "    tools = ToolsFabric.get_tools_for_category(\n",
    "        use_mcp=USE_MCP,\n",
    "        configuration=query_categorization[\"category\"],\n",
    "    )\n",
    "else:\n",
    "    tools = ToolsFabric.get_tools_for_category(\n",
    "        use_mcp=USE_MCP,\n",
    "        configuration=TriageSettings.Categories.ALL,\n",
    "    )"
   ]
  },
  {
   "cell_type": "code",
   "execution_count": 6,
   "metadata": {},
   "outputs": [],
   "source": [
    "if USE_MCP:\n",
    "    async with MultiServerMCPClient(tools) as client:\n",
    "        agent = ReActAgent(tool_list=client.get_tools())\n",
    "        if DEBUG_MODE:\n",
    "            print(agent.create_sys_prompt())\n",
    "            display(Image(agent.get_agent_graph()))\n",
    "\n",
    "        await agent.arun_agent_with_input(user_message=QUERY, debug=DEBUG_MODE)\n",
    "else:\n",
    "    agent = ReActAgent(tool_list=tools)\n",
    "    if DEBUG_MODE:\n",
    "        print(agent.create_sys_prompt())\n",
    "        display(Image(agent.get_agent_graph()))\n",
    "\n",
    "    agent.run_agent_with_input(user_message=QUERY, debug=DEBUG_MODE)"
   ]
  },
  {
   "cell_type": "code",
   "execution_count": 7,
   "metadata": {},
   "outputs": [
    {
     "name": "stdout",
     "output_type": "stream",
     "text": [
      "Agent Run Summary\n",
      "Model Used:\n",
      "gpt-4.1\n",
      "\n",
      "Execution Time: \n",
      "47.148 seconds\n",
      "\n",
      "Token Consumption Statistics\n",
      "  Input Tokens: 16606\n",
      "  Output Tokens: 1665\n",
      "  Total Tokens: 18271\n",
      "\n",
      "LLM call count: 5\n",
      "\n",
      "Tools Used:\n",
      "  Tool #1:\n",
      "    Name: abap_method_codebase_search\n",
      "    Arguments:\n",
      "      query: France eDocument relevancy check\n",
      "  Tool #2:\n",
      "    Name: sap_documentation_summary\n",
      "    Arguments:\n",
      "      query: settlement management source type relevancy France eDocument\n",
      "  Tool #3:\n",
      "    Name: sap_help_lookup\n",
      "    Arguments:\n",
      "      query: settlement management eDocument France\n",
      "========================================\n"
     ]
    }
   ],
   "source": [
    "run_data = agent.get_execution_data()\n",
    "\n",
    "run_data.pretty_print()"
   ]
  },
  {
   "cell_type": "code",
   "execution_count": 8,
   "metadata": {},
   "outputs": [
    {
     "name": "stdout",
     "output_type": "stream",
     "text": [
      "To enhance the relevancy check in the France eDocument country class so that settlement management documents become relevant for the eDocument process, follow these steps:\n",
      "\n",
      "**Technical Steps:**\n",
      "1. **Enhance the ABAP Logic:**\n",
      "   - In class `cl_edocument_fr_inv_ci` (or its parent), update the `is_relevant` method to include the new source type for settlement management documents. For example:\n",
      "     ```abap\n",
      "     IF mo_source->mv_source_type = cl_edoc_source_stlmt_invoice=>gc_src_stlmt_invoice.\n",
      "       rv_relevant = abap_true.\n",
      "       RETURN.\n",
      "     ENDIF.\n",
      "     ```\n",
      "   - Ensure this check is added alongside existing source type checks.\n",
      "\n",
      "2. **Configuration Steps:**\n",
      "   - Go to the configuration activity: **Assign eDocument Type to Settlement Document Type**.\n",
      "   - For France, assign the relevant eDocument type (e.g., `FR_INV` for invoices, `FR_CRE` for credit notes) to your settlement management document types.\n",
      "   - Save your entries.\n",
      "\n",
      "**Example Table Entry:**\n",
      "| Settlement Document Type | eDocument Type | Description         |\n",
      "|-------------------------|---------------|---------------------|\n",
      "| (Your SM Doc Type)      | FR_INV        | France Invoice      |\n",
      "| (Your SM Doc Type)      | FR_CRE        | France Credit Memo  |\n",
      "\n",
      "**Plain-Language Summary:**  \n",
      "You need to both update the ABAP code to recognize settlement management documents as relevant for eDocument processing and configure the system so that these document types are mapped to the correct eDocument types for France. This ensures that when a settlement management document is posted, an eDocument is automatically created and processed.\n",
      "\n",
      "**Limitations:**  \n",
      "- The exact source type constant for settlement management must match your system's implementation.\n",
      "- Additional BAdI or custom logic may be needed if your process has further requirements.\n"
     ]
    }
   ],
   "source": [
    "print(run_data.final_output)"
   ]
  }
 ],
 "metadata": {
  "kernelspec": {
   "display_name": "react-agent-CUxtcVGL-py3.13",
   "language": "python",
   "name": "python3"
  },
  "language_info": {
   "codemirror_mode": {
    "name": "ipython",
    "version": 3
   },
   "file_extension": ".py",
   "mimetype": "text/x-python",
   "name": "python",
   "nbconvert_exporter": "python",
   "pygments_lexer": "ipython3",
   "version": "3.13.3"
  }
 },
 "nbformat": 4,
 "nbformat_minor": 2
}
